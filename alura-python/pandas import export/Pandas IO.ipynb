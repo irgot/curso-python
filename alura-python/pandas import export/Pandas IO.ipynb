{
 "metadata": {
  "language_info": {
   "codemirror_mode": {
    "name": "ipython",
    "version": 3
   },
   "file_extension": ".py",
   "mimetype": "text/x-python",
   "name": "python",
   "nbconvert_exporter": "python",
   "pygments_lexer": "ipython3",
   "version": "3.8.5-final"
  },
  "orig_nbformat": 2,
  "kernelspec": {
   "name": "python_defaultSpec_1600887122695",
   "display_name": "Python 3.8.5 64-bit ('igor': conda)"
  }
 },
 "nbformat": 4,
 "nbformat_minor": 2,
 "cells": [
  {
   "source": [
    "# Criando os nomes"
   ],
   "cell_type": "markdown",
   "metadata": {}
  },
  {
   "cell_type": "code",
   "execution_count": 109,
   "metadata": {},
   "outputs": [],
   "source": [
    "import pandas as pd"
   ]
  },
  {
   "cell_type": "code",
   "execution_count": 111,
   "metadata": {},
   "outputs": [],
   "source": [
    "url_mulheres=\"https://servicodados.ibge.gov.br/api/v1/censos/nomes/ranking?qtd=200&sexo=f\"\n",
    "url_homens=\"https://servicodados.ibge.gov.br/api/v1/censos/nomes/ranking?qtd=200&sexo=m\"\n"
   ]
  },
  {
   "cell_type": "code",
   "execution_count": 113,
   "metadata": {},
   "outputs": [],
   "source": [
    "nomes_f = pd.read_json(url_mulheres)\n",
    "nomes_m = pd.read_json(url_homens)"
   ]
  },
  {
   "cell_type": "code",
   "execution_count": 115,
   "metadata": {
    "tags": []
   },
   "outputs": [
    {
     "output_type": "stream",
     "name": "stdout",
     "text": "Quantidade de nomes: 400\n"
    }
   ],
   "source": [
    "print('Quantidade de nomes: '+ str(len(nomes_f)+len(nomes_m)))"
   ]
  },
  {
   "cell_type": "code",
   "execution_count": 117,
   "metadata": {},
   "outputs": [
    {
     "output_type": "execute_result",
     "data": {
      "text/plain": "list"
     },
     "metadata": {},
     "execution_count": 117
    }
   ],
   "source": [
    "frames = [nomes_f,nomes_m]\n",
    "type(frames)"
   ]
  },
  {
   "cell_type": "code",
   "execution_count": 119,
   "metadata": {},
   "outputs": [],
   "source": [
    "nomes = pd.concat(frames)['nome'].to_frame()"
   ]
  },
  {
   "cell_type": "code",
   "execution_count": 121,
   "metadata": {},
   "outputs": [
    {
     "output_type": "execute_result",
     "data": {
      "text/plain": "          nome\n84    SEVERINO\n0         JOSE\n179       IAGO\n10      SANDRA\n171  TERESINHA",
      "text/html": "<div>\n<style scoped>\n    .dataframe tbody tr th:only-of-type {\n        vertical-align: middle;\n    }\n\n    .dataframe tbody tr th {\n        vertical-align: top;\n    }\n\n    .dataframe thead th {\n        text-align: right;\n    }\n</style>\n<table border=\"1\" class=\"dataframe\">\n  <thead>\n    <tr style=\"text-align: right;\">\n      <th></th>\n      <th>nome</th>\n    </tr>\n  </thead>\n  <tbody>\n    <tr>\n      <th>84</th>\n      <td>SEVERINO</td>\n    </tr>\n    <tr>\n      <th>0</th>\n      <td>JOSE</td>\n    </tr>\n    <tr>\n      <th>179</th>\n      <td>IAGO</td>\n    </tr>\n    <tr>\n      <th>10</th>\n      <td>SANDRA</td>\n    </tr>\n    <tr>\n      <th>171</th>\n      <td>TERESINHA</td>\n    </tr>\n  </tbody>\n</table>\n</div>"
     },
     "metadata": {},
     "execution_count": 121
    }
   ],
   "source": [
    "nomes.sample(5)"
   ]
  },
  {
   "source": [
    "# Incluindo  ID e Email  dos alunos"
   ],
   "cell_type": "markdown",
   "metadata": {}
  },
  {
   "cell_type": "code",
   "execution_count": 123,
   "metadata": {},
   "outputs": [],
   "source": [
    "import numpy as np"
   ]
  },
  {
   "cell_type": "code",
   "execution_count": 125,
   "metadata": {},
   "outputs": [],
   "source": [
    "np.random.seed(123)"
   ]
  },
  {
   "cell_type": "code",
   "execution_count": 127,
   "metadata": {},
   "outputs": [
    {
     "output_type": "execute_result",
     "data": {
      "text/plain": "400"
     },
     "metadata": {},
     "execution_count": 127
    }
   ],
   "source": [
    "total_alunos = len(nomes)\n",
    "total_alunos"
   ]
  },
  {
   "cell_type": "code",
   "execution_count": 129,
   "metadata": {},
   "outputs": [],
   "source": [
    "nomes['id_aluno'] = np.random.permutation(total_alunos)+1"
   ]
  },
  {
   "cell_type": "code",
   "execution_count": 131,
   "metadata": {},
   "outputs": [
    {
     "output_type": "execute_result",
     "data": {
      "text/plain": "         nome  id_aluno\n87      JONAS       120\n135  ROSILENE       387\n83      RENAN         9\n57       IGOR       345\n154    NICOLE       182",
      "text/html": "<div>\n<style scoped>\n    .dataframe tbody tr th:only-of-type {\n        vertical-align: middle;\n    }\n\n    .dataframe tbody tr th {\n        vertical-align: top;\n    }\n\n    .dataframe thead th {\n        text-align: right;\n    }\n</style>\n<table border=\"1\" class=\"dataframe\">\n  <thead>\n    <tr style=\"text-align: right;\">\n      <th></th>\n      <th>nome</th>\n      <th>id_aluno</th>\n    </tr>\n  </thead>\n  <tbody>\n    <tr>\n      <th>87</th>\n      <td>JONAS</td>\n      <td>120</td>\n    </tr>\n    <tr>\n      <th>135</th>\n      <td>ROSILENE</td>\n      <td>387</td>\n    </tr>\n    <tr>\n      <th>83</th>\n      <td>RENAN</td>\n      <td>9</td>\n    </tr>\n    <tr>\n      <th>57</th>\n      <td>IGOR</td>\n      <td>345</td>\n    </tr>\n    <tr>\n      <th>154</th>\n      <td>NICOLE</td>\n      <td>182</td>\n    </tr>\n  </tbody>\n</table>\n</div>"
     },
     "metadata": {},
     "execution_count": 131
    }
   ],
   "source": [
    "nomes.sample(5)"
   ]
  },
  {
   "cell_type": "code",
   "execution_count": 133,
   "metadata": {},
   "outputs": [
    {
     "output_type": "execute_result",
     "data": {
      "text/plain": "['@dominiodoemail.com.br', '@servicodoemail.com']"
     },
     "metadata": {},
     "execution_count": 133
    }
   ],
   "source": [
    "dominios = ['@dominiodoemail.com.br','@servicodoemail.com']\n",
    "dominios"
   ]
  },
  {
   "cell_type": "code",
   "execution_count": 135,
   "metadata": {},
   "outputs": [
    {
     "output_type": "execute_result",
     "data": {
      "text/plain": "          nome  id_aluno                 dominio\n0        MARIA       235  @dominiodoemail.com.br\n1          ANA        43     @servicodoemail.com\n2    FRANCISCA       304     @servicodoemail.com\n3      ANTONIA       156     @servicodoemail.com\n4      ADRIANA       343     @servicodoemail.com\n..         ...       ...                     ...\n195     WALTER       231     @servicodoemail.com\n196    ARLINDO        99  @dominiodoemail.com.br\n197    MICHAEL       323     @servicodoemail.com\n198     ALVARO       383  @dominiodoemail.com.br\n199    GEOVANE       366     @servicodoemail.com\n\n[400 rows x 3 columns]",
      "text/html": "<div>\n<style scoped>\n    .dataframe tbody tr th:only-of-type {\n        vertical-align: middle;\n    }\n\n    .dataframe tbody tr th {\n        vertical-align: top;\n    }\n\n    .dataframe thead th {\n        text-align: right;\n    }\n</style>\n<table border=\"1\" class=\"dataframe\">\n  <thead>\n    <tr style=\"text-align: right;\">\n      <th></th>\n      <th>nome</th>\n      <th>id_aluno</th>\n      <th>dominio</th>\n    </tr>\n  </thead>\n  <tbody>\n    <tr>\n      <th>0</th>\n      <td>MARIA</td>\n      <td>235</td>\n      <td>@dominiodoemail.com.br</td>\n    </tr>\n    <tr>\n      <th>1</th>\n      <td>ANA</td>\n      <td>43</td>\n      <td>@servicodoemail.com</td>\n    </tr>\n    <tr>\n      <th>2</th>\n      <td>FRANCISCA</td>\n      <td>304</td>\n      <td>@servicodoemail.com</td>\n    </tr>\n    <tr>\n      <th>3</th>\n      <td>ANTONIA</td>\n      <td>156</td>\n      <td>@servicodoemail.com</td>\n    </tr>\n    <tr>\n      <th>4</th>\n      <td>ADRIANA</td>\n      <td>343</td>\n      <td>@servicodoemail.com</td>\n    </tr>\n    <tr>\n      <th>...</th>\n      <td>...</td>\n      <td>...</td>\n      <td>...</td>\n    </tr>\n    <tr>\n      <th>195</th>\n      <td>WALTER</td>\n      <td>231</td>\n      <td>@servicodoemail.com</td>\n    </tr>\n    <tr>\n      <th>196</th>\n      <td>ARLINDO</td>\n      <td>99</td>\n      <td>@dominiodoemail.com.br</td>\n    </tr>\n    <tr>\n      <th>197</th>\n      <td>MICHAEL</td>\n      <td>323</td>\n      <td>@servicodoemail.com</td>\n    </tr>\n    <tr>\n      <th>198</th>\n      <td>ALVARO</td>\n      <td>383</td>\n      <td>@dominiodoemail.com.br</td>\n    </tr>\n    <tr>\n      <th>199</th>\n      <td>GEOVANE</td>\n      <td>366</td>\n      <td>@servicodoemail.com</td>\n    </tr>\n  </tbody>\n</table>\n<p>400 rows × 3 columns</p>\n</div>"
     },
     "metadata": {},
     "execution_count": 135
    }
   ],
   "source": [
    "nomes['dominio'] = np.random.choice(dominios,total_alunos)\n",
    "nomes"
   ]
  },
  {
   "cell_type": "code",
   "execution_count": 137,
   "metadata": {},
   "outputs": [],
   "source": [
    "nomes['email'] = nomes.nome.str.cat(nomes.dominio).str.lower()"
   ]
  },
  {
   "cell_type": "code",
   "execution_count": 139,
   "metadata": {},
   "outputs": [
    {
     "output_type": "execute_result",
     "data": {
      "text/plain": "          nome  id_aluno                 dominio  matriculas  \\\n0        MARIA       235  @dominiodoemail.com.br           1   \n1          ANA        43     @servicodoemail.com           1   \n2    FRANCISCA       304     @servicodoemail.com           1   \n3      ANTONIA       156     @servicodoemail.com           5   \n4      ADRIANA       343     @servicodoemail.com           5   \n..         ...       ...                     ...         ...   \n195     WALTER       231     @servicodoemail.com           3   \n196    ARLINDO        99  @dominiodoemail.com.br           1   \n197    MICHAEL       323     @servicodoemail.com           4   \n198     ALVARO       383  @dominiodoemail.com.br           5   \n199    GEOVANE       366     @servicodoemail.com           1   \n\n                             email  \n0      maria@dominiodoemail.com.br  \n1           ana@servicodoemail.com  \n2     francisca@servicodoemail.com  \n3       antonia@servicodoemail.com  \n4       adriana@servicodoemail.com  \n..                             ...  \n195      walter@servicodoemail.com  \n196  arlindo@dominiodoemail.com.br  \n197     michael@servicodoemail.com  \n198   alvaro@dominiodoemail.com.br  \n199     geovane@servicodoemail.com  \n\n[400 rows x 5 columns]",
      "text/html": "<div>\n<style scoped>\n    .dataframe tbody tr th:only-of-type {\n        vertical-align: middle;\n    }\n\n    .dataframe tbody tr th {\n        vertical-align: top;\n    }\n\n    .dataframe thead th {\n        text-align: right;\n    }\n</style>\n<table border=\"1\" class=\"dataframe\">\n  <thead>\n    <tr style=\"text-align: right;\">\n      <th></th>\n      <th>nome</th>\n      <th>id_aluno</th>\n      <th>dominio</th>\n      <th>matriculas</th>\n      <th>email</th>\n    </tr>\n  </thead>\n  <tbody>\n    <tr>\n      <th>0</th>\n      <td>MARIA</td>\n      <td>235</td>\n      <td>@dominiodoemail.com.br</td>\n      <td>1</td>\n      <td>maria@dominiodoemail.com.br</td>\n    </tr>\n    <tr>\n      <th>1</th>\n      <td>ANA</td>\n      <td>43</td>\n      <td>@servicodoemail.com</td>\n      <td>1</td>\n      <td>ana@servicodoemail.com</td>\n    </tr>\n    <tr>\n      <th>2</th>\n      <td>FRANCISCA</td>\n      <td>304</td>\n      <td>@servicodoemail.com</td>\n      <td>1</td>\n      <td>francisca@servicodoemail.com</td>\n    </tr>\n    <tr>\n      <th>3</th>\n      <td>ANTONIA</td>\n      <td>156</td>\n      <td>@servicodoemail.com</td>\n      <td>5</td>\n      <td>antonia@servicodoemail.com</td>\n    </tr>\n    <tr>\n      <th>4</th>\n      <td>ADRIANA</td>\n      <td>343</td>\n      <td>@servicodoemail.com</td>\n      <td>5</td>\n      <td>adriana@servicodoemail.com</td>\n    </tr>\n    <tr>\n      <th>...</th>\n      <td>...</td>\n      <td>...</td>\n      <td>...</td>\n      <td>...</td>\n      <td>...</td>\n    </tr>\n    <tr>\n      <th>195</th>\n      <td>WALTER</td>\n      <td>231</td>\n      <td>@servicodoemail.com</td>\n      <td>3</td>\n      <td>walter@servicodoemail.com</td>\n    </tr>\n    <tr>\n      <th>196</th>\n      <td>ARLINDO</td>\n      <td>99</td>\n      <td>@dominiodoemail.com.br</td>\n      <td>1</td>\n      <td>arlindo@dominiodoemail.com.br</td>\n    </tr>\n    <tr>\n      <th>197</th>\n      <td>MICHAEL</td>\n      <td>323</td>\n      <td>@servicodoemail.com</td>\n      <td>4</td>\n      <td>michael@servicodoemail.com</td>\n    </tr>\n    <tr>\n      <th>198</th>\n      <td>ALVARO</td>\n      <td>383</td>\n      <td>@dominiodoemail.com.br</td>\n      <td>5</td>\n      <td>alvaro@dominiodoemail.com.br</td>\n    </tr>\n    <tr>\n      <th>199</th>\n      <td>GEOVANE</td>\n      <td>366</td>\n      <td>@servicodoemail.com</td>\n      <td>1</td>\n      <td>geovane@servicodoemail.com</td>\n    </tr>\n  </tbody>\n</table>\n<p>400 rows × 5 columns</p>\n</div>"
     },
     "metadata": {},
     "execution_count": 139
    }
   ],
   "source": [
    "nomes"
   ]
  },
  {
   "source": [
    "# Criando a tabela cursos"
   ],
   "cell_type": "markdown",
   "metadata": {}
  },
  {
   "cell_type": "code",
   "execution_count": 141,
   "metadata": {},
   "outputs": [
    {
     "output_type": "execute_result",
     "data": {
      "text/plain": "'http://tabela-cursos.herokuapp.com/index.html'"
     },
     "metadata": {},
     "execution_count": 141
    }
   ],
   "source": [
    "url_cursos = \"http://tabela-cursos.herokuapp.com/index.html\"\n",
    "url_cursos"
   ]
  },
  {
   "cell_type": "code",
   "execution_count": 143,
   "metadata": {},
   "outputs": [
    {
     "output_type": "execute_result",
     "data": {
      "text/plain": "list"
     },
     "metadata": {},
     "execution_count": 143
    }
   ],
   "source": [
    "import html5lib\n",
    "cursos = pd.read_html(url_cursos)\n",
    "type(cursos)"
   ]
  },
  {
   "cell_type": "code",
   "execution_count": 145,
   "metadata": {},
   "outputs": [],
   "source": [
    "cursos = cursos[0]"
   ]
  },
  {
   "cell_type": "code",
   "execution_count": 147,
   "metadata": {},
   "outputs": [
    {
     "output_type": "execute_result",
     "data": {
      "text/plain": "pandas.core.frame.DataFrame"
     },
     "metadata": {},
     "execution_count": 147
    }
   ],
   "source": [
    "type(cursos)"
   ]
  },
  {
   "cell_type": "code",
   "execution_count": 149,
   "metadata": {},
   "outputs": [
    {
     "output_type": "execute_result",
     "data": {
      "text/plain": "                          Nome do curso\n0                 Lógica de programação\n1                         Java para Web\n2                           C# para Web\n3                         Ruby on Rails\n4                      Cursos de Python\n5                         PHP com MySql\n6                         .NET para web\n7            Novas integrações com Java\n8                          TDD com Java\n9                   Código limpo com C#\n10  Preparatório para certificação Java\n11                      Hardware básico\n12                Persistência com .NET\n13                  Desenvolvendo jogos\n14                     Análise de dados\n15                   Estatística básica\n16                  Internet das coisas\n17                Programação funcional\n18                Boas práticas em Java\n19          Orientação objetos com Java",
      "text/html": "<div>\n<style scoped>\n    .dataframe tbody tr th:only-of-type {\n        vertical-align: middle;\n    }\n\n    .dataframe tbody tr th {\n        vertical-align: top;\n    }\n\n    .dataframe thead th {\n        text-align: right;\n    }\n</style>\n<table border=\"1\" class=\"dataframe\">\n  <thead>\n    <tr style=\"text-align: right;\">\n      <th></th>\n      <th>Nome do curso</th>\n    </tr>\n  </thead>\n  <tbody>\n    <tr>\n      <th>0</th>\n      <td>Lógica de programação</td>\n    </tr>\n    <tr>\n      <th>1</th>\n      <td>Java para Web</td>\n    </tr>\n    <tr>\n      <th>2</th>\n      <td>C# para Web</td>\n    </tr>\n    <tr>\n      <th>3</th>\n      <td>Ruby on Rails</td>\n    </tr>\n    <tr>\n      <th>4</th>\n      <td>Cursos de Python</td>\n    </tr>\n    <tr>\n      <th>5</th>\n      <td>PHP com MySql</td>\n    </tr>\n    <tr>\n      <th>6</th>\n      <td>.NET para web</td>\n    </tr>\n    <tr>\n      <th>7</th>\n      <td>Novas integrações com Java</td>\n    </tr>\n    <tr>\n      <th>8</th>\n      <td>TDD com Java</td>\n    </tr>\n    <tr>\n      <th>9</th>\n      <td>Código limpo com C#</td>\n    </tr>\n    <tr>\n      <th>10</th>\n      <td>Preparatório para certificação Java</td>\n    </tr>\n    <tr>\n      <th>11</th>\n      <td>Hardware básico</td>\n    </tr>\n    <tr>\n      <th>12</th>\n      <td>Persistência com .NET</td>\n    </tr>\n    <tr>\n      <th>13</th>\n      <td>Desenvolvendo jogos</td>\n    </tr>\n    <tr>\n      <th>14</th>\n      <td>Análise de dados</td>\n    </tr>\n    <tr>\n      <th>15</th>\n      <td>Estatística básica</td>\n    </tr>\n    <tr>\n      <th>16</th>\n      <td>Internet das coisas</td>\n    </tr>\n    <tr>\n      <th>17</th>\n      <td>Programação funcional</td>\n    </tr>\n    <tr>\n      <th>18</th>\n      <td>Boas práticas em Java</td>\n    </tr>\n    <tr>\n      <th>19</th>\n      <td>Orientação objetos com Java</td>\n    </tr>\n  </tbody>\n</table>\n</div>"
     },
     "metadata": {},
     "execution_count": 149
    }
   ],
   "source": [
    "cursos"
   ]
  },
  {
   "source": [
    "# Index de cursos"
   ],
   "cell_type": "markdown",
   "metadata": {}
  },
  {
   "cell_type": "code",
   "execution_count": 151,
   "metadata": {},
   "outputs": [],
   "source": [
    "cursos.rename(columns={'Nome do curso': 'nome_do_curso'},inplace=True)"
   ]
  },
  {
   "cell_type": "code",
   "execution_count": 153,
   "metadata": {},
   "outputs": [
    {
     "output_type": "execute_result",
     "data": {
      "text/plain": "                          nome_do_curso\n0                 Lógica de programação\n1                         Java para Web\n2                           C# para Web\n3                         Ruby on Rails\n4                      Cursos de Python\n5                         PHP com MySql\n6                         .NET para web\n7            Novas integrações com Java\n8                          TDD com Java\n9                   Código limpo com C#\n10  Preparatório para certificação Java\n11                      Hardware básico\n12                Persistência com .NET\n13                  Desenvolvendo jogos\n14                     Análise de dados\n15                   Estatística básica\n16                  Internet das coisas\n17                Programação funcional\n18                Boas práticas em Java\n19          Orientação objetos com Java",
      "text/html": "<div>\n<style scoped>\n    .dataframe tbody tr th:only-of-type {\n        vertical-align: middle;\n    }\n\n    .dataframe tbody tr th {\n        vertical-align: top;\n    }\n\n    .dataframe thead th {\n        text-align: right;\n    }\n</style>\n<table border=\"1\" class=\"dataframe\">\n  <thead>\n    <tr style=\"text-align: right;\">\n      <th></th>\n      <th>nome_do_curso</th>\n    </tr>\n  </thead>\n  <tbody>\n    <tr>\n      <th>0</th>\n      <td>Lógica de programação</td>\n    </tr>\n    <tr>\n      <th>1</th>\n      <td>Java para Web</td>\n    </tr>\n    <tr>\n      <th>2</th>\n      <td>C# para Web</td>\n    </tr>\n    <tr>\n      <th>3</th>\n      <td>Ruby on Rails</td>\n    </tr>\n    <tr>\n      <th>4</th>\n      <td>Cursos de Python</td>\n    </tr>\n    <tr>\n      <th>5</th>\n      <td>PHP com MySql</td>\n    </tr>\n    <tr>\n      <th>6</th>\n      <td>.NET para web</td>\n    </tr>\n    <tr>\n      <th>7</th>\n      <td>Novas integrações com Java</td>\n    </tr>\n    <tr>\n      <th>8</th>\n      <td>TDD com Java</td>\n    </tr>\n    <tr>\n      <th>9</th>\n      <td>Código limpo com C#</td>\n    </tr>\n    <tr>\n      <th>10</th>\n      <td>Preparatório para certificação Java</td>\n    </tr>\n    <tr>\n      <th>11</th>\n      <td>Hardware básico</td>\n    </tr>\n    <tr>\n      <th>12</th>\n      <td>Persistência com .NET</td>\n    </tr>\n    <tr>\n      <th>13</th>\n      <td>Desenvolvendo jogos</td>\n    </tr>\n    <tr>\n      <th>14</th>\n      <td>Análise de dados</td>\n    </tr>\n    <tr>\n      <th>15</th>\n      <td>Estatística básica</td>\n    </tr>\n    <tr>\n      <th>16</th>\n      <td>Internet das coisas</td>\n    </tr>\n    <tr>\n      <th>17</th>\n      <td>Programação funcional</td>\n    </tr>\n    <tr>\n      <th>18</th>\n      <td>Boas práticas em Java</td>\n    </tr>\n    <tr>\n      <th>19</th>\n      <td>Orientação objetos com Java</td>\n    </tr>\n  </tbody>\n</table>\n</div>"
     },
     "metadata": {},
     "execution_count": 153
    }
   ],
   "source": [
    "cursos"
   ]
  },
  {
   "cell_type": "code",
   "execution_count": 155,
   "metadata": {},
   "outputs": [],
   "source": [
    "cursos['id'] = cursos.index+1"
   ]
  },
  {
   "cell_type": "code",
   "execution_count": 157,
   "metadata": {},
   "outputs": [
    {
     "output_type": "execute_result",
     "data": {
      "text/plain": "                          nome_do_curso  id\n0                 Lógica de programação   1\n1                         Java para Web   2\n2                           C# para Web   3\n3                         Ruby on Rails   4\n4                      Cursos de Python   5\n5                         PHP com MySql   6\n6                         .NET para web   7\n7            Novas integrações com Java   8\n8                          TDD com Java   9\n9                   Código limpo com C#  10\n10  Preparatório para certificação Java  11\n11                      Hardware básico  12\n12                Persistência com .NET  13\n13                  Desenvolvendo jogos  14\n14                     Análise de dados  15\n15                   Estatística básica  16\n16                  Internet das coisas  17\n17                Programação funcional  18\n18                Boas práticas em Java  19\n19          Orientação objetos com Java  20",
      "text/html": "<div>\n<style scoped>\n    .dataframe tbody tr th:only-of-type {\n        vertical-align: middle;\n    }\n\n    .dataframe tbody tr th {\n        vertical-align: top;\n    }\n\n    .dataframe thead th {\n        text-align: right;\n    }\n</style>\n<table border=\"1\" class=\"dataframe\">\n  <thead>\n    <tr style=\"text-align: right;\">\n      <th></th>\n      <th>nome_do_curso</th>\n      <th>id</th>\n    </tr>\n  </thead>\n  <tbody>\n    <tr>\n      <th>0</th>\n      <td>Lógica de programação</td>\n      <td>1</td>\n    </tr>\n    <tr>\n      <th>1</th>\n      <td>Java para Web</td>\n      <td>2</td>\n    </tr>\n    <tr>\n      <th>2</th>\n      <td>C# para Web</td>\n      <td>3</td>\n    </tr>\n    <tr>\n      <th>3</th>\n      <td>Ruby on Rails</td>\n      <td>4</td>\n    </tr>\n    <tr>\n      <th>4</th>\n      <td>Cursos de Python</td>\n      <td>5</td>\n    </tr>\n    <tr>\n      <th>5</th>\n      <td>PHP com MySql</td>\n      <td>6</td>\n    </tr>\n    <tr>\n      <th>6</th>\n      <td>.NET para web</td>\n      <td>7</td>\n    </tr>\n    <tr>\n      <th>7</th>\n      <td>Novas integrações com Java</td>\n      <td>8</td>\n    </tr>\n    <tr>\n      <th>8</th>\n      <td>TDD com Java</td>\n      <td>9</td>\n    </tr>\n    <tr>\n      <th>9</th>\n      <td>Código limpo com C#</td>\n      <td>10</td>\n    </tr>\n    <tr>\n      <th>10</th>\n      <td>Preparatório para certificação Java</td>\n      <td>11</td>\n    </tr>\n    <tr>\n      <th>11</th>\n      <td>Hardware básico</td>\n      <td>12</td>\n    </tr>\n    <tr>\n      <th>12</th>\n      <td>Persistência com .NET</td>\n      <td>13</td>\n    </tr>\n    <tr>\n      <th>13</th>\n      <td>Desenvolvendo jogos</td>\n      <td>14</td>\n    </tr>\n    <tr>\n      <th>14</th>\n      <td>Análise de dados</td>\n      <td>15</td>\n    </tr>\n    <tr>\n      <th>15</th>\n      <td>Estatística básica</td>\n      <td>16</td>\n    </tr>\n    <tr>\n      <th>16</th>\n      <td>Internet das coisas</td>\n      <td>17</td>\n    </tr>\n    <tr>\n      <th>17</th>\n      <td>Programação funcional</td>\n      <td>18</td>\n    </tr>\n    <tr>\n      <th>18</th>\n      <td>Boas práticas em Java</td>\n      <td>19</td>\n    </tr>\n    <tr>\n      <th>19</th>\n      <td>Orientação objetos com Java</td>\n      <td>20</td>\n    </tr>\n  </tbody>\n</table>\n</div>"
     },
     "metadata": {},
     "execution_count": 157
    }
   ],
   "source": [
    "cursos"
   ]
  },
  {
   "cell_type": "code",
   "execution_count": 159,
   "metadata": {},
   "outputs": [],
   "source": [
    "cursos.set_index('id',inplace=True)"
   ]
  },
  {
   "cell_type": "code",
   "execution_count": 161,
   "metadata": {},
   "outputs": [
    {
     "output_type": "execute_result",
     "data": {
      "text/plain": "                          nome_do_curso\nid                                     \n1                 Lógica de programação\n2                         Java para Web\n3                           C# para Web\n4                         Ruby on Rails\n5                      Cursos de Python\n6                         PHP com MySql\n7                         .NET para web\n8            Novas integrações com Java\n9                          TDD com Java\n10                  Código limpo com C#\n11  Preparatório para certificação Java\n12                      Hardware básico\n13                Persistência com .NET\n14                  Desenvolvendo jogos\n15                     Análise de dados\n16                   Estatística básica\n17                  Internet das coisas\n18                Programação funcional\n19                Boas práticas em Java\n20          Orientação objetos com Java",
      "text/html": "<div>\n<style scoped>\n    .dataframe tbody tr th:only-of-type {\n        vertical-align: middle;\n    }\n\n    .dataframe tbody tr th {\n        vertical-align: top;\n    }\n\n    .dataframe thead th {\n        text-align: right;\n    }\n</style>\n<table border=\"1\" class=\"dataframe\">\n  <thead>\n    <tr style=\"text-align: right;\">\n      <th></th>\n      <th>nome_do_curso</th>\n    </tr>\n    <tr>\n      <th>id</th>\n      <th></th>\n    </tr>\n  </thead>\n  <tbody>\n    <tr>\n      <th>1</th>\n      <td>Lógica de programação</td>\n    </tr>\n    <tr>\n      <th>2</th>\n      <td>Java para Web</td>\n    </tr>\n    <tr>\n      <th>3</th>\n      <td>C# para Web</td>\n    </tr>\n    <tr>\n      <th>4</th>\n      <td>Ruby on Rails</td>\n    </tr>\n    <tr>\n      <th>5</th>\n      <td>Cursos de Python</td>\n    </tr>\n    <tr>\n      <th>6</th>\n      <td>PHP com MySql</td>\n    </tr>\n    <tr>\n      <th>7</th>\n      <td>.NET para web</td>\n    </tr>\n    <tr>\n      <th>8</th>\n      <td>Novas integrações com Java</td>\n    </tr>\n    <tr>\n      <th>9</th>\n      <td>TDD com Java</td>\n    </tr>\n    <tr>\n      <th>10</th>\n      <td>Código limpo com C#</td>\n    </tr>\n    <tr>\n      <th>11</th>\n      <td>Preparatório para certificação Java</td>\n    </tr>\n    <tr>\n      <th>12</th>\n      <td>Hardware básico</td>\n    </tr>\n    <tr>\n      <th>13</th>\n      <td>Persistência com .NET</td>\n    </tr>\n    <tr>\n      <th>14</th>\n      <td>Desenvolvendo jogos</td>\n    </tr>\n    <tr>\n      <th>15</th>\n      <td>Análise de dados</td>\n    </tr>\n    <tr>\n      <th>16</th>\n      <td>Estatística básica</td>\n    </tr>\n    <tr>\n      <th>17</th>\n      <td>Internet das coisas</td>\n    </tr>\n    <tr>\n      <th>18</th>\n      <td>Programação funcional</td>\n    </tr>\n    <tr>\n      <th>19</th>\n      <td>Boas práticas em Java</td>\n    </tr>\n    <tr>\n      <th>20</th>\n      <td>Orientação objetos com Java</td>\n    </tr>\n  </tbody>\n</table>\n</div>"
     },
     "metadata": {},
     "execution_count": 161
    }
   ],
   "source": [
    "cursos"
   ]
  },
  {
   "cell_type": "code",
   "execution_count": 163,
   "metadata": {},
   "outputs": [],
   "source": [
    "url_igpm = \"http://www.idealsoftwares.com.br/indices/igp_m.html\""
   ]
  },
  {
   "cell_type": "code",
   "execution_count": 165,
   "metadata": {},
   "outputs": [
    {
     "output_type": "execute_result",
     "data": {
      "text/plain": "         2020                                                             \n          MÊS Mensal % Acumulado nos últimos 12 meses % Acumulado no ano %\n0     Janeiro     0.48                           7.8223             0.4800\n1   Fevereiro    -0.04                           6.8389             0.4398\n2       Março     1.24                           6.8178             1.6853\n3       Abril     0.80                           6.6908             2.4987\n4        Maio     0.28                           6.5103             2.7857\n5       Junho     1.56                           7.3133             4.3892\n6       Julho     2.23                           9.2693             6.7171\n7      Agosto     2.74                          13.0205             9.6411\n8    Setembro      NaN                              NaN                NaN\n9     Outubro      NaN                              NaN                NaN\n10   Novembro      NaN                              NaN                NaN\n11   Dezembro      NaN                              NaN                NaN",
      "text/html": "<div>\n<style scoped>\n    .dataframe tbody tr th:only-of-type {\n        vertical-align: middle;\n    }\n\n    .dataframe tbody tr th {\n        vertical-align: top;\n    }\n\n    .dataframe thead tr th {\n        text-align: left;\n    }\n</style>\n<table border=\"1\" class=\"dataframe\">\n  <thead>\n    <tr>\n      <th></th>\n      <th colspan=\"4\" halign=\"left\">2020</th>\n    </tr>\n    <tr>\n      <th></th>\n      <th>MÊS</th>\n      <th>Mensal %</th>\n      <th>Acumulado nos últimos 12 meses %</th>\n      <th>Acumulado no ano %</th>\n    </tr>\n  </thead>\n  <tbody>\n    <tr>\n      <th>0</th>\n      <td>Janeiro</td>\n      <td>0.48</td>\n      <td>7.8223</td>\n      <td>0.4800</td>\n    </tr>\n    <tr>\n      <th>1</th>\n      <td>Fevereiro</td>\n      <td>-0.04</td>\n      <td>6.8389</td>\n      <td>0.4398</td>\n    </tr>\n    <tr>\n      <th>2</th>\n      <td>Março</td>\n      <td>1.24</td>\n      <td>6.8178</td>\n      <td>1.6853</td>\n    </tr>\n    <tr>\n      <th>3</th>\n      <td>Abril</td>\n      <td>0.80</td>\n      <td>6.6908</td>\n      <td>2.4987</td>\n    </tr>\n    <tr>\n      <th>4</th>\n      <td>Maio</td>\n      <td>0.28</td>\n      <td>6.5103</td>\n      <td>2.7857</td>\n    </tr>\n    <tr>\n      <th>5</th>\n      <td>Junho</td>\n      <td>1.56</td>\n      <td>7.3133</td>\n      <td>4.3892</td>\n    </tr>\n    <tr>\n      <th>6</th>\n      <td>Julho</td>\n      <td>2.23</td>\n      <td>9.2693</td>\n      <td>6.7171</td>\n    </tr>\n    <tr>\n      <th>7</th>\n      <td>Agosto</td>\n      <td>2.74</td>\n      <td>13.0205</td>\n      <td>9.6411</td>\n    </tr>\n    <tr>\n      <th>8</th>\n      <td>Setembro</td>\n      <td>NaN</td>\n      <td>NaN</td>\n      <td>NaN</td>\n    </tr>\n    <tr>\n      <th>9</th>\n      <td>Outubro</td>\n      <td>NaN</td>\n      <td>NaN</td>\n      <td>NaN</td>\n    </tr>\n    <tr>\n      <th>10</th>\n      <td>Novembro</td>\n      <td>NaN</td>\n      <td>NaN</td>\n      <td>NaN</td>\n    </tr>\n    <tr>\n      <th>11</th>\n      <td>Dezembro</td>\n      <td>NaN</td>\n      <td>NaN</td>\n      <td>NaN</td>\n    </tr>\n  </tbody>\n</table>\n</div>"
     },
     "metadata": {},
     "execution_count": 165
    }
   ],
   "source": [
    "pd.read_html(url_igpm,decimal=',',thousands='.')[0]"
   ]
  },
  {
   "cell_type": "code",
   "execution_count": 167,
   "metadata": {},
   "outputs": [
    {
     "output_type": "execute_result",
     "data": {
      "text/plain": "array([3, 2, 4, 5, 1])"
     },
     "metadata": {},
     "execution_count": 167
    }
   ],
   "source": [
    "np.random.permutation(5)+1"
   ]
  },
  {
   "cell_type": "code",
   "execution_count": 169,
   "metadata": {},
   "outputs": [
    {
     "output_type": "execute_result",
     "data": {
      "text/plain": "         nome  id_aluno                 dominio  matriculas  \\\n142      HUGO       378  @dominiodoemail.com.br           8   \n150  EDMILSON       326  @dominiodoemail.com.br           1   \n161    DAMIAO       349     @servicodoemail.com           2   \n163   REGIANE       308  @dominiodoemail.com.br           1   \n87      JONAS       120  @dominiodoemail.com.br           3   \n\n                              email  \n142      hugo@dominiodoemail.com.br  \n150  edmilson@dominiodoemail.com.br  \n161       damiao@servicodoemail.com  \n163   regiane@dominiodoemail.com.br  \n87      jonas@dominiodoemail.com.br  ",
      "text/html": "<div>\n<style scoped>\n    .dataframe tbody tr th:only-of-type {\n        vertical-align: middle;\n    }\n\n    .dataframe tbody tr th {\n        vertical-align: top;\n    }\n\n    .dataframe thead th {\n        text-align: right;\n    }\n</style>\n<table border=\"1\" class=\"dataframe\">\n  <thead>\n    <tr style=\"text-align: right;\">\n      <th></th>\n      <th>nome</th>\n      <th>id_aluno</th>\n      <th>dominio</th>\n      <th>matriculas</th>\n      <th>email</th>\n    </tr>\n  </thead>\n  <tbody>\n    <tr>\n      <th>142</th>\n      <td>HUGO</td>\n      <td>378</td>\n      <td>@dominiodoemail.com.br</td>\n      <td>8</td>\n      <td>hugo@dominiodoemail.com.br</td>\n    </tr>\n    <tr>\n      <th>150</th>\n      <td>EDMILSON</td>\n      <td>326</td>\n      <td>@dominiodoemail.com.br</td>\n      <td>1</td>\n      <td>edmilson@dominiodoemail.com.br</td>\n    </tr>\n    <tr>\n      <th>161</th>\n      <td>DAMIAO</td>\n      <td>349</td>\n      <td>@servicodoemail.com</td>\n      <td>2</td>\n      <td>damiao@servicodoemail.com</td>\n    </tr>\n    <tr>\n      <th>163</th>\n      <td>REGIANE</td>\n      <td>308</td>\n      <td>@dominiodoemail.com.br</td>\n      <td>1</td>\n      <td>regiane@dominiodoemail.com.br</td>\n    </tr>\n    <tr>\n      <th>87</th>\n      <td>JONAS</td>\n      <td>120</td>\n      <td>@dominiodoemail.com.br</td>\n      <td>3</td>\n      <td>jonas@dominiodoemail.com.br</td>\n    </tr>\n  </tbody>\n</table>\n</div>"
     },
     "metadata": {},
     "execution_count": 169
    }
   ],
   "source": [
    "\n",
    "nomes.sample(5)"
   ]
  },
  {
   "source": [
    "# Matriculando os alunos nos cursos"
   ],
   "cell_type": "markdown",
   "metadata": {}
  },
  {
   "cell_type": "code",
   "execution_count": 171,
   "metadata": {},
   "outputs": [
    {
     "output_type": "execute_result",
     "data": {
      "text/plain": "           nome  id_aluno                 dominio  matriculas  \\\n169  WELLINGTON        40     @servicodoemail.com           3   \n185     JONATAN       127     @servicodoemail.com           4   \n170   ALEXANDRO       341     @servicodoemail.com           1   \n151    SEVERINA         5     @servicodoemail.com           2   \n69    REGINALDO       170  @dominiodoemail.com.br           1   \n\n                               email  \n169    wellington@servicodoemail.com  \n185       jonatan@servicodoemail.com  \n170     alexandro@servicodoemail.com  \n151      severina@servicodoemail.com  \n69   reginaldo@dominiodoemail.com.br  ",
      "text/html": "<div>\n<style scoped>\n    .dataframe tbody tr th:only-of-type {\n        vertical-align: middle;\n    }\n\n    .dataframe tbody tr th {\n        vertical-align: top;\n    }\n\n    .dataframe thead th {\n        text-align: right;\n    }\n</style>\n<table border=\"1\" class=\"dataframe\">\n  <thead>\n    <tr style=\"text-align: right;\">\n      <th></th>\n      <th>nome</th>\n      <th>id_aluno</th>\n      <th>dominio</th>\n      <th>matriculas</th>\n      <th>email</th>\n    </tr>\n  </thead>\n  <tbody>\n    <tr>\n      <th>169</th>\n      <td>WELLINGTON</td>\n      <td>40</td>\n      <td>@servicodoemail.com</td>\n      <td>3</td>\n      <td>wellington@servicodoemail.com</td>\n    </tr>\n    <tr>\n      <th>185</th>\n      <td>JONATAN</td>\n      <td>127</td>\n      <td>@servicodoemail.com</td>\n      <td>4</td>\n      <td>jonatan@servicodoemail.com</td>\n    </tr>\n    <tr>\n      <th>170</th>\n      <td>ALEXANDRO</td>\n      <td>341</td>\n      <td>@servicodoemail.com</td>\n      <td>1</td>\n      <td>alexandro@servicodoemail.com</td>\n    </tr>\n    <tr>\n      <th>151</th>\n      <td>SEVERINA</td>\n      <td>5</td>\n      <td>@servicodoemail.com</td>\n      <td>2</td>\n      <td>severina@servicodoemail.com</td>\n    </tr>\n    <tr>\n      <th>69</th>\n      <td>REGINALDO</td>\n      <td>170</td>\n      <td>@dominiodoemail.com.br</td>\n      <td>1</td>\n      <td>reginaldo@dominiodoemail.com.br</td>\n    </tr>\n  </tbody>\n</table>\n</div>"
     },
     "metadata": {},
     "execution_count": 171
    }
   ],
   "source": [
    "nomes.sample(5)"
   ]
  },
  {
   "cell_type": "code",
   "execution_count": 173,
   "metadata": {},
   "outputs": [
    {
     "output_type": "execute_result",
     "data": {
      "text/plain": "         nome  id_aluno                 dominio  matriculas  \\\n18   RAIMUNDO        70  @dominiodoemail.com.br           1   \n109   GEOVANA       300  @dominiodoemail.com.br           2   \n140     NEUZA        23  @dominiodoemail.com.br           2   \n81    MICHELE       253     @servicodoemail.com           2   \n24    CLAUDIA        16  @dominiodoemail.com.br           1   \n\n                              email  \n18   raimundo@dominiodoemail.com.br  \n109   geovana@dominiodoemail.com.br  \n140     neuza@dominiodoemail.com.br  \n81       michele@servicodoemail.com  \n24    claudia@dominiodoemail.com.br  ",
      "text/html": "<div>\n<style scoped>\n    .dataframe tbody tr th:only-of-type {\n        vertical-align: middle;\n    }\n\n    .dataframe tbody tr th {\n        vertical-align: top;\n    }\n\n    .dataframe thead th {\n        text-align: right;\n    }\n</style>\n<table border=\"1\" class=\"dataframe\">\n  <thead>\n    <tr style=\"text-align: right;\">\n      <th></th>\n      <th>nome</th>\n      <th>id_aluno</th>\n      <th>dominio</th>\n      <th>matriculas</th>\n      <th>email</th>\n    </tr>\n  </thead>\n  <tbody>\n    <tr>\n      <th>18</th>\n      <td>RAIMUNDO</td>\n      <td>70</td>\n      <td>@dominiodoemail.com.br</td>\n      <td>1</td>\n      <td>raimundo@dominiodoemail.com.br</td>\n    </tr>\n    <tr>\n      <th>109</th>\n      <td>GEOVANA</td>\n      <td>300</td>\n      <td>@dominiodoemail.com.br</td>\n      <td>2</td>\n      <td>geovana@dominiodoemail.com.br</td>\n    </tr>\n    <tr>\n      <th>140</th>\n      <td>NEUZA</td>\n      <td>23</td>\n      <td>@dominiodoemail.com.br</td>\n      <td>2</td>\n      <td>neuza@dominiodoemail.com.br</td>\n    </tr>\n    <tr>\n      <th>81</th>\n      <td>MICHELE</td>\n      <td>253</td>\n      <td>@servicodoemail.com</td>\n      <td>2</td>\n      <td>michele@servicodoemail.com</td>\n    </tr>\n    <tr>\n      <th>24</th>\n      <td>CLAUDIA</td>\n      <td>16</td>\n      <td>@dominiodoemail.com.br</td>\n      <td>1</td>\n      <td>claudia@dominiodoemail.com.br</td>\n    </tr>\n  </tbody>\n</table>\n</div>"
     },
     "metadata": {},
     "execution_count": 173
    }
   ],
   "source": [
    "nomes['matriculas'] = np.ceil(np.random.exponential(size=nomes.shape[0])*1.5).astype(int)\n",
    "nomes.sample(5)"
   ]
  },
  {
   "cell_type": "code",
   "execution_count": 175,
   "metadata": {},
   "outputs": [
    {
     "output_type": "execute_result",
     "data": {
      "text/plain": "count    400.000000\nmean       2.152500\nstd        1.568565\nmin        1.000000\n25%        1.000000\n50%        2.000000\n75%        3.000000\nmax       10.000000\nName: matriculas, dtype: float64"
     },
     "metadata": {},
     "execution_count": 175
    }
   ],
   "source": [
    "nomes.matriculas.describe()"
   ]
  },
  {
   "cell_type": "code",
   "execution_count": 177,
   "metadata": {
    "tags": []
   },
   "outputs": [
    {
     "output_type": "execute_result",
     "data": {
      "text/plain": "pandas.core.series.Series"
     },
     "metadata": {},
     "execution_count": 177
    }
   ],
   "source": [
    "import seaborn as sns\n",
    "type(nomes.matriculas)"
   ]
  },
  {
   "cell_type": "code",
   "execution_count": 179,
   "metadata": {},
   "outputs": [
    {
     "output_type": "execute_result",
     "data": {
      "text/plain": "<AxesSubplot:xlabel='matriculas', ylabel='Density'>"
     },
     "metadata": {},
     "execution_count": 179
    },
    {
     "output_type": "display_data",
     "data": {
      "text/plain": "<Figure size 432x288 with 1 Axes>",
      "image/svg+xml": "<?xml version=\"1.0\" encoding=\"utf-8\" standalone=\"no\"?>\r\n<!DOCTYPE svg PUBLIC \"-//W3C//DTD SVG 1.1//EN\"\r\n  \"http://www.w3.org/Graphics/SVG/1.1/DTD/svg11.dtd\">\r\n<!-- Created with matplotlib (https://matplotlib.org/) -->\r\n<svg height=\"262.19625pt\" version=\"1.1\" viewBox=\"0 0 391.842351 262.19625\" width=\"391.842351pt\" xmlns=\"http://www.w3.org/2000/svg\" xmlns:xlink=\"http://www.w3.org/1999/xlink\">\r\n <metadata>\r\n  <rdf:RDF xmlns:cc=\"http://creativecommons.org/ns#\" xmlns:dc=\"http://purl.org/dc/elements/1.1/\" xmlns:rdf=\"http://www.w3.org/1999/02/22-rdf-syntax-ns#\">\r\n   <cc:Work>\r\n    <dc:type rdf:resource=\"http://purl.org/dc/dcmitype/StillImage\"/>\r\n    <dc:date>2020-09-23T16:09:28.136328</dc:date>\r\n    <dc:format>image/svg+xml</dc:format>\r\n    <dc:creator>\r\n     <cc:Agent>\r\n      <dc:title>Matplotlib v3.3.2, https://matplotlib.org/</dc:title>\r\n     </cc:Agent>\r\n    </dc:creator>\r\n   </cc:Work>\r\n  </rdf:RDF>\r\n </metadata>\r\n <defs>\r\n  <style type=\"text/css\">*{stroke-linecap:butt;stroke-linejoin:round;}</style>\r\n </defs>\r\n <g id=\"figure_1\">\r\n  <g id=\"patch_1\">\r\n   <path d=\"M 0 262.19625 \r\nL 391.842351 262.19625 \r\nL 391.842351 0 \r\nL 0 0 \r\nz\r\n\" style=\"fill:none;\"/>\r\n  </g>\r\n  <g id=\"axes_1\">\r\n   <g id=\"patch_2\">\r\n    <path d=\"M 43.78125 224.64 \r\nL 378.58125 224.64 \r\nL 378.58125 7.2 \r\nL 43.78125 7.2 \r\nz\r\n\" style=\"fill:#ffffff;\"/>\r\n   </g>\r\n   <g id=\"patch_3\">\r\n    <path clip-path=\"url(#p6ef858fee7)\" d=\"M 95.497603 224.64 \r\nL 109.107444 224.64 \r\nL 109.107444 17.554286 \r\nL 95.497603 17.554286 \r\nz\r\n\" style=\"fill:#1f77b4;opacity:0.4;\"/>\r\n   </g>\r\n   <g id=\"patch_4\">\r\n    <path clip-path=\"url(#p6ef858fee7)\" d=\"M 109.107444 224.64 \r\nL 122.717285 224.64 \r\nL 122.717285 127.568571 \r\nL 109.107444 127.568571 \r\nz\r\n\" style=\"fill:#1f77b4;opacity:0.4;\"/>\r\n   </g>\r\n   <g id=\"patch_5\">\r\n    <path clip-path=\"url(#p6ef858fee7)\" d=\"M 122.717285 224.64 \r\nL 136.327126 224.64 \r\nL 136.327126 224.64 \r\nL 122.717285 224.64 \r\nz\r\n\" style=\"fill:#1f77b4;opacity:0.4;\"/>\r\n   </g>\r\n   <g id=\"patch_6\">\r\n    <path clip-path=\"url(#p6ef858fee7)\" d=\"M 136.327126 224.64 \r\nL 149.936966 224.64 \r\nL 149.936966 168.554286 \r\nL 136.327126 168.554286 \r\nz\r\n\" style=\"fill:#1f77b4;opacity:0.4;\"/>\r\n   </g>\r\n   <g id=\"patch_7\">\r\n    <path clip-path=\"url(#p6ef858fee7)\" d=\"M 149.936966 224.64 \r\nL 163.546807 224.64 \r\nL 163.546807 224.64 \r\nL 149.936966 224.64 \r\nz\r\n\" style=\"fill:#1f77b4;opacity:0.4;\"/>\r\n   </g>\r\n   <g id=\"patch_8\">\r\n    <path clip-path=\"url(#p6ef858fee7)\" d=\"M 163.546807 224.64 \r\nL 177.156648 224.64 \r\nL 177.156648 190.125714 \r\nL 163.546807 190.125714 \r\nz\r\n\" style=\"fill:#1f77b4;opacity:0.4;\"/>\r\n   </g>\r\n   <g id=\"patch_9\">\r\n    <path clip-path=\"url(#p6ef858fee7)\" d=\"M 177.156648 224.64 \r\nL 190.766489 224.64 \r\nL 190.766489 224.64 \r\nL 177.156648 224.64 \r\nz\r\n\" style=\"fill:#1f77b4;opacity:0.4;\"/>\r\n   </g>\r\n   <g id=\"patch_10\">\r\n    <path clip-path=\"url(#p6ef858fee7)\" d=\"M 190.766489 224.64 \r\nL 204.37633 224.64 \r\nL 204.37633 204.147143 \r\nL 190.766489 204.147143 \r\nz\r\n\" style=\"fill:#1f77b4;opacity:0.4;\"/>\r\n   </g>\r\n   <g id=\"patch_11\">\r\n    <path clip-path=\"url(#p6ef858fee7)\" d=\"M 204.37633 224.64 \r\nL 217.98617 224.64 \r\nL 217.98617 224.64 \r\nL 204.37633 224.64 \r\nz\r\n\" style=\"fill:#1f77b4;opacity:0.4;\"/>\r\n   </g>\r\n   <g id=\"patch_12\">\r\n    <path clip-path=\"url(#p6ef858fee7)\" d=\"M 217.98617 224.64 \r\nL 231.596011 224.64 \r\nL 231.596011 219.247143 \r\nL 217.98617 219.247143 \r\nz\r\n\" style=\"fill:#1f77b4;opacity:0.4;\"/>\r\n   </g>\r\n   <g id=\"patch_13\">\r\n    <path clip-path=\"url(#p6ef858fee7)\" d=\"M 231.596011 224.64 \r\nL 245.205852 224.64 \r\nL 245.205852 224.64 \r\nL 231.596011 224.64 \r\nz\r\n\" style=\"fill:#1f77b4;opacity:0.4;\"/>\r\n   </g>\r\n   <g id=\"patch_14\">\r\n    <path clip-path=\"url(#p6ef858fee7)\" d=\"M 245.205852 224.64 \r\nL 258.815693 224.64 \r\nL 258.815693 221.404286 \r\nL 245.205852 221.404286 \r\nz\r\n\" style=\"fill:#1f77b4;opacity:0.4;\"/>\r\n   </g>\r\n   <g id=\"patch_15\">\r\n    <path clip-path=\"url(#p6ef858fee7)\" d=\"M 258.815693 224.64 \r\nL 272.425534 224.64 \r\nL 272.425534 224.64 \r\nL 258.815693 224.64 \r\nz\r\n\" style=\"fill:#1f77b4;opacity:0.4;\"/>\r\n   </g>\r\n   <g id=\"patch_16\">\r\n    <path clip-path=\"url(#p6ef858fee7)\" d=\"M 272.425534 224.64 \r\nL 286.035374 224.64 \r\nL 286.035374 219.247143 \r\nL 272.425534 219.247143 \r\nz\r\n\" style=\"fill:#1f77b4;opacity:0.4;\"/>\r\n   </g>\r\n   <g id=\"patch_17\">\r\n    <path clip-path=\"url(#p6ef858fee7)\" d=\"M 286.035374 224.64 \r\nL 299.645215 224.64 \r\nL 299.645215 224.64 \r\nL 286.035374 224.64 \r\nz\r\n\" style=\"fill:#1f77b4;opacity:0.4;\"/>\r\n   </g>\r\n   <g id=\"patch_18\">\r\n    <path clip-path=\"url(#p6ef858fee7)\" d=\"M 299.645215 224.64 \r\nL 313.255056 224.64 \r\nL 313.255056 223.561429 \r\nL 299.645215 223.561429 \r\nz\r\n\" style=\"fill:#1f77b4;opacity:0.4;\"/>\r\n   </g>\r\n   <g id=\"patch_19\">\r\n    <path clip-path=\"url(#p6ef858fee7)\" d=\"M 313.255056 224.64 \r\nL 326.864897 224.64 \r\nL 326.864897 223.561429 \r\nL 313.255056 223.561429 \r\nz\r\n\" style=\"fill:#1f77b4;opacity:0.4;\"/>\r\n   </g>\r\n   <g id=\"matplotlib.axis_1\">\r\n    <g id=\"xtick_1\">\r\n     <g id=\"line2d_1\">\r\n      <defs>\r\n       <path d=\"M 0 0 \r\nL 0 3.5 \r\n\" id=\"mf21542d6c7\" style=\"stroke:#000000;stroke-width:0.8;\"/>\r\n      </defs>\r\n      <g>\r\n       <use style=\"stroke:#000000;stroke-width:0.8;\" x=\"69.790126\" xlink:href=\"#mf21542d6c7\" y=\"224.64\"/>\r\n      </g>\r\n     </g>\r\n     <g id=\"text_1\">\r\n      <!-- 0 -->\r\n      <g transform=\"translate(66.608876 239.238438)scale(0.1 -0.1)\">\r\n       <defs>\r\n        <path d=\"M 31.78125 66.40625 \r\nQ 24.171875 66.40625 20.328125 58.90625 \r\nQ 16.5 51.421875 16.5 36.375 \r\nQ 16.5 21.390625 20.328125 13.890625 \r\nQ 24.171875 6.390625 31.78125 6.390625 \r\nQ 39.453125 6.390625 43.28125 13.890625 \r\nQ 47.125 21.390625 47.125 36.375 \r\nQ 47.125 51.421875 43.28125 58.90625 \r\nQ 39.453125 66.40625 31.78125 66.40625 \r\nz\r\nM 31.78125 74.21875 \r\nQ 44.046875 74.21875 50.515625 64.515625 \r\nQ 56.984375 54.828125 56.984375 36.375 \r\nQ 56.984375 17.96875 50.515625 8.265625 \r\nQ 44.046875 -1.421875 31.78125 -1.421875 \r\nQ 19.53125 -1.421875 13.0625 8.265625 \r\nQ 6.59375 17.96875 6.59375 36.375 \r\nQ 6.59375 54.828125 13.0625 64.515625 \r\nQ 19.53125 74.21875 31.78125 74.21875 \r\nz\r\n\" id=\"DejaVuSans-48\"/>\r\n       </defs>\r\n       <use xlink:href=\"#DejaVuSans-48\"/>\r\n      </g>\r\n     </g>\r\n    </g>\r\n    <g id=\"xtick_2\">\r\n     <g id=\"line2d_2\">\r\n      <g>\r\n       <use style=\"stroke:#000000;stroke-width:0.8;\" x=\"121.20508\" xlink:href=\"#mf21542d6c7\" y=\"224.64\"/>\r\n      </g>\r\n     </g>\r\n     <g id=\"text_2\">\r\n      <!-- 2 -->\r\n      <g transform=\"translate(118.02383 239.238438)scale(0.1 -0.1)\">\r\n       <defs>\r\n        <path d=\"M 19.1875 8.296875 \r\nL 53.609375 8.296875 \r\nL 53.609375 0 \r\nL 7.328125 0 \r\nL 7.328125 8.296875 \r\nQ 12.9375 14.109375 22.625 23.890625 \r\nQ 32.328125 33.6875 34.8125 36.53125 \r\nQ 39.546875 41.84375 41.421875 45.53125 \r\nQ 43.3125 49.21875 43.3125 52.78125 \r\nQ 43.3125 58.59375 39.234375 62.25 \r\nQ 35.15625 65.921875 28.609375 65.921875 \r\nQ 23.96875 65.921875 18.8125 64.3125 \r\nQ 13.671875 62.703125 7.8125 59.421875 \r\nL 7.8125 69.390625 \r\nQ 13.765625 71.78125 18.9375 73 \r\nQ 24.125 74.21875 28.421875 74.21875 \r\nQ 39.75 74.21875 46.484375 68.546875 \r\nQ 53.21875 62.890625 53.21875 53.421875 \r\nQ 53.21875 48.921875 51.53125 44.890625 \r\nQ 49.859375 40.875 45.40625 35.40625 \r\nQ 44.1875 33.984375 37.640625 27.21875 \r\nQ 31.109375 20.453125 19.1875 8.296875 \r\nz\r\n\" id=\"DejaVuSans-50\"/>\r\n       </defs>\r\n       <use xlink:href=\"#DejaVuSans-50\"/>\r\n      </g>\r\n     </g>\r\n    </g>\r\n    <g id=\"xtick_3\">\r\n     <g id=\"line2d_3\">\r\n      <g>\r\n       <use style=\"stroke:#000000;stroke-width:0.8;\" x=\"172.620034\" xlink:href=\"#mf21542d6c7\" y=\"224.64\"/>\r\n      </g>\r\n     </g>\r\n     <g id=\"text_3\">\r\n      <!-- 4 -->\r\n      <g transform=\"translate(169.438784 239.238438)scale(0.1 -0.1)\">\r\n       <defs>\r\n        <path d=\"M 37.796875 64.3125 \r\nL 12.890625 25.390625 \r\nL 37.796875 25.390625 \r\nz\r\nM 35.203125 72.90625 \r\nL 47.609375 72.90625 \r\nL 47.609375 25.390625 \r\nL 58.015625 25.390625 \r\nL 58.015625 17.1875 \r\nL 47.609375 17.1875 \r\nL 47.609375 0 \r\nL 37.796875 0 \r\nL 37.796875 17.1875 \r\nL 4.890625 17.1875 \r\nL 4.890625 26.703125 \r\nz\r\n\" id=\"DejaVuSans-52\"/>\r\n       </defs>\r\n       <use xlink:href=\"#DejaVuSans-52\"/>\r\n      </g>\r\n     </g>\r\n    </g>\r\n    <g id=\"xtick_4\">\r\n     <g id=\"line2d_4\">\r\n      <g>\r\n       <use style=\"stroke:#000000;stroke-width:0.8;\" x=\"224.034989\" xlink:href=\"#mf21542d6c7\" y=\"224.64\"/>\r\n      </g>\r\n     </g>\r\n     <g id=\"text_4\">\r\n      <!-- 6 -->\r\n      <g transform=\"translate(220.853739 239.238438)scale(0.1 -0.1)\">\r\n       <defs>\r\n        <path d=\"M 33.015625 40.375 \r\nQ 26.375 40.375 22.484375 35.828125 \r\nQ 18.609375 31.296875 18.609375 23.390625 \r\nQ 18.609375 15.53125 22.484375 10.953125 \r\nQ 26.375 6.390625 33.015625 6.390625 \r\nQ 39.65625 6.390625 43.53125 10.953125 \r\nQ 47.40625 15.53125 47.40625 23.390625 \r\nQ 47.40625 31.296875 43.53125 35.828125 \r\nQ 39.65625 40.375 33.015625 40.375 \r\nz\r\nM 52.59375 71.296875 \r\nL 52.59375 62.3125 \r\nQ 48.875 64.0625 45.09375 64.984375 \r\nQ 41.3125 65.921875 37.59375 65.921875 \r\nQ 27.828125 65.921875 22.671875 59.328125 \r\nQ 17.53125 52.734375 16.796875 39.40625 \r\nQ 19.671875 43.65625 24.015625 45.921875 \r\nQ 28.375 48.1875 33.59375 48.1875 \r\nQ 44.578125 48.1875 50.953125 41.515625 \r\nQ 57.328125 34.859375 57.328125 23.390625 \r\nQ 57.328125 12.15625 50.6875 5.359375 \r\nQ 44.046875 -1.421875 33.015625 -1.421875 \r\nQ 20.359375 -1.421875 13.671875 8.265625 \r\nQ 6.984375 17.96875 6.984375 36.375 \r\nQ 6.984375 53.65625 15.1875 63.9375 \r\nQ 23.390625 74.21875 37.203125 74.21875 \r\nQ 40.921875 74.21875 44.703125 73.484375 \r\nQ 48.484375 72.75 52.59375 71.296875 \r\nz\r\n\" id=\"DejaVuSans-54\"/>\r\n       </defs>\r\n       <use xlink:href=\"#DejaVuSans-54\"/>\r\n      </g>\r\n     </g>\r\n    </g>\r\n    <g id=\"xtick_5\">\r\n     <g id=\"line2d_5\">\r\n      <g>\r\n       <use style=\"stroke:#000000;stroke-width:0.8;\" x=\"275.449943\" xlink:href=\"#mf21542d6c7\" y=\"224.64\"/>\r\n      </g>\r\n     </g>\r\n     <g id=\"text_5\">\r\n      <!-- 8 -->\r\n      <g transform=\"translate(272.268693 239.238438)scale(0.1 -0.1)\">\r\n       <defs>\r\n        <path d=\"M 31.78125 34.625 \r\nQ 24.75 34.625 20.71875 30.859375 \r\nQ 16.703125 27.09375 16.703125 20.515625 \r\nQ 16.703125 13.921875 20.71875 10.15625 \r\nQ 24.75 6.390625 31.78125 6.390625 \r\nQ 38.8125 6.390625 42.859375 10.171875 \r\nQ 46.921875 13.96875 46.921875 20.515625 \r\nQ 46.921875 27.09375 42.890625 30.859375 \r\nQ 38.875 34.625 31.78125 34.625 \r\nz\r\nM 21.921875 38.8125 \r\nQ 15.578125 40.375 12.03125 44.71875 \r\nQ 8.5 49.078125 8.5 55.328125 \r\nQ 8.5 64.0625 14.71875 69.140625 \r\nQ 20.953125 74.21875 31.78125 74.21875 \r\nQ 42.671875 74.21875 48.875 69.140625 \r\nQ 55.078125 64.0625 55.078125 55.328125 \r\nQ 55.078125 49.078125 51.53125 44.71875 \r\nQ 48 40.375 41.703125 38.8125 \r\nQ 48.828125 37.15625 52.796875 32.3125 \r\nQ 56.78125 27.484375 56.78125 20.515625 \r\nQ 56.78125 9.90625 50.3125 4.234375 \r\nQ 43.84375 -1.421875 31.78125 -1.421875 \r\nQ 19.734375 -1.421875 13.25 4.234375 \r\nQ 6.78125 9.90625 6.78125 20.515625 \r\nQ 6.78125 27.484375 10.78125 32.3125 \r\nQ 14.796875 37.15625 21.921875 38.8125 \r\nz\r\nM 18.3125 54.390625 \r\nQ 18.3125 48.734375 21.84375 45.5625 \r\nQ 25.390625 42.390625 31.78125 42.390625 \r\nQ 38.140625 42.390625 41.71875 45.5625 \r\nQ 45.3125 48.734375 45.3125 54.390625 \r\nQ 45.3125 60.0625 41.71875 63.234375 \r\nQ 38.140625 66.40625 31.78125 66.40625 \r\nQ 25.390625 66.40625 21.84375 63.234375 \r\nQ 18.3125 60.0625 18.3125 54.390625 \r\nz\r\n\" id=\"DejaVuSans-56\"/>\r\n       </defs>\r\n       <use xlink:href=\"#DejaVuSans-56\"/>\r\n      </g>\r\n     </g>\r\n    </g>\r\n    <g id=\"xtick_6\">\r\n     <g id=\"line2d_6\">\r\n      <g>\r\n       <use style=\"stroke:#000000;stroke-width:0.8;\" x=\"326.864897\" xlink:href=\"#mf21542d6c7\" y=\"224.64\"/>\r\n      </g>\r\n     </g>\r\n     <g id=\"text_6\">\r\n      <!-- 10 -->\r\n      <g transform=\"translate(320.502397 239.238438)scale(0.1 -0.1)\">\r\n       <defs>\r\n        <path d=\"M 12.40625 8.296875 \r\nL 28.515625 8.296875 \r\nL 28.515625 63.921875 \r\nL 10.984375 60.40625 \r\nL 10.984375 69.390625 \r\nL 28.421875 72.90625 \r\nL 38.28125 72.90625 \r\nL 38.28125 8.296875 \r\nL 54.390625 8.296875 \r\nL 54.390625 0 \r\nL 12.40625 0 \r\nz\r\n\" id=\"DejaVuSans-49\"/>\r\n       </defs>\r\n       <use xlink:href=\"#DejaVuSans-49\"/>\r\n       <use x=\"63.623047\" xlink:href=\"#DejaVuSans-48\"/>\r\n      </g>\r\n     </g>\r\n    </g>\r\n    <g id=\"xtick_7\">\r\n     <g id=\"line2d_7\">\r\n      <g>\r\n       <use style=\"stroke:#000000;stroke-width:0.8;\" x=\"378.279851\" xlink:href=\"#mf21542d6c7\" y=\"224.64\"/>\r\n      </g>\r\n     </g>\r\n     <g id=\"text_7\">\r\n      <!-- 12 -->\r\n      <g transform=\"translate(371.917351 239.238438)scale(0.1 -0.1)\">\r\n       <use xlink:href=\"#DejaVuSans-49\"/>\r\n       <use x=\"63.623047\" xlink:href=\"#DejaVuSans-50\"/>\r\n      </g>\r\n     </g>\r\n    </g>\r\n    <g id=\"text_8\">\r\n     <!-- matriculas -->\r\n     <g transform=\"translate(184.866406 252.916563)scale(0.1 -0.1)\">\r\n      <defs>\r\n       <path d=\"M 52 44.1875 \r\nQ 55.375 50.25 60.0625 53.125 \r\nQ 64.75 56 71.09375 56 \r\nQ 79.640625 56 84.28125 50.015625 \r\nQ 88.921875 44.046875 88.921875 33.015625 \r\nL 88.921875 0 \r\nL 79.890625 0 \r\nL 79.890625 32.71875 \r\nQ 79.890625 40.578125 77.09375 44.375 \r\nQ 74.3125 48.1875 68.609375 48.1875 \r\nQ 61.625 48.1875 57.5625 43.546875 \r\nQ 53.515625 38.921875 53.515625 30.90625 \r\nL 53.515625 0 \r\nL 44.484375 0 \r\nL 44.484375 32.71875 \r\nQ 44.484375 40.625 41.703125 44.40625 \r\nQ 38.921875 48.1875 33.109375 48.1875 \r\nQ 26.21875 48.1875 22.15625 43.53125 \r\nQ 18.109375 38.875 18.109375 30.90625 \r\nL 18.109375 0 \r\nL 9.078125 0 \r\nL 9.078125 54.6875 \r\nL 18.109375 54.6875 \r\nL 18.109375 46.1875 \r\nQ 21.1875 51.21875 25.484375 53.609375 \r\nQ 29.78125 56 35.6875 56 \r\nQ 41.65625 56 45.828125 52.96875 \r\nQ 50 49.953125 52 44.1875 \r\nz\r\n\" id=\"DejaVuSans-109\"/>\r\n       <path d=\"M 34.28125 27.484375 \r\nQ 23.390625 27.484375 19.1875 25 \r\nQ 14.984375 22.515625 14.984375 16.5 \r\nQ 14.984375 11.71875 18.140625 8.90625 \r\nQ 21.296875 6.109375 26.703125 6.109375 \r\nQ 34.1875 6.109375 38.703125 11.40625 \r\nQ 43.21875 16.703125 43.21875 25.484375 \r\nL 43.21875 27.484375 \r\nz\r\nM 52.203125 31.203125 \r\nL 52.203125 0 \r\nL 43.21875 0 \r\nL 43.21875 8.296875 \r\nQ 40.140625 3.328125 35.546875 0.953125 \r\nQ 30.953125 -1.421875 24.3125 -1.421875 \r\nQ 15.921875 -1.421875 10.953125 3.296875 \r\nQ 6 8.015625 6 15.921875 \r\nQ 6 25.140625 12.171875 29.828125 \r\nQ 18.359375 34.515625 30.609375 34.515625 \r\nL 43.21875 34.515625 \r\nL 43.21875 35.40625 \r\nQ 43.21875 41.609375 39.140625 45 \r\nQ 35.0625 48.390625 27.6875 48.390625 \r\nQ 23 48.390625 18.546875 47.265625 \r\nQ 14.109375 46.140625 10.015625 43.890625 \r\nL 10.015625 52.203125 \r\nQ 14.9375 54.109375 19.578125 55.046875 \r\nQ 24.21875 56 28.609375 56 \r\nQ 40.484375 56 46.34375 49.84375 \r\nQ 52.203125 43.703125 52.203125 31.203125 \r\nz\r\n\" id=\"DejaVuSans-97\"/>\r\n       <path d=\"M 18.3125 70.21875 \r\nL 18.3125 54.6875 \r\nL 36.8125 54.6875 \r\nL 36.8125 47.703125 \r\nL 18.3125 47.703125 \r\nL 18.3125 18.015625 \r\nQ 18.3125 11.328125 20.140625 9.421875 \r\nQ 21.96875 7.515625 27.59375 7.515625 \r\nL 36.8125 7.515625 \r\nL 36.8125 0 \r\nL 27.59375 0 \r\nQ 17.1875 0 13.234375 3.875 \r\nQ 9.28125 7.765625 9.28125 18.015625 \r\nL 9.28125 47.703125 \r\nL 2.6875 47.703125 \r\nL 2.6875 54.6875 \r\nL 9.28125 54.6875 \r\nL 9.28125 70.21875 \r\nz\r\n\" id=\"DejaVuSans-116\"/>\r\n       <path d=\"M 41.109375 46.296875 \r\nQ 39.59375 47.171875 37.8125 47.578125 \r\nQ 36.03125 48 33.890625 48 \r\nQ 26.265625 48 22.1875 43.046875 \r\nQ 18.109375 38.09375 18.109375 28.8125 \r\nL 18.109375 0 \r\nL 9.078125 0 \r\nL 9.078125 54.6875 \r\nL 18.109375 54.6875 \r\nL 18.109375 46.1875 \r\nQ 20.953125 51.171875 25.484375 53.578125 \r\nQ 30.03125 56 36.53125 56 \r\nQ 37.453125 56 38.578125 55.875 \r\nQ 39.703125 55.765625 41.0625 55.515625 \r\nz\r\n\" id=\"DejaVuSans-114\"/>\r\n       <path d=\"M 9.421875 54.6875 \r\nL 18.40625 54.6875 \r\nL 18.40625 0 \r\nL 9.421875 0 \r\nz\r\nM 9.421875 75.984375 \r\nL 18.40625 75.984375 \r\nL 18.40625 64.59375 \r\nL 9.421875 64.59375 \r\nz\r\n\" id=\"DejaVuSans-105\"/>\r\n       <path d=\"M 48.78125 52.59375 \r\nL 48.78125 44.1875 \r\nQ 44.96875 46.296875 41.140625 47.34375 \r\nQ 37.3125 48.390625 33.40625 48.390625 \r\nQ 24.65625 48.390625 19.8125 42.84375 \r\nQ 14.984375 37.3125 14.984375 27.296875 \r\nQ 14.984375 17.28125 19.8125 11.734375 \r\nQ 24.65625 6.203125 33.40625 6.203125 \r\nQ 37.3125 6.203125 41.140625 7.25 \r\nQ 44.96875 8.296875 48.78125 10.40625 \r\nL 48.78125 2.09375 \r\nQ 45.015625 0.34375 40.984375 -0.53125 \r\nQ 36.96875 -1.421875 32.421875 -1.421875 \r\nQ 20.0625 -1.421875 12.78125 6.34375 \r\nQ 5.515625 14.109375 5.515625 27.296875 \r\nQ 5.515625 40.671875 12.859375 48.328125 \r\nQ 20.21875 56 33.015625 56 \r\nQ 37.15625 56 41.109375 55.140625 \r\nQ 45.0625 54.296875 48.78125 52.59375 \r\nz\r\n\" id=\"DejaVuSans-99\"/>\r\n       <path d=\"M 8.5 21.578125 \r\nL 8.5 54.6875 \r\nL 17.484375 54.6875 \r\nL 17.484375 21.921875 \r\nQ 17.484375 14.15625 20.5 10.265625 \r\nQ 23.53125 6.390625 29.59375 6.390625 \r\nQ 36.859375 6.390625 41.078125 11.03125 \r\nQ 45.3125 15.671875 45.3125 23.6875 \r\nL 45.3125 54.6875 \r\nL 54.296875 54.6875 \r\nL 54.296875 0 \r\nL 45.3125 0 \r\nL 45.3125 8.40625 \r\nQ 42.046875 3.421875 37.71875 1 \r\nQ 33.40625 -1.421875 27.6875 -1.421875 \r\nQ 18.265625 -1.421875 13.375 4.4375 \r\nQ 8.5 10.296875 8.5 21.578125 \r\nz\r\nM 31.109375 56 \r\nz\r\n\" id=\"DejaVuSans-117\"/>\r\n       <path d=\"M 9.421875 75.984375 \r\nL 18.40625 75.984375 \r\nL 18.40625 0 \r\nL 9.421875 0 \r\nz\r\n\" id=\"DejaVuSans-108\"/>\r\n       <path d=\"M 44.28125 53.078125 \r\nL 44.28125 44.578125 \r\nQ 40.484375 46.53125 36.375 47.5 \r\nQ 32.28125 48.484375 27.875 48.484375 \r\nQ 21.1875 48.484375 17.84375 46.4375 \r\nQ 14.5 44.390625 14.5 40.28125 \r\nQ 14.5 37.15625 16.890625 35.375 \r\nQ 19.28125 33.59375 26.515625 31.984375 \r\nL 29.59375 31.296875 \r\nQ 39.15625 29.25 43.1875 25.515625 \r\nQ 47.21875 21.78125 47.21875 15.09375 \r\nQ 47.21875 7.46875 41.1875 3.015625 \r\nQ 35.15625 -1.421875 24.609375 -1.421875 \r\nQ 20.21875 -1.421875 15.453125 -0.5625 \r\nQ 10.6875 0.296875 5.421875 2 \r\nL 5.421875 11.28125 \r\nQ 10.40625 8.6875 15.234375 7.390625 \r\nQ 20.0625 6.109375 24.8125 6.109375 \r\nQ 31.15625 6.109375 34.5625 8.28125 \r\nQ 37.984375 10.453125 37.984375 14.40625 \r\nQ 37.984375 18.0625 35.515625 20.015625 \r\nQ 33.0625 21.96875 24.703125 23.78125 \r\nL 21.578125 24.515625 \r\nQ 13.234375 26.265625 9.515625 29.90625 \r\nQ 5.8125 33.546875 5.8125 39.890625 \r\nQ 5.8125 47.609375 11.28125 51.796875 \r\nQ 16.75 56 26.8125 56 \r\nQ 31.78125 56 36.171875 55.265625 \r\nQ 40.578125 54.546875 44.28125 53.078125 \r\nz\r\n\" id=\"DejaVuSans-115\"/>\r\n      </defs>\r\n      <use xlink:href=\"#DejaVuSans-109\"/>\r\n      <use x=\"97.412109\" xlink:href=\"#DejaVuSans-97\"/>\r\n      <use x=\"158.691406\" xlink:href=\"#DejaVuSans-116\"/>\r\n      <use x=\"197.900391\" xlink:href=\"#DejaVuSans-114\"/>\r\n      <use x=\"239.013672\" xlink:href=\"#DejaVuSans-105\"/>\r\n      <use x=\"266.796875\" xlink:href=\"#DejaVuSans-99\"/>\r\n      <use x=\"321.777344\" xlink:href=\"#DejaVuSans-117\"/>\r\n      <use x=\"385.15625\" xlink:href=\"#DejaVuSans-108\"/>\r\n      <use x=\"412.939453\" xlink:href=\"#DejaVuSans-97\"/>\r\n      <use x=\"474.21875\" xlink:href=\"#DejaVuSans-115\"/>\r\n     </g>\r\n    </g>\r\n   </g>\r\n   <g id=\"matplotlib.axis_2\">\r\n    <g id=\"ytick_1\">\r\n     <g id=\"line2d_8\">\r\n      <defs>\r\n       <path d=\"M 0 0 \r\nL -3.5 0 \r\n\" id=\"m4b048a2d65\" style=\"stroke:#000000;stroke-width:0.8;\"/>\r\n      </defs>\r\n      <g>\r\n       <use style=\"stroke:#000000;stroke-width:0.8;\" x=\"43.78125\" xlink:href=\"#m4b048a2d65\" y=\"224.64\"/>\r\n      </g>\r\n     </g>\r\n     <g id=\"text_9\">\r\n      <!-- 0.0 -->\r\n      <g transform=\"translate(20.878125 228.439219)scale(0.1 -0.1)\">\r\n       <defs>\r\n        <path d=\"M 10.6875 12.40625 \r\nL 21 12.40625 \r\nL 21 0 \r\nL 10.6875 0 \r\nz\r\n\" id=\"DejaVuSans-46\"/>\r\n       </defs>\r\n       <use xlink:href=\"#DejaVuSans-48\"/>\r\n       <use x=\"63.623047\" xlink:href=\"#DejaVuSans-46\"/>\r\n       <use x=\"95.410156\" xlink:href=\"#DejaVuSans-48\"/>\r\n      </g>\r\n     </g>\r\n    </g>\r\n    <g id=\"ytick_2\">\r\n     <g id=\"line2d_9\">\r\n      <g>\r\n       <use style=\"stroke:#000000;stroke-width:0.8;\" x=\"43.78125\" xlink:href=\"#m4b048a2d65\" y=\"178.959328\"/>\r\n      </g>\r\n     </g>\r\n     <g id=\"text_10\">\r\n      <!-- 0.2 -->\r\n      <g transform=\"translate(20.878125 182.758546)scale(0.1 -0.1)\">\r\n       <use xlink:href=\"#DejaVuSans-48\"/>\r\n       <use x=\"63.623047\" xlink:href=\"#DejaVuSans-46\"/>\r\n       <use x=\"95.410156\" xlink:href=\"#DejaVuSans-50\"/>\r\n      </g>\r\n     </g>\r\n    </g>\r\n    <g id=\"ytick_3\">\r\n     <g id=\"line2d_10\">\r\n      <g>\r\n       <use style=\"stroke:#000000;stroke-width:0.8;\" x=\"43.78125\" xlink:href=\"#m4b048a2d65\" y=\"133.278655\"/>\r\n      </g>\r\n     </g>\r\n     <g id=\"text_11\">\r\n      <!-- 0.4 -->\r\n      <g transform=\"translate(20.878125 137.077874)scale(0.1 -0.1)\">\r\n       <use xlink:href=\"#DejaVuSans-48\"/>\r\n       <use x=\"63.623047\" xlink:href=\"#DejaVuSans-46\"/>\r\n       <use x=\"95.410156\" xlink:href=\"#DejaVuSans-52\"/>\r\n      </g>\r\n     </g>\r\n    </g>\r\n    <g id=\"ytick_4\">\r\n     <g id=\"line2d_11\">\r\n      <g>\r\n       <use style=\"stroke:#000000;stroke-width:0.8;\" x=\"43.78125\" xlink:href=\"#m4b048a2d65\" y=\"87.597983\"/>\r\n      </g>\r\n     </g>\r\n     <g id=\"text_12\">\r\n      <!-- 0.6 -->\r\n      <g transform=\"translate(20.878125 91.397202)scale(0.1 -0.1)\">\r\n       <use xlink:href=\"#DejaVuSans-48\"/>\r\n       <use x=\"63.623047\" xlink:href=\"#DejaVuSans-46\"/>\r\n       <use x=\"95.410156\" xlink:href=\"#DejaVuSans-54\"/>\r\n      </g>\r\n     </g>\r\n    </g>\r\n    <g id=\"ytick_5\">\r\n     <g id=\"line2d_12\">\r\n      <g>\r\n       <use style=\"stroke:#000000;stroke-width:0.8;\" x=\"43.78125\" xlink:href=\"#m4b048a2d65\" y=\"41.917311\"/>\r\n      </g>\r\n     </g>\r\n     <g id=\"text_13\">\r\n      <!-- 0.8 -->\r\n      <g transform=\"translate(20.878125 45.71653)scale(0.1 -0.1)\">\r\n       <use xlink:href=\"#DejaVuSans-48\"/>\r\n       <use x=\"63.623047\" xlink:href=\"#DejaVuSans-46\"/>\r\n       <use x=\"95.410156\" xlink:href=\"#DejaVuSans-56\"/>\r\n      </g>\r\n     </g>\r\n    </g>\r\n    <g id=\"text_14\">\r\n     <!-- Density -->\r\n     <g transform=\"translate(14.798438 134.928594)rotate(-90)scale(0.1 -0.1)\">\r\n      <defs>\r\n       <path d=\"M 19.671875 64.796875 \r\nL 19.671875 8.109375 \r\nL 31.59375 8.109375 \r\nQ 46.6875 8.109375 53.6875 14.9375 \r\nQ 60.6875 21.78125 60.6875 36.53125 \r\nQ 60.6875 51.171875 53.6875 57.984375 \r\nQ 46.6875 64.796875 31.59375 64.796875 \r\nz\r\nM 9.8125 72.90625 \r\nL 30.078125 72.90625 \r\nQ 51.265625 72.90625 61.171875 64.09375 \r\nQ 71.09375 55.28125 71.09375 36.53125 \r\nQ 71.09375 17.671875 61.125 8.828125 \r\nQ 51.171875 0 30.078125 0 \r\nL 9.8125 0 \r\nz\r\n\" id=\"DejaVuSans-68\"/>\r\n       <path d=\"M 56.203125 29.59375 \r\nL 56.203125 25.203125 \r\nL 14.890625 25.203125 \r\nQ 15.484375 15.921875 20.484375 11.0625 \r\nQ 25.484375 6.203125 34.421875 6.203125 \r\nQ 39.59375 6.203125 44.453125 7.46875 \r\nQ 49.3125 8.734375 54.109375 11.28125 \r\nL 54.109375 2.78125 \r\nQ 49.265625 0.734375 44.1875 -0.34375 \r\nQ 39.109375 -1.421875 33.890625 -1.421875 \r\nQ 20.796875 -1.421875 13.15625 6.1875 \r\nQ 5.515625 13.8125 5.515625 26.8125 \r\nQ 5.515625 40.234375 12.765625 48.109375 \r\nQ 20.015625 56 32.328125 56 \r\nQ 43.359375 56 49.78125 48.890625 \r\nQ 56.203125 41.796875 56.203125 29.59375 \r\nz\r\nM 47.21875 32.234375 \r\nQ 47.125 39.59375 43.09375 43.984375 \r\nQ 39.0625 48.390625 32.421875 48.390625 \r\nQ 24.90625 48.390625 20.390625 44.140625 \r\nQ 15.875 39.890625 15.1875 32.171875 \r\nz\r\n\" id=\"DejaVuSans-101\"/>\r\n       <path d=\"M 54.890625 33.015625 \r\nL 54.890625 0 \r\nL 45.90625 0 \r\nL 45.90625 32.71875 \r\nQ 45.90625 40.484375 42.875 44.328125 \r\nQ 39.84375 48.1875 33.796875 48.1875 \r\nQ 26.515625 48.1875 22.3125 43.546875 \r\nQ 18.109375 38.921875 18.109375 30.90625 \r\nL 18.109375 0 \r\nL 9.078125 0 \r\nL 9.078125 54.6875 \r\nL 18.109375 54.6875 \r\nL 18.109375 46.1875 \r\nQ 21.34375 51.125 25.703125 53.5625 \r\nQ 30.078125 56 35.796875 56 \r\nQ 45.21875 56 50.046875 50.171875 \r\nQ 54.890625 44.34375 54.890625 33.015625 \r\nz\r\n\" id=\"DejaVuSans-110\"/>\r\n       <path d=\"M 32.171875 -5.078125 \r\nQ 28.375 -14.84375 24.75 -17.8125 \r\nQ 21.140625 -20.796875 15.09375 -20.796875 \r\nL 7.90625 -20.796875 \r\nL 7.90625 -13.28125 \r\nL 13.1875 -13.28125 \r\nQ 16.890625 -13.28125 18.9375 -11.515625 \r\nQ 21 -9.765625 23.484375 -3.21875 \r\nL 25.09375 0.875 \r\nL 2.984375 54.6875 \r\nL 12.5 54.6875 \r\nL 29.59375 11.921875 \r\nL 46.6875 54.6875 \r\nL 56.203125 54.6875 \r\nz\r\n\" id=\"DejaVuSans-121\"/>\r\n      </defs>\r\n      <use xlink:href=\"#DejaVuSans-68\"/>\r\n      <use x=\"77.001953\" xlink:href=\"#DejaVuSans-101\"/>\r\n      <use x=\"138.525391\" xlink:href=\"#DejaVuSans-110\"/>\r\n      <use x=\"201.904297\" xlink:href=\"#DejaVuSans-115\"/>\r\n      <use x=\"254.003906\" xlink:href=\"#DejaVuSans-105\"/>\r\n      <use x=\"281.787109\" xlink:href=\"#DejaVuSans-116\"/>\r\n      <use x=\"320.996094\" xlink:href=\"#DejaVuSans-121\"/>\r\n     </g>\r\n    </g>\r\n   </g>\r\n   <g id=\"line2d_13\">\r\n    <path clip-path=\"url(#p6ef858fee7)\" d=\"M 58.999432 223.613221 \r\nL 60.528897 223.154579 \r\nL 62.058363 222.524747 \r\nL 63.587828 221.675061 \r\nL 65.117294 220.549169 \r\nL 66.646759 219.084138 \r\nL 68.176225 217.212581 \r\nL 69.70569 214.865962 \r\nL 71.235156 211.979119 \r\nL 72.764621 208.495935 \r\nL 74.294087 204.375873 \r\nL 75.823552 199.60094 \r\nL 77.353018 194.182444 \r\nL 78.882483 188.166762 \r\nL 81.941414 174.725635 \r\nL 86.529811 153.46051 \r\nL 88.059276 146.916753 \r\nL 89.588742 141.022409 \r\nL 91.118208 135.982245 \r\nL 92.647673 131.964717 \r\nL 94.177139 129.088516 \r\nL 95.706604 127.412828 \r\nL 97.23607 126.932505 \r\nL 98.765535 127.578867 \r\nL 100.295001 129.226183 \r\nL 101.824466 131.703256 \r\nL 103.353932 134.80889 \r\nL 106.412863 142.057517 \r\nL 109.471794 149.426958 \r\nL 111.001259 152.810445 \r\nL 112.530725 155.896783 \r\nL 114.06019 158.670093 \r\nL 115.589656 161.152594 \r\nL 118.648587 165.462392 \r\nL 132.413776 183.005242 \r\nL 133.943242 184.692645 \r\nL 135.472707 186.209484 \r\nL 137.002173 187.544122 \r\nL 138.531638 188.70193 \r\nL 141.590569 190.584867 \r\nL 150.767362 195.49608 \r\nL 159.944155 201.249971 \r\nL 163.003086 202.678014 \r\nL 166.062017 203.747199 \r\nL 175.238811 206.411324 \r\nL 179.827207 208.189777 \r\nL 184.415604 210.028346 \r\nL 187.474535 211.064101 \r\nL 190.533466 211.886277 \r\nL 201.239724 214.366784 \r\nL 205.828121 215.91817 \r\nL 213.475448 218.703945 \r\nL 216.534379 219.607506 \r\nL 219.59331 220.327474 \r\nL 224.181707 221.116044 \r\nL 230.299569 221.83727 \r\nL 236.417431 222.331464 \r\nL 242.535293 222.596607 \r\nL 250.18262 222.678305 \r\nL 257.829948 222.587265 \r\nL 265.477276 222.280523 \r\nL 273.124603 222.014457 \r\nL 277.713 222.096308 \r\nL 282.301396 222.400525 \r\nL 297.596051 223.692464 \r\nL 305.243379 223.965778 \r\nL 315.949637 224.078842 \r\nL 332.773758 224.195722 \r\nL 357.245206 224.618687 \r\nL 363.363068 224.634652 \r\nL 363.363068 224.634652 \r\n\" style=\"fill:none;stroke:#1f77b4;stroke-linecap:square;stroke-width:1.5;\"/>\r\n   </g>\r\n   <g id=\"patch_20\">\r\n    <path d=\"M 43.78125 224.64 \r\nL 43.78125 7.2 \r\n\" style=\"fill:none;stroke:#000000;stroke-linecap:square;stroke-linejoin:miter;stroke-width:0.8;\"/>\r\n   </g>\r\n   <g id=\"patch_21\">\r\n    <path d=\"M 378.58125 224.64 \r\nL 378.58125 7.2 \r\n\" style=\"fill:none;stroke:#000000;stroke-linecap:square;stroke-linejoin:miter;stroke-width:0.8;\"/>\r\n   </g>\r\n   <g id=\"patch_22\">\r\n    <path d=\"M 43.78125 224.64 \r\nL 378.58125 224.64 \r\n\" style=\"fill:none;stroke:#000000;stroke-linecap:square;stroke-linejoin:miter;stroke-width:0.8;\"/>\r\n   </g>\r\n   <g id=\"patch_23\">\r\n    <path d=\"M 43.78125 7.2 \r\nL 378.58125 7.2 \r\n\" style=\"fill:none;stroke:#000000;stroke-linecap:square;stroke-linejoin:miter;stroke-width:0.8;\"/>\r\n   </g>\r\n  </g>\r\n </g>\r\n <defs>\r\n  <clipPath id=\"p6ef858fee7\">\r\n   <rect height=\"217.44\" width=\"334.8\" x=\"43.78125\" y=\"7.2\"/>\r\n  </clipPath>\r\n </defs>\r\n</svg>\r\n",
      "image/png": "[encoded data removed]"
     },
     "metadata": {
      "needs_background": "light"
     }
    }
   ],
   "source": [
    "sns.distplot(nomes.matriculas)"
   ]
  },
  {
   "cell_type": "code",
   "execution_count": 181,
   "metadata": {},
   "outputs": [
    {
     "output_type": "execute_result",
     "data": {
      "text/plain": "1     192\n2      90\n3      52\n4      32\n5      19\n8       5\n6       5\n7       3\n10      1\n9       1\nName: matriculas, dtype: int64"
     },
     "metadata": {},
     "execution_count": 181
    }
   ],
   "source": [
    "nomes.matriculas.value_counts()"
   ]
  },
  {
   "cell_type": "code",
   "execution_count": 183,
   "metadata": {},
   "outputs": [
    {
     "output_type": "execute_result",
     "data": {
      "text/plain": "        nome  id_aluno                 dominio  matriculas  \\\n41   DANIELA       296  @dominiodoemail.com.br           1   \n123    IVONE       289  @dominiodoemail.com.br           2   \n115   MILTON       104     @servicodoemail.com           4   \n141  ORLANDO       159  @dominiodoemail.com.br           2   \n120  JOSIANE       178  @dominiodoemail.com.br           1   \n\n                             email  \n41   daniela@dominiodoemail.com.br  \n123    ivone@dominiodoemail.com.br  \n115      milton@servicodoemail.com  \n141  orlando@dominiodoemail.com.br  \n120  josiane@dominiodoemail.com.br  ",
      "text/html": "<div>\n<style scoped>\n    .dataframe tbody tr th:only-of-type {\n        vertical-align: middle;\n    }\n\n    .dataframe tbody tr th {\n        vertical-align: top;\n    }\n\n    .dataframe thead th {\n        text-align: right;\n    }\n</style>\n<table border=\"1\" class=\"dataframe\">\n  <thead>\n    <tr style=\"text-align: right;\">\n      <th></th>\n      <th>nome</th>\n      <th>id_aluno</th>\n      <th>dominio</th>\n      <th>matriculas</th>\n      <th>email</th>\n    </tr>\n  </thead>\n  <tbody>\n    <tr>\n      <th>41</th>\n      <td>DANIELA</td>\n      <td>296</td>\n      <td>@dominiodoemail.com.br</td>\n      <td>1</td>\n      <td>daniela@dominiodoemail.com.br</td>\n    </tr>\n    <tr>\n      <th>123</th>\n      <td>IVONE</td>\n      <td>289</td>\n      <td>@dominiodoemail.com.br</td>\n      <td>2</td>\n      <td>ivone@dominiodoemail.com.br</td>\n    </tr>\n    <tr>\n      <th>115</th>\n      <td>MILTON</td>\n      <td>104</td>\n      <td>@servicodoemail.com</td>\n      <td>4</td>\n      <td>milton@servicodoemail.com</td>\n    </tr>\n    <tr>\n      <th>141</th>\n      <td>ORLANDO</td>\n      <td>159</td>\n      <td>@dominiodoemail.com.br</td>\n      <td>2</td>\n      <td>orlando@dominiodoemail.com.br</td>\n    </tr>\n    <tr>\n      <th>120</th>\n      <td>JOSIANE</td>\n      <td>178</td>\n      <td>@dominiodoemail.com.br</td>\n      <td>1</td>\n      <td>josiane@dominiodoemail.com.br</td>\n    </tr>\n  </tbody>\n</table>\n</div>"
     },
     "metadata": {},
     "execution_count": 183
    }
   ],
   "source": [
    "nomes.sample(5)"
   ]
  },
  {
   "source": [
    "# Selecionando cursos"
   ],
   "cell_type": "markdown",
   "metadata": {}
  },
  {
   "cell_type": "code",
   "execution_count": 185,
   "metadata": {},
   "outputs": [
    {
     "output_type": "execute_result",
     "data": {
      "text/plain": "         nome  id_aluno                 dominio  matriculas  \\\n0       MARIA       235  @dominiodoemail.com.br           2   \n1         ANA        43     @servicodoemail.com           3   \n2   FRANCISCA       304     @servicodoemail.com           1   \n3     ANTONIA       156     @servicodoemail.com           1   \n4     ADRIANA       343     @servicodoemail.com           2   \n5     JULIANA       310  @dominiodoemail.com.br           1   \n6      MARCIA        55     @servicodoemail.com           2   \n7    FERNANDA       288  @dominiodoemail.com.br           1   \n8    PATRICIA       379     @servicodoemail.com           1   \n9       ALINE        92     @servicodoemail.com           2   \n10     SANDRA       174     @servicodoemail.com           1   \n11     CAMILA       218  @dominiodoemail.com.br           1   \n12     AMANDA       217  @dominiodoemail.com.br           1   \n13      BRUNA        34  @dominiodoemail.com.br           1   \n14    JESSICA       185  @dominiodoemail.com.br           1   \n15    LETICIA       347     @servicodoemail.com           1   \n16      JULIA       191  @dominiodoemail.com.br           1   \n17    LUCIANA       163  @dominiodoemail.com.br           1   \n18    VANESSA        42  @dominiodoemail.com.br           2   \n19    MARIANA        10  @dominiodoemail.com.br           3   \n20   GABRIELA       200     @servicodoemail.com           4   \n21       VERA       287     @servicodoemail.com           1   \n22    VITORIA        80  @dominiodoemail.com.br           3   \n23    LARISSA       173     @servicodoemail.com           2   \n24    CLAUDIA        16  @dominiodoemail.com.br           1   \n25    BEATRIZ        49     @servicodoemail.com           2   \n26       RITA        12  @dominiodoemail.com.br           1   \n27      LUANA       240  @dominiodoemail.com.br           4   \n28      SONIA       242  @dominiodoemail.com.br           4   \n29     RENATA       328  @dominiodoemail.com.br           2   \n\n                             email  \n0      maria@dominiodoemail.com.br  \n1           ana@servicodoemail.com  \n2     francisca@servicodoemail.com  \n3       antonia@servicodoemail.com  \n4       adriana@servicodoemail.com  \n5    juliana@dominiodoemail.com.br  \n6        marcia@servicodoemail.com  \n7   fernanda@dominiodoemail.com.br  \n8      patricia@servicodoemail.com  \n9         aline@servicodoemail.com  \n10       sandra@servicodoemail.com  \n11    camila@dominiodoemail.com.br  \n12    amanda@dominiodoemail.com.br  \n13     bruna@dominiodoemail.com.br  \n14   jessica@dominiodoemail.com.br  \n15      leticia@servicodoemail.com  \n16     julia@dominiodoemail.com.br  \n17   luciana@dominiodoemail.com.br  \n18   vanessa@dominiodoemail.com.br  \n19   mariana@dominiodoemail.com.br  \n20     gabriela@servicodoemail.com  \n21         vera@servicodoemail.com  \n22   vitoria@dominiodoemail.com.br  \n23      larissa@servicodoemail.com  \n24   claudia@dominiodoemail.com.br  \n25      beatriz@servicodoemail.com  \n26      rita@dominiodoemail.com.br  \n27     luana@dominiodoemail.com.br  \n28     sonia@dominiodoemail.com.br  \n29    renata@dominiodoemail.com.br  ",
      "text/html": "<div>\n<style scoped>\n    .dataframe tbody tr th:only-of-type {\n        vertical-align: middle;\n    }\n\n    .dataframe tbody tr th {\n        vertical-align: top;\n    }\n\n    .dataframe thead th {\n        text-align: right;\n    }\n</style>\n<table border=\"1\" class=\"dataframe\">\n  <thead>\n    <tr style=\"text-align: right;\">\n      <th></th>\n      <th>nome</th>\n      <th>id_aluno</th>\n      <th>dominio</th>\n      <th>matriculas</th>\n      <th>email</th>\n    </tr>\n  </thead>\n  <tbody>\n    <tr>\n      <th>0</th>\n      <td>MARIA</td>\n      <td>235</td>\n      <td>@dominiodoemail.com.br</td>\n      <td>2</td>\n      <td>maria@dominiodoemail.com.br</td>\n    </tr>\n    <tr>\n      <th>1</th>\n      <td>ANA</td>\n      <td>43</td>\n      <td>@servicodoemail.com</td>\n      <td>3</td>\n      <td>ana@servicodoemail.com</td>\n    </tr>\n    <tr>\n      <th>2</th>\n      <td>FRANCISCA</td>\n      <td>304</td>\n      <td>@servicodoemail.com</td>\n      <td>1</td>\n      <td>francisca@servicodoemail.com</td>\n    </tr>\n    <tr>\n      <th>3</th>\n      <td>ANTONIA</td>\n      <td>156</td>\n      <td>@servicodoemail.com</td>\n      <td>1</td>\n      <td>antonia@servicodoemail.com</td>\n    </tr>\n    <tr>\n      <th>4</th>\n      <td>ADRIANA</td>\n      <td>343</td>\n      <td>@servicodoemail.com</td>\n      <td>2</td>\n      <td>adriana@servicodoemail.com</td>\n    </tr>\n    <tr>\n      <th>5</th>\n      <td>JULIANA</td>\n      <td>310</td>\n      <td>@dominiodoemail.com.br</td>\n      <td>1</td>\n      <td>juliana@dominiodoemail.com.br</td>\n    </tr>\n    <tr>\n      <th>6</th>\n      <td>MARCIA</td>\n      <td>55</td>\n      <td>@servicodoemail.com</td>\n      <td>2</td>\n      <td>marcia@servicodoemail.com</td>\n    </tr>\n    <tr>\n      <th>7</th>\n      <td>FERNANDA</td>\n      <td>288</td>\n      <td>@dominiodoemail.com.br</td>\n      <td>1</td>\n      <td>fernanda@dominiodoemail.com.br</td>\n    </tr>\n    <tr>\n      <th>8</th>\n      <td>PATRICIA</td>\n      <td>379</td>\n      <td>@servicodoemail.com</td>\n      <td>1</td>\n      <td>patricia@servicodoemail.com</td>\n    </tr>\n    <tr>\n      <th>9</th>\n      <td>ALINE</td>\n      <td>92</td>\n      <td>@servicodoemail.com</td>\n      <td>2</td>\n      <td>aline@servicodoemail.com</td>\n    </tr>\n    <tr>\n      <th>10</th>\n      <td>SANDRA</td>\n      <td>174</td>\n      <td>@servicodoemail.com</td>\n      <td>1</td>\n      <td>sandra@servicodoemail.com</td>\n    </tr>\n    <tr>\n      <th>11</th>\n      <td>CAMILA</td>\n      <td>218</td>\n      <td>@dominiodoemail.com.br</td>\n      <td>1</td>\n      <td>camila@dominiodoemail.com.br</td>\n    </tr>\n    <tr>\n      <th>12</th>\n      <td>AMANDA</td>\n      <td>217</td>\n      <td>@dominiodoemail.com.br</td>\n      <td>1</td>\n      <td>amanda@dominiodoemail.com.br</td>\n    </tr>\n    <tr>\n      <th>13</th>\n      <td>BRUNA</td>\n      <td>34</td>\n      <td>@dominiodoemail.com.br</td>\n      <td>1</td>\n      <td>bruna@dominiodoemail.com.br</td>\n    </tr>\n    <tr>\n      <th>14</th>\n      <td>JESSICA</td>\n      <td>185</td>\n      <td>@dominiodoemail.com.br</td>\n      <td>1</td>\n      <td>jessica@dominiodoemail.com.br</td>\n    </tr>\n    <tr>\n      <th>15</th>\n      <td>LETICIA</td>\n      <td>347</td>\n      <td>@servicodoemail.com</td>\n      <td>1</td>\n      <td>leticia@servicodoemail.com</td>\n    </tr>\n    <tr>\n      <th>16</th>\n      <td>JULIA</td>\n      <td>191</td>\n      <td>@dominiodoemail.com.br</td>\n      <td>1</td>\n      <td>julia@dominiodoemail.com.br</td>\n    </tr>\n    <tr>\n      <th>17</th>\n      <td>LUCIANA</td>\n      <td>163</td>\n      <td>@dominiodoemail.com.br</td>\n      <td>1</td>\n      <td>luciana@dominiodoemail.com.br</td>\n    </tr>\n    <tr>\n      <th>18</th>\n      <td>VANESSA</td>\n      <td>42</td>\n      <td>@dominiodoemail.com.br</td>\n      <td>2</td>\n      <td>vanessa@dominiodoemail.com.br</td>\n    </tr>\n    <tr>\n      <th>19</th>\n      <td>MARIANA</td>\n      <td>10</td>\n      <td>@dominiodoemail.com.br</td>\n      <td>3</td>\n      <td>mariana@dominiodoemail.com.br</td>\n    </tr>\n    <tr>\n      <th>20</th>\n      <td>GABRIELA</td>\n      <td>200</td>\n      <td>@servicodoemail.com</td>\n      <td>4</td>\n      <td>gabriela@servicodoemail.com</td>\n    </tr>\n    <tr>\n      <th>21</th>\n      <td>VERA</td>\n      <td>287</td>\n      <td>@servicodoemail.com</td>\n      <td>1</td>\n      <td>vera@servicodoemail.com</td>\n    </tr>\n    <tr>\n      <th>22</th>\n      <td>VITORIA</td>\n      <td>80</td>\n      <td>@dominiodoemail.com.br</td>\n      <td>3</td>\n      <td>vitoria@dominiodoemail.com.br</td>\n    </tr>\n    <tr>\n      <th>23</th>\n      <td>LARISSA</td>\n      <td>173</td>\n      <td>@servicodoemail.com</td>\n      <td>2</td>\n      <td>larissa@servicodoemail.com</td>\n    </tr>\n    <tr>\n      <th>24</th>\n      <td>CLAUDIA</td>\n      <td>16</td>\n      <td>@dominiodoemail.com.br</td>\n      <td>1</td>\n      <td>claudia@dominiodoemail.com.br</td>\n    </tr>\n    <tr>\n      <th>25</th>\n      <td>BEATRIZ</td>\n      <td>49</td>\n      <td>@servicodoemail.com</td>\n      <td>2</td>\n      <td>beatriz@servicodoemail.com</td>\n    </tr>\n    <tr>\n      <th>26</th>\n      <td>RITA</td>\n      <td>12</td>\n      <td>@dominiodoemail.com.br</td>\n      <td>1</td>\n      <td>rita@dominiodoemail.com.br</td>\n    </tr>\n    <tr>\n      <th>27</th>\n      <td>LUANA</td>\n      <td>240</td>\n      <td>@dominiodoemail.com.br</td>\n      <td>4</td>\n      <td>luana@dominiodoemail.com.br</td>\n    </tr>\n    <tr>\n      <th>28</th>\n      <td>SONIA</td>\n      <td>242</td>\n      <td>@dominiodoemail.com.br</td>\n      <td>4</td>\n      <td>sonia@dominiodoemail.com.br</td>\n    </tr>\n    <tr>\n      <th>29</th>\n      <td>RENATA</td>\n      <td>328</td>\n      <td>@dominiodoemail.com.br</td>\n      <td>2</td>\n      <td>renata@dominiodoemail.com.br</td>\n    </tr>\n  </tbody>\n</table>\n</div>"
     },
     "metadata": {},
     "execution_count": 185
    }
   ],
   "source": [
    "nomes.head(30)"
   ]
  },
  {
   "cell_type": "code",
   "execution_count": 187,
   "metadata": {},
   "outputs": [
    {
     "output_type": "execute_result",
     "data": {
      "text/plain": "array([0.03661108, 0.04922543, 0.06928015, 0.05210455, 0.08613311,\n       0.07554979, 0.08595685, 0.00198048, 0.00239778, 0.0804038 ,\n       0.08371444, 0.06176894, 0.01176501, 0.00159626, 0.0540163 ,\n       0.04431806, 0.03052308, 0.07995562, 0.02736688, 0.06533238])"
     },
     "metadata": {},
     "execution_count": 187
    }
   ],
   "source": [
    "todas_matriculas = []\n",
    "x = np.random.rand(20)\n",
    "prob = x / sum(x)\n",
    "prob\n",
    "\n"
   ]
  },
  {
   "cell_type": "code",
   "execution_count": 189,
   "metadata": {},
   "outputs": [
    {
     "output_type": "execute_result",
     "data": {
      "text/plain": "     id_aluno  id_curso\n0         235         4\n1         235         5\n2          43         6\n3          43         7\n4          43        10\n..        ...       ...\n856       231        15\n857        99        18\n858       323        12\n859       383        10\n860       366        15\n\n[861 rows x 2 columns]",
      "text/html": "<div>\n<style scoped>\n    .dataframe tbody tr th:only-of-type {\n        vertical-align: middle;\n    }\n\n    .dataframe tbody tr th {\n        vertical-align: top;\n    }\n\n    .dataframe thead th {\n        text-align: right;\n    }\n</style>\n<table border=\"1\" class=\"dataframe\">\n  <thead>\n    <tr style=\"text-align: right;\">\n      <th></th>\n      <th>id_aluno</th>\n      <th>id_curso</th>\n    </tr>\n  </thead>\n  <tbody>\n    <tr>\n      <th>0</th>\n      <td>235</td>\n      <td>4</td>\n    </tr>\n    <tr>\n      <th>1</th>\n      <td>235</td>\n      <td>5</td>\n    </tr>\n    <tr>\n      <th>2</th>\n      <td>43</td>\n      <td>6</td>\n    </tr>\n    <tr>\n      <th>3</th>\n      <td>43</td>\n      <td>7</td>\n    </tr>\n    <tr>\n      <th>4</th>\n      <td>43</td>\n      <td>10</td>\n    </tr>\n    <tr>\n      <th>...</th>\n      <td>...</td>\n      <td>...</td>\n    </tr>\n    <tr>\n      <th>856</th>\n      <td>231</td>\n      <td>15</td>\n    </tr>\n    <tr>\n      <th>857</th>\n      <td>99</td>\n      <td>18</td>\n    </tr>\n    <tr>\n      <th>858</th>\n      <td>323</td>\n      <td>12</td>\n    </tr>\n    <tr>\n      <th>859</th>\n      <td>383</td>\n      <td>10</td>\n    </tr>\n    <tr>\n      <th>860</th>\n      <td>366</td>\n      <td>15</td>\n    </tr>\n  </tbody>\n</table>\n<p>861 rows × 2 columns</p>\n</div>"
     },
     "metadata": {},
     "execution_count": 189
    }
   ],
   "source": [
    "for index,row in nomes.iterrows():\n",
    "    id = row.id_aluno\n",
    "    matriculas = row.matriculas\n",
    "    for i in range(matriculas):\n",
    "        mat = [id,np.random.choice(cursos.index,p=prob)]\n",
    "        todas_matriculas.append(mat)\n",
    "matriculas = pd.DataFrame(todas_matriculas,columns = ['id_aluno','id_curso'])\n",
    "matriculas"
   ]
  },
  {
   "cell_type": "code",
   "execution_count": 191,
   "metadata": {},
   "outputs": [
    {
     "output_type": "execute_result",
     "data": {
      "text/plain": "          quantidade_de_alunos                        nome_do_curso\nid_curso                                                           \n1                           31                Lógica de programação\n2                           43                        Java para Web\n3                           66                          C# para Web\n4                           39                        Ruby on Rails\n5                           73                     Cursos de Python\n6                           66                        PHP com MySql\n7                           77                        .NET para web\n8                            2           Novas integrações com Java\n9                            1                         TDD com Java\n10                          57                  Código limpo com C#\n11                          70  Preparatório para certificação Java\n12                          59                      Hardware básico\n13                          14                Persistência com .NET\n14                           2                  Desenvolvendo jogos\n15                          53                     Análise de dados\n16                          32                   Estatística básica\n17                          24                  Internet das coisas\n18                          65                Programação funcional\n19                          34                Boas práticas em Java\n20                          53          Orientação objetos com Java",
      "text/html": "<div>\n<style scoped>\n    .dataframe tbody tr th:only-of-type {\n        vertical-align: middle;\n    }\n\n    .dataframe tbody tr th {\n        vertical-align: top;\n    }\n\n    .dataframe thead th {\n        text-align: right;\n    }\n</style>\n<table border=\"1\" class=\"dataframe\">\n  <thead>\n    <tr style=\"text-align: right;\">\n      <th></th>\n      <th>quantidade_de_alunos</th>\n      <th>nome_do_curso</th>\n    </tr>\n    <tr>\n      <th>id_curso</th>\n      <th></th>\n      <th></th>\n    </tr>\n  </thead>\n  <tbody>\n    <tr>\n      <th>1</th>\n      <td>31</td>\n      <td>Lógica de programação</td>\n    </tr>\n    <tr>\n      <th>2</th>\n      <td>43</td>\n      <td>Java para Web</td>\n    </tr>\n    <tr>\n      <th>3</th>\n      <td>66</td>\n      <td>C# para Web</td>\n    </tr>\n    <tr>\n      <th>4</th>\n      <td>39</td>\n      <td>Ruby on Rails</td>\n    </tr>\n    <tr>\n      <th>5</th>\n      <td>73</td>\n      <td>Cursos de Python</td>\n    </tr>\n    <tr>\n      <th>6</th>\n      <td>66</td>\n      <td>PHP com MySql</td>\n    </tr>\n    <tr>\n      <th>7</th>\n      <td>77</td>\n      <td>.NET para web</td>\n    </tr>\n    <tr>\n      <th>8</th>\n      <td>2</td>\n      <td>Novas integrações com Java</td>\n    </tr>\n    <tr>\n      <th>9</th>\n      <td>1</td>\n      <td>TDD com Java</td>\n    </tr>\n    <tr>\n      <th>10</th>\n      <td>57</td>\n      <td>Código limpo com C#</td>\n    </tr>\n    <tr>\n      <th>11</th>\n      <td>70</td>\n      <td>Preparatório para certificação Java</td>\n    </tr>\n    <tr>\n      <th>12</th>\n      <td>59</td>\n      <td>Hardware básico</td>\n    </tr>\n    <tr>\n      <th>13</th>\n      <td>14</td>\n      <td>Persistência com .NET</td>\n    </tr>\n    <tr>\n      <th>14</th>\n      <td>2</td>\n      <td>Desenvolvendo jogos</td>\n    </tr>\n    <tr>\n      <th>15</th>\n      <td>53</td>\n      <td>Análise de dados</td>\n    </tr>\n    <tr>\n      <th>16</th>\n      <td>32</td>\n      <td>Estatística básica</td>\n    </tr>\n    <tr>\n      <th>17</th>\n      <td>24</td>\n      <td>Internet das coisas</td>\n    </tr>\n    <tr>\n      <th>18</th>\n      <td>65</td>\n      <td>Programação funcional</td>\n    </tr>\n    <tr>\n      <th>19</th>\n      <td>34</td>\n      <td>Boas práticas em Java</td>\n    </tr>\n    <tr>\n      <th>20</th>\n      <td>53</td>\n      <td>Orientação objetos com Java</td>\n    </tr>\n  </tbody>\n</table>\n</div>"
     },
     "metadata": {},
     "execution_count": 191
    }
   ],
   "source": [
    "matriculas.groupby('id_curso').count().join(cursos['nome_do_curso']).rename(columns={'id_aluno':'quantidade_de_alunos'})"
   ]
  },
  {
   "cell_type": "code",
   "execution_count": 193,
   "metadata": {},
   "outputs": [],
   "source": [
    "\n",
    "\n",
    "\n",
    "igpm = pd.read_html('http://www.idealsoftwares.com.br/indices/igp_m.html',decimal=',',thousands='.')[0]"
   ]
  },
  {
   "cell_type": "code",
   "execution_count": 195,
   "metadata": {},
   "outputs": [
    {
     "output_type": "execute_result",
     "data": {
      "text/plain": "         2020                                                             \n          MÊS Mensal % Acumulado nos últimos 12 meses % Acumulado no ano %\n0     Janeiro     0.48                           7.8223             0.4800\n1   Fevereiro    -0.04                           6.8389             0.4398\n2       Março     1.24                           6.8178             1.6853\n3       Abril     0.80                           6.6908             2.4987\n4        Maio     0.28                           6.5103             2.7857\n5       Junho     1.56                           7.3133             4.3892\n6       Julho     2.23                           9.2693             6.7171\n7      Agosto     2.74                          13.0205             9.6411\n8    Setembro      NaN                              NaN                NaN\n9     Outubro      NaN                              NaN                NaN\n10   Novembro      NaN                              NaN                NaN\n11   Dezembro      NaN                              NaN                NaN",
      "text/html": "<div>\n<style scoped>\n    .dataframe tbody tr th:only-of-type {\n        vertical-align: middle;\n    }\n\n    .dataframe tbody tr th {\n        vertical-align: top;\n    }\n\n    .dataframe thead tr th {\n        text-align: left;\n    }\n</style>\n<table border=\"1\" class=\"dataframe\">\n  <thead>\n    <tr>\n      <th></th>\n      <th colspan=\"4\" halign=\"left\">2020</th>\n    </tr>\n    <tr>\n      <th></th>\n      <th>MÊS</th>\n      <th>Mensal %</th>\n      <th>Acumulado nos últimos 12 meses %</th>\n      <th>Acumulado no ano %</th>\n    </tr>\n  </thead>\n  <tbody>\n    <tr>\n      <th>0</th>\n      <td>Janeiro</td>\n      <td>0.48</td>\n      <td>7.8223</td>\n      <td>0.4800</td>\n    </tr>\n    <tr>\n      <th>1</th>\n      <td>Fevereiro</td>\n      <td>-0.04</td>\n      <td>6.8389</td>\n      <td>0.4398</td>\n    </tr>\n    <tr>\n      <th>2</th>\n      <td>Março</td>\n      <td>1.24</td>\n      <td>6.8178</td>\n      <td>1.6853</td>\n    </tr>\n    <tr>\n      <th>3</th>\n      <td>Abril</td>\n      <td>0.80</td>\n      <td>6.6908</td>\n      <td>2.4987</td>\n    </tr>\n    <tr>\n      <th>4</th>\n      <td>Maio</td>\n      <td>0.28</td>\n      <td>6.5103</td>\n      <td>2.7857</td>\n    </tr>\n    <tr>\n      <th>5</th>\n      <td>Junho</td>\n      <td>1.56</td>\n      <td>7.3133</td>\n      <td>4.3892</td>\n    </tr>\n    <tr>\n      <th>6</th>\n      <td>Julho</td>\n      <td>2.23</td>\n      <td>9.2693</td>\n      <td>6.7171</td>\n    </tr>\n    <tr>\n      <th>7</th>\n      <td>Agosto</td>\n      <td>2.74</td>\n      <td>13.0205</td>\n      <td>9.6411</td>\n    </tr>\n    <tr>\n      <th>8</th>\n      <td>Setembro</td>\n      <td>NaN</td>\n      <td>NaN</td>\n      <td>NaN</td>\n    </tr>\n    <tr>\n      <th>9</th>\n      <td>Outubro</td>\n      <td>NaN</td>\n      <td>NaN</td>\n      <td>NaN</td>\n    </tr>\n    <tr>\n      <th>10</th>\n      <td>Novembro</td>\n      <td>NaN</td>\n      <td>NaN</td>\n      <td>NaN</td>\n    </tr>\n    <tr>\n      <th>11</th>\n      <td>Dezembro</td>\n      <td>NaN</td>\n      <td>NaN</td>\n      <td>NaN</td>\n    </tr>\n  </tbody>\n</table>\n</div>"
     },
     "metadata": {},
     "execution_count": 195
    }
   ],
   "source": [
    "igpm"
   ]
  },
  {
   "cell_type": "code",
   "execution_count": 197,
   "metadata": {},
   "outputs": [],
   "source": [
    "igpm.rename(columns={'Mensal %' :'Mensal'},inplace=True)"
   ]
  },
  {
   "cell_type": "code",
   "execution_count": 199,
   "metadata": {},
   "outputs": [
    {
     "output_type": "execute_result",
     "data": {
      "text/plain": "         2020                                                           \n          MÊS Mensal Acumulado nos últimos 12 meses % Acumulado no ano %\n0     Janeiro   0.48                           7.8223             0.4800\n1   Fevereiro  -0.04                           6.8389             0.4398\n2       Março   1.24                           6.8178             1.6853\n3       Abril   0.80                           6.6908             2.4987\n4        Maio   0.28                           6.5103             2.7857\n5       Junho   1.56                           7.3133             4.3892\n6       Julho   2.23                           9.2693             6.7171\n7      Agosto   2.74                          13.0205             9.6411\n8    Setembro    NaN                              NaN                NaN\n9     Outubro    NaN                              NaN                NaN\n10   Novembro    NaN                              NaN                NaN\n11   Dezembro    NaN                              NaN                NaN",
      "text/html": "<div>\n<style scoped>\n    .dataframe tbody tr th:only-of-type {\n        vertical-align: middle;\n    }\n\n    .dataframe tbody tr th {\n        vertical-align: top;\n    }\n\n    .dataframe thead tr th {\n        text-align: left;\n    }\n</style>\n<table border=\"1\" class=\"dataframe\">\n  <thead>\n    <tr>\n      <th></th>\n      <th colspan=\"4\" halign=\"left\">2020</th>\n    </tr>\n    <tr>\n      <th></th>\n      <th>MÊS</th>\n      <th>Mensal</th>\n      <th>Acumulado nos últimos 12 meses %</th>\n      <th>Acumulado no ano %</th>\n    </tr>\n  </thead>\n  <tbody>\n    <tr>\n      <th>0</th>\n      <td>Janeiro</td>\n      <td>0.48</td>\n      <td>7.8223</td>\n      <td>0.4800</td>\n    </tr>\n    <tr>\n      <th>1</th>\n      <td>Fevereiro</td>\n      <td>-0.04</td>\n      <td>6.8389</td>\n      <td>0.4398</td>\n    </tr>\n    <tr>\n      <th>2</th>\n      <td>Março</td>\n      <td>1.24</td>\n      <td>6.8178</td>\n      <td>1.6853</td>\n    </tr>\n    <tr>\n      <th>3</th>\n      <td>Abril</td>\n      <td>0.80</td>\n      <td>6.6908</td>\n      <td>2.4987</td>\n    </tr>\n    <tr>\n      <th>4</th>\n      <td>Maio</td>\n      <td>0.28</td>\n      <td>6.5103</td>\n      <td>2.7857</td>\n    </tr>\n    <tr>\n      <th>5</th>\n      <td>Junho</td>\n      <td>1.56</td>\n      <td>7.3133</td>\n      <td>4.3892</td>\n    </tr>\n    <tr>\n      <th>6</th>\n      <td>Julho</td>\n      <td>2.23</td>\n      <td>9.2693</td>\n      <td>6.7171</td>\n    </tr>\n    <tr>\n      <th>7</th>\n      <td>Agosto</td>\n      <td>2.74</td>\n      <td>13.0205</td>\n      <td>9.6411</td>\n    </tr>\n    <tr>\n      <th>8</th>\n      <td>Setembro</td>\n      <td>NaN</td>\n      <td>NaN</td>\n      <td>NaN</td>\n    </tr>\n    <tr>\n      <th>9</th>\n      <td>Outubro</td>\n      <td>NaN</td>\n      <td>NaN</td>\n      <td>NaN</td>\n    </tr>\n    <tr>\n      <th>10</th>\n      <td>Novembro</td>\n      <td>NaN</td>\n      <td>NaN</td>\n      <td>NaN</td>\n    </tr>\n    <tr>\n      <th>11</th>\n      <td>Dezembro</td>\n      <td>NaN</td>\n      <td>NaN</td>\n      <td>NaN</td>\n    </tr>\n  </tbody>\n</table>\n</div>"
     },
     "metadata": {},
     "execution_count": 199
    }
   ],
   "source": [
    "igpm"
   ]
  },
  {
   "cell_type": "code",
   "execution_count": 201,
   "metadata": {
    "tags": []
   },
   "outputs": [
    {
     "output_type": "execute_result",
     "data": {
      "text/plain": "<seaborn.axisgrid.FacetGrid at 0x1e82f43b4c0>"
     },
     "metadata": {},
     "execution_count": 201
    },
    {
     "output_type": "display_data",
     "data": {
      "text/plain": "<Figure size 421.25x360 with 1 Axes>",
      "image/svg+xml": "<?xml version=\"1.0\" encoding=\"utf-8\" standalone=\"no\"?>\r\n<!DOCTYPE svg PUBLIC \"-//W3C//DTD SVG 1.1//EN\"\r\n  \"http://www.w3.org/Graphics/SVG/1.1/DTD/svg11.dtd\">\r\n<!-- Created with matplotlib (https://matplotlib.org/) -->\r\n<svg height=\"352.478125pt\" version=\"1.1\" viewBox=\"0 0 419.515625 352.478125\" width=\"419.515625pt\" xmlns=\"http://www.w3.org/2000/svg\" xmlns:xlink=\"http://www.w3.org/1999/xlink\">\r\n <metadata>\r\n  <rdf:RDF xmlns:cc=\"http://creativecommons.org/ns#\" xmlns:dc=\"http://purl.org/dc/elements/1.1/\" xmlns:rdf=\"http://www.w3.org/1999/02/22-rdf-syntax-ns#\">\r\n   <cc:Work>\r\n    <dc:type rdf:resource=\"http://purl.org/dc/dcmitype/StillImage\"/>\r\n    <dc:date>2020-09-23T16:09:32.556303</dc:date>\r\n    <dc:format>image/svg+xml</dc:format>\r\n    <dc:creator>\r\n     <cc:Agent>\r\n      <dc:title>Matplotlib v3.3.2, https://matplotlib.org/</dc:title>\r\n     </cc:Agent>\r\n    </dc:creator>\r\n   </cc:Work>\r\n  </rdf:RDF>\r\n </metadata>\r\n <defs>\r\n  <style type=\"text/css\">*{stroke-linecap:butt;stroke-linejoin:round;}</style>\r\n </defs>\r\n <g id=\"figure_1\">\r\n  <g id=\"patch_1\">\r\n   <path d=\"M 0 352.478125 \r\nL 419.515625 352.478125 \r\nL 419.515625 0 \r\nL 0 0 \r\nz\r\n\" style=\"fill:none;\"/>\r\n  </g>\r\n  <g id=\"axes_1\">\r\n   <g id=\"patch_2\">\r\n    <path d=\"M 34.240625 328.6 \r\nL 341.053125 328.6 \r\nL 341.053125 7.2 \r\nL 34.240625 7.2 \r\nz\r\n\" style=\"fill:#ffffff;\"/>\r\n   </g>\r\n   <g id=\"patch_3\">\r\n    <path clip-path=\"url(#p0466082591)\" d=\"M 48.186648 328.6 \r\nL 94.67339 328.6 \r\nL 94.67339 22.504762 \r\nL 48.186648 22.504762 \r\nz\r\n\" style=\"fill:#1f77b4;fill-opacity:0.75;stroke:#000000;stroke-linejoin:miter;\"/>\r\n   </g>\r\n   <g id=\"patch_4\">\r\n    <path clip-path=\"url(#p0466082591)\" d=\"M 94.67339 328.6 \r\nL 141.160133 328.6 \r\nL 141.160133 192.557672 \r\nL 94.67339 192.557672 \r\nz\r\n\" style=\"fill:#1f77b4;fill-opacity:0.75;stroke:#000000;stroke-linejoin:miter;\"/>\r\n   </g>\r\n   <g id=\"patch_5\">\r\n    <path clip-path=\"url(#p0466082591)\" d=\"M 141.160133 328.6 \r\nL 187.646875 328.6 \r\nL 187.646875 294.589418 \r\nL 141.160133 294.589418 \r\nz\r\n\" style=\"fill:#1f77b4;fill-opacity:0.75;stroke:#000000;stroke-linejoin:miter;\"/>\r\n   </g>\r\n   <g id=\"patch_6\">\r\n    <path clip-path=\"url(#p0466082591)\" d=\"M 187.646875 328.6 \r\nL 234.133617 328.6 \r\nL 234.133617 90.525926 \r\nL 187.646875 90.525926 \r\nz\r\n\" style=\"fill:#1f77b4;fill-opacity:0.75;stroke:#000000;stroke-linejoin:miter;\"/>\r\n   </g>\r\n   <g id=\"patch_7\">\r\n    <path clip-path=\"url(#p0466082591)\" d=\"M 234.133617 328.6 \r\nL 280.62036 328.6 \r\nL 280.62036 260.578836 \r\nL 234.133617 260.578836 \r\nz\r\n\" style=\"fill:#1f77b4;fill-opacity:0.75;stroke:#000000;stroke-linejoin:miter;\"/>\r\n   </g>\r\n   <g id=\"patch_8\">\r\n    <path clip-path=\"url(#p0466082591)\" d=\"M 280.62036 328.6 \r\nL 327.107102 328.6 \r\nL 327.107102 294.589418 \r\nL 280.62036 294.589418 \r\nz\r\n\" style=\"fill:#1f77b4;fill-opacity:0.75;stroke:#000000;stroke-linejoin:miter;\"/>\r\n   </g>\r\n   <g id=\"matplotlib.axis_1\">\r\n    <g id=\"xtick_1\">\r\n     <g id=\"line2d_1\">\r\n      <defs>\r\n       <path d=\"M 0 0 \r\nL 0 3.5 \r\n\" id=\"m740b8fd6f6\" style=\"stroke:#000000;stroke-width:0.8;\"/>\r\n      </defs>\r\n      <g>\r\n       <use style=\"stroke:#000000;stroke-width:0.8;\" x=\"49.040889\" xlink:href=\"#m740b8fd6f6\" y=\"328.6\"/>\r\n      </g>\r\n     </g>\r\n     <g id=\"text_1\">\r\n      <!-- 0 -->\r\n      <g transform=\"translate(45.859639 343.198437)scale(0.1 -0.1)\">\r\n       <defs>\r\n        <path d=\"M 31.78125 66.40625 \r\nQ 24.171875 66.40625 20.328125 58.90625 \r\nQ 16.5 51.421875 16.5 36.375 \r\nQ 16.5 21.390625 20.328125 13.890625 \r\nQ 24.171875 6.390625 31.78125 6.390625 \r\nQ 39.453125 6.390625 43.28125 13.890625 \r\nQ 47.125 21.390625 47.125 36.375 \r\nQ 47.125 51.421875 43.28125 58.90625 \r\nQ 39.453125 66.40625 31.78125 66.40625 \r\nz\r\nM 31.78125 74.21875 \r\nQ 44.046875 74.21875 50.515625 64.515625 \r\nQ 56.984375 54.828125 56.984375 36.375 \r\nQ 56.984375 17.96875 50.515625 8.265625 \r\nQ 44.046875 -1.421875 31.78125 -1.421875 \r\nQ 19.53125 -1.421875 13.0625 8.265625 \r\nQ 6.59375 17.96875 6.59375 36.375 \r\nQ 6.59375 54.828125 13.0625 64.515625 \r\nQ 19.53125 74.21875 31.78125 74.21875 \r\nz\r\n\" id=\"DejaVuSans-48\"/>\r\n       </defs>\r\n       <use xlink:href=\"#DejaVuSans-48\"/>\r\n      </g>\r\n     </g>\r\n    </g>\r\n    <g id=\"xtick_2\">\r\n     <g id=\"line2d_2\">\r\n      <g>\r\n       <use style=\"stroke:#000000;stroke-width:0.8;\" x=\"91.752953\" xlink:href=\"#m740b8fd6f6\" y=\"328.6\"/>\r\n      </g>\r\n     </g>\r\n     <g id=\"text_2\">\r\n      <!-- 2 -->\r\n      <g transform=\"translate(88.571703 343.198437)scale(0.1 -0.1)\">\r\n       <defs>\r\n        <path d=\"M 19.1875 8.296875 \r\nL 53.609375 8.296875 \r\nL 53.609375 0 \r\nL 7.328125 0 \r\nL 7.328125 8.296875 \r\nQ 12.9375 14.109375 22.625 23.890625 \r\nQ 32.328125 33.6875 34.8125 36.53125 \r\nQ 39.546875 41.84375 41.421875 45.53125 \r\nQ 43.3125 49.21875 43.3125 52.78125 \r\nQ 43.3125 58.59375 39.234375 62.25 \r\nQ 35.15625 65.921875 28.609375 65.921875 \r\nQ 23.96875 65.921875 18.8125 64.3125 \r\nQ 13.671875 62.703125 7.8125 59.421875 \r\nL 7.8125 69.390625 \r\nQ 13.765625 71.78125 18.9375 73 \r\nQ 24.125 74.21875 28.421875 74.21875 \r\nQ 39.75 74.21875 46.484375 68.546875 \r\nQ 53.21875 62.890625 53.21875 53.421875 \r\nQ 53.21875 48.921875 51.53125 44.890625 \r\nQ 49.859375 40.875 45.40625 35.40625 \r\nQ 44.1875 33.984375 37.640625 27.21875 \r\nQ 31.109375 20.453125 19.1875 8.296875 \r\nz\r\n\" id=\"DejaVuSans-50\"/>\r\n       </defs>\r\n       <use xlink:href=\"#DejaVuSans-50\"/>\r\n      </g>\r\n     </g>\r\n    </g>\r\n    <g id=\"xtick_3\">\r\n     <g id=\"line2d_3\">\r\n      <g>\r\n       <use style=\"stroke:#000000;stroke-width:0.8;\" x=\"134.465017\" xlink:href=\"#m740b8fd6f6\" y=\"328.6\"/>\r\n      </g>\r\n     </g>\r\n     <g id=\"text_3\">\r\n      <!-- 4 -->\r\n      <g transform=\"translate(131.283767 343.198437)scale(0.1 -0.1)\">\r\n       <defs>\r\n        <path d=\"M 37.796875 64.3125 \r\nL 12.890625 25.390625 \r\nL 37.796875 25.390625 \r\nz\r\nM 35.203125 72.90625 \r\nL 47.609375 72.90625 \r\nL 47.609375 25.390625 \r\nL 58.015625 25.390625 \r\nL 58.015625 17.1875 \r\nL 47.609375 17.1875 \r\nL 47.609375 0 \r\nL 37.796875 0 \r\nL 37.796875 17.1875 \r\nL 4.890625 17.1875 \r\nL 4.890625 26.703125 \r\nz\r\n\" id=\"DejaVuSans-52\"/>\r\n       </defs>\r\n       <use xlink:href=\"#DejaVuSans-52\"/>\r\n      </g>\r\n     </g>\r\n    </g>\r\n    <g id=\"xtick_4\">\r\n     <g id=\"line2d_4\">\r\n      <g>\r\n       <use style=\"stroke:#000000;stroke-width:0.8;\" x=\"177.17708\" xlink:href=\"#m740b8fd6f6\" y=\"328.6\"/>\r\n      </g>\r\n     </g>\r\n     <g id=\"text_4\">\r\n      <!-- 6 -->\r\n      <g transform=\"translate(173.99583 343.198437)scale(0.1 -0.1)\">\r\n       <defs>\r\n        <path d=\"M 33.015625 40.375 \r\nQ 26.375 40.375 22.484375 35.828125 \r\nQ 18.609375 31.296875 18.609375 23.390625 \r\nQ 18.609375 15.53125 22.484375 10.953125 \r\nQ 26.375 6.390625 33.015625 6.390625 \r\nQ 39.65625 6.390625 43.53125 10.953125 \r\nQ 47.40625 15.53125 47.40625 23.390625 \r\nQ 47.40625 31.296875 43.53125 35.828125 \r\nQ 39.65625 40.375 33.015625 40.375 \r\nz\r\nM 52.59375 71.296875 \r\nL 52.59375 62.3125 \r\nQ 48.875 64.0625 45.09375 64.984375 \r\nQ 41.3125 65.921875 37.59375 65.921875 \r\nQ 27.828125 65.921875 22.671875 59.328125 \r\nQ 17.53125 52.734375 16.796875 39.40625 \r\nQ 19.671875 43.65625 24.015625 45.921875 \r\nQ 28.375 48.1875 33.59375 48.1875 \r\nQ 44.578125 48.1875 50.953125 41.515625 \r\nQ 57.328125 34.859375 57.328125 23.390625 \r\nQ 57.328125 12.15625 50.6875 5.359375 \r\nQ 44.046875 -1.421875 33.015625 -1.421875 \r\nQ 20.359375 -1.421875 13.671875 8.265625 \r\nQ 6.984375 17.96875 6.984375 36.375 \r\nQ 6.984375 53.65625 15.1875 63.9375 \r\nQ 23.390625 74.21875 37.203125 74.21875 \r\nQ 40.921875 74.21875 44.703125 73.484375 \r\nQ 48.484375 72.75 52.59375 71.296875 \r\nz\r\n\" id=\"DejaVuSans-54\"/>\r\n       </defs>\r\n       <use xlink:href=\"#DejaVuSans-54\"/>\r\n      </g>\r\n     </g>\r\n    </g>\r\n    <g id=\"xtick_5\">\r\n     <g id=\"line2d_5\">\r\n      <g>\r\n       <use style=\"stroke:#000000;stroke-width:0.8;\" x=\"219.889144\" xlink:href=\"#m740b8fd6f6\" y=\"328.6\"/>\r\n      </g>\r\n     </g>\r\n     <g id=\"text_5\">\r\n      <!-- 8 -->\r\n      <g transform=\"translate(216.707894 343.198437)scale(0.1 -0.1)\">\r\n       <defs>\r\n        <path d=\"M 31.78125 34.625 \r\nQ 24.75 34.625 20.71875 30.859375 \r\nQ 16.703125 27.09375 16.703125 20.515625 \r\nQ 16.703125 13.921875 20.71875 10.15625 \r\nQ 24.75 6.390625 31.78125 6.390625 \r\nQ 38.8125 6.390625 42.859375 10.171875 \r\nQ 46.921875 13.96875 46.921875 20.515625 \r\nQ 46.921875 27.09375 42.890625 30.859375 \r\nQ 38.875 34.625 31.78125 34.625 \r\nz\r\nM 21.921875 38.8125 \r\nQ 15.578125 40.375 12.03125 44.71875 \r\nQ 8.5 49.078125 8.5 55.328125 \r\nQ 8.5 64.0625 14.71875 69.140625 \r\nQ 20.953125 74.21875 31.78125 74.21875 \r\nQ 42.671875 74.21875 48.875 69.140625 \r\nQ 55.078125 64.0625 55.078125 55.328125 \r\nQ 55.078125 49.078125 51.53125 44.71875 \r\nQ 48 40.375 41.703125 38.8125 \r\nQ 48.828125 37.15625 52.796875 32.3125 \r\nQ 56.78125 27.484375 56.78125 20.515625 \r\nQ 56.78125 9.90625 50.3125 4.234375 \r\nQ 43.84375 -1.421875 31.78125 -1.421875 \r\nQ 19.734375 -1.421875 13.25 4.234375 \r\nQ 6.78125 9.90625 6.78125 20.515625 \r\nQ 6.78125 27.484375 10.78125 32.3125 \r\nQ 14.796875 37.15625 21.921875 38.8125 \r\nz\r\nM 18.3125 54.390625 \r\nQ 18.3125 48.734375 21.84375 45.5625 \r\nQ 25.390625 42.390625 31.78125 42.390625 \r\nQ 38.140625 42.390625 41.71875 45.5625 \r\nQ 45.3125 48.734375 45.3125 54.390625 \r\nQ 45.3125 60.0625 41.71875 63.234375 \r\nQ 38.140625 66.40625 31.78125 66.40625 \r\nQ 25.390625 66.40625 21.84375 63.234375 \r\nQ 18.3125 60.0625 18.3125 54.390625 \r\nz\r\n\" id=\"DejaVuSans-56\"/>\r\n       </defs>\r\n       <use xlink:href=\"#DejaVuSans-56\"/>\r\n      </g>\r\n     </g>\r\n    </g>\r\n    <g id=\"xtick_6\">\r\n     <g id=\"line2d_6\">\r\n      <g>\r\n       <use style=\"stroke:#000000;stroke-width:0.8;\" x=\"262.601208\" xlink:href=\"#m740b8fd6f6\" y=\"328.6\"/>\r\n      </g>\r\n     </g>\r\n     <g id=\"text_6\">\r\n      <!-- 10 -->\r\n      <g transform=\"translate(256.238708 343.198437)scale(0.1 -0.1)\">\r\n       <defs>\r\n        <path d=\"M 12.40625 8.296875 \r\nL 28.515625 8.296875 \r\nL 28.515625 63.921875 \r\nL 10.984375 60.40625 \r\nL 10.984375 69.390625 \r\nL 28.421875 72.90625 \r\nL 38.28125 72.90625 \r\nL 38.28125 8.296875 \r\nL 54.390625 8.296875 \r\nL 54.390625 0 \r\nL 12.40625 0 \r\nz\r\n\" id=\"DejaVuSans-49\"/>\r\n       </defs>\r\n       <use xlink:href=\"#DejaVuSans-49\"/>\r\n       <use x=\"63.623047\" xlink:href=\"#DejaVuSans-48\"/>\r\n      </g>\r\n     </g>\r\n    </g>\r\n    <g id=\"xtick_7\">\r\n     <g id=\"line2d_7\">\r\n      <g>\r\n       <use style=\"stroke:#000000;stroke-width:0.8;\" x=\"305.313272\" xlink:href=\"#m740b8fd6f6\" y=\"328.6\"/>\r\n      </g>\r\n     </g>\r\n     <g id=\"text_7\">\r\n      <!-- 12 -->\r\n      <g transform=\"translate(298.950772 343.198437)scale(0.1 -0.1)\">\r\n       <use xlink:href=\"#DejaVuSans-49\"/>\r\n       <use x=\"63.623047\" xlink:href=\"#DejaVuSans-50\"/>\r\n      </g>\r\n     </g>\r\n    </g>\r\n   </g>\r\n   <g id=\"matplotlib.axis_2\">\r\n    <g id=\"ytick_1\">\r\n     <g id=\"line2d_8\">\r\n      <defs>\r\n       <path d=\"M 0 0 \r\nL -3.5 0 \r\n\" id=\"m134b1473aa\" style=\"stroke:#000000;stroke-width:0.8;\"/>\r\n      </defs>\r\n      <g>\r\n       <use style=\"stroke:#000000;stroke-width:0.8;\" x=\"34.240625\" xlink:href=\"#m134b1473aa\" y=\"328.6\"/>\r\n      </g>\r\n     </g>\r\n     <g id=\"text_8\">\r\n      <!-- 0 -->\r\n      <g transform=\"translate(20.878125 332.399219)scale(0.1 -0.1)\">\r\n       <use xlink:href=\"#DejaVuSans-48\"/>\r\n      </g>\r\n     </g>\r\n    </g>\r\n    <g id=\"ytick_2\">\r\n     <g id=\"line2d_9\">\r\n      <g>\r\n       <use style=\"stroke:#000000;stroke-width:0.8;\" x=\"34.240625\" xlink:href=\"#m134b1473aa\" y=\"260.578836\"/>\r\n      </g>\r\n     </g>\r\n     <g id=\"text_9\">\r\n      <!-- 2 -->\r\n      <g transform=\"translate(20.878125 264.378055)scale(0.1 -0.1)\">\r\n       <use xlink:href=\"#DejaVuSans-50\"/>\r\n      </g>\r\n     </g>\r\n    </g>\r\n    <g id=\"ytick_3\">\r\n     <g id=\"line2d_10\">\r\n      <g>\r\n       <use style=\"stroke:#000000;stroke-width:0.8;\" x=\"34.240625\" xlink:href=\"#m134b1473aa\" y=\"192.557672\"/>\r\n      </g>\r\n     </g>\r\n     <g id=\"text_10\">\r\n      <!-- 4 -->\r\n      <g transform=\"translate(20.878125 196.356891)scale(0.1 -0.1)\">\r\n       <use xlink:href=\"#DejaVuSans-52\"/>\r\n      </g>\r\n     </g>\r\n    </g>\r\n    <g id=\"ytick_4\">\r\n     <g id=\"line2d_11\">\r\n      <g>\r\n       <use style=\"stroke:#000000;stroke-width:0.8;\" x=\"34.240625\" xlink:href=\"#m134b1473aa\" y=\"124.536508\"/>\r\n      </g>\r\n     </g>\r\n     <g id=\"text_11\">\r\n      <!-- 6 -->\r\n      <g transform=\"translate(20.878125 128.335727)scale(0.1 -0.1)\">\r\n       <use xlink:href=\"#DejaVuSans-54\"/>\r\n      </g>\r\n     </g>\r\n    </g>\r\n    <g id=\"ytick_5\">\r\n     <g id=\"line2d_12\">\r\n      <g>\r\n       <use style=\"stroke:#000000;stroke-width:0.8;\" x=\"34.240625\" xlink:href=\"#m134b1473aa\" y=\"56.515344\"/>\r\n      </g>\r\n     </g>\r\n     <g id=\"text_12\">\r\n      <!-- 8 -->\r\n      <g transform=\"translate(20.878125 60.314563)scale(0.1 -0.1)\">\r\n       <use xlink:href=\"#DejaVuSans-56\"/>\r\n      </g>\r\n     </g>\r\n    </g>\r\n    <g id=\"text_13\">\r\n     <!-- Count -->\r\n     <g transform=\"translate(14.798438 182.748437)rotate(-90)scale(0.1 -0.1)\">\r\n      <defs>\r\n       <path d=\"M 64.40625 67.28125 \r\nL 64.40625 56.890625 \r\nQ 59.421875 61.53125 53.78125 63.8125 \r\nQ 48.140625 66.109375 41.796875 66.109375 \r\nQ 29.296875 66.109375 22.65625 58.46875 \r\nQ 16.015625 50.828125 16.015625 36.375 \r\nQ 16.015625 21.96875 22.65625 14.328125 \r\nQ 29.296875 6.6875 41.796875 6.6875 \r\nQ 48.140625 6.6875 53.78125 8.984375 \r\nQ 59.421875 11.28125 64.40625 15.921875 \r\nL 64.40625 5.609375 \r\nQ 59.234375 2.09375 53.4375 0.328125 \r\nQ 47.65625 -1.421875 41.21875 -1.421875 \r\nQ 24.65625 -1.421875 15.125 8.703125 \r\nQ 5.609375 18.84375 5.609375 36.375 \r\nQ 5.609375 53.953125 15.125 64.078125 \r\nQ 24.65625 74.21875 41.21875 74.21875 \r\nQ 47.75 74.21875 53.53125 72.484375 \r\nQ 59.328125 70.75 64.40625 67.28125 \r\nz\r\n\" id=\"DejaVuSans-67\"/>\r\n       <path d=\"M 30.609375 48.390625 \r\nQ 23.390625 48.390625 19.1875 42.75 \r\nQ 14.984375 37.109375 14.984375 27.296875 \r\nQ 14.984375 17.484375 19.15625 11.84375 \r\nQ 23.34375 6.203125 30.609375 6.203125 \r\nQ 37.796875 6.203125 41.984375 11.859375 \r\nQ 46.1875 17.53125 46.1875 27.296875 \r\nQ 46.1875 37.015625 41.984375 42.703125 \r\nQ 37.796875 48.390625 30.609375 48.390625 \r\nz\r\nM 30.609375 56 \r\nQ 42.328125 56 49.015625 48.375 \r\nQ 55.71875 40.765625 55.71875 27.296875 \r\nQ 55.71875 13.875 49.015625 6.21875 \r\nQ 42.328125 -1.421875 30.609375 -1.421875 \r\nQ 18.84375 -1.421875 12.171875 6.21875 \r\nQ 5.515625 13.875 5.515625 27.296875 \r\nQ 5.515625 40.765625 12.171875 48.375 \r\nQ 18.84375 56 30.609375 56 \r\nz\r\n\" id=\"DejaVuSans-111\"/>\r\n       <path d=\"M 8.5 21.578125 \r\nL 8.5 54.6875 \r\nL 17.484375 54.6875 \r\nL 17.484375 21.921875 \r\nQ 17.484375 14.15625 20.5 10.265625 \r\nQ 23.53125 6.390625 29.59375 6.390625 \r\nQ 36.859375 6.390625 41.078125 11.03125 \r\nQ 45.3125 15.671875 45.3125 23.6875 \r\nL 45.3125 54.6875 \r\nL 54.296875 54.6875 \r\nL 54.296875 0 \r\nL 45.3125 0 \r\nL 45.3125 8.40625 \r\nQ 42.046875 3.421875 37.71875 1 \r\nQ 33.40625 -1.421875 27.6875 -1.421875 \r\nQ 18.265625 -1.421875 13.375 4.4375 \r\nQ 8.5 10.296875 8.5 21.578125 \r\nz\r\nM 31.109375 56 \r\nz\r\n\" id=\"DejaVuSans-117\"/>\r\n       <path d=\"M 54.890625 33.015625 \r\nL 54.890625 0 \r\nL 45.90625 0 \r\nL 45.90625 32.71875 \r\nQ 45.90625 40.484375 42.875 44.328125 \r\nQ 39.84375 48.1875 33.796875 48.1875 \r\nQ 26.515625 48.1875 22.3125 43.546875 \r\nQ 18.109375 38.921875 18.109375 30.90625 \r\nL 18.109375 0 \r\nL 9.078125 0 \r\nL 9.078125 54.6875 \r\nL 18.109375 54.6875 \r\nL 18.109375 46.1875 \r\nQ 21.34375 51.125 25.703125 53.5625 \r\nQ 30.078125 56 35.796875 56 \r\nQ 45.21875 56 50.046875 50.171875 \r\nQ 54.890625 44.34375 54.890625 33.015625 \r\nz\r\n\" id=\"DejaVuSans-110\"/>\r\n       <path d=\"M 18.3125 70.21875 \r\nL 18.3125 54.6875 \r\nL 36.8125 54.6875 \r\nL 36.8125 47.703125 \r\nL 18.3125 47.703125 \r\nL 18.3125 18.015625 \r\nQ 18.3125 11.328125 20.140625 9.421875 \r\nQ 21.96875 7.515625 27.59375 7.515625 \r\nL 36.8125 7.515625 \r\nL 36.8125 0 \r\nL 27.59375 0 \r\nQ 17.1875 0 13.234375 3.875 \r\nQ 9.28125 7.765625 9.28125 18.015625 \r\nL 9.28125 47.703125 \r\nL 2.6875 47.703125 \r\nL 2.6875 54.6875 \r\nL 9.28125 54.6875 \r\nL 9.28125 70.21875 \r\nz\r\n\" id=\"DejaVuSans-116\"/>\r\n      </defs>\r\n      <use xlink:href=\"#DejaVuSans-67\"/>\r\n      <use x=\"69.824219\" xlink:href=\"#DejaVuSans-111\"/>\r\n      <use x=\"131.005859\" xlink:href=\"#DejaVuSans-117\"/>\r\n      <use x=\"194.384766\" xlink:href=\"#DejaVuSans-110\"/>\r\n      <use x=\"257.763672\" xlink:href=\"#DejaVuSans-116\"/>\r\n     </g>\r\n    </g>\r\n   </g>\r\n   <g id=\"patch_9\">\r\n    <path d=\"M 34.240625 328.6 \r\nL 34.240625 7.2 \r\n\" style=\"fill:none;stroke:#000000;stroke-linecap:square;stroke-linejoin:miter;stroke-width:0.8;\"/>\r\n   </g>\r\n   <g id=\"patch_10\">\r\n    <path d=\"M 34.240625 328.6 \r\nL 341.053125 328.6 \r\n\" style=\"fill:none;stroke:#000000;stroke-linecap:square;stroke-linejoin:miter;stroke-width:0.8;\"/>\r\n   </g>\r\n  </g>\r\n  <g id=\"legend_1\">\r\n   <g id=\"patch_11\">\r\n    <path d=\"M 357.065625 178.998437 \r\nL 377.065625 178.998437 \r\nL 377.065625 171.998437 \r\nL 357.065625 171.998437 \r\nz\r\n\" style=\"fill:#1f77b4;fill-opacity:0.75;stroke:#000000;stroke-linejoin:miter;\"/>\r\n   </g>\r\n   <g id=\"text_14\">\r\n    <!-- 2020 -->\r\n    <g transform=\"translate(385.065625 178.998437)scale(0.1 -0.1)\">\r\n     <use xlink:href=\"#DejaVuSans-50\"/>\r\n     <use x=\"63.623047\" xlink:href=\"#DejaVuSans-48\"/>\r\n     <use x=\"127.246094\" xlink:href=\"#DejaVuSans-50\"/>\r\n     <use x=\"190.869141\" xlink:href=\"#DejaVuSans-48\"/>\r\n    </g>\r\n   </g>\r\n  </g>\r\n </g>\r\n <defs>\r\n  <clipPath id=\"p0466082591\">\r\n   <rect height=\"321.4\" width=\"306.8125\" x=\"34.240625\" y=\"7.2\"/>\r\n  </clipPath>\r\n </defs>\r\n</svg>\r\n",
      "image/png": "[encoded data removed]"
     },
     "metadata": {
      "needs_background": "light"
     }
    }
   ],
   "source": [
    "sns.displot(igpm)"
   ]
  },
  {
   "cell_type": "code",
   "execution_count": 203,
   "metadata": {},
   "outputs": [
    {
     "output_type": "execute_result",
     "data": {
      "text/plain": "         nome  id_aluno                 dominio  matriculas  \\\n40     SERGIO       139  @dominiodoemail.com.br           2   \n161    RAIANE       247  @dominiodoemail.com.br           3   \n67   HENRIQUE        64  @dominiodoemail.com.br           3   \n\n                              email  \n40     sergio@dominiodoemail.com.br  \n161    raiane@dominiodoemail.com.br  \n67   henrique@dominiodoemail.com.br  ",
      "text/html": "<div>\n<style scoped>\n    .dataframe tbody tr th:only-of-type {\n        vertical-align: middle;\n    }\n\n    .dataframe tbody tr th {\n        vertical-align: top;\n    }\n\n    .dataframe thead th {\n        text-align: right;\n    }\n</style>\n<table border=\"1\" class=\"dataframe\">\n  <thead>\n    <tr style=\"text-align: right;\">\n      <th></th>\n      <th>nome</th>\n      <th>id_aluno</th>\n      <th>dominio</th>\n      <th>matriculas</th>\n      <th>email</th>\n    </tr>\n  </thead>\n  <tbody>\n    <tr>\n      <th>40</th>\n      <td>SERGIO</td>\n      <td>139</td>\n      <td>@dominiodoemail.com.br</td>\n      <td>2</td>\n      <td>sergio@dominiodoemail.com.br</td>\n    </tr>\n    <tr>\n      <th>161</th>\n      <td>RAIANE</td>\n      <td>247</td>\n      <td>@dominiodoemail.com.br</td>\n      <td>3</td>\n      <td>raiane@dominiodoemail.com.br</td>\n    </tr>\n    <tr>\n      <th>67</th>\n      <td>HENRIQUE</td>\n      <td>64</td>\n      <td>@dominiodoemail.com.br</td>\n      <td>3</td>\n      <td>henrique@dominiodoemail.com.br</td>\n    </tr>\n  </tbody>\n</table>\n</div>"
     },
     "metadata": {},
     "execution_count": 203
    }
   ],
   "source": [
    "nomes.sample(3)"
   ]
  },
  {
   "cell_type": "code",
   "execution_count": 205,
   "metadata": {},
   "outputs": [
    {
     "output_type": "execute_result",
     "data": {
      "text/plain": "                 nome_do_curso\nid                            \n8   Novas integrações com Java\n18       Programação funcional\n17         Internet das coisas",
      "text/html": "<div>\n<style scoped>\n    .dataframe tbody tr th:only-of-type {\n        vertical-align: middle;\n    }\n\n    .dataframe tbody tr th {\n        vertical-align: top;\n    }\n\n    .dataframe thead th {\n        text-align: right;\n    }\n</style>\n<table border=\"1\" class=\"dataframe\">\n  <thead>\n    <tr style=\"text-align: right;\">\n      <th></th>\n      <th>nome_do_curso</th>\n    </tr>\n    <tr>\n      <th>id</th>\n      <th></th>\n    </tr>\n  </thead>\n  <tbody>\n    <tr>\n      <th>8</th>\n      <td>Novas integrações com Java</td>\n    </tr>\n    <tr>\n      <th>18</th>\n      <td>Programação funcional</td>\n    </tr>\n    <tr>\n      <th>17</th>\n      <td>Internet das coisas</td>\n    </tr>\n  </tbody>\n</table>\n</div>"
     },
     "metadata": {},
     "execution_count": 205
    }
   ],
   "source": [
    "cursos.sample(3)"
   ]
  },
  {
   "cell_type": "code",
   "execution_count": 207,
   "metadata": {},
   "outputs": [
    {
     "output_type": "execute_result",
     "data": {
      "text/plain": "     id_aluno  id_curso\n793       177         2\n745       315        10\n769       351         1\n258       106        17\n737       378         1",
      "text/html": "<div>\n<style scoped>\n    .dataframe tbody tr th:only-of-type {\n        vertical-align: middle;\n    }\n\n    .dataframe tbody tr th {\n        vertical-align: top;\n    }\n\n    .dataframe thead th {\n        text-align: right;\n    }\n</style>\n<table border=\"1\" class=\"dataframe\">\n  <thead>\n    <tr style=\"text-align: right;\">\n      <th></th>\n      <th>id_aluno</th>\n      <th>id_curso</th>\n    </tr>\n  </thead>\n  <tbody>\n    <tr>\n      <th>793</th>\n      <td>177</td>\n      <td>2</td>\n    </tr>\n    <tr>\n      <th>745</th>\n      <td>315</td>\n      <td>10</td>\n    </tr>\n    <tr>\n      <th>769</th>\n      <td>351</td>\n      <td>1</td>\n    </tr>\n    <tr>\n      <th>258</th>\n      <td>106</td>\n      <td>17</td>\n    </tr>\n    <tr>\n      <th>737</th>\n      <td>378</td>\n      <td>1</td>\n    </tr>\n  </tbody>\n</table>\n</div>"
     },
     "metadata": {},
     "execution_count": 207
    }
   ],
   "source": [
    "matriculas.sample(5)\n"
   ]
  },
  {
   "cell_type": "code",
   "execution_count": 209,
   "metadata": {},
   "outputs": [
    {
     "output_type": "execute_result",
     "data": {
      "text/plain": "          quantidade_de_alunos                        nome_do_curso\nid_curso                                                           \n1                           31                Lógica de programação\n2                           43                        Java para Web\n3                           66                          C# para Web\n4                           39                        Ruby on Rails\n5                           73                     Cursos de Python\n6                           66                        PHP com MySql\n7                           77                        .NET para web\n8                            2           Novas integrações com Java\n9                            1                         TDD com Java\n10                          57                  Código limpo com C#\n11                          70  Preparatório para certificação Java\n12                          59                      Hardware básico\n13                          14                Persistência com .NET\n14                           2                  Desenvolvendo jogos\n15                          53                     Análise de dados\n16                          32                   Estatística básica\n17                          24                  Internet das coisas\n18                          65                Programação funcional\n19                          34                Boas práticas em Java\n20                          53          Orientação objetos com Java",
      "text/html": "<div>\n<style scoped>\n    .dataframe tbody tr th:only-of-type {\n        vertical-align: middle;\n    }\n\n    .dataframe tbody tr th {\n        vertical-align: top;\n    }\n\n    .dataframe thead th {\n        text-align: right;\n    }\n</style>\n<table border=\"1\" class=\"dataframe\">\n  <thead>\n    <tr style=\"text-align: right;\">\n      <th></th>\n      <th>quantidade_de_alunos</th>\n      <th>nome_do_curso</th>\n    </tr>\n    <tr>\n      <th>id_curso</th>\n      <th></th>\n      <th></th>\n    </tr>\n  </thead>\n  <tbody>\n    <tr>\n      <th>1</th>\n      <td>31</td>\n      <td>Lógica de programação</td>\n    </tr>\n    <tr>\n      <th>2</th>\n      <td>43</td>\n      <td>Java para Web</td>\n    </tr>\n    <tr>\n      <th>3</th>\n      <td>66</td>\n      <td>C# para Web</td>\n    </tr>\n    <tr>\n      <th>4</th>\n      <td>39</td>\n      <td>Ruby on Rails</td>\n    </tr>\n    <tr>\n      <th>5</th>\n      <td>73</td>\n      <td>Cursos de Python</td>\n    </tr>\n    <tr>\n      <th>6</th>\n      <td>66</td>\n      <td>PHP com MySql</td>\n    </tr>\n    <tr>\n      <th>7</th>\n      <td>77</td>\n      <td>.NET para web</td>\n    </tr>\n    <tr>\n      <th>8</th>\n      <td>2</td>\n      <td>Novas integrações com Java</td>\n    </tr>\n    <tr>\n      <th>9</th>\n      <td>1</td>\n      <td>TDD com Java</td>\n    </tr>\n    <tr>\n      <th>10</th>\n      <td>57</td>\n      <td>Código limpo com C#</td>\n    </tr>\n    <tr>\n      <th>11</th>\n      <td>70</td>\n      <td>Preparatório para certificação Java</td>\n    </tr>\n    <tr>\n      <th>12</th>\n      <td>59</td>\n      <td>Hardware básico</td>\n    </tr>\n    <tr>\n      <th>13</th>\n      <td>14</td>\n      <td>Persistência com .NET</td>\n    </tr>\n    <tr>\n      <th>14</th>\n      <td>2</td>\n      <td>Desenvolvendo jogos</td>\n    </tr>\n    <tr>\n      <th>15</th>\n      <td>53</td>\n      <td>Análise de dados</td>\n    </tr>\n    <tr>\n      <th>16</th>\n      <td>32</td>\n      <td>Estatística básica</td>\n    </tr>\n    <tr>\n      <th>17</th>\n      <td>24</td>\n      <td>Internet das coisas</td>\n    </tr>\n    <tr>\n      <th>18</th>\n      <td>65</td>\n      <td>Programação funcional</td>\n    </tr>\n    <tr>\n      <th>19</th>\n      <td>34</td>\n      <td>Boas práticas em Java</td>\n    </tr>\n    <tr>\n      <th>20</th>\n      <td>53</td>\n      <td>Orientação objetos com Java</td>\n    </tr>\n  </tbody>\n</table>\n</div>"
     },
     "metadata": {},
     "execution_count": 209
    }
   ],
   "source": [
    "matriculas_por_curso = matriculas.groupby('id_curso').count().join(cursos['nome_do_curso']).rename(columns={'id_aluno':'quantidade_de_alunos'})\n",
    "matriculas_por_curso"
   ]
  },
  {
   "source": [
    "# saida em diferentes formatos"
   ],
   "cell_type": "markdown",
   "metadata": {}
  },
  {
   "cell_type": "code",
   "execution_count": 211,
   "metadata": {},
   "outputs": [
    {
     "output_type": "execute_result",
     "data": {
      "text/plain": "          quantidade_de_alunos          nome_do_curso\nid_curso                                             \n1                           31  Lógica de programação\n2                           43          Java para Web\n3                           66            C# para Web",
      "text/html": "<div>\n<style scoped>\n    .dataframe tbody tr th:only-of-type {\n        vertical-align: middle;\n    }\n\n    .dataframe tbody tr th {\n        vertical-align: top;\n    }\n\n    .dataframe thead th {\n        text-align: right;\n    }\n</style>\n<table border=\"1\" class=\"dataframe\">\n  <thead>\n    <tr style=\"text-align: right;\">\n      <th></th>\n      <th>quantidade_de_alunos</th>\n      <th>nome_do_curso</th>\n    </tr>\n    <tr>\n      <th>id_curso</th>\n      <th></th>\n      <th></th>\n    </tr>\n  </thead>\n  <tbody>\n    <tr>\n      <th>1</th>\n      <td>31</td>\n      <td>Lógica de programação</td>\n    </tr>\n    <tr>\n      <th>2</th>\n      <td>43</td>\n      <td>Java para Web</td>\n    </tr>\n    <tr>\n      <th>3</th>\n      <td>66</td>\n      <td>C# para Web</td>\n    </tr>\n  </tbody>\n</table>\n</div>"
     },
     "metadata": {},
     "execution_count": 211
    }
   ],
   "source": [
    "matriculas_por_curso.head(3)"
   ]
  },
  {
   "cell_type": "code",
   "execution_count": 213,
   "metadata": {},
   "outputs": [],
   "source": [
    "matriculas_por_curso.to_csv('matriculas_por_curso.csv',index=False)"
   ]
  },
  {
   "cell_type": "code",
   "execution_count": 215,
   "metadata": {},
   "outputs": [
    {
     "output_type": "execute_result",
     "data": {
      "text/plain": "    quantidade_de_alunos                        nome_do_curso\n0                     31                Lógica de programação\n1                     43                        Java para Web\n2                     66                          C# para Web\n3                     39                        Ruby on Rails\n4                     73                     Cursos de Python\n5                     66                        PHP com MySql\n6                     77                        .NET para web\n7                      2           Novas integrações com Java\n8                      1                         TDD com Java\n9                     57                  Código limpo com C#\n10                    70  Preparatório para certificação Java\n11                    59                      Hardware básico\n12                    14                Persistência com .NET\n13                     2                  Desenvolvendo jogos\n14                    53                     Análise de dados\n15                    32                   Estatística básica\n16                    24                  Internet das coisas\n17                    65                Programação funcional\n18                    34                Boas práticas em Java\n19                    53          Orientação objetos com Java",
      "text/html": "<div>\n<style scoped>\n    .dataframe tbody tr th:only-of-type {\n        vertical-align: middle;\n    }\n\n    .dataframe tbody tr th {\n        vertical-align: top;\n    }\n\n    .dataframe thead th {\n        text-align: right;\n    }\n</style>\n<table border=\"1\" class=\"dataframe\">\n  <thead>\n    <tr style=\"text-align: right;\">\n      <th></th>\n      <th>quantidade_de_alunos</th>\n      <th>nome_do_curso</th>\n    </tr>\n  </thead>\n  <tbody>\n    <tr>\n      <th>0</th>\n      <td>31</td>\n      <td>Lógica de programação</td>\n    </tr>\n    <tr>\n      <th>1</th>\n      <td>43</td>\n      <td>Java para Web</td>\n    </tr>\n    <tr>\n      <th>2</th>\n      <td>66</td>\n      <td>C# para Web</td>\n    </tr>\n    <tr>\n      <th>3</th>\n      <td>39</td>\n      <td>Ruby on Rails</td>\n    </tr>\n    <tr>\n      <th>4</th>\n      <td>73</td>\n      <td>Cursos de Python</td>\n    </tr>\n    <tr>\n      <th>5</th>\n      <td>66</td>\n      <td>PHP com MySql</td>\n    </tr>\n    <tr>\n      <th>6</th>\n      <td>77</td>\n      <td>.NET para web</td>\n    </tr>\n    <tr>\n      <th>7</th>\n      <td>2</td>\n      <td>Novas integrações com Java</td>\n    </tr>\n    <tr>\n      <th>8</th>\n      <td>1</td>\n      <td>TDD com Java</td>\n    </tr>\n    <tr>\n      <th>9</th>\n      <td>57</td>\n      <td>Código limpo com C#</td>\n    </tr>\n    <tr>\n      <th>10</th>\n      <td>70</td>\n      <td>Preparatório para certificação Java</td>\n    </tr>\n    <tr>\n      <th>11</th>\n      <td>59</td>\n      <td>Hardware básico</td>\n    </tr>\n    <tr>\n      <th>12</th>\n      <td>14</td>\n      <td>Persistência com .NET</td>\n    </tr>\n    <tr>\n      <th>13</th>\n      <td>2</td>\n      <td>Desenvolvendo jogos</td>\n    </tr>\n    <tr>\n      <th>14</th>\n      <td>53</td>\n      <td>Análise de dados</td>\n    </tr>\n    <tr>\n      <th>15</th>\n      <td>32</td>\n      <td>Estatística básica</td>\n    </tr>\n    <tr>\n      <th>16</th>\n      <td>24</td>\n      <td>Internet das coisas</td>\n    </tr>\n    <tr>\n      <th>17</th>\n      <td>65</td>\n      <td>Programação funcional</td>\n    </tr>\n    <tr>\n      <th>18</th>\n      <td>34</td>\n      <td>Boas práticas em Java</td>\n    </tr>\n    <tr>\n      <th>19</th>\n      <td>53</td>\n      <td>Orientação objetos com Java</td>\n    </tr>\n  </tbody>\n</table>\n</div>"
     },
     "metadata": {},
     "execution_count": 215
    }
   ],
   "source": [
    "pd.read_csv('matriculas_por_curso.csv')"
   ]
  },
  {
   "cell_type": "code",
   "execution_count": 217,
   "metadata": {},
   "outputs": [],
   "source": [
    "matriculas_json = matriculas_por_curso.to_json()"
   ]
  },
  {
   "cell_type": "code",
   "execution_count": 219,
   "metadata": {},
   "outputs": [
    {
     "output_type": "execute_result",
     "data": {
      "text/plain": "'{\"quantidade_de_alunos\":{\"1\":31,\"2\":43,\"3\":66,\"4\":39,\"5\":73,\"6\":66,\"7\":77,\"8\":2,\"9\":1,\"10\":57,\"11\":70,\"12\":59,\"13\":14,\"14\":2,\"15\":53,\"16\":32,\"17\":24,\"18\":65,\"19\":34,\"20\":53},\"nome_do_curso\":{\"1\":\"L\\\\u00f3gica de programa\\\\u00e7\\\\u00e3o\",\"2\":\"Java para Web\",\"3\":\"C# para Web\",\"4\":\"Ruby on Rails\",\"5\":\"Cursos de Python\",\"6\":\"PHP com MySql\",\"7\":\".NET para web\",\"8\":\"Novas integra\\\\u00e7\\\\u00f5es com Java\",\"9\":\"TDD com Java\",\"10\":\"C\\\\u00f3digo limpo com C#\",\"11\":\"Preparat\\\\u00f3rio para certifica\\\\u00e7\\\\u00e3o Java\",\"12\":\"Hardware b\\\\u00e1sico\",\"13\":\"Persist\\\\u00eancia com .NET\",\"14\":\"Desenvolvendo jogos\",\"15\":\"An\\\\u00e1lise de dados\",\"16\":\"Estat\\\\u00edstica b\\\\u00e1sica\",\"17\":\"Internet das coisas\",\"18\":\"Programa\\\\u00e7\\\\u00e3o funcional\",\"19\":\"Boas pr\\\\u00e1ticas em Java\",\"20\":\"Orienta\\\\u00e7\\\\u00e3o objetos com Java\"}}'"
     },
     "metadata": {},
     "execution_count": 219
    }
   ],
   "source": [
    "matriculas_json"
   ]
  },
  {
   "cell_type": "code",
   "execution_count": 221,
   "metadata": {},
   "outputs": [],
   "source": [
    "matriculas_html = matriculas_por_curso.to_html()"
   ]
  },
  {
   "source": [
    "print(matriculas_html)"
   ],
   "cell_type": "code",
   "metadata": {
    "tags": []
   },
   "execution_count": 222,
   "outputs": [
    {
     "output_type": "stream",
     "name": "stdout",
     "text": "<table border=\"1\" class=\"dataframe\">\n  <thead>\n    <tr style=\"text-align: right;\">\n      <th></th>\n      <th>quantidade_de_alunos</th>\n      <th>nome_do_curso</th>\n    </tr>\n    <tr>\n      <th>id_curso</th>\n      <th></th>\n      <th></th>\n    </tr>\n  </thead>\n  <tbody>\n    <tr>\n      <th>1</th>\n      <td>31</td>\n      <td>Lógica de programação</td>\n    </tr>\n    <tr>\n      <th>2</th>\n      <td>43</td>\n      <td>Java para Web</td>\n    </tr>\n    <tr>\n      <th>3</th>\n      <td>66</td>\n      <td>C# para Web</td>\n    </tr>\n    <tr>\n      <th>4</th>\n      <td>39</td>\n      <td>Ruby on Rails</td>\n    </tr>\n    <tr>\n      <th>5</th>\n      <td>73</td>\n      <td>Cursos de Python</td>\n    </tr>\n    <tr>\n      <th>6</th>\n      <td>66</td>\n      <td>PHP com MySql</td>\n    </tr>\n    <tr>\n      <th>7</th>\n      <td>77</td>\n      <td>.NET para web</td>\n    </tr>\n    <tr>\n      <th>8</th>\n      <td>2</td>\n      <td>Novas integrações com Java</td>\n    </tr>\n    <tr>\n      <th>9</th>\n      <td>1</td>\n      <td>TDD com Java</td>\n    </tr>\n    <tr>\n      <th>10</th>\n      <td>57</td>\n      <td>Código limpo com C#</td>\n    </tr>\n    <tr>\n      <th>11</th>\n      <td>70</td>\n      <td>Preparatório para certificação Java</td>\n    </tr>\n    <tr>\n      <th>12</th>\n      <td>59</td>\n      <td>Hardware básico</td>\n    </tr>\n    <tr>\n      <th>13</th>\n      <td>14</td>\n      <td>Persistência com .NET</td>\n    </tr>\n    <tr>\n      <th>14</th>\n      <td>2</td>\n      <td>Desenvolvendo jogos</td>\n    </tr>\n    <tr>\n      <th>15</th>\n      <td>53</td>\n      <td>Análise de dados</td>\n    </tr>\n    <tr>\n      <th>16</th>\n      <td>32</td>\n      <td>Estatística básica</td>\n    </tr>\n    <tr>\n      <th>17</th>\n      <td>24</td>\n      <td>Internet das coisas</td>\n    </tr>\n    <tr>\n      <th>18</th>\n      <td>65</td>\n      <td>Programação funcional</td>\n    </tr>\n    <tr>\n      <th>19</th>\n      <td>34</td>\n      <td>Boas práticas em Java</td>\n    </tr>\n    <tr>\n      <th>20</th>\n      <td>53</td>\n      <td>Orientação objetos com Java</td>\n    </tr>\n  </tbody>\n</table>\n"
    }
   ]
  },
  {
   "source": [
    "# Criando o banco sqlite"
   ],
   "cell_type": "markdown",
   "metadata": {}
  },
  {
   "cell_type": "code",
   "execution_count": 223,
   "metadata": {
    "tags": []
   },
   "outputs": [
    {
     "output_type": "stream",
     "name": "stdout",
     "text": "Requirement already satisfied: sqlalchemy in c:\\users\\igors\\anaconda3\\envs\\igor\\lib\\site-packages (1.3.19)\n"
    }
   ],
   "source": [
    "!pip install sqlalchemy"
   ]
  },
  {
   "cell_type": "code",
   "execution_count": 224,
   "metadata": {},
   "outputs": [],
   "source": [
    "from sqlalchemy import create_engine,MetaData,Table\n"
   ]
  },
  {
   "cell_type": "code",
   "execution_count": 225,
   "metadata": {},
   "outputs": [
    {
     "output_type": "execute_result",
     "data": {
      "text/plain": "Engine(sqlite:///:memory:)"
     },
     "metadata": {},
     "execution_count": 225
    }
   ],
   "source": [
    "engine = create_engine('sqlite:///:memory:')\n",
    "engine"
   ]
  },
  {
   "cell_type": "code",
   "execution_count": 226,
   "metadata": {
    "tags": []
   },
   "outputs": [
    {
     "output_type": "execute_result",
     "data": {
      "text/plain": "sqlalchemy.engine.base.Engine"
     },
     "metadata": {},
     "execution_count": 226
    }
   ],
   "source": [
    "type(engine)"
   ]
  },
  {
   "cell_type": "code",
   "execution_count": 227,
   "metadata": {},
   "outputs": [
    {
     "output_type": "execute_result",
     "data": {
      "text/plain": "          quantidade_de_alunos          nome_do_curso\nid_curso                                             \n1                           31  Lógica de programação\n2                           43          Java para Web\n3                           66            C# para Web",
      "text/html": "<div>\n<style scoped>\n    .dataframe tbody tr th:only-of-type {\n        vertical-align: middle;\n    }\n\n    .dataframe tbody tr th {\n        vertical-align: top;\n    }\n\n    .dataframe thead th {\n        text-align: right;\n    }\n</style>\n<table border=\"1\" class=\"dataframe\">\n  <thead>\n    <tr style=\"text-align: right;\">\n      <th></th>\n      <th>quantidade_de_alunos</th>\n      <th>nome_do_curso</th>\n    </tr>\n    <tr>\n      <th>id_curso</th>\n      <th></th>\n      <th></th>\n    </tr>\n  </thead>\n  <tbody>\n    <tr>\n      <th>1</th>\n      <td>31</td>\n      <td>Lógica de programação</td>\n    </tr>\n    <tr>\n      <th>2</th>\n      <td>43</td>\n      <td>Java para Web</td>\n    </tr>\n    <tr>\n      <th>3</th>\n      <td>66</td>\n      <td>C# para Web</td>\n    </tr>\n  </tbody>\n</table>\n</div>"
     },
     "metadata": {},
     "execution_count": 227
    }
   ],
   "source": [
    "matriculas_por_curso.head(3)"
   ]
  },
  {
   "cell_type": "code",
   "execution_count": 228,
   "metadata": {},
   "outputs": [],
   "source": [
    "matriculas_por_curso.to_sql(\"matriculas\",engine)"
   ]
  },
  {
   "cell_type": "code",
   "execution_count": 229,
   "metadata": {
    "tags": []
   },
   "outputs": [
    {
     "output_type": "stream",
     "name": "stdout",
     "text": "['matriculas']\n"
    }
   ],
   "source": [
    "print(engine.table_names())"
   ]
  },
  {
   "source": [
    "# Buscando do banco sql"
   ],
   "cell_type": "markdown",
   "metadata": {}
  },
  {
   "cell_type": "code",
   "execution_count": 230,
   "metadata": {},
   "outputs": [],
   "source": [
    "query = 'select * from matriculas where quantidade_de_alunos < 20'"
   ]
  },
  {
   "cell_type": "code",
   "execution_count": 231,
   "metadata": {},
   "outputs": [
    {
     "output_type": "execute_result",
     "data": {
      "text/plain": "   id_curso  quantidade_de_alunos               nome_do_curso\n0         8                     2  Novas integrações com Java\n1         9                     1                TDD com Java\n2        13                    14       Persistência com .NET\n3        14                     2         Desenvolvendo jogos",
      "text/html": "<div>\n<style scoped>\n    .dataframe tbody tr th:only-of-type {\n        vertical-align: middle;\n    }\n\n    .dataframe tbody tr th {\n        vertical-align: top;\n    }\n\n    .dataframe thead th {\n        text-align: right;\n    }\n</style>\n<table border=\"1\" class=\"dataframe\">\n  <thead>\n    <tr style=\"text-align: right;\">\n      <th></th>\n      <th>id_curso</th>\n      <th>quantidade_de_alunos</th>\n      <th>nome_do_curso</th>\n    </tr>\n  </thead>\n  <tbody>\n    <tr>\n      <th>0</th>\n      <td>8</td>\n      <td>2</td>\n      <td>Novas integrações com Java</td>\n    </tr>\n    <tr>\n      <th>1</th>\n      <td>9</td>\n      <td>1</td>\n      <td>TDD com Java</td>\n    </tr>\n    <tr>\n      <th>2</th>\n      <td>13</td>\n      <td>14</td>\n      <td>Persistência com .NET</td>\n    </tr>\n    <tr>\n      <th>3</th>\n      <td>14</td>\n      <td>2</td>\n      <td>Desenvolvendo jogos</td>\n    </tr>\n  </tbody>\n</table>\n</div>"
     },
     "metadata": {},
     "execution_count": 231
    }
   ],
   "source": [
    "pd.read_sql(query,engine)"
   ]
  },
  {
   "cell_type": "code",
   "execution_count": 232,
   "metadata": {},
   "outputs": [
    {
     "output_type": "execute_result",
     "data": {
      "text/plain": "                          nome_do_curso  quantidade_de_alunos\n0                 Lógica de programação                    31\n1                         Java para Web                    43\n2                           C# para Web                    66\n3                         Ruby on Rails                    39\n4                      Cursos de Python                    73\n5                         PHP com MySql                    66\n6                         .NET para web                    77\n7            Novas integrações com Java                     2\n8                          TDD com Java                     1\n9                   Código limpo com C#                    57\n10  Preparatório para certificação Java                    70\n11                      Hardware básico                    59\n12                Persistência com .NET                    14\n13                  Desenvolvendo jogos                     2\n14                     Análise de dados                    53\n15                   Estatística básica                    32\n16                  Internet das coisas                    24\n17                Programação funcional                    65\n18                Boas práticas em Java                    34\n19          Orientação objetos com Java                    53",
      "text/html": "<div>\n<style scoped>\n    .dataframe tbody tr th:only-of-type {\n        vertical-align: middle;\n    }\n\n    .dataframe tbody tr th {\n        vertical-align: top;\n    }\n\n    .dataframe thead th {\n        text-align: right;\n    }\n</style>\n<table border=\"1\" class=\"dataframe\">\n  <thead>\n    <tr style=\"text-align: right;\">\n      <th></th>\n      <th>nome_do_curso</th>\n      <th>quantidade_de_alunos</th>\n    </tr>\n  </thead>\n  <tbody>\n    <tr>\n      <th>0</th>\n      <td>Lógica de programação</td>\n      <td>31</td>\n    </tr>\n    <tr>\n      <th>1</th>\n      <td>Java para Web</td>\n      <td>43</td>\n    </tr>\n    <tr>\n      <th>2</th>\n      <td>C# para Web</td>\n      <td>66</td>\n    </tr>\n    <tr>\n      <th>3</th>\n      <td>Ruby on Rails</td>\n      <td>39</td>\n    </tr>\n    <tr>\n      <th>4</th>\n      <td>Cursos de Python</td>\n      <td>73</td>\n    </tr>\n    <tr>\n      <th>5</th>\n      <td>PHP com MySql</td>\n      <td>66</td>\n    </tr>\n    <tr>\n      <th>6</th>\n      <td>.NET para web</td>\n      <td>77</td>\n    </tr>\n    <tr>\n      <th>7</th>\n      <td>Novas integrações com Java</td>\n      <td>2</td>\n    </tr>\n    <tr>\n      <th>8</th>\n      <td>TDD com Java</td>\n      <td>1</td>\n    </tr>\n    <tr>\n      <th>9</th>\n      <td>Código limpo com C#</td>\n      <td>57</td>\n    </tr>\n    <tr>\n      <th>10</th>\n      <td>Preparatório para certificação Java</td>\n      <td>70</td>\n    </tr>\n    <tr>\n      <th>11</th>\n      <td>Hardware básico</td>\n      <td>59</td>\n    </tr>\n    <tr>\n      <th>12</th>\n      <td>Persistência com .NET</td>\n      <td>14</td>\n    </tr>\n    <tr>\n      <th>13</th>\n      <td>Desenvolvendo jogos</td>\n      <td>2</td>\n    </tr>\n    <tr>\n      <th>14</th>\n      <td>Análise de dados</td>\n      <td>53</td>\n    </tr>\n    <tr>\n      <th>15</th>\n      <td>Estatística básica</td>\n      <td>32</td>\n    </tr>\n    <tr>\n      <th>16</th>\n      <td>Internet das coisas</td>\n      <td>24</td>\n    </tr>\n    <tr>\n      <th>17</th>\n      <td>Programação funcional</td>\n      <td>65</td>\n    </tr>\n    <tr>\n      <th>18</th>\n      <td>Boas práticas em Java</td>\n      <td>34</td>\n    </tr>\n    <tr>\n      <th>19</th>\n      <td>Orientação objetos com Java</td>\n      <td>53</td>\n    </tr>\n  </tbody>\n</table>\n</div>"
     },
     "metadata": {},
     "execution_count": 232
    }
   ],
   "source": [
    "pd.read_sql_table('matriculas',engine,columns=['nome_do_curso','quantidade_de_alunos'])"
   ]
  },
  {
   "cell_type": "code",
   "execution_count": 233,
   "metadata": {},
   "outputs": [],
   "source": [
    "muitas_matriculas = pd.read_sql_table('matriculas',engine,columns=['nome_do_curso','quantidade_de_alunos'])"
   ]
  },
  {
   "cell_type": "code",
   "execution_count": 234,
   "metadata": {},
   "outputs": [
    {
     "output_type": "execute_result",
     "data": {
      "text/plain": "      nome_do_curso  quantidade_de_alunos\n4  Cursos de Python                    73\n6     .NET para web                    77",
      "text/html": "<div>\n<style scoped>\n    .dataframe tbody tr th:only-of-type {\n        vertical-align: middle;\n    }\n\n    .dataframe tbody tr th {\n        vertical-align: top;\n    }\n\n    .dataframe thead th {\n        text-align: right;\n    }\n</style>\n<table border=\"1\" class=\"dataframe\">\n  <thead>\n    <tr style=\"text-align: right;\">\n      <th></th>\n      <th>nome_do_curso</th>\n      <th>quantidade_de_alunos</th>\n    </tr>\n  </thead>\n  <tbody>\n    <tr>\n      <th>4</th>\n      <td>Cursos de Python</td>\n      <td>73</td>\n    </tr>\n    <tr>\n      <th>6</th>\n      <td>.NET para web</td>\n      <td>77</td>\n    </tr>\n  </tbody>\n</table>\n</div>"
     },
     "metadata": {},
     "execution_count": 234
    }
   ],
   "source": [
    "muitas_matriculas = muitas_matriculas.query('quantidade_de_alunos>70')\n",
    "muitas_matriculas"
   ]
  },
  {
   "source": [
    "# Escrevendo no banco"
   ],
   "cell_type": "markdown",
   "metadata": {}
  },
  {
   "cell_type": "code",
   "execution_count": 235,
   "metadata": {},
   "outputs": [],
   "source": [
    "muitras_matriculas.to_sql('muitas_matriculas',con = engine)"
   ]
  },
  {
   "cell_type": "code",
   "execution_count": 236,
   "metadata": {
    "tags": []
   },
   "outputs": [
    {
     "output_type": "execute_result",
     "data": {
      "text/plain": "['matriculas', 'muitas_matriculas']"
     },
     "metadata": {},
     "execution_count": 236
    }
   ],
   "source": [
    "engine.table_names()"
   ]
  },
  {
   "source": [
    "# nomes dos alunos e alunas da próxima turma"
   ],
   "cell_type": "markdown",
   "metadata": {}
  },
  {
   "cell_type": "code",
   "execution_count": 237,
   "metadata": {},
   "outputs": [
    {
     "output_type": "execute_result",
     "data": {
      "text/plain": "          quantidade_de_alunos                        nome_do_curso\nid_curso                                                           \n1                           31                Lógica de programação\n2                           43                        Java para Web\n3                           66                          C# para Web\n4                           39                        Ruby on Rails\n5                           73                     Cursos de Python\n6                           66                        PHP com MySql\n7                           77                        .NET para web\n8                            2           Novas integrações com Java\n9                            1                         TDD com Java\n10                          57                  Código limpo com C#\n11                          70  Preparatório para certificação Java\n12                          59                      Hardware básico\n13                          14                Persistência com .NET\n14                           2                  Desenvolvendo jogos\n15                          53                     Análise de dados\n16                          32                   Estatística básica\n17                          24                  Internet das coisas\n18                          65                Programação funcional\n19                          34                Boas práticas em Java\n20                          53          Orientação objetos com Java",
      "text/html": "<div>\n<style scoped>\n    .dataframe tbody tr th:only-of-type {\n        vertical-align: middle;\n    }\n\n    .dataframe tbody tr th {\n        vertical-align: top;\n    }\n\n    .dataframe thead th {\n        text-align: right;\n    }\n</style>\n<table border=\"1\" class=\"dataframe\">\n  <thead>\n    <tr style=\"text-align: right;\">\n      <th></th>\n      <th>quantidade_de_alunos</th>\n      <th>nome_do_curso</th>\n    </tr>\n    <tr>\n      <th>id_curso</th>\n      <th></th>\n      <th></th>\n    </tr>\n  </thead>\n  <tbody>\n    <tr>\n      <th>1</th>\n      <td>31</td>\n      <td>Lógica de programação</td>\n    </tr>\n    <tr>\n      <th>2</th>\n      <td>43</td>\n      <td>Java para Web</td>\n    </tr>\n    <tr>\n      <th>3</th>\n      <td>66</td>\n      <td>C# para Web</td>\n    </tr>\n    <tr>\n      <th>4</th>\n      <td>39</td>\n      <td>Ruby on Rails</td>\n    </tr>\n    <tr>\n      <th>5</th>\n      <td>73</td>\n      <td>Cursos de Python</td>\n    </tr>\n    <tr>\n      <th>6</th>\n      <td>66</td>\n      <td>PHP com MySql</td>\n    </tr>\n    <tr>\n      <th>7</th>\n      <td>77</td>\n      <td>.NET para web</td>\n    </tr>\n    <tr>\n      <th>8</th>\n      <td>2</td>\n      <td>Novas integrações com Java</td>\n    </tr>\n    <tr>\n      <th>9</th>\n      <td>1</td>\n      <td>TDD com Java</td>\n    </tr>\n    <tr>\n      <th>10</th>\n      <td>57</td>\n      <td>Código limpo com C#</td>\n    </tr>\n    <tr>\n      <th>11</th>\n      <td>70</td>\n      <td>Preparatório para certificação Java</td>\n    </tr>\n    <tr>\n      <th>12</th>\n      <td>59</td>\n      <td>Hardware básico</td>\n    </tr>\n    <tr>\n      <th>13</th>\n      <td>14</td>\n      <td>Persistência com .NET</td>\n    </tr>\n    <tr>\n      <th>14</th>\n      <td>2</td>\n      <td>Desenvolvendo jogos</td>\n    </tr>\n    <tr>\n      <th>15</th>\n      <td>53</td>\n      <td>Análise de dados</td>\n    </tr>\n    <tr>\n      <th>16</th>\n      <td>32</td>\n      <td>Estatística básica</td>\n    </tr>\n    <tr>\n      <th>17</th>\n      <td>24</td>\n      <td>Internet das coisas</td>\n    </tr>\n    <tr>\n      <th>18</th>\n      <td>65</td>\n      <td>Programação funcional</td>\n    </tr>\n    <tr>\n      <th>19</th>\n      <td>34</td>\n      <td>Boas práticas em Java</td>\n    </tr>\n    <tr>\n      <th>20</th>\n      <td>53</td>\n      <td>Orientação objetos com Java</td>\n    </tr>\n  </tbody>\n</table>\n</div>"
     },
     "metadata": {},
     "execution_count": 237
    }
   ],
   "source": [
    "matriculas_por_curso"
   ]
  },
  {
   "cell_type": "code",
   "execution_count": 238,
   "metadata": {},
   "outputs": [
    {
     "output_type": "execute_result",
     "data": {
      "text/plain": "     id_aluno  id_curso\n0         235         4\n1         235         5\n2          43         6\n3          43         7\n4          43        10\n..        ...       ...\n856       231        15\n857        99        18\n858       323        12\n859       383        10\n860       366        15\n\n[861 rows x 2 columns]",
      "text/html": "<div>\n<style scoped>\n    .dataframe tbody tr th:only-of-type {\n        vertical-align: middle;\n    }\n\n    .dataframe tbody tr th {\n        vertical-align: top;\n    }\n\n    .dataframe thead th {\n        text-align: right;\n    }\n</style>\n<table border=\"1\" class=\"dataframe\">\n  <thead>\n    <tr style=\"text-align: right;\">\n      <th></th>\n      <th>id_aluno</th>\n      <th>id_curso</th>\n    </tr>\n  </thead>\n  <tbody>\n    <tr>\n      <th>0</th>\n      <td>235</td>\n      <td>4</td>\n    </tr>\n    <tr>\n      <th>1</th>\n      <td>235</td>\n      <td>5</td>\n    </tr>\n    <tr>\n      <th>2</th>\n      <td>43</td>\n      <td>6</td>\n    </tr>\n    <tr>\n      <th>3</th>\n      <td>43</td>\n      <td>7</td>\n    </tr>\n    <tr>\n      <th>4</th>\n      <td>43</td>\n      <td>10</td>\n    </tr>\n    <tr>\n      <th>...</th>\n      <td>...</td>\n      <td>...</td>\n    </tr>\n    <tr>\n      <th>856</th>\n      <td>231</td>\n      <td>15</td>\n    </tr>\n    <tr>\n      <th>857</th>\n      <td>99</td>\n      <td>18</td>\n    </tr>\n    <tr>\n      <th>858</th>\n      <td>323</td>\n      <td>12</td>\n    </tr>\n    <tr>\n      <th>859</th>\n      <td>383</td>\n      <td>10</td>\n    </tr>\n    <tr>\n      <th>860</th>\n      <td>366</td>\n      <td>15</td>\n    </tr>\n  </tbody>\n</table>\n<p>861 rows × 2 columns</p>\n</div>"
     },
     "metadata": {},
     "execution_count": 238
    }
   ],
   "source": [
    "matriculas"
   ]
  },
  {
   "cell_type": "code",
   "execution_count": 239,
   "metadata": {},
   "outputs": [
    {
     "output_type": "execute_result",
     "data": {
      "text/plain": "                          nome_do_curso\nid                                     \n1                 Lógica de programação\n2                         Java para Web\n3                           C# para Web\n4                         Ruby on Rails\n5                      Cursos de Python\n6                         PHP com MySql\n7                         .NET para web\n8            Novas integrações com Java\n9                          TDD com Java\n10                  Código limpo com C#\n11  Preparatório para certificação Java\n12                      Hardware básico\n13                Persistência com .NET\n14                  Desenvolvendo jogos\n15                     Análise de dados\n16                   Estatística básica\n17                  Internet das coisas\n18                Programação funcional\n19                Boas práticas em Java\n20          Orientação objetos com Java",
      "text/html": "<div>\n<style scoped>\n    .dataframe tbody tr th:only-of-type {\n        vertical-align: middle;\n    }\n\n    .dataframe tbody tr th {\n        vertical-align: top;\n    }\n\n    .dataframe thead th {\n        text-align: right;\n    }\n</style>\n<table border=\"1\" class=\"dataframe\">\n  <thead>\n    <tr style=\"text-align: right;\">\n      <th></th>\n      <th>nome_do_curso</th>\n    </tr>\n    <tr>\n      <th>id</th>\n      <th></th>\n    </tr>\n  </thead>\n  <tbody>\n    <tr>\n      <th>1</th>\n      <td>Lógica de programação</td>\n    </tr>\n    <tr>\n      <th>2</th>\n      <td>Java para Web</td>\n    </tr>\n    <tr>\n      <th>3</th>\n      <td>C# para Web</td>\n    </tr>\n    <tr>\n      <th>4</th>\n      <td>Ruby on Rails</td>\n    </tr>\n    <tr>\n      <th>5</th>\n      <td>Cursos de Python</td>\n    </tr>\n    <tr>\n      <th>6</th>\n      <td>PHP com MySql</td>\n    </tr>\n    <tr>\n      <th>7</th>\n      <td>.NET para web</td>\n    </tr>\n    <tr>\n      <th>8</th>\n      <td>Novas integrações com Java</td>\n    </tr>\n    <tr>\n      <th>9</th>\n      <td>TDD com Java</td>\n    </tr>\n    <tr>\n      <th>10</th>\n      <td>Código limpo com C#</td>\n    </tr>\n    <tr>\n      <th>11</th>\n      <td>Preparatório para certificação Java</td>\n    </tr>\n    <tr>\n      <th>12</th>\n      <td>Hardware básico</td>\n    </tr>\n    <tr>\n      <th>13</th>\n      <td>Persistência com .NET</td>\n    </tr>\n    <tr>\n      <th>14</th>\n      <td>Desenvolvendo jogos</td>\n    </tr>\n    <tr>\n      <th>15</th>\n      <td>Análise de dados</td>\n    </tr>\n    <tr>\n      <th>16</th>\n      <td>Estatística básica</td>\n    </tr>\n    <tr>\n      <th>17</th>\n      <td>Internet das coisas</td>\n    </tr>\n    <tr>\n      <th>18</th>\n      <td>Programação funcional</td>\n    </tr>\n    <tr>\n      <th>19</th>\n      <td>Boas práticas em Java</td>\n    </tr>\n    <tr>\n      <th>20</th>\n      <td>Orientação objetos com Java</td>\n    </tr>\n  </tbody>\n</table>\n</div>"
     },
     "metadata": {},
     "execution_count": 239
    }
   ],
   "source": [
    "cursos"
   ]
  },
  {
   "cell_type": "code",
   "execution_count": 240,
   "metadata": {},
   "outputs": [
    {
     "output_type": "execute_result",
     "data": {
      "text/plain": "     id_aluno  id_curso\n49        242        16\n72        297        16\n96        249        16\n100        27        16\n104        27        16\n120        14        16\n132        60        16\n154        53        16\n175       253        16\n199       292        16\n203       211        16\n204       211        16\n210        39        16\n212       171        16\n312       301        16\n360        82        16\n361       394        16\n378       250        16\n391       229        16\n408       146        16\n487       236        16\n506       330        16\n517       123        16\n520       123        16\n561        51        16\n582       348        16\n645       110        16\n675       260        16\n700         2        16\n785       362        16\n798       398        16\n845       215        16",
      "text/html": "<div>\n<style scoped>\n    .dataframe tbody tr th:only-of-type {\n        vertical-align: middle;\n    }\n\n    .dataframe tbody tr th {\n        vertical-align: top;\n    }\n\n    .dataframe thead th {\n        text-align: right;\n    }\n</style>\n<table border=\"1\" class=\"dataframe\">\n  <thead>\n    <tr style=\"text-align: right;\">\n      <th></th>\n      <th>id_aluno</th>\n      <th>id_curso</th>\n    </tr>\n  </thead>\n  <tbody>\n    <tr>\n      <th>49</th>\n      <td>242</td>\n      <td>16</td>\n    </tr>\n    <tr>\n      <th>72</th>\n      <td>297</td>\n      <td>16</td>\n    </tr>\n    <tr>\n      <th>96</th>\n      <td>249</td>\n      <td>16</td>\n    </tr>\n    <tr>\n      <th>100</th>\n      <td>27</td>\n      <td>16</td>\n    </tr>\n    <tr>\n      <th>104</th>\n      <td>27</td>\n      <td>16</td>\n    </tr>\n    <tr>\n      <th>120</th>\n      <td>14</td>\n      <td>16</td>\n    </tr>\n    <tr>\n      <th>132</th>\n      <td>60</td>\n      <td>16</td>\n    </tr>\n    <tr>\n      <th>154</th>\n      <td>53</td>\n      <td>16</td>\n    </tr>\n    <tr>\n      <th>175</th>\n      <td>253</td>\n      <td>16</td>\n    </tr>\n    <tr>\n      <th>199</th>\n      <td>292</td>\n      <td>16</td>\n    </tr>\n    <tr>\n      <th>203</th>\n      <td>211</td>\n      <td>16</td>\n    </tr>\n    <tr>\n      <th>204</th>\n      <td>211</td>\n      <td>16</td>\n    </tr>\n    <tr>\n      <th>210</th>\n      <td>39</td>\n      <td>16</td>\n    </tr>\n    <tr>\n      <th>212</th>\n      <td>171</td>\n      <td>16</td>\n    </tr>\n    <tr>\n      <th>312</th>\n      <td>301</td>\n      <td>16</td>\n    </tr>\n    <tr>\n      <th>360</th>\n      <td>82</td>\n      <td>16</td>\n    </tr>\n    <tr>\n      <th>361</th>\n      <td>394</td>\n      <td>16</td>\n    </tr>\n    <tr>\n      <th>378</th>\n      <td>250</td>\n      <td>16</td>\n    </tr>\n    <tr>\n      <th>391</th>\n      <td>229</td>\n      <td>16</td>\n    </tr>\n    <tr>\n      <th>408</th>\n      <td>146</td>\n      <td>16</td>\n    </tr>\n    <tr>\n      <th>487</th>\n      <td>236</td>\n      <td>16</td>\n    </tr>\n    <tr>\n      <th>506</th>\n      <td>330</td>\n      <td>16</td>\n    </tr>\n    <tr>\n      <th>517</th>\n      <td>123</td>\n      <td>16</td>\n    </tr>\n    <tr>\n      <th>520</th>\n      <td>123</td>\n      <td>16</td>\n    </tr>\n    <tr>\n      <th>561</th>\n      <td>51</td>\n      <td>16</td>\n    </tr>\n    <tr>\n      <th>582</th>\n      <td>348</td>\n      <td>16</td>\n    </tr>\n    <tr>\n      <th>645</th>\n      <td>110</td>\n      <td>16</td>\n    </tr>\n    <tr>\n      <th>675</th>\n      <td>260</td>\n      <td>16</td>\n    </tr>\n    <tr>\n      <th>700</th>\n      <td>2</td>\n      <td>16</td>\n    </tr>\n    <tr>\n      <th>785</th>\n      <td>362</td>\n      <td>16</td>\n    </tr>\n    <tr>\n      <th>798</th>\n      <td>398</td>\n      <td>16</td>\n    </tr>\n    <tr>\n      <th>845</th>\n      <td>215</td>\n      <td>16</td>\n    </tr>\n  </tbody>\n</table>\n</div>"
     },
     "metadata": {},
     "execution_count": 240
    }
   ],
   "source": [
    "matriculas[matriculas.id_curso==16]"
   ]
  },
  {
   "cell_type": "code",
   "execution_count": 241,
   "metadata": {},
   "outputs": [
    {
     "output_type": "execute_result",
     "data": {
      "text/plain": "     id_aluno  id_curso\n49        242        16\n72        297        16\n96        249        16\n100        27        16\n104        27        16\n120        14        16\n132        60        16\n154        53        16\n175       253        16\n199       292        16\n203       211        16\n204       211        16\n210        39        16\n212       171        16\n312       301        16\n360        82        16\n361       394        16\n378       250        16\n391       229        16\n408       146        16\n487       236        16\n506       330        16\n517       123        16\n520       123        16\n561        51        16\n582       348        16\n645       110        16\n675       260        16\n700         2        16\n785       362        16\n798       398        16\n845       215        16",
      "text/html": "<div>\n<style scoped>\n    .dataframe tbody tr th:only-of-type {\n        vertical-align: middle;\n    }\n\n    .dataframe tbody tr th {\n        vertical-align: top;\n    }\n\n    .dataframe thead th {\n        text-align: right;\n    }\n</style>\n<table border=\"1\" class=\"dataframe\">\n  <thead>\n    <tr style=\"text-align: right;\">\n      <th></th>\n      <th>id_aluno</th>\n      <th>id_curso</th>\n    </tr>\n  </thead>\n  <tbody>\n    <tr>\n      <th>49</th>\n      <td>242</td>\n      <td>16</td>\n    </tr>\n    <tr>\n      <th>72</th>\n      <td>297</td>\n      <td>16</td>\n    </tr>\n    <tr>\n      <th>96</th>\n      <td>249</td>\n      <td>16</td>\n    </tr>\n    <tr>\n      <th>100</th>\n      <td>27</td>\n      <td>16</td>\n    </tr>\n    <tr>\n      <th>104</th>\n      <td>27</td>\n      <td>16</td>\n    </tr>\n    <tr>\n      <th>120</th>\n      <td>14</td>\n      <td>16</td>\n    </tr>\n    <tr>\n      <th>132</th>\n      <td>60</td>\n      <td>16</td>\n    </tr>\n    <tr>\n      <th>154</th>\n      <td>53</td>\n      <td>16</td>\n    </tr>\n    <tr>\n      <th>175</th>\n      <td>253</td>\n      <td>16</td>\n    </tr>\n    <tr>\n      <th>199</th>\n      <td>292</td>\n      <td>16</td>\n    </tr>\n    <tr>\n      <th>203</th>\n      <td>211</td>\n      <td>16</td>\n    </tr>\n    <tr>\n      <th>204</th>\n      <td>211</td>\n      <td>16</td>\n    </tr>\n    <tr>\n      <th>210</th>\n      <td>39</td>\n      <td>16</td>\n    </tr>\n    <tr>\n      <th>212</th>\n      <td>171</td>\n      <td>16</td>\n    </tr>\n    <tr>\n      <th>312</th>\n      <td>301</td>\n      <td>16</td>\n    </tr>\n    <tr>\n      <th>360</th>\n      <td>82</td>\n      <td>16</td>\n    </tr>\n    <tr>\n      <th>361</th>\n      <td>394</td>\n      <td>16</td>\n    </tr>\n    <tr>\n      <th>378</th>\n      <td>250</td>\n      <td>16</td>\n    </tr>\n    <tr>\n      <th>391</th>\n      <td>229</td>\n      <td>16</td>\n    </tr>\n    <tr>\n      <th>408</th>\n      <td>146</td>\n      <td>16</td>\n    </tr>\n    <tr>\n      <th>487</th>\n      <td>236</td>\n      <td>16</td>\n    </tr>\n    <tr>\n      <th>506</th>\n      <td>330</td>\n      <td>16</td>\n    </tr>\n    <tr>\n      <th>517</th>\n      <td>123</td>\n      <td>16</td>\n    </tr>\n    <tr>\n      <th>520</th>\n      <td>123</td>\n      <td>16</td>\n    </tr>\n    <tr>\n      <th>561</th>\n      <td>51</td>\n      <td>16</td>\n    </tr>\n    <tr>\n      <th>582</th>\n      <td>348</td>\n      <td>16</td>\n    </tr>\n    <tr>\n      <th>645</th>\n      <td>110</td>\n      <td>16</td>\n    </tr>\n    <tr>\n      <th>675</th>\n      <td>260</td>\n      <td>16</td>\n    </tr>\n    <tr>\n      <th>700</th>\n      <td>2</td>\n      <td>16</td>\n    </tr>\n    <tr>\n      <th>785</th>\n      <td>362</td>\n      <td>16</td>\n    </tr>\n    <tr>\n      <th>798</th>\n      <td>398</td>\n      <td>16</td>\n    </tr>\n    <tr>\n      <th>845</th>\n      <td>215</td>\n      <td>16</td>\n    </tr>\n  </tbody>\n</table>\n</div>"
     },
     "metadata": {},
     "execution_count": 241
    }
   ],
   "source": [
    "id_curso = 16\n",
    "proxima_turma = matriculas.query(f\"id_curso=={id_curso}\")\n",
    "proxima_turma"
   ]
  },
  {
   "cell_type": "code",
   "execution_count": 245,
   "metadata": {},
   "outputs": [
    {
     "output_type": "execute_result",
     "data": {
      "text/plain": "id_aluno\n2           CESAR\n14          SUELI\n27        RAFAELA\n27        RAFAELA\n39         DENISE\n51         MANUEL\n53        JANAINA\n60         FLAVIA\n82           IARA\n110       OSVALDO\n123         EDSON\n123         EDSON\n146      LUCILENE\n171        ROSELI\n211         TANIA\n211         TANIA\n215        WESLEI\n229        NAIARA\n236      LEONARDO\n242         SONIA\n249        ANGELA\n250    ELIZANGELA\n253       MICHELE\n260       VICENTE\n292        ANDREA\n297          ROSA\n301        MAIARA\n330         JORGE\n348        DANILO\n362       NIVALDO\n394        JOELMA\n398      CRISTIAN\nName: nome, dtype: object"
     },
     "metadata": {},
     "execution_count": 245
    }
   ],
   "source": [
    "proxima_turma.set_index('id_aluno').join(nomes.set_index('id_aluno'))['nome']"
   ]
  },
  {
   "cell_type": "code",
   "execution_count": 246,
   "metadata": {},
   "outputs": [
    {
     "output_type": "execute_result",
     "data": {
      "text/plain": "                nome\nid_aluno            \n2              CESAR\n14             SUELI\n27           RAFAELA\n27           RAFAELA\n39            DENISE\n51            MANUEL\n53           JANAINA\n60            FLAVIA\n82              IARA\n110          OSVALDO\n123            EDSON\n123            EDSON\n146         LUCILENE\n171           ROSELI\n211            TANIA\n211            TANIA\n215           WESLEI\n229           NAIARA\n236         LEONARDO\n242            SONIA\n249           ANGELA\n250       ELIZANGELA\n253          MICHELE\n260          VICENTE\n292           ANDREA\n297             ROSA\n301           MAIARA\n330            JORGE\n348           DANILO\n362          NIVALDO\n394           JOELMA\n398         CRISTIAN",
      "text/html": "<div>\n<style scoped>\n    .dataframe tbody tr th:only-of-type {\n        vertical-align: middle;\n    }\n\n    .dataframe tbody tr th {\n        vertical-align: top;\n    }\n\n    .dataframe thead th {\n        text-align: right;\n    }\n</style>\n<table border=\"1\" class=\"dataframe\">\n  <thead>\n    <tr style=\"text-align: right;\">\n      <th></th>\n      <th>nome</th>\n    </tr>\n    <tr>\n      <th>id_aluno</th>\n      <th></th>\n    </tr>\n  </thead>\n  <tbody>\n    <tr>\n      <th>2</th>\n      <td>CESAR</td>\n    </tr>\n    <tr>\n      <th>14</th>\n      <td>SUELI</td>\n    </tr>\n    <tr>\n      <th>27</th>\n      <td>RAFAELA</td>\n    </tr>\n    <tr>\n      <th>27</th>\n      <td>RAFAELA</td>\n    </tr>\n    <tr>\n      <th>39</th>\n      <td>DENISE</td>\n    </tr>\n    <tr>\n      <th>51</th>\n      <td>MANUEL</td>\n    </tr>\n    <tr>\n      <th>53</th>\n      <td>JANAINA</td>\n    </tr>\n    <tr>\n      <th>60</th>\n      <td>FLAVIA</td>\n    </tr>\n    <tr>\n      <th>82</th>\n      <td>IARA</td>\n    </tr>\n    <tr>\n      <th>110</th>\n      <td>OSVALDO</td>\n    </tr>\n    <tr>\n      <th>123</th>\n      <td>EDSON</td>\n    </tr>\n    <tr>\n      <th>123</th>\n      <td>EDSON</td>\n    </tr>\n    <tr>\n      <th>146</th>\n      <td>LUCILENE</td>\n    </tr>\n    <tr>\n      <th>171</th>\n      <td>ROSELI</td>\n    </tr>\n    <tr>\n      <th>211</th>\n      <td>TANIA</td>\n    </tr>\n    <tr>\n      <th>211</th>\n      <td>TANIA</td>\n    </tr>\n    <tr>\n      <th>215</th>\n      <td>WESLEI</td>\n    </tr>\n    <tr>\n      <th>229</th>\n      <td>NAIARA</td>\n    </tr>\n    <tr>\n      <th>236</th>\n      <td>LEONARDO</td>\n    </tr>\n    <tr>\n      <th>242</th>\n      <td>SONIA</td>\n    </tr>\n    <tr>\n      <th>249</th>\n      <td>ANGELA</td>\n    </tr>\n    <tr>\n      <th>250</th>\n      <td>ELIZANGELA</td>\n    </tr>\n    <tr>\n      <th>253</th>\n      <td>MICHELE</td>\n    </tr>\n    <tr>\n      <th>260</th>\n      <td>VICENTE</td>\n    </tr>\n    <tr>\n      <th>292</th>\n      <td>ANDREA</td>\n    </tr>\n    <tr>\n      <th>297</th>\n      <td>ROSA</td>\n    </tr>\n    <tr>\n      <th>301</th>\n      <td>MAIARA</td>\n    </tr>\n    <tr>\n      <th>330</th>\n      <td>JORGE</td>\n    </tr>\n    <tr>\n      <th>348</th>\n      <td>DANILO</td>\n    </tr>\n    <tr>\n      <th>362</th>\n      <td>NIVALDO</td>\n    </tr>\n    <tr>\n      <th>394</th>\n      <td>JOELMA</td>\n    </tr>\n    <tr>\n      <th>398</th>\n      <td>CRISTIAN</td>\n    </tr>\n  </tbody>\n</table>\n</div>"
     },
     "metadata": {},
     "execution_count": 246
    }
   ],
   "source": [
    "proxima_turma.set_index('id_aluno').join(nomes.set_index('id_aluno'))['nome'].to_frame()"
   ]
  },
  {
   "cell_type": "code",
   "execution_count": 249,
   "metadata": {},
   "outputs": [],
   "source": [
    "nome_curso = cursos.loc[id_curso]"
   ]
  },
  {
   "cell_type": "code",
   "execution_count": 250,
   "metadata": {},
   "outputs": [
    {
     "output_type": "execute_result",
     "data": {
      "text/plain": "'Estatística básica'"
     },
     "metadata": {},
     "execution_count": 250
    }
   ],
   "source": [
    "nome_curso = nome_curso['nome_do_curso']\n",
    "nome_curso"
   ]
  },
  {
   "cell_type": "code",
   "execution_count": 251,
   "metadata": {},
   "outputs": [
    {
     "output_type": "execute_result",
     "data": {
      "text/plain": "                nome\nid_aluno            \n2              CESAR\n14             SUELI\n27           RAFAELA\n27           RAFAELA\n39            DENISE\n51            MANUEL\n53           JANAINA\n60            FLAVIA\n82              IARA\n110          OSVALDO\n123            EDSON\n123            EDSON\n146         LUCILENE\n171           ROSELI\n211            TANIA\n211            TANIA\n215           WESLEI\n229           NAIARA\n236         LEONARDO\n242            SONIA\n249           ANGELA\n250       ELIZANGELA\n253          MICHELE\n260          VICENTE\n292           ANDREA\n297             ROSA\n301           MAIARA\n330            JORGE\n348           DANILO\n362          NIVALDO\n394           JOELMA\n398         CRISTIAN",
      "text/html": "<div>\n<style scoped>\n    .dataframe tbody tr th:only-of-type {\n        vertical-align: middle;\n    }\n\n    .dataframe tbody tr th {\n        vertical-align: top;\n    }\n\n    .dataframe thead th {\n        text-align: right;\n    }\n</style>\n<table border=\"1\" class=\"dataframe\">\n  <thead>\n    <tr style=\"text-align: right;\">\n      <th></th>\n      <th>nome</th>\n    </tr>\n    <tr>\n      <th>id_aluno</th>\n      <th></th>\n    </tr>\n  </thead>\n  <tbody>\n    <tr>\n      <th>2</th>\n      <td>CESAR</td>\n    </tr>\n    <tr>\n      <th>14</th>\n      <td>SUELI</td>\n    </tr>\n    <tr>\n      <th>27</th>\n      <td>RAFAELA</td>\n    </tr>\n    <tr>\n      <th>27</th>\n      <td>RAFAELA</td>\n    </tr>\n    <tr>\n      <th>39</th>\n      <td>DENISE</td>\n    </tr>\n    <tr>\n      <th>51</th>\n      <td>MANUEL</td>\n    </tr>\n    <tr>\n      <th>53</th>\n      <td>JANAINA</td>\n    </tr>\n    <tr>\n      <th>60</th>\n      <td>FLAVIA</td>\n    </tr>\n    <tr>\n      <th>82</th>\n      <td>IARA</td>\n    </tr>\n    <tr>\n      <th>110</th>\n      <td>OSVALDO</td>\n    </tr>\n    <tr>\n      <th>123</th>\n      <td>EDSON</td>\n    </tr>\n    <tr>\n      <th>123</th>\n      <td>EDSON</td>\n    </tr>\n    <tr>\n      <th>146</th>\n      <td>LUCILENE</td>\n    </tr>\n    <tr>\n      <th>171</th>\n      <td>ROSELI</td>\n    </tr>\n    <tr>\n      <th>211</th>\n      <td>TANIA</td>\n    </tr>\n    <tr>\n      <th>211</th>\n      <td>TANIA</td>\n    </tr>\n    <tr>\n      <th>215</th>\n      <td>WESLEI</td>\n    </tr>\n    <tr>\n      <th>229</th>\n      <td>NAIARA</td>\n    </tr>\n    <tr>\n      <th>236</th>\n      <td>LEONARDO</td>\n    </tr>\n    <tr>\n      <th>242</th>\n      <td>SONIA</td>\n    </tr>\n    <tr>\n      <th>249</th>\n      <td>ANGELA</td>\n    </tr>\n    <tr>\n      <th>250</th>\n      <td>ELIZANGELA</td>\n    </tr>\n    <tr>\n      <th>253</th>\n      <td>MICHELE</td>\n    </tr>\n    <tr>\n      <th>260</th>\n      <td>VICENTE</td>\n    </tr>\n    <tr>\n      <th>292</th>\n      <td>ANDREA</td>\n    </tr>\n    <tr>\n      <th>297</th>\n      <td>ROSA</td>\n    </tr>\n    <tr>\n      <th>301</th>\n      <td>MAIARA</td>\n    </tr>\n    <tr>\n      <th>330</th>\n      <td>JORGE</td>\n    </tr>\n    <tr>\n      <th>348</th>\n      <td>DANILO</td>\n    </tr>\n    <tr>\n      <th>362</th>\n      <td>NIVALDO</td>\n    </tr>\n    <tr>\n      <th>394</th>\n      <td>JOELMA</td>\n    </tr>\n    <tr>\n      <th>398</th>\n      <td>CRISTIAN</td>\n    </tr>\n  </tbody>\n</table>\n</div>"
     },
     "metadata": {},
     "execution_count": 251
    }
   ],
   "source": [
    "proxima_turma = proxima_turma.set_index('id_aluno').join(nomes.set_index('id_aluno'))['nome'].to_frame()\n",
    "proxima_turma"
   ]
  },
  {
   "cell_type": "code",
   "execution_count": 254,
   "metadata": {
    "tags": []
   },
   "outputs": [],
   "source": [
    "proxima_turma = proxima_turma.rename(columns={'nome':f'Alunos do curso de: {nome_curso}'})"
   ]
  },
  {
   "cell_type": "code",
   "execution_count": 255,
   "metadata": {},
   "outputs": [
    {
     "output_type": "execute_result",
     "data": {
      "text/plain": "         Alunos do curso de: Estatística básica\nid_aluno                                       \n171                                      ROSELI\n14                                        SUELI\n229                                      NAIARA",
      "text/html": "<div>\n<style scoped>\n    .dataframe tbody tr th:only-of-type {\n        vertical-align: middle;\n    }\n\n    .dataframe tbody tr th {\n        vertical-align: top;\n    }\n\n    .dataframe thead th {\n        text-align: right;\n    }\n</style>\n<table border=\"1\" class=\"dataframe\">\n  <thead>\n    <tr style=\"text-align: right;\">\n      <th></th>\n      <th>Alunos do curso de: Estatística básica</th>\n    </tr>\n    <tr>\n      <th>id_aluno</th>\n      <th></th>\n    </tr>\n  </thead>\n  <tbody>\n    <tr>\n      <th>171</th>\n      <td>ROSELI</td>\n    </tr>\n    <tr>\n      <th>14</th>\n      <td>SUELI</td>\n    </tr>\n    <tr>\n      <th>229</th>\n      <td>NAIARA</td>\n    </tr>\n  </tbody>\n</table>\n</div>"
     },
     "metadata": {},
     "execution_count": 255
    }
   ],
   "source": [
    "proxima_turma.sample(3)"
   ]
  },
  {
   "source": [
    "# Excel"
   ],
   "cell_type": "markdown",
   "metadata": {}
  },
  {
   "cell_type": "code",
   "execution_count": 258,
   "metadata": {},
   "outputs": [],
   "source": [
    "proxima_turma.to_excel('proxima_turma.xlsx',index=False)"
   ]
  },
  {
   "cell_type": "code",
   "execution_count": 257,
   "metadata": {
    "tags": []
   },
   "outputs": [
    {
     "output_type": "stream",
     "name": "stdout",
     "text": "Collecting openpyxl\n  Downloading openpyxl-3.0.5-py2.py3-none-any.whl (242 kB)\nCollecting jdcal\n  Downloading jdcal-1.4.1-py2.py3-none-any.whl (9.5 kB)\nCollecting et-xmlfile\n  Downloading et_xmlfile-1.0.1.tar.gz (8.4 kB)\nBuilding wheels for collected packages: et-xmlfile\n  Building wheel for et-xmlfile (setup.py): started\n  Building wheel for et-xmlfile (setup.py): finished with status 'done'\n  Created wheel for et-xmlfile: filename=et_xmlfile-1.0.1-py3-none-any.whl size=8919 sha256=8224c043863cff11ea9f757acdceb4b93d491638747723f5a72335027a90e754\n  Stored in directory: c:\\users\\igors\\appdata\\local\\pip\\cache\\wheels\\6e\\df\\38\\abda47b884e3e25f9f9b6430e5ce44c47670758a50c0c51759\nSuccessfully built et-xmlfile\nInstalling collected packages: jdcal, et-xmlfile, openpyxl\nSuccessfully installed et-xmlfile-1.0.1 jdcal-1.4.1 openpyxl-3.0.5\n"
    }
   ],
   "source": [
    "!pip install openpyxl"
   ]
  },
  {
   "cell_type": "code",
   "execution_count": 261,
   "metadata": {},
   "outputs": [
    {
     "output_type": "execute_result",
     "data": {
      "text/plain": "   Alunos do curso de: Estatística básica\n0                                   CESAR\n1                                   SUELI\n2                                 RAFAELA\n3                                 RAFAELA\n4                                  DENISE\n5                                  MANUEL\n6                                 JANAINA\n7                                  FLAVIA\n8                                    IARA\n9                                 OSVALDO\n10                                  EDSON\n11                                  EDSON\n12                               LUCILENE\n13                                 ROSELI\n14                                  TANIA\n15                                  TANIA\n16                                 WESLEI\n17                                 NAIARA\n18                               LEONARDO\n19                                  SONIA\n20                                 ANGELA\n21                             ELIZANGELA\n22                                MICHELE\n23                                VICENTE\n24                                 ANDREA\n25                                   ROSA\n26                                 MAIARA\n27                                  JORGE\n28                                 DANILO\n29                                NIVALDO\n30                                 JOELMA\n31                               CRISTIAN",
      "text/html": "<div>\n<style scoped>\n    .dataframe tbody tr th:only-of-type {\n        vertical-align: middle;\n    }\n\n    .dataframe tbody tr th {\n        vertical-align: top;\n    }\n\n    .dataframe thead th {\n        text-align: right;\n    }\n</style>\n<table border=\"1\" class=\"dataframe\">\n  <thead>\n    <tr style=\"text-align: right;\">\n      <th></th>\n      <th>Alunos do curso de: Estatística básica</th>\n    </tr>\n  </thead>\n  <tbody>\n    <tr>\n      <th>0</th>\n      <td>CESAR</td>\n    </tr>\n    <tr>\n      <th>1</th>\n      <td>SUELI</td>\n    </tr>\n    <tr>\n      <th>2</th>\n      <td>RAFAELA</td>\n    </tr>\n    <tr>\n      <th>3</th>\n      <td>RAFAELA</td>\n    </tr>\n    <tr>\n      <th>4</th>\n      <td>DENISE</td>\n    </tr>\n    <tr>\n      <th>5</th>\n      <td>MANUEL</td>\n    </tr>\n    <tr>\n      <th>6</th>\n      <td>JANAINA</td>\n    </tr>\n    <tr>\n      <th>7</th>\n      <td>FLAVIA</td>\n    </tr>\n    <tr>\n      <th>8</th>\n      <td>IARA</td>\n    </tr>\n    <tr>\n      <th>9</th>\n      <td>OSVALDO</td>\n    </tr>\n    <tr>\n      <th>10</th>\n      <td>EDSON</td>\n    </tr>\n    <tr>\n      <th>11</th>\n      <td>EDSON</td>\n    </tr>\n    <tr>\n      <th>12</th>\n      <td>LUCILENE</td>\n    </tr>\n    <tr>\n      <th>13</th>\n      <td>ROSELI</td>\n    </tr>\n    <tr>\n      <th>14</th>\n      <td>TANIA</td>\n    </tr>\n    <tr>\n      <th>15</th>\n      <td>TANIA</td>\n    </tr>\n    <tr>\n      <th>16</th>\n      <td>WESLEI</td>\n    </tr>\n    <tr>\n      <th>17</th>\n      <td>NAIARA</td>\n    </tr>\n    <tr>\n      <th>18</th>\n      <td>LEONARDO</td>\n    </tr>\n    <tr>\n      <th>19</th>\n      <td>SONIA</td>\n    </tr>\n    <tr>\n      <th>20</th>\n      <td>ANGELA</td>\n    </tr>\n    <tr>\n      <th>21</th>\n      <td>ELIZANGELA</td>\n    </tr>\n    <tr>\n      <th>22</th>\n      <td>MICHELE</td>\n    </tr>\n    <tr>\n      <th>23</th>\n      <td>VICENTE</td>\n    </tr>\n    <tr>\n      <th>24</th>\n      <td>ANDREA</td>\n    </tr>\n    <tr>\n      <th>25</th>\n      <td>ROSA</td>\n    </tr>\n    <tr>\n      <th>26</th>\n      <td>MAIARA</td>\n    </tr>\n    <tr>\n      <th>27</th>\n      <td>JORGE</td>\n    </tr>\n    <tr>\n      <th>28</th>\n      <td>DANILO</td>\n    </tr>\n    <tr>\n      <th>29</th>\n      <td>NIVALDO</td>\n    </tr>\n    <tr>\n      <th>30</th>\n      <td>JOELMA</td>\n    </tr>\n    <tr>\n      <th>31</th>\n      <td>CRISTIAN</td>\n    </tr>\n  </tbody>\n</table>\n</div>"
     },
     "metadata": {},
     "execution_count": 261
    }
   ],
   "source": [
    "pd.read_excel('proxima_turma.xlsx')"
   ]
  },
  {
   "cell_type": "code",
   "execution_count": 260,
   "metadata": {
    "tags": []
   },
   "outputs": [
    {
     "output_type": "stream",
     "name": "stdout",
     "text": "Collecting xlrd\n  Downloading xlrd-1.2.0-py2.py3-none-any.whl (103 kB)\nInstalling collected packages: xlrd\nSuccessfully installed xlrd-1.2.0\n"
    }
   ],
   "source": []
  },
  {
   "cell_type": "code",
   "execution_count": null,
   "metadata": {},
   "outputs": [],
   "source": []
  }
 ]
}