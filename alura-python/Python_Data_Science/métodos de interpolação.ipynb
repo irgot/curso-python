{
 "metadata": {
  "language_info": {
   "codemirror_mode": {
    "name": "ipython",
    "version": 3
   },
   "file_extension": ".py",
   "mimetype": "text/x-python",
   "name": "python",
   "nbconvert_exporter": "python",
   "pygments_lexer": "ipython3",
   "version": "3.8.5-final"
  },
  "orig_nbformat": 2,
  "kernelspec": {
   "name": "python_defaultSpec_1600830905449",
   "display_name": "Python 3.8.5 64-bit ('alura_pandas': conda)"
  }
 },
 "nbformat": 4,
 "nbformat_minor": 2,
 "cells": [
  {
   "cell_type": "code",
   "execution_count": 1,
   "metadata": {},
   "outputs": [],
   "source": [
    "import pandas as pd"
   ]
  },
  {
   "cell_type": "code",
   "execution_count": 2,
   "metadata": {},
   "outputs": [],
   "source": [
    "data=[0.5,None,None,0.52,0.54,None,None,0.59,0.6,None,0.7]"
   ]
  },
  {
   "cell_type": "code",
   "execution_count": 3,
   "metadata": {},
   "outputs": [],
   "source": [
    "s = pd.Series(data)"
   ]
  },
  {
   "cell_type": "code",
   "execution_count": 4,
   "metadata": {},
   "outputs": [
    {
     "output_type": "execute_result",
     "data": {
      "text/plain": "0     0.50\n1      NaN\n2      NaN\n3     0.52\n4     0.54\n5      NaN\n6      NaN\n7     0.59\n8     0.60\n9      NaN\n10    0.70\ndtype: float64"
     },
     "metadata": {},
     "execution_count": 4
    }
   ],
   "source": [
    "s"
   ]
  },
  {
   "cell_type": "code",
   "execution_count": 5,
   "metadata": {},
   "outputs": [
    {
     "output_type": "execute_result",
     "data": {
      "text/plain": "0     0.50\n1     0.00\n2     0.00\n3     0.52\n4     0.54\n5     0.00\n6     0.00\n7     0.59\n8     0.60\n9     0.00\n10    0.70\ndtype: float64"
     },
     "metadata": {},
     "execution_count": 5
    }
   ],
   "source": [
    "s.fillna(0)"
   ]
  },
  {
   "cell_type": "code",
   "execution_count": 6,
   "metadata": {},
   "outputs": [
    {
     "output_type": "execute_result",
     "data": {
      "text/plain": "0     0.50\n1     0.50\n2     0.50\n3     0.52\n4     0.54\n5     0.54\n6     0.54\n7     0.59\n8     0.60\n9     0.60\n10    0.70\ndtype: float64"
     },
     "metadata": {},
     "execution_count": 6
    }
   ],
   "source": [
    "s.fillna(method='ffill')"
   ]
  },
  {
   "cell_type": "code",
   "execution_count": 7,
   "metadata": {},
   "outputs": [
    {
     "output_type": "execute_result",
     "data": {
      "text/plain": "0     0.50\n1     0.52\n2     0.52\n3     0.52\n4     0.54\n5     0.59\n6     0.59\n7     0.59\n8     0.60\n9     0.70\n10    0.70\ndtype: float64"
     },
     "metadata": {},
     "execution_count": 7
    }
   ],
   "source": [
    "s.fillna(method='bfill')"
   ]
  },
  {
   "cell_type": "code",
   "execution_count": 8,
   "metadata": {},
   "outputs": [
    {
     "output_type": "execute_result",
     "data": {
      "text/plain": "0     0.500\n1     0.575\n2     0.575\n3     0.520\n4     0.540\n5     0.575\n6     0.575\n7     0.590\n8     0.600\n9     0.575\n10    0.700\ndtype: float64"
     },
     "metadata": {},
     "execution_count": 8
    }
   ],
   "source": [
    "s.fillna(s.mean())"
   ]
  },
  {
   "cell_type": "code",
   "execution_count": 9,
   "metadata": {},
   "outputs": [
    {
     "output_type": "execute_result",
     "data": {
      "text/plain": "0     0.500\n1     0.565\n2     0.565\n3     0.520\n4     0.540\n5     0.565\n6     0.565\n7     0.590\n8     0.600\n9     0.565\n10    0.700\ndtype: float64"
     },
     "metadata": {},
     "execution_count": 9
    }
   ],
   "source": [
    "s.fillna(s.median())"
   ]
  },
  {
   "cell_type": "code",
   "execution_count": 13,
   "metadata": {},
   "outputs": [
    {
     "output_type": "execute_result",
     "data": {
      "text/plain": "0     0.50\n1     0.50\n2     0.52\n3     0.52\n4     0.54\n5     0.54\n6     0.59\n7     0.59\n8     0.60\n9     0.60\n10    0.70\ndtype: float64"
     },
     "metadata": {},
     "execution_count": 13
    }
   ],
   "source": [
    "s.fillna(method='ffill',limit=1).fillna(method='bfill',limit=1)"
   ]
  },
  {
   "cell_type": "code",
   "execution_count": 14,
   "metadata": {},
   "outputs": [
    {
     "output_type": "execute_result",
     "data": {
      "text/plain": "  Corredor  Melhor Tempo\n0   Marcos          9.62\n1    Pedro           NaN\n2     João          9.69\n3     Beto          9.72\n4   Sandro           NaN\n5    Denis          9.69\n6      Ary           NaN\n7   Carlos          9.74",
      "text/html": "<div>\n<style scoped>\n    .dataframe tbody tr th:only-of-type {\n        vertical-align: middle;\n    }\n\n    .dataframe tbody tr th {\n        vertical-align: top;\n    }\n\n    .dataframe thead th {\n        text-align: right;\n    }\n</style>\n<table border=\"1\" class=\"dataframe\">\n  <thead>\n    <tr style=\"text-align: right;\">\n      <th></th>\n      <th>Corredor</th>\n      <th>Melhor Tempo</th>\n    </tr>\n  </thead>\n  <tbody>\n    <tr>\n      <th>0</th>\n      <td>Marcos</td>\n      <td>9.62</td>\n    </tr>\n    <tr>\n      <th>1</th>\n      <td>Pedro</td>\n      <td>NaN</td>\n    </tr>\n    <tr>\n      <th>2</th>\n      <td>João</td>\n      <td>9.69</td>\n    </tr>\n    <tr>\n      <th>3</th>\n      <td>Beto</td>\n      <td>9.72</td>\n    </tr>\n    <tr>\n      <th>4</th>\n      <td>Sandro</td>\n      <td>NaN</td>\n    </tr>\n    <tr>\n      <th>5</th>\n      <td>Denis</td>\n      <td>9.69</td>\n    </tr>\n    <tr>\n      <th>6</th>\n      <td>Ary</td>\n      <td>NaN</td>\n    </tr>\n    <tr>\n      <th>7</th>\n      <td>Carlos</td>\n      <td>9.74</td>\n    </tr>\n  </tbody>\n</table>\n</div>"
     },
     "metadata": {},
     "execution_count": 14
    }
   ],
   "source": [
    "atletas = pd.DataFrame([['Marcos', 9.62], ['Pedro', None], ['João', 9.69], \n",
    "                        ['Beto', 9.72], ['Sandro', None], ['Denis', 9.69], \n",
    "                        ['Ary', None], ['Carlos', 9.74]], \n",
    "                        columns = ['Corredor', 'Melhor Tempo'])\n",
    "atletas"
   ]
  },
  {
   "cell_type": "code",
   "execution_count": 15,
   "metadata": {},
   "outputs": [
    {
     "output_type": "execute_result",
     "data": {
      "text/plain": "Melhor Tempo    9.692\ndtype: float64"
     },
     "metadata": {},
     "execution_count": 15
    }
   ],
   "source": [
    "atletas.mean()"
   ]
  },
  {
   "cell_type": "code",
   "execution_count": null,
   "metadata": {},
   "outputs": [],
   "source": []
  }
 ]
}