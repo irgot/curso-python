{
 "cells": [
  {
   "cell_type": "markdown",
   "metadata": {},
   "source": [
    "# <font color=green>1. MEU PRIMEIRO SCRAPING"
   ]
  },
  {
   "cell_type": "markdown",
   "metadata": {},
   "source": [
    "# 1.1. Introdução"
   ]
  },
  {
   "cell_type": "markdown",
   "metadata": {},
   "source": [
    "## *Web Scraping* é o termo utilizado para definir a prática de coletar automaticamente informações na Internet. Isto é feito, geralmente, por meio de programas que simulam a navegação humana na Web."
   ]
  },
  {
   "cell_type": "markdown",
   "metadata": {},
   "source": [
    "# 1.2. Ambiente e bibliotecas\n",
    "### Utilizaremos em nosso treinamento o navegador Google Chrome"
   ]
  },
  {
   "cell_type": "code",
   "execution_count": 1,
   "metadata": {
    "colab": {},
    "colab_type": "code",
    "id": "e9pXIMIWByAp",
    "tags": []
   },
   "outputs": [
    {
     "output_type": "stream",
     "name": "stdout",
     "text": "Requirement already satisfied: bs4 in c:\\users\\igors\\anaconda3\\envs\\igor\\lib\\site-packages (0.0.1)\nRequirement already satisfied: beautifulsoup4 in c:\\users\\igors\\anaconda3\\envs\\igor\\lib\\site-packages (from bs4) (4.9.2)\nRequirement already satisfied: soupsieve>1.2; python_version >= \"3.0\" in c:\\users\\igors\\anaconda3\\envs\\igor\\lib\\site-packages (from beautifulsoup4->bs4) (2.0.1)\nERROR: Could not find a version that satisfies the requirement urllib (from versions: none)\nERROR: No matching distribution found for urllib\nRequirement already satisfied: pandas in c:\\users\\igors\\anaconda3\\envs\\igor\\lib\\site-packages (1.1.2)\nRequirement already satisfied: numpy>=1.15.4 in c:\\users\\igors\\anaconda3\\envs\\igor\\lib\\site-packages (from pandas) (1.19.2)\nRequirement already satisfied: pytz>=2017.2 in c:\\users\\igors\\anaconda3\\envs\\igor\\lib\\site-packages (from pandas) (2020.1)\nRequirement already satisfied: python-dateutil>=2.7.3 in c:\\users\\igors\\anaconda3\\envs\\igor\\lib\\site-packages (from pandas) (2.8.1)\nRequirement already satisfied: six>=1.5 in c:\\users\\igors\\anaconda3\\envs\\igor\\lib\\site-packages (from python-dateutil>=2.7.3->pandas) (1.15.0)\nBeautifulSoup -> 4.9.2\nurllib -> 3.8\npandas -> 1.1.2\n"
    }
   ],
   "source": [
    "!pip install bs4\n",
    "!pip install urllib\n",
    "!pip install pandas\n",
    "import bs4\n",
    "import urllib.request as urllib_request\n",
    "import pandas\n",
    "\n",
    "print(\"BeautifulSoup ->\", bs4.__version__)\n",
    "print(\"urllib ->\", urllib_request.__version__)\n",
    "print(\"pandas ->\", pandas.__version__)"
   ]
  },
  {
   "cell_type": "markdown",
   "metadata": {},
   "source": [
    "# 1.3. Meu primeiro scraping"
   ]
  },
  {
   "cell_type": "code",
   "execution_count": 2,
   "metadata": {
    "tags": []
   },
   "outputs": [
    {
     "output_type": "stream",
     "name": "stdout",
     "text": "Hello World!!!\nWeb Scraping é o termo utilizado para definir a prática de coletar automaticamente informações na Internet. Isto é feito, geralmente, por meio de programas que simulam a navegação humana na Web.\n<h1 class=\"sub-header\">Curso de Web Scraping</h1>\n"
    }
   ],
   "source": [
    "from urllib.request import urlopen\n",
    "from bs4 import BeautifulSoup\n",
    "url='https://alura-site-scraping.herokuapp.com/hello-world.php'\n",
    "\n",
    "response = urlopen(url)\n",
    "html = response.read()\n",
    "html\n",
    "\n",
    "soup = BeautifulSoup(html,'html.parser')\n",
    "print(soup.find('h1', id='hello-world').get_text())\n",
    "print(soup.find('p').get_text())\n",
    "print(soup.find('h1',{'class':'sub-header'}))"
   ]
  },
  {
   "cell_type": "markdown",
   "metadata": {},
   "source": [
    "---\n",
    "# <font color=green>2. OBTENDO E TRATANDO O CONTEÚDO DE UM HTML"
   ]
  },
  {
   "cell_type": "markdown",
   "metadata": {},
   "source": [
    "# 2.1. Entendendo a web"
   ]
  },
  {
   "cell_type": "markdown",
   "metadata": {},
   "source": [
    "<img src=\"./web/web.png\" width=\"700\">"
   ]
  },
  {
   "cell_type": "markdown",
   "metadata": {},
   "source": [
    "# 2.2. Obtendo o conteúdo HTML de um site"
   ]
  },
  {
   "cell_type": "markdown",
   "metadata": {},
   "source": [
    "# urllib.request\n",
    "## https://docs.python.org/3/library/urllib.html"
   ]
  },
  {
   "cell_type": "code",
   "execution_count": 3,
   "metadata": {
    "colab": {
     "base_uri": "https://localhost:8080/",
     "height": 54
    },
    "colab_type": "code",
    "id": "c1pKGnTpgvFU",
    "outputId": "b6b7e32d-4c3e-4f52-a8ba-0b1cbfe15ea4"
   },
   "outputs": [
    {
     "output_type": "execute_result",
     "data": {
      "text/plain": "bytes"
     },
     "metadata": {},
     "execution_count": 3
    }
   ],
   "source": [
    "url='https://alura-site-scraping.herokuapp.com/index.php'\n",
    "response = urlopen(url)\n",
    "html = response.read()\n",
    "type(html)"
   ]
  },
  {
   "cell_type": "markdown",
   "metadata": {},
   "source": [
    "## https://docs.python.org/3/library/urllib.request.html#urllib.request.Request"
   ]
  },
  {
   "cell_type": "code",
   "execution_count": 4,
   "metadata": {
    "tags": [
     "outputPrepend"
    ]
   },
   "outputs": [
    {
     "output_type": "stream",
     "name": "stdout",
     "text": "div\\nclass=\"container\"><div\\nclass=\"footer-navegue\"><ul\\nclass=\"footer-navegue-lista\"><li\\nclass=\"footer-navegue-lista-link\"><a\\nhref=\"/planos-cursos-online\" gtm-data=\\'footer_primeira_secao_053\\'>Planos</a></li><li\\nclass=\"footer-navegue-lista-link\"><a\\nhref=\"/cursos-online-tecnologia\" gtm-data=\\'footer_primeira_secao_054\\'>Todos os cursos</a></li><li\\nclass=\"footer-navegue-lista-link\"><a\\nhref=\"/guias\">Guias de empresas</a></li><li\\nclass=\"footer-navegue-lista-link\"><a\\nhref=\"/instrutores\" gtm-data=\\'footer_primeira_secao_056\\'>Instrutores</a></li><li\\nclass=\"footer-navegue-lista-link\"><a\\nhref=\"/quero-ser-instrutor\" gtm-data=\\'footer_primeira_secao_057\\'>Como virar instrutor</a></li><li\\nclass=\"footer-navegue-lista-link\"><a\\nhref=\"/artigos\" gtm-data=\\'footer_primeira_secao_059\\'>Artigos</a></li><li\\nclass=\"footer-navegue-lista-link\"><a\\nhref=\"/escolas\">Para Escolas</a></li><li\\nclass=\"footer-navegue-lista-link\"><a\\nhref=\"/imersao\">Imers\\xc3\\xb5es</a></li><li\\nclass=\"footer-navegue-lista-link\"><a\\nhref=\"/podcasts\">Podcasts</a></li><li\\nclass=\"footer-navegue-lista-link\"><a\\nhref=\"/politica-de-privacidade\" gtm-data=\\'footer_primeira_secao_061\\'>Pol\\xc3\\xadtica de Privacidade</a></li><li\\nclass=\"footer-navegue-lista-link\"><a\\nhref=\"/termos-de-uso\" gtm-data=\\'footer_primeira_secao_062\\'>Termos de Uso</a></li><li\\nclass=\"footer-navegue-lista-link\"><a\\nhref=\"/sobre\" gtm-data=\\'footer_primeira_secao_063\\'>Sobre n\\xc3\\xb3s</a></li><li\\nclass=\"footer-navegue-lista-link\"><a\\nhref=\"https://suporte.alura.com.br/\" gtm-data=\\'footer_primeira_secao_064\\'>Perguntas frequentes</a></li></ul></div><div\\nclass=\"footer-column footer-column-cards\"><div\\nclass=\"footer-newsletter\"><h2 class=\"footer-newsletter-titulo\">Receba Novidades e Lan\\xc3\\xa7amentos</h2><form\\nclass=\"footer-newsletter-form\" action=\"https://cursos.alura.com.br/api/cadastra-newsletter\" method=\"POST\">\\n<input\\ntype=\"hidden\" name=\"retorno\" value=\"https://www.alura.com.br/newsletter-cadastrado\"><label\\nfor=\"email-newsletter\">Email</label>\\n<input\\ntype=\"email\" name=\"email\" class=\"footer-newsletter-input\" placeholder=\"seu email\" id=\"email-newsletter\"><button\\ntype=\"submit\" class=\"footer-newsletter-button buttonForm\">OK</button></form></div><div\\nclass=\"footer-card-hotLinks\"><h2 class=\"footer-card-hotLinks-titulo\">Nossas redes e apps</h2><div\\nclass=\"footer-card-hotLinks-info footer-card-redes\">\\n<a\\nhref=\"https://www.youtube.com/alura\" gtm-data=\\'footer_primeira_secao_065\\' class=\"footer-card-hotLinks-link\" target=\"_blank\" title=\"YouTube da Alura\">\\n<svg\\nclass=\"footer-card-hotLinks-icon footer-card-hotLinks-youtube\"><use\\nxlink:href=\"/svg,1580229429/footer#icon-footer-youtube\"/></svg>\\n<span>YouTube</span>\\n</a>\\n<a\\nhref=\"https://www.facebook.com/AluraCursosOnline/\" gtm-data=\\'footer_primeira_secao_066\\' class=\"footer-card-hotLinks-link\" target=\"_blank\" title=\"Facebook da Alura\">\\n<svg\\nclass=\"footer-card-hotLinks-icon footer-card-hotLinks-facebook\"><use\\nxlink:href=\"/svg,1580229429/footer#icon-footer-facebook\"/></svg>\\n<span>Facebook</span>\\n</a>\\n<a\\nhref=\"https://twitter.com/aluraonline\" gtm-data=\\'footer_primeira_secao_067\\' class=\"footer-card-hotLinks-link\" target=\"_blank\" title=\"Twitter da Alura\">\\n<svg\\nclass=\"footer-card-hotLinks-icon footer-card-hotLinks-twitter\"><use\\nxlink:href=\"/svg,1580229429/footer#icon-footer-twitter\"/></svg>\\n<span>Twitter</span>\\n</a>\\n<a\\nhref=\"https://hipsters.tech/\" class=\"footer-card-hotLinks-link\" gtm-data=\\'footer_primeira_secao_068\\' target=\"_blank\" title=\"Podcast Hipsters Ponto Tech\">\\n<svg\\nclass=\"footer-card-hotLinks-icon footer-card-hotLinks-hipsters\"><use\\nxlink:href=\"/svg,1580229429/footer#icon-footer-hipsters\"/></svg>\\n<span>Podcast Hipsters.tech</span>\\n</a>\\n<a\\nhref=\"https://instagram.com/aluraonline\" class=\"footer-card-hotLinks-link\" gtm-data=\\'footer_primeira_secao_073\\' target=\"_blank\" title=\"Instagram da Alura\">\\n<svg\\nclass=\"footer-card-hotLinks-icon footer-card-hotLinks-instagram\"><use\\nxlink:href=\"/svg,1580229429/footer#icon-footer-instagram\"/></svg>\\n<span>Instagram</span>\\n</a></div><div\\nclass=\"footer-card-hotLinks-info footer-card-mobile\">\\n<a\\nhref=\"https://play.google.com/store/apps/details?id=br.com.alura.mobi&hl=pt_BR\" gtm-data=\\'footer_primeira_secao_069\\' class=\"footer-card-hotLinks-link\" target=\"_blank\" title=\"Baixar na Google Play Store\">\\n<svg\\nclass=\"footer-card-hotLinks-icon footer-card-hotLinks-mobile\"><use\\nxlink:href=\"/svg,1580229429/footer#icon-footer-googleplay\"/></svg>\\n<span>Google Play Store</span>\\n</a>\\n<a\\nhref=\"https://itunes.apple.com/br/app/alura-cursos-online/id1225776635\" gtm-data=\\'footer_primeira_secao_070\\' class=\"footer-card-hotLinks-link\" target=\"_blank\" title=\"Baixar na AppStore\">\\n<svg\\nclass=\"footer-card-hotLinks-icon footer-card-hotLinks-mobile\"><use\\nxlink:href=\"/svg,1580229429/footer#icon-footer-appstore\"/></svg>\\n<span>AppStore</span>\\n</a></div></div></div><div\\nclass=\"footer-column\">\\n<a\\nclass=\"footer-card footer-card-contato\" gtm-data=\\'footer_primeira_secao_071\\' href=\"/contato\"><div\\nclass=\"footer-card-info\"><h2 class=\"footer-card-titulo\">Fale Conosco</h2><p\\nclass=\"footer-card-texto\">D\\xc3\\xbavida, cr\\xc3\\xadtica, sugest\\xc3\\xa3o ou elogio?</p><p\\nclass=\"footer-card-fakeLink\">Entre em contato!</p></div>\\n</a><a\\nclass=\"footer-card footer-card-empresa\" gtm-data=\\'footer_primeira_secao_072\\' href=\"/empresas\"><div\\nclass=\"footer-card-info\"><h2 class=\"footer-card-titulo\">Empresa? Governo?</h2><p\\nclass=\"footer-card-texto\">Planos corporativos para o seu time.</p><p\\nclass=\"footer-card-fakeLink\">Saiba mais</p></div>\\n</a></div><div\\nclass=\"footer-info\"><div\\nclass=\"footer-logos\">\\n<a\\nclass=\"footer-logos-home\" gtm-data=\\'footer_primeira_secao_050\\' href=\"/\">\\n<img\\nsrc=\"/assets/img/alura-logo.1570550707.svg\" alt=\"Alura\" class=\"footer-logo\">\\n</a>\\n<a\\nhref=\"https://www.caelum.com.br/\" gtm-data=\\'footer_primeira_secao_051\\' class=\"footer-link-caelum\"><h3 class=\"footer-powered-by\">Powered by</h3>\\n<img\\nsrc=\"/assets/img/footer/novo-logo-caelum.1580229429.svg\" alt=\"Caelum\" class=\"footer-logo footer-caelumLogo\">\\n</a></div><div\\nclass=\"footer-cnpj\"><p>\\n<span\\nclass=\"footer-empresa-item\">AOVS Sistemas de Inform\\xc3\\xa1tica S.A</span>\\n<span\\nclass=\"footer-empresa-item\">CNPJ 05.555.382/0001-33</span></p></div></div></div></footer><section\\nclass=\"footer_categorias-formacoes\"><div\\nclass=\"container\"><div\\nclass=\"footer_categorias_wrapper\"><h2 class=\"footer_categorias_title\">Cursos</h2><div\\nclass=\"footer_categorias_categorias footer-navegue-lista-link\"><div\\nclass=\"footer_categorias_categoria\">\\n<a\\nhref=\"/cursos-online-mobile\">Cursos de Mobile</a><div\\nclass=\"footer_categorias_subcategorias\">\\n<a\\nhref=\"/cursos-online-mobile/multiplataforma\">\\nFlutter, React Native</a>\\n<a\\nhref=\"/cursos-online-mobile/ios\">\\niOS e Swift</a>\\n<a\\nhref=\"/cursos-online-mobile/android\">\\nAndroid, Kotlin</a>\\n<a\\nhref=\"/cursos-online-mobile/jogos\">\\nJogos</a></div></div><div\\nclass=\"footer_categorias_categoria\">\\n<a\\nhref=\"/cursos-online-programacao\">Cursos de Programa\\xc3\\xa7\\xc3\\xa3o</a><div\\nclass=\"footer_categorias_subcategorias\">\\n<a\\nhref=\"/cursos-online-programacao/logica\">\\nL\\xc3\\xb3gica</a>\\n<a\\nhref=\"/cursos-online-programacao/python\">\\nPython</a>\\n<a\\nhref=\"/cursos-online-programacao/php\">\\nPHP</a>\\n<a\\nhref=\"/cursos-online-programacao/java\">\\nJava</a>\\n<a\\nhref=\"/cursos-online-programacao/dotnet\">\\n.NET</a>\\n<a\\nhref=\"/cursos-online-programacao/node-js\">\\nNode JS</a>\\n<a\\nhref=\"/cursos-online-programacao/ruby\">\\nRuby & Rails</a>\\n<a\\nhref=\"/cursos-online-programacao/linguagem-c\">\\nC</a>\\n<a\\nhref=\"/cursos-online-programacao/computacao\">\\nComputa\\xc3\\xa7\\xc3\\xa3o</a>\\n<a\\nhref=\"/cursos-online-programacao/jogos\">\\nJogos</a></div></div><div\\nclass=\"footer_categorias_categoria\">\\n<a\\nhref=\"/cursos-online-front-end\">Cursos de Front-end</a><div\\nclass=\"footer_categorias_subcategorias\">\\n<a\\nhref=\"/cursos-online-front-end/front-end\">\\nHTML, CSS</a>\\n<a\\nhref=\"/cursos-online-front-end/reactjs\">\\nReact</a>\\n<a\\nhref=\"/cursos-online-front-end/angular\">\\nAngular</a>\\n<a\\nhref=\"/cursos-online-front-end/javascript\">\\nJavaScript</a>\\n<a\\nhref=\"/cursos-online-front-end/jquery\">\\njQuery</a></div></div><div\\nclass=\"footer_categorias_categoria\">\\n<a\\nhref=\"/cursos-online-infraestrutura\">Cursos de Infraestrutura</a><div\\nclass=\"footer_categorias_subcategorias\">\\n<a\\nhref=\"/cursos-online-infraestrutura/devops\">\\nDevOps e Git</a>\\n<a\\nhref=\"/cursos-online-infraestrutura/cloud-computing\">\\nCloud</a>\\n<a\\nhref=\"/cursos-online-infraestrutura/linux-comandos-e-processos\">\\nLinux</a>\\n<a\\nhref=\"/cursos-online-infraestrutura/internet-das-coisas\">\\nIoT</a>\\n<a\\nhref=\"/cursos-online-infraestrutura/redes\">\\nRedes</a></div></div><div\\nclass=\"footer_categorias_categoria\">\\n<a\\nhref=\"/cursos-online-design-ux\">Cursos de Design & UX</a><div\\nclass=\"footer_categorias_subcategorias\">\\n<a\\nhref=\"/cursos-online-design-ux/wwww\">\\nPhotoshop e Illustrator</a>\\n<a\\nhref=\"/cursos-online-design-ux/ux\">\\nUsabilidade e UX</a>\\n<a\\nhref=\"/cursos-online-design-ux/video\">\\nV\\xc3\\xaddeo e Motion</a>\\n<a\\nhref=\"/cursos-online-design-ux/3d\">\\n3D</a></div></div><div\\nclass=\"footer_categorias_categoria\">\\n<a\\nhref=\"/cursos-online-marketing-digital\">Cursos de Marketing Digital</a><div\\nclass=\"footer_categorias_subcategorias\">\\n<a\\nhref=\"/cursos-online-marketing-digital/ads\">\\nAds</a>\\n<a\\nhref=\"/cursos-online-marketing-digital/marketing-digital\">\\nMarketing</a>\\n<a\\nhref=\"/cursos-online-marketing-digital/seo\">\\nSEO</a>\\n<a\\nhref=\"/cursos-online-marketing-digital/e-commerce\">\\nE-commerce</a>\\n<a\\nhref=\"/cursos-online-marketing-digital/social-media\">\\nSocial Media</a>\\n<a\\nhref=\"/cursos-online-marketing-digital/youtube\">\\nYouTube</a></div></div><div\\nclass=\"footer_categorias_categoria\">\\n<a\\nhref=\"/cursos-online-data-science\">Cursos de Data Science</a><div\\nclass=\"footer_categorias_subcategorias\">\\n<a\\nhref=\"/cursos-online-data-science/sql\">\\nSQL e Banco de Dados</a>\\n<a\\nhref=\"/cursos-online-data-science/nosql\">\\nNoSQL</a>\\n<a\\nhref=\"/cursos-online-data-science/data-science\">\\nData Science</a>\\n<a\\nhref=\"/cursos-online-data-science/machine-learning\">\\nMachine Learning</a>\\n<a\\nhref=\"/cursos-online-data-science/business-intelligence\">\\nBI</a>\\n<a\\nhref=\"/cursos-online-data-science/estatistica\">\\nEstat\\xc3\\xadstica</a>\\n<a\\nhref=\"/cursos-online-data-science/excel\">\\nExcel</a></div></div><div\\nclass=\"footer_categorias_categoria\">\\n<a\\nhref=\"/cursos-online-inovacao-gestao\">Cursos de Inova\\xc3\\xa7\\xc3\\xa3o & Gest\\xc3\\xa3o</a><div\\nclass=\"footer_categorias_subcategorias\">\\n<a\\nhref=\"/cursos-online-inovacao-gestao/agilidade\">\\nM\\xc3\\xa9todos \\xc3\\x81geis</a>\\n<a\\nhref=\"/cursos-online-inovacao-gestao/softskills-carreira\">\\nSoftskills</a>\\n<a\\nhref=\"/cursos-online-inovacao-gestao/gestao-corporativa\">\\nLideran\\xc3\\xa7a e Gest\\xc3\\xa3o</a>\\n<a\\nhref=\"/cursos-online-inovacao-gestao/startup-empreendedorismo\">\\nStartups</a>\\n<a\\nhref=\"/cursos-online-inovacao-gestao/vendas\">\\nVendas</a></div></div></div></div></div></section><style>@media not all and (min-width: 1000px){\\n\\t\\t.grupoCaelum{\\n\\t\\t\\tdisplay: none;\\n\\t\\t}\\n\\t}\\n\\n\\t.grupoCaelum{\\n\\t\\tbackground: #fff;\\n\\t\\theight: 240px;\\n\\t\\tborder-top: 1px solid #EBEBEE;\\n\\t}\\n\\n\\t.grupoCaelum .container{\\n\\t\\tdisplay: flex;\\n\\t\\tjustify-content: space-between;\\n\\t\\talign-items: flex-start;\\n\\t\\tpadding-top: 0;\\n\\t\\tpadding-bottom: 0;\\n\\t\\theight: 100%;\\n\\t}\\n\\n\\t\\t.grupoCaelum-list{\\n\\t\\t\\tdisplay: flex;\\n\\t\\t\\tlist-style: none;\\n\\t\\t\\twidth: 60%;\\n\\t\\t\\tjustify-content: space-between;\\n\\t\\t\\talign-items: flex-start;\\n\\t\\t\\tmargin-top: 20px;\\n\\t\\t}\\n\\n\\t\\t.grupoCaelum-title{\\n\\t\\t\\twidth: 20%;\\n\\t\\t}\\n\\n\\t\\t.grupoCaelum-column {\\n\\t\\t\\tdisplay: inline-block;\\n\\t\\t\\tpadding-left: 19px;\\n\\t\\t\\twidth: 240px;\\n\\t\\t\\theight: 210px;\\n\\t\\t\\tmin-width: 160px;\\n\\t\\t}\\n\\t\\t\\t.grupoCaelum-column-title {\\n\\t\\t\\t\\tfont-size: 10px;\\n\\t\\t\\t\\tcolor: #d7e0e5;\\n\\t\\t\\t\\ttext-transform: uppercase;\\n\\t\\t\\t\\tfont-weight: 600;\\n\\t\\t\\t\\tmargin-bottom: 19px;\\n\\t\\t\\t}\\n\\n\\t\\t\\t.grupoCaelum-column-list {\\n\\t\\t\\t\\tlist-style: none;\\n\\t\\t\\t}\\n\\n\\t\\t\\t.column-item-title {\\n\\t\\t\\t\\tfont-size: 11px;\\n\\t\\t\\t\\ttext-align: center;\\n\\t\\t\\t\\tvertical-align: middle;\\n\\t\\t\\t\\tdisplay: inline-block;\\n\\t\\t\\t\\tmargin-left: 6.5px;\\n\\t\\t\\t}\\n\\n\\t\\t.grupoCaelum-column:not(:first-child) {\\n\\t\\t\\tborder-left: solid 1px #e3e9ed;\\n\\t\\t}\\n\\n\\t\\t.grupoCaelum-title {\\n\\t\\t\\tdisplay: inline-block;\\n\\t\\t\\ttext-decoration: none;\\n\\t\\t\\tcolor: #657176;\\n\\t\\t\\tletter-spacing: normal;\\n\\t\\t\\tfont-size: 18px;\\n\\t\\t\\tmargin-top: 54px;\\n\\t\\t}\\n\\n\\t.column-item-logo {\\n\\t\\twidth: 30px;\\n\\t\\theight: 30px;\\n\\t\\tvertical-align: middle;\\n\\t\\tdisplay: inline-block;\\n\\t}\\n\\n\\t.column-item {\\n\\t\\tmargin-bottom: 17px;\\n\\t}\\n\\n\\t.column-item a{\\n\\t\\ttext-decoration: none;\\n\\t\\tcolor: #657176;\\n\\t}</style><footer\\nclass=\"caelum-footer\"><div\\nclass=\"grupoCaelum\"><div\\nclass=\"container\"><p\\nclass=\"grupoCaelum-title\">Grupo Alura</p><ul\\nclass=\"grupoCaelum-list\"><li\\nclass=\"grupoCaelum-column\"><p\\nclass=\"grupoCaelum-column-title\">Educa\\xc3\\xa7\\xc3\\xa3o</p><ul\\nclass=\"grupoCaelum-column-list\"><li\\nclass=\"column-item\">\\n<a\\ntarget=\"_blank\" href=\"https://www.caelum.com.br\"><svg\\nclass=\"column-item-logo\"><use\\nxlink:href=\"/svg,1580229429/caelumFooter#icon-caelumFooter-novo-logo-caelum\"><span\\nclass=\"column-item-title\">Caelum</span></svg>\\n</a></li><li\\nclass=\"column-item\">\\n<a\\ntarget=\"_blank\" href=\"https://www.casadocodigo.com.br\">\\n<svg\\nclass=\"column-item-logo\"><use\\nxlink:href=\"/svg,1580229429/caelumFooter#icon-caelumFooter-cdc\"><span\\nclass=\"column-item-title\">Casa do C\\xc3\\xb3digo</span></svg>\\n</a></li></ul></li><li\\nclass=\"grupoCaelum-column\"><p\\nclass=\"grupoCaelum-column-title\">Educa\\xc3\\xa7\\xc3\\xa3o Online</p><ul\\nclass=\"grupoCaelum-column-list\"><li\\nclass=\"column-item\">\\n<a\\ntarget=\"_blank\" href=\"https://www.alura.com.br\">\\n<svg\\nclass=\"column-item-logo\"><use\\nxlink:href=\"/svg,1580229429/caelumFooter#icon-caelumFooter-alura\"><span\\nclass=\"column-item-title\">Alura</span></svg>\\n</a></li><li\\nclass=\"column-item\">\\n<a\\ntarget=\"_blank\" href=\"https://www.alurastart.com.br\">\\n<svg\\nclass=\"column-item-logo\"><use\\nxlink:href=\"/svg,1580229429/caelumFooter#icon-caelumFooter-alurastart\"><span\\nclass=\"column-item-title\">Alura Start</span></svg>\\n</a></li><li\\nclass=\"column-item\">\\n<a\\ntarget=\"_blank\" href=\"https://www.musicdot.com.br\">\\n<svg\\nclass=\"column-item-logo\"><use\\nxlink:href=\"/svg,1580229429/caelumFooter#icon-caelumFooter-musicdot\"><span\\nclass=\"column-item-title\">MusicDot</span></svg>\\n</a></li><li\\nclass=\"column-item\">\\n<a\\ntarget=\"_blank\" href=\"https://www.aluralingua.com.br\">\\n<svg\\nclass=\"column-item-logo\"><use\\nxlink:href=\"/svg,1580229429/caelumFooter#icon-caelumFooter-aluralingua\"><span\\nclass=\"column-item-title\">Alura L\\xc3\\xadngua</span></svg>\\n</a></li></ul></li><li\\nclass=\"grupoCaelum-column\"><p\\nclass=\"grupoCaelum-column-title\">Comunidade</p><ul\\nclass=\"grupoCaelum-column-list\"><li\\nclass=\"column-item\">\\n<a\\ntarget=\"_blank\" href=\"https://hipsters.tech\">\\n<svg\\nclass=\"column-item-logo\"><use\\nxlink:href=\"/svg,1580229429/caelumFooter#icon-caelumFooter-hipsterstech\"><span\\nclass=\"column-item-title\">Hipsters ponto Tech</span></svg>\\n</a></li><li\\nclass=\"column-item\">\\n<a\\ntarget=\"_blank\" href=\"https://hipsters.jobs\">\\n<svg\\nclass=\"column-item-logo\"><use\\nxlink:href=\"/svg,1580229429/caelumFooter#icon-caelumFooter-hipstersjobs\"><span\\nclass=\"column-item-title\">Hipsters ponto Jobs</span></svg>\\n</a></li><li\\nclass=\"column-item\">\\n<a\\ntarget=\"_blank\" href=\"https://www.guj.com.br\">\\n<svg\\nclass=\"column-item-logo\"><use\\nxlink:href=\"/svg,1580229429/caelumFooter#icon-caelumFooter-guj\"><span\\nclass=\"column-item-title\">GUJ</span></svg>\\n</a></li></ul></li></ul></div></div></footer> <script>(function(){\\n    var match = location.pathname.match(/\\\\/(bf-|blackfriday\\\\/)([^\\\\/]+)/);\\n    if (match != null) {\\n        var links = document.querySelectorAll(\\'a[href]\\');\\n        for (var i = 0; i < links.length; i++) {\\n            var href = links[i].getAttribute(\\'href\\');\\n            if (href[0] === \\'/\\') {\\n                links[i].setAttribute(\\'href\\', \\'/bf-\\' + match[2] + href);\\n            }\\n        }\\n    }\\n})();</script> <script src=\"/assets/js/lib/svg4everybody.min.1570550707.js\" async></script> <script src=\"/assets/js/header/menu.1570550707.js\" async></script> <script src=\"/assets/js/header/busca.1570550707.js\" async></script> <script src=\"/assets/js/header/cursos.1570550707.js\" async></script> <script src=\"/assets/js/detect.1570550707.js\" async></script> <script src=\"/assets/js/video.1571773177.js\" async></script> <script src=\"/assets/js/Countdown.1599745598.js\" async></script> <script>var userId = (document.cookie.match(\\'alura.userId=([^;]+)\\')||[null,null])[1];\\n  window.ga=window.ga||function(){(ga.q=ga.q||[]).push(arguments)};ga.l=+new Date;\\n\\n  \\tga(\\'create\\', \\'UA-42101548-1\\', \\'alura.com.br\\', \\'tracker0\\', {\\'siteSpeedSampleRate\\': 50});\\n\\n\\tif (userId) ga(\\'tracker0.set\\', \\'userId\\', userId);\\n\\n\\tga(\\'tracker0.require\\', \\'displayfeatures\\');\\n\\tga(\\'tracker0.send\\', \\'pageview\\');\\n  \\tga(\\'create\\', \\'UA-42101548-9\\', \\'alura.com.br\\', \\'tracker1\\', {\\'siteSpeedSampleRate\\': 50});\\n\\n\\tif (userId) ga(\\'tracker1.set\\', \\'userId\\', userId);\\n\\n\\tga(\\'tracker1.require\\', \\'displayfeatures\\');\\n\\tga(\\'tracker1.send\\', \\'pageview\\');</script> <script async src=\\'//www.google-analytics.com/analytics.js\\'></script> <script src=\"/assets/js/footer/footer.1570550707.js\" async></script> <script src=\"https://static.criteo.net/js/ld/ld.js\" async></script> <script>function criteoPush(event, data){\\n\\t\\tvar isAluno = document.cookie.match(\\'alura.userId=([^;]+)\\') != null;\\n\\t\\tif(isAluno) return;\\n\\n\\t\\twindow.criteo_q = window.criteo_q || [];\\n\\t\\t\\n\\t\\tif (event == \\'viewHome\\')\\n\\t\\t\\tvar dt = { event: event}\\n\\t\\telse\\n\\t\\t\\tvar dt = { event: event, item: data};\\n\\n\\t\\twindow.criteo_q.push(\\n\\t\\t\\t{ event: \"setAccount\", account: 28037 },\\n\\t\\t\\t{ event: \"setEmail\", email: \"\" },\\n\\t\\t\\t{ event: \"setSiteType\", type: (/iPad/.test(navigator.userAgent) ? \"t\" : (/Mobile|iP(hone|od)|Android|BlackBerry|IEMobile/.test(navigator.userAgent) ? \"m\" : \"d\")) },\\n\\t\\t\\tdt\\n\\t\\t);\\t\\n\\t};\\n\\n\\t\\t\\tcriteoPush(\"viewHome\", \"\");\\n\\t\\t\\n\\t\\tvar criteoIdEl = document.querySelector(\\'[data-criteo-id]\\');\\n\\tif (criteoIdEl) {\\n        var products = JSON.parse(criteoIdEl.dataset.criteoId);\\n        var planos = document.querySelectorAll(\\'[data-payment-plan]\\');\\n\\n        planos.forEach(function (plano) {\\n            plano.addEventListener(\\'click\\', function (event) {\\n\\t\\t\\t\\tvar price = plano.dataset.paymentPlanPrice;\\n                var totalProducts = products.length;\\n\\t\\t\\t\\tvar productIds = \\'\\';\\n\\n                for(var i = 0; i < totalProducts; i++){\\n                    products[i][\\'price\\'] = price;\\n                    products[i][\\'quantity\\'] = 1;\\n\\t\\t\\t\\t\\tproductIds += \\',\\' + products[i][\\'id\\'];\\n                }\\n\\n\\t\\t\\t\\tproductIds = productIds.substr(1);\\n\\n\\t\\t\\t\\t// monta cookie pro Cart indicando quais cursos foram clicados\\n        \\t\\tdocument.cookie = \"criteo.productIds=\" + productIds + \"; path=/; domain=.alura.com.br\";\\n\\n\\t\\t\\t\\t// manda pro criteo\\n                criteoPush(\"viewBasket\", products);\\n            });\\n        });\\n\\n\\n\\t}</script> <script type=\"text/javascript\">_linkedin_partner_id = \"465017\";\\n\\t\\t\\twindow._linkedin_data_partner_ids = window._linkedin_data_partner_ids || [];\\n\\t\\t\\twindow._linkedin_data_partner_ids.push(_linkedin_partner_id);</script> <script type=\"text/javascript\">(function(){var s = document.getElementsByTagName(\"script\")[0];\\n\\t\\t\\tvar b = document.createElement(\"script\");\\n\\t\\t\\tb.type = \"text/javascript\";b.async = true;\\n\\t\\t\\tb.src = \"https://snap.licdn.com/li.lms-analytics/insight.min.js\";\\n\\t\\t\\ts.parentNode.insertBefore(b, s);})();</script> <noscript>\\n<img\\nheight=\"1\" width=\"1\" style=\"display:none;\" alt=\"\"\\nsrc=\"https://dc.ads.linkedin.com/collect/?pid=465017&fmt=gif\" />\\n</noscript></body></html>'\n"
    },
    {
     "output_type": "execute_result",
     "data": {
      "text/plain": "<link rel=\"stylesheet\" href=\"https://maxcdn.bootstrapcdn.com/bootstrap/3.3.7/css/bootstrap.min.css\" integrity=\"sha384-BVYiiSIFeK1dGmJRAkycuHAHRg32OmUcww7on3RYdg4Va+PmSTsz/K68vbdEjh4u\" crossorigin=\"anonymous\">\\r\\n\\t<link rel=\"stylesheet\" href=\"css/styles.css\" media=\"all\">\\r\\n\\r\\n\\t<script src=\"https://code.jquery.com/jquery-1.12.4.js\"></script>\\r\\n\\t<script src=\"https://maxcdn.bootstrapcdn.com/bootstrap/3.3.7/js/bootstrap.min.js\" integrity=\"sha384-Tc5IQib027qvyjSMfHjOMaLkfuWVxZxUPnCJA7l2mCWNIpG9mGCD8wGNIcPD7Txa\" crossorigin=\"anonymous\"></script>\\r\\n\\t<script type=\"text/javascript\" src=\"js/index.js\"></script>\\r\\n\\t<script>\\r\\n\\t\\trequisitar(\"https://alura-scraping.herokuapp.com/produtos?_page=\"+1+\"&_limit=10\")\\r\\n\\t</script>\\r\\n\\r\\n</head>\\r\\n<body cz-shortcut-listen=\"true\">\\r\\n    <noscript>You need to enable JavaScript to run this app.</noscript>\\r\\n\\r\\n\\t<div class=\"modal fade\" data-backdrop=\"static\" id=\"loadingModal\" tabindex=\"-1\" role=\"dialog\" aria-labelledby=\"loadingModal_label\">\\r\\n\\t\\t<div class=\"modal-dialog\" role=\"document\">\\r\\n\\t\\t\\t<div class=\"modal-content\">\\r\\n\\t\\t\\t\\t<div class=\"modal-header\">\\r\\n\\t\\t\\t\\t\\t<h5 class=\"modal-title\" id=\"loadingModal_label\">\\r\\n\\t\\t\\t\\t\\t\\t<span class=\"glyphicon glyphicon-refresh\"></span>Aguarde...\\r\\n\\t\\t\\t\\t\\t</h5>\\r\\n\\t\\t\\t\\t</div>\\r\\n\\t\\t\\t\\t<div class=\"modal-body\">\\r\\n\\t\\t\\t\\t\\t<div class=\\'alert\\' role=\\'alert\\'>\\r\\n\\t\\t\\t\\t\\t\\t<center>\\r\\n\\t\\t\\t\\t\\t\\t\\t<div class=\"loader\" id=\"loader\"></div><br>\\r\\n\\t\\t\\t\\t\\t\\t\\t<h4><b id=\"loadingModal_content\"></b></h4>\\r\\n\\t\\t\\t\\t\\t\\t</center>\\r\\n\\t\\t\\t\\t\\t</div>\\r\\n\\t\\t\\t\\t</div>\\r\\n\\t\\t\\t</div>\\r\\n\\t\\t</div>\\r\\n\\t</div>\\r\\n\\r\\n    <div id=\"root\">\\r\\n\\t\\t<header>\\r\\n\\t\\t\\t<nav class=\"navbar navbar-inverse\" style=\"margin-bottom: 0;\">\\r\\n\\t\\t\\t\\t<div class=\"container\" style=\"margin-bottom: -20px;\">\\r\\n\\t\\t\\t\\t\\t<div class=\"navbar\">\\r\\n\\t\\t\\t\\t\\t\\t<a href=\"./index.php\" class=\"navbar-brand\" title=\"Alura Motors\">\\r\\n\\t\\t\\t\\t\\t\\t\\t<img src=\"img/alura-logo.svg\" class=\"d-inline-block align-top\" alt=\"Alura\">Motors\\r\\n\\t\\t\\t\\t\\t\\t</a>\\r\\n\\t\\t\\t\\t\\t\\t<ul class=\"nav navbar-nav\" style=\"margin-top: 35px;\">\\r\\n\\t\\t\\t\\t\\t\\t\\t<li><a href=\"./hello-world.php\">Hello World</a></li>\\r\\n\\t\\t\\t\\t\\t\\t\\t<li><a href=\"./index.php\">An\\xc3\\xbancios</a></li>\\r\\n\\t\\t\\t\\t\\t\\t</ul>\\r\\n\\t\\t\\t\\t\\t</div>\\r\\n\\t\\t\\t\\t</div>\\r\\n\\t\\t\\t</nav>\\r\\n\\t\\t</header>\\r\\n\\r\\n\\t\\t<div class=\"container\">\\r\\n\\t\\t\\t<h1 class=\"sub-header\">Ve\\xc3\\xadculos de Luxo Novos e Usados - Todas as Marcas</h1>\\r\\n\\t\\t\\t<div class=\"row\">\\r\\n\\t\\t\\t\\t<div class=\"col-md-12\">\\r\\n\\t\\t\\t\\t\\t<div class=\"container\" style=\"width: 100%\">\\r\\n\\t\\t\\t\\t\\t\\t<div class=\"type-select\">246 ve\\xc3\\xadculos encontrados</div>\\r\\n\\t\\t\\t\\t\\t\\t\\t<div class=\"container-pagination\" style=\"float: right\">\\r\\n\\t\\t\\t\\t\\t\\t\\t\\t<span class=\"info-pages\">P\\xc3\\xa1gina 1 de 25</span>\\r\\n\\t\\t\\t\\t\\t\\t\\t</div>\\r\\n\\t\\t\\t\\t\\t\\t</div>\\r\\n\\t\\t\\t\\t\\t\\t<div id=\"container-cards\" style=\"height: 100%\">\\r\\n\\t\\t\\t\\t\\t\\t\\t\\r\\n                <div class=\"well card\">\\r\\n                    <div class=\"col-md-3 image-card\">\\r\\n                        <img width=\"220\" height=\"155\" alt=\"Foto\" src=\"https://caelum-online-public.s3.amazonaws.com/1381-scraping/01/img-cars/lamborghini-aventador/lamborghini-aventador-2932196__340.jpg\">\\r\\n                    </div>\\r\\n                    <div class=\"col-md-6 body-card\">\\r\\n                        <p class=\"txt-name inline\">LAMBORGHINI AVENTADOR</p>\\r\\n                            <p class=\"txt-category badge badge-secondary inline\">USADO</p>\\r\\n                            \\r\\n                        <p class=\"txt-motor\">Motor 1.8 16v</p>\\r\\n                        <p class=\"txt-description\">Ano 1993 - 55.286 km</p>\\r\\n                        <ul class=\"lst-items\">\\r\\n                            <li class=\"txt-items\">\\xe2\\x96\\xba 4 X 4</li>\\r\\n                            <li class=\"txt-items\">\\xe2\\x96\\xba C\\xc3\\xa2mera de estacionamento</li>\\r\\n                            <li class=\"txt-items\">\\xe2\\x96\\xba Controle de tra\\xc3\\xa7\\xc3\\xa3o</li>\\r\\n                            <li class=\"txt-items\">\\xe2\\x96\\xba Sensor de estacionamento</li>\\r\\n                            <li class=\"txt-items\">...</li>\\r\\n                        </ul>\\r\\n                        <p class=\"txt-location\">Belo Horizonte - MG</p>\\r\\n                    </div>\\r\\n                    <div class=\"col-md-3 value-card\">\\r\\n                        <div class=\"value\">\\r\\n                            <p class=\"txt-value\">R$ 338.000</p>\\r\\n                        </div>\\r\\n                    </div>\\r\\n                </div>\\r\\n                <div class=\"well card\">\\r\\n                    <div class=\"col-md-3 image-card\">\\r\\n                        <img width=\"220\" height=\"155\" alt=\"Foto\" src=\"https://caelum-online-public.s3.amazonaws.com/1381-scraping/01/img-cars/bmw-m2/bmw-m2-2970882__340.jpg\">\\r\\n                    </div>\\r\\n                    <div class=\"col-md-6 body-card\">\\r\\n                        <p class=\"txt-name inline\">BMW M2</p>\\r\\n                            <p class=\"txt-category badge badge-secondary inline\">USADO</p>\\r\\n                            \\r\\n                        <p class=\"txt-motor\">Motor 3.0 32v</p>\\r\\n                        <p class=\"txt-description\">Ano 2018 - 83.447 km</p>\\r\\n                        <ul class=\"lst-items\">\\r\\n                            <li class=\"txt-items\">\\xe2\\x96\\xba C\\xc3\\xa2mera de estacionamento</li>\\r\\n                            <li class=\"txt-items\">\\xe2\\x96\\xba Controle de estabilidade</li>\\r\\n                            <li class=\"txt-items\">\\xe2\\x96\\xba Travas el\\xc3\\xa9tricas</li>\\r\\n                            <li class=\"txt-items\">\\xe2\\x96\\xba Freios ABS</li>\\r\\n                            <li class=\"txt-items\">...</li>\\r\\n                        </ul>\\r\\n                        <p class=\"txt-location\">Belo Horizonte - MG</p>\\r\\n                    </div>\\r\\n                    <div class=\"col-md-3 value-card\">\\r\\n                        <div class=\"value\">\\r\\n                            <p class=\"txt-value\">R$ 346.000</p>\\r\\n                        </div>\\r\\n                    </div>\\r\\n                </div>\\r\\n                <div class=\"well card\">\\r\\n                    <div class=\"col-md-3 image-card\">\\r\\n                        <img width=\"220\" height=\"155\" alt=\"Foto\" src=\"https://caelum-online-public.s3.amazonaws.com/1381-scraping/01/img-cars/alfa/alfa-1823056__340.jpg\">\\r\\n                    </div>\\r\\n                    <div class=\"col-md-6 body-card\">\\r\\n                        <p class=\"txt-name inline\">ALFA</p>\\r\\n                            <p class=\"txt-category badge badge-secondary inline\">USADO</p>\\r\\n                            \\r\\n                        <p class=\"txt-motor\">Motor 1.8 16v</p>\\r\\n                        <p class=\"txt-description\">Ano 2004 - 19.722 km</p>\\r\\n                        <ul class=\"lst-items\">\\r\\n                            <li class=\"txt-items\">\\xe2\\x96\\xba Central multim\\xc3\\xaddia</li>\\r\\n                            <li class=\"txt-items\">\\xe2\\x96\\xba Bancos de couro</li>\\r\\n                            <li class=\"txt-items\">\\xe2\\x96\\xba Rodas de liga</li>\\r\\n                            <li class=\"txt-items\">\\xe2\\x96\\xba C\\xc3\\xa2mera de estacionamento</li>\\r\\n                            <li class=\"txt-items\">...</li>\\r\\n                        </ul>\\r\\n                        <p class=\"txt-location\">Rio de Janeiro - RJ</p>\\r\\n                    </div>\\r\\n                    <div class=\"col-md-3 value-card\">\\r\\n                        <div class=\"value\">\\r\\n                            <p class=\"txt-value\">R$ 480.000</p>\\r\\n                        </div>\\r\\n                    </div>\\r\\n                </div>\\r\\n                <div class=\"well card\">\\r\\n                    <div class=\"col-md-3 image-card\">\\r\\n                        <img width=\"220\" height=\"155\" alt=\"Foto\" src=\"https://caelum-online-public.s3.amazonaws.com/1381-scraping/01/img-cars/puech/puech-4055386__340.jpg\">\\r\\n                    </div>\\r\\n                    <div class=\"col-md-6 body-card\">\\r\\n                        <p class=\"txt-name inline\">PUECH</p>\\r\\n                            <p class=\"txt-category badge badge-secondary inline\">USADO</p>\\r\\n                            \\r\\n                        <p class=\"txt-motor\">Motor Diesel V8</p>\\r\\n                        <p class=\"txt-description\">Ano 1992 - 34.335 km</p>\\r\\n                        <ul class=\"lst-items\">\\r\\n                            <li class=\"txt-items\">\\xe2\\x96\\xba Bancos de couro</li>\\r\\n                            <li class=\"txt-items\">\\xe2\\x96\\xba Freios ABS</li>\\r\\n                            <li class=\"txt-items\">\\xe2\\x96\\xba Rodas de liga</li>\\r\\n                            <li class=\"txt-items\">\\xe2\\x96\\xba C\\xc3\\xa2mbio autom\\xc3\\xa1tico</li>\\r\\n                            <li class=\"txt-items\">...</li>\\r\\n                        </ul>\\r\\n                        <p class=\"txt-location\">S\\xc3\\xa3o Paulo - SP</p>\\r\\n                    </div>\\r\\n                    <div class=\"col-md-3 value-card\">\\r\\n                        <div class=\"value\">\\r\\n                            <p class=\"txt-value\">R$ 133.000</p>\\r\\n                        </div>\\r\\n                    </div>\\r\\n                </div>\\r\\n                <div class=\"well card\">\\r\\n                    <div class=\"col-md-3 image-card\">\\r\\n                        <img width=\"220\" height=\"155\" alt=\"Foto\" src=\"https://caelum-online-public.s3.amazonaws.com/1381-scraping/01/img-cars/lamborghini-murcielago/lamborghini-murcielago-2872974__340.jpg\">\\r\\n                    </div>\\r\\n                    <div class=\"col-md-6 body-card\">\\r\\n                        <p class=\"txt-name inline\">LAMBORGHINI MURCIELAGO</p>\\r\\n                            <p class=\"txt-category badge badge-secondary inline\">USADO</p>\\r\\n                            \\r\\n                        <p class=\"txt-motor\">Motor 1.0 8v</p>\\r\\n                        <p class=\"txt-description\">Ano 1991 - 464 km</p>\\r\\n                        <ul class=\"lst-items\">\\r\\n                            <li class=\"txt-items\">\\xe2\\x96\\xba Central multim\\xc3\\xaddia</li>\\r\\n                            <li class=\"txt-items\">\\xe2\\x96\\xba Teto panor\\xc3\\xa2mico</li>\\r\\n                            <li class=\"txt-items\">\\xe2\\x96\\xba Sensor crepuscular</li>\\r\\n                            <li class=\"txt-items\">\\xe2\\x96\\xba Piloto autom\\xc3\\xa1tico</li>\\r\\n                            <li class=\"txt-items\">...</li>\\r\\n                        </ul>\\r\\n                        <p class=\"txt-location\">Belo Horizonte - MG</p>\\r\\n                    </div>\\r\\n                    <div class=\"col-md-3 value-card\">\\r\\n                        <div class=\"value\">\\r\\n                            <p class=\"txt-value\">R$ 175.000</p>\\r\\n                        </div>\\r\\n                    </div>\\r\\n                </div>\\r\\n                <div class=\"well card\">\\r\\n                    <div class=\"col-md-3 image-card\">\\r\\n                        <img width=\"220\" height=\"155\" alt=\"Foto\" src=\"https://caelum-online-public.s3.amazonaws.com/1381-scraping/01/img-cars/aston-martin/aston-martin-2977916__340.jpg\">\\r\\n                    </div>\\r\\n                    <div class=\"col-md-6 body-card\">\\r\\n                        <p class=\"txt-name inline\">ASTON MARTIN</p>\\r\\n                            <p class=\"txt-category badge badge-secondary inline\">USADO</p>\\r\\n                            <p class=\"txt-opportunity badge badge-danger inline\">OPORTUNIDADE</p>\\r\\n                        <p class=\"txt-motor\">Motor Diesel V6</p>\\r\\n                        <p class=\"txt-description\">Ano 2004 - 50.189 km</p>\\r\\n                        <ul class=\"lst-items\">\\r\\n                            <li class=\"txt-items\">\\xe2\\x96\\xba Painel digital</li>\\r\\n                            <li class=\"txt-items\">\\xe2\\x96\\xba Controle de tra\\xc3\\xa7\\xc3\\xa3o</li>\\r\\n                            <li class=\"txt-items\">\\xe2\\x96\\xba Teto panor\\xc3\\xa2mico</li>\\r\\n                            <li class=\"txt-items\">\\xe2\\x96\\xba Central multim\\xc3\\xaddia</li>\\r\\n                            <li class=\"txt-items\">...</li>\\r\\n                        </ul>\\r\\n                        <p class=\"txt-location\">Belo Horizonte - MG</p>\\r\\n                    </div>\\r\\n                    <div class=\"col-md-3 value-card\">\\r\\n                        <div class=\"value\">\\r\\n                            <p class=\"txt-value\">R$ 239.000</p>\\r\\n                        </div>\\r\\n                    </div>\\r\\n                </div>\\r\\n                <div class=\"well card\">\\r\\n                    <div class=\"col-md-3 image-card\">\\r\\n                        <img width=\"220\" height=\"155\" alt=\"Foto\" src=\"https://caelum-online-public.s3.amazonaws.com/1381-scraping/01/img-cars/tvr/tvr-2943925__340.jpg\">\\r\\n                    </div>\\r\\n                    <div class=\"col-md-6 body-card\">\\r\\n                        <p class=\"txt-name inline\">TVR</p>\\r\\n                            <p class=\"txt-category badge badge-secondary inline\">USADO</p>\\r\\n                            \\r\\n                        <p class=\"txt-motor\">Motor 4.0 Turbo</p>\\r\\n                        <p class=\"txt-description\">Ano 2014 - 17.778 km</p>\\r\\n                        <ul class=\"lst-items\">\\r\\n                            <li class=\"txt-items\">\\xe2\\x96\\xba 4 X 4</li>\\r\\n                            <li class=\"txt-items\">\\xe2\\x96\\xba Teto panor\\xc3\\xa2mico</li>\\r\\n                            <li class=\"txt-items\">\\xe2\\x96\\xba Central multim\\xc3\\xaddia</li>\\r\\n                            <li class=\"txt-items\">\\xe2\\x96\\xba Controle de estabilidade</li>\\r\\n                            <li class=\"txt-items\">...</li>\\r\\n                        </ul>\\r\\n                        <p class=\"txt-location\">Belo Horizonte - MG</p>\\r\\n                    </div>\\r\\n                    <div class=\"col-md-3 value-card\">\\r\\n                        <div class=\"value\">\\r\\n                            <p class=\"txt-value\">R$ 115.000</p>\\r\\n                        </div>\\r\\n                    </div>\\r\\n                </div>\\r\\n                <div class=\"well card\">\\r\\n                    <div class=\"col-md-3 image-card\">\\r\\n                        <img width=\"220\" height=\"155\" alt=\"Foto\" src=\"https://caelum-online-public.s3.amazonaws.com/1381-scraping/01/img-cars/excalibur/excalibur-2916730__340.jpg\">\\r\\n                    </div>\\r\\n                    <div class=\"col-md-6 body-card\">\\r\\n                        <p class=\"txt-name inline\">EXCALIBUR</p>\\r\\n                            <p class=\"txt-category badge badge-secondary inline\">USADO</p>\\r\\n                            \\r\\n                        <p class=\"txt-motor\">Motor 3.0 32v</p>\\r\\n                        <p class=\"txt-description\">Ano 2009 - 81.251 km</p>\\r\\n                        <ul class=\"lst-items\">\\r\\n                            <li class=\"txt-items\">\\xe2\\x96\\xba Painel digital</li>\\r\\n                            <li class=\"txt-items\">\\xe2\\x96\\xba C\\xc3\\xa2mbio autom\\xc3\\xa1tico</li>\\r\\n                            <li class=\"txt-items\">\\xe2\\x96\\xba Sensor de chuva</li>\\r\\n                            <li class=\"txt-items\">\\xe2\\x96\\xba Travas el\\xc3\\xa9tricas</li>\\r\\n                            <li class=\"txt-items\">...</li>\\r\\n                        </ul>\\r\\n                        <p class=\"txt-location\">Rio de Janeiro - RJ</p>\\r\\n                    </div>\\r\\n                    <div class=\"col-md-3 value-card\">\\r\\n                        <div class=\"value\">\\r\\n                            <p class=\"txt-value\">R$ 114.000</p>\\r\\n                        </div>\\r\\n                    </div>\\r\\n                </div>\\r\\n                <div class=\"well card\">\\r\\n                    <div class=\"col-md-3 image-card\">\\r\\n                        <img width=\"220\" height=\"155\" alt=\"Foto\" src=\"https://caelum-online-public.s3.amazonaws.com/1381-scraping/01/img-cars/mclaren/mclaren-2855240__340.jpg\">\\r\\n                    </div>\\r\\n                    <div class=\"col-md-6 body-card\">\\r\\n                        <p class=\"txt-name inline\">MCLAREN</p>\\r\\n                            <p class=\"txt-category badge badge-secondary inline\">NOVO</p>\\r\\n                            \\r\\n                        <p class=\"txt-motor\">Motor Diesel</p>\\r\\n                        <p class=\"txt-description\">Ano 2019 - 0 km</p>\\r\\n                        <ul class=\"lst-items\">\\r\\n                            <li class=\"txt-items\">\\xe2\\x96\\xba Central multim\\xc3\\xaddia</li>\\r\\n                            <li class=\"txt-items\">\\xe2\\x96\\xba C\\xc3\\xa2mera de estacionamento</li>\\r\\n                            <li class=\"txt-items\">\\xe2\\x96\\xba C\\xc3\\xa2mbio autom\\xc3\\xa1tico</li>\\r\\n                            <li class=\"txt-items\">\\xe2\\x96\\xba Ar condicionado</li>\\r\\n                            <li class=\"txt-items\">...</li>\\r\\n                        </ul>\\r\\n                        <p class=\"txt-location\">S\\xc3\\xa3o Paulo - SP</p>\\r\\n                    </div>\\r\\n                    <div class=\"col-md-3 value-card\">\\r\\n                        <div class=\"value\">\\r\\n                            <p class=\"txt-value\">R$ 75.000</p>\\r\\n                        </div>\\r\\n                    </div>\\r\\n                </div>\\r\\n                <div class=\"well card\">\\r\\n                    <div class=\"col-md-3 image-card\">\\r\\n                        <img width=\"220\" height=\"155\" alt=\"Foto\" src=\"https://caelum-online-public.s3.amazonaws.com/1381-scraping/01/img-cars/toyota/toyota-3245397__340.jpg\">\\r\\n                    </div>\\r\\n                    <div class=\"col-md-6 body-card\">\\r\\n                        <p class=\"txt-name inline\">TOYOTA</p>\\r\\n                            <p class=\"txt-category badge badge-secondary inline\">USADO</p>\\r\\n                            <p class=\"txt-opportunity badge badge-danger inline\">OPORTUNIDADE</p>\\r\\n                        <p class=\"txt-motor\">Motor 4.0 Turbo</p>\\r\\n                        <p class=\"txt-description\">Ano 1999 - 12.536 km</p>\\r\\n                        <ul class=\"lst-items\">\\r\\n                            <li class=\"txt-items\">\\xe2\\x96\\xba Bancos de couro</li>\\r\\n                            <li class=\"txt-items\">\\xe2\\x96\\xba Freios ABS</li>\\r\\n                            <li class=\"txt-items\">\\xe2\\x96\\xba Piloto autom\\xc3\\xa1tico</li>\\r\\n                            <li class=\"txt-items\">\\xe2\\x96\\xba Controle de estabilidade</li>\\r\\n                            <li class=\"txt-items\">...</li>\\r\\n                        </ul>\\r\\n                        <p class=\"txt-location\">S\\xc3\\xa3o Paulo - SP</p>\\r\\n                    </div>\\r\\n                    <div class=\"col-md-3 value-card\">\\r\\n                        <div class=\"value\">\\r\\n                            <p class=\"txt-value\">R$ 117.000</p>\\r\\n                        </div>\\r\\n                    </div>\\r\\n                </div>\\t\\t\\t\\t\\t\\t</div>\\r\\n\\t\\t\\t\\t\\t\\t<div class=\"type-select\">246 ve\\xc3\\xadculos encontrados</div>\\r\\n\\t\\t\\t\\t\\t\\t\\t<div class=\"container-pagination\" style=\"float: right\">\\r\\n\\t\\t\\t\\t\\t\\t\\t\\t<span class=\"info-pages\">P\\xc3\\xa1gina 1 de 25</span>\\r\\n\\t\\t\\t\\t\\t\\t\\t</div>\\r\\n\\t\\t\\t\\t\\t\\t</div>\\r\\n\\t\\t\\t\\t\\t</div>\\r\\n\\t\\t\\t\\t</div>\\r\\n\\t\\t\\t</div>\\r\\n\\t\\t</div>\\r\\n\\r\\n\\t\\t<footer>\\r\\n\\t\\t\\t<nav class=\"navbar navbar-inverse\">\\r\\n\\t\\t\\t\\t<div class=\"container\" style=\"margin-bottom: 10px;\">\\r\\n\\t\\t\\t\\t\\t<div class=\"navbar\">\\r\\n\\t\\t\\t\\t\\t\\t<a href=\"./index.php\" class=\"navbar-brand\" title=\"Alura Motors\">\\r\\n\\t\\t\\t\\t\\t\\t\\t<img src=\"img/alura-logo.svg\" class=\"d-inline-block align-top\" alt=\"Alura\">Motors\\r\\n\\t\\t\\t\\t\\t\\t</a>\\r\\n\\t\\t\\t\\t\\t\\t<p style=\"color: #fff; text-align: center; margin-top: 40px;\">Aplica\\xc3\\xa7\\xc3\\xa3o para treinamento de web scraping</p>\\r\\n\\t\\t\\t\\t\\t</div>\\r\\n\\t\\t\\t\\t</div>\\r\\n\\t\\t\\t</nav>\\r\\n\\t\\t</footer>\\r\\n\\r\\n\\t</div>\\r\\n\\r\\n</body>\\r\\n</html>\\r\\n'"
     },
     "metadata": {},
     "execution_count": 4
    }
   ],
   "source": [
    "from urllib.request import Request,urlopen\n",
    "from urllib.error import URLError,HTTPError\n",
    "url='https://www.alura.com.br'\n",
    "headers={'user-agent': 'Mozilla/5.0 (Windows NT 10.0; Win64; x64) AppleWebKit/537.36 (KHTML, like Gecko) Chrome/85.0.4183.121 Safari/537.36'}\n",
    "try:\n",
    "    req = Request(url,headers=headers)\n",
    "    response = urlopen(req)\n",
    "    print(response.read())\n",
    "except HTTPError as e:\n",
    "    print(e.status,e.reason)    \n",
    "    pass\n",
    "except URLError as e:\n",
    "    print(e.reason)\n",
    "html\n"
   ]
  },
  {
   "cell_type": "markdown",
   "metadata": {},
   "source": [
    "# 2.3. Tratamento de string"
   ]
  },
  {
   "cell_type": "code",
   "execution_count": 5,
   "metadata": {},
   "outputs": [
    {
     "output_type": "execute_result",
     "data": {
      "text/plain": "bytes"
     },
     "metadata": {},
     "execution_count": 5
    }
   ],
   "source": [
    "type(html)"
   ]
  },
  {
   "cell_type": "markdown",
   "metadata": {},
   "source": [
    "### Convertando o tipo bytes para string"
   ]
  },
  {
   "cell_type": "code",
   "execution_count": 6,
   "metadata": {},
   "outputs": [
    {
     "output_type": "execute_result",
     "data": {
      "text/plain": "str"
     },
     "metadata": {},
     "execution_count": 6
    }
   ],
   "source": [
    "html = html.decode('utf-8')\n",
    "type(html)"
   ]
  },
  {
   "cell_type": "code",
   "execution_count": 7,
   "metadata": {},
   "outputs": [
    {
     "output_type": "execute_result",
     "data": {
      "text/plain": "k-to-fit=no\">\\r\\n\\r\\n    <title>Alura Motors</title>\\r\\n\\r\\n\\t<style>\\r\\n\\t\\t/*Regra para a animacao*/\\r\\n\\t\\t@keyframes spin {\\r\\n\\t\\t\\t0% { transform: rotate(0deg); }\\r\\n\\t\\t\\t100% { transform: rotate(360deg); }\\r\\n\\t\\t}\\r\\n\\t\\t/*Mudando o tamanho do icone de resposta*/\\r\\n\\t\\tdiv.glyphicon {\\r\\n\\t\\t\\tcolor:#6B8E23;\\r\\n\\t\\t\\tfont-size: 38px;\\r\\n\\t\\t}\\r\\n\\t\\t/*Classe que mostra a animacao \\'spin\\'*/\\r\\n\\t\\t.loader {\\r\\n\\t\\t\\tborder: 16px solid #f3f3f3;\\r\\n\\t\\t\\tborder-radius: 50%;\\r\\n\\t\\t\\tborder-top: 16px solid #3498db;\\r\\n\\t\\t\\twidth: 80px;\\r\\n\\t\\t\\theight: 80px;\\r\\n\\t\\t\\t-webkit-animation: spin 2s linear infinite;\\r\\n\\t\\t\\tanimation: spin 2s linear infinite;\\r\\n\\t\\t}\\r\\n\\t</style>\\r\\n\\t<link rel=\"stylesheet\" href=\"https://maxcdn.bootstrapcdn.com/bootstrap/3.3.7/css/bootstrap.min.css\" integrity=\"sha384-BVYiiSIFeK1dGmJRAkycuHAHRg32OmUcww7on3RYdg4Va+PmSTsz/K68vbdEjh4u\" crossorigin=\"anonymous\">\\r\\n\\t<link rel=\"stylesheet\" href=\"css/styles.css\" media=\"all\">\\r\\n\\r\\n\\t<script src=\"https://code.jquery.com/jquery-1.12.4.js\"></script>\\r\\n\\t<script src=\"https://maxcdn.bootstrapcdn.com/bootstrap/3.3.7/js/bootstrap.min.js\" integrity=\"sha384-Tc5IQib027qvyjSMfHjOMaLkfuWVxZxUPnCJA7l2mCWNIpG9mGCD8wGNIcPD7Txa\" crossorigin=\"anonymous\"></script>\\r\\n\\t<script type=\"text/javascript\" src=\"js/index.js\"></script>\\r\\n\\t<script>\\r\\n\\t\\trequisitar(\"https://alura-scraping.herokuapp.com/produtos?_page=\"+1+\"&_limit=10\")\\r\\n\\t</script>\\r\\n\\r\\n</head>\\r\\n<body cz-shortcut-listen=\"true\">\\r\\n    <noscript>You need to enable JavaScript to run this app.</noscript>\\r\\n\\r\\n\\t<div class=\"modal fade\" data-backdrop=\"static\" id=\"loadingModal\" tabindex=\"-1\" role=\"dialog\" aria-labelledby=\"loadingModal_label\">\\r\\n\\t\\t<div class=\"modal-dialog\" role=\"document\">\\r\\n\\t\\t\\t<div class=\"modal-content\">\\r\\n\\t\\t\\t\\t<div class=\"modal-header\">\\r\\n\\t\\t\\t\\t\\t<h5 class=\"modal-title\" id=\"loadingModal_label\">\\r\\n\\t\\t\\t\\t\\t\\t<span class=\"glyphicon glyphicon-refresh\"></span>Aguarde...\\r\\n\\t\\t\\t\\t\\t</h5>\\r\\n\\t\\t\\t\\t</div>\\r\\n\\t\\t\\t\\t<div class=\"modal-body\">\\r\\n\\t\\t\\t\\t\\t<div class=\\'alert\\' role=\\'alert\\'>\\r\\n\\t\\t\\t\\t\\t\\t<center>\\r\\n\\t\\t\\t\\t\\t\\t\\t<div class=\"loader\" id=\"loader\"></div><br>\\r\\n\\t\\t\\t\\t\\t\\t\\t<h4><b id=\"loadingModal_content\"></b></h4>\\r\\n\\t\\t\\t\\t\\t\\t</center>\\r\\n\\t\\t\\t\\t\\t</div>\\r\\n\\t\\t\\t\\t</div>\\r\\n\\t\\t\\t</div>\\r\\n\\t\\t</div>\\r\\n\\t</div>\\r\\n\\r\\n    <div id=\"root\">\\r\\n\\t\\t<header>\\r\\n\\t\\t\\t<nav class=\"navbar navbar-inverse\" style=\"margin-bottom: 0;\">\\r\\n\\t\\t\\t\\t<div class=\"container\" style=\"margin-bottom: -20px;\">\\r\\n\\t\\t\\t\\t\\t<div class=\"navbar\">\\r\\n\\t\\t\\t\\t\\t\\t<a href=\"./index.php\" class=\"navbar-brand\" title=\"Alura Motors\">\\r\\n\\t\\t\\t\\t\\t\\t\\t<img src=\"img/alura-logo.svg\" class=\"d-inline-block align-top\" alt=\"Alura\">Motors\\r\\n\\t\\t\\t\\t\\t\\t</a>\\r\\n\\t\\t\\t\\t\\t\\t<ul class=\"nav navbar-nav\" style=\"margin-top: 35px;\">\\r\\n\\t\\t\\t\\t\\t\\t\\t<li><a href=\"./hello-world.php\">Hello World</a></li>\\r\\n\\t\\t\\t\\t\\t\\t\\t<li><a href=\"./index.php\">Anúncios</a></li>\\r\\n\\t\\t\\t\\t\\t\\t</ul>\\r\\n\\t\\t\\t\\t\\t</div>\\r\\n\\t\\t\\t\\t</div>\\r\\n\\t\\t\\t</nav>\\r\\n\\t\\t</header>\\r\\n\\r\\n\\t\\t<div class=\"container\">\\r\\n\\t\\t\\t<h1 class=\"sub-header\">Veículos de Luxo Novos e Usados - Todas as Marcas</h1>\\r\\n\\t\\t\\t<div class=\"row\">\\r\\n\\t\\t\\t\\t<div class=\"col-md-12\">\\r\\n\\t\\t\\t\\t\\t<div class=\"container\" style=\"width: 100%\">\\r\\n\\t\\t\\t\\t\\t\\t<div class=\"type-select\">246 veículos encontrados</div>\\r\\n\\t\\t\\t\\t\\t\\t\\t<div class=\"container-pagination\" style=\"float: right\">\\r\\n\\t\\t\\t\\t\\t\\t\\t\\t<span class=\"info-pages\">Página 1 de 25</span>\\r\\n\\t\\t\\t\\t\\t\\t\\t</div>\\r\\n\\t\\t\\t\\t\\t\\t</div>\\r\\n\\t\\t\\t\\t\\t\\t<div id=\"container-cards\" style=\"height: 100%\">\\r\\n\\t\\t\\t\\t\\t\\t\\t\\r\\n                <div class=\"well card\">\\r\\n                    <div class=\"col-md-3 image-card\">\\r\\n                        <img width=\"220\" height=\"155\" alt=\"Foto\" src=\"https://caelum-online-public.s3.amazonaws.com/1381-scraping/01/img-cars/lamborghini-aventador/lamborghini-aventador-2932196__340.jpg\">\\r\\n                    </div>\\r\\n                    <div class=\"col-md-6 body-card\">\\r\\n                        <p class=\"txt-name inline\">LAMBORGHINI AVENTADOR</p>\\r\\n                            <p class=\"txt-category badge badge-secondary inline\">USADO</p>\\r\\n                            \\r\\n                        <p class=\"txt-motor\">Motor 1.8 16v</p>\\r\\n                        <p class=\"txt-description\">Ano 1993 - 55.286 km</p>\\r\\n                        <ul class=\"lst-items\">\\r\\n                            <li class=\"txt-items\">► 4 X 4</li>\\r\\n                            <li class=\"txt-items\">► Câmera de estacionamento</li>\\r\\n                            <li class=\"txt-items\">► Controle de tração</li>\\r\\n                            <li class=\"txt-items\">► Sensor de estacionamento</li>\\r\\n                            <li class=\"txt-items\">...</li>\\r\\n                        </ul>\\r\\n                        <p class=\"txt-location\">Belo Horizonte - MG</p>\\r\\n                    </div>\\r\\n                    <div class=\"col-md-3 value-card\">\\r\\n                        <div class=\"value\">\\r\\n                            <p class=\"txt-value\">R$ 338.000</p>\\r\\n                        </div>\\r\\n                    </div>\\r\\n                </div>\\r\\n                <div class=\"well card\">\\r\\n                    <div class=\"col-md-3 image-card\">\\r\\n                        <img width=\"220\" height=\"155\" alt=\"Foto\" src=\"https://caelum-online-public.s3.amazonaws.com/1381-scraping/01/img-cars/bmw-m2/bmw-m2-2970882__340.jpg\">\\r\\n                    </div>\\r\\n                    <div class=\"col-md-6 body-card\">\\r\\n                        <p class=\"txt-name inline\">BMW M2</p>\\r\\n                            <p class=\"txt-category badge badge-secondary inline\">USADO</p>\\r\\n                            \\r\\n                        <p class=\"txt-motor\">Motor 3.0 32v</p>\\r\\n                        <p class=\"txt-description\">Ano 2018 - 83.447 km</p>\\r\\n                        <ul class=\"lst-items\">\\r\\n                            <li class=\"txt-items\">► Câmera de estacionamento</li>\\r\\n                            <li class=\"txt-items\">► Controle de estabilidade</li>\\r\\n                            <li class=\"txt-items\">► Travas elétricas</li>\\r\\n                            <li class=\"txt-items\">► Freios ABS</li>\\r\\n                            <li class=\"txt-items\">...</li>\\r\\n                        </ul>\\r\\n                        <p class=\"txt-location\">Belo Horizonte - MG</p>\\r\\n                    </div>\\r\\n                    <div class=\"col-md-3 value-card\">\\r\\n                        <div class=\"value\">\\r\\n                            <p class=\"txt-value\">R$ 346.000</p>\\r\\n                        </div>\\r\\n                    </div>\\r\\n                </div>\\r\\n                <div class=\"well card\">\\r\\n                    <div class=\"col-md-3 image-card\">\\r\\n                        <img width=\"220\" height=\"155\" alt=\"Foto\" src=\"https://caelum-online-public.s3.amazonaws.com/1381-scraping/01/img-cars/alfa/alfa-1823056__340.jpg\">\\r\\n                    </div>\\r\\n                    <div class=\"col-md-6 body-card\">\\r\\n                        <p class=\"txt-name inline\">ALFA</p>\\r\\n                            <p class=\"txt-category badge badge-secondary inline\">USADO</p>\\r\\n                            \\r\\n                        <p class=\"txt-motor\">Motor 1.8 16v</p>\\r\\n                        <p class=\"txt-description\">Ano 2004 - 19.722 km</p>\\r\\n                        <ul class=\"lst-items\">\\r\\n                            <li class=\"txt-items\">► Central multimídia</li>\\r\\n                            <li class=\"txt-items\">► Bancos de couro</li>\\r\\n                            <li class=\"txt-items\">► Rodas de liga</li>\\r\\n                            <li class=\"txt-items\">► Câmera de estacionamento</li>\\r\\n                            <li class=\"txt-items\">...</li>\\r\\n                        </ul>\\r\\n                        <p class=\"txt-location\">Rio de Janeiro - RJ</p>\\r\\n                    </div>\\r\\n                    <div class=\"col-md-3 value-card\">\\r\\n                        <div class=\"value\">\\r\\n                            <p class=\"txt-value\">R$ 480.000</p>\\r\\n                        </div>\\r\\n                    </div>\\r\\n                </div>\\r\\n                <div class=\"well card\">\\r\\n                    <div class=\"col-md-3 image-card\">\\r\\n                        <img width=\"220\" height=\"155\" alt=\"Foto\" src=\"https://caelum-online-public.s3.amazonaws.com/1381-scraping/01/img-cars/puech/puech-4055386__340.jpg\">\\r\\n                    </div>\\r\\n                    <div class=\"col-md-6 body-card\">\\r\\n                        <p class=\"txt-name inline\">PUECH</p>\\r\\n                            <p class=\"txt-category badge badge-secondary inline\">USADO</p>\\r\\n                            \\r\\n                        <p class=\"txt-motor\">Motor Diesel V8</p>\\r\\n                        <p class=\"txt-description\">Ano 1992 - 34.335 km</p>\\r\\n                        <ul class=\"lst-items\">\\r\\n                            <li class=\"txt-items\">► Bancos de couro</li>\\r\\n                            <li class=\"txt-items\">► Freios ABS</li>\\r\\n                            <li class=\"txt-items\">► Rodas de liga</li>\\r\\n                            <li class=\"txt-items\">► Câmbio automático</li>\\r\\n                            <li class=\"txt-items\">...</li>\\r\\n                        </ul>\\r\\n                        <p class=\"txt-location\">São Paulo - SP</p>\\r\\n                    </div>\\r\\n                    <div class=\"col-md-3 value-card\">\\r\\n                        <div class=\"value\">\\r\\n                            <p class=\"txt-value\">R$ 133.000</p>\\r\\n                        </div>\\r\\n                    </div>\\r\\n                </div>\\r\\n                <div class=\"well card\">\\r\\n                    <div class=\"col-md-3 image-card\">\\r\\n                        <img width=\"220\" height=\"155\" alt=\"Foto\" src=\"https://caelum-online-public.s3.amazonaws.com/1381-scraping/01/img-cars/lamborghini-murcielago/lamborghini-murcielago-2872974__340.jpg\">\\r\\n                    </div>\\r\\n                    <div class=\"col-md-6 body-card\">\\r\\n                        <p class=\"txt-name inline\">LAMBORGHINI MURCIELAGO</p>\\r\\n                            <p class=\"txt-category badge badge-secondary inline\">USADO</p>\\r\\n                            \\r\\n                        <p class=\"txt-motor\">Motor 1.0 8v</p>\\r\\n                        <p class=\"txt-description\">Ano 1991 - 464 km</p>\\r\\n                        <ul class=\"lst-items\">\\r\\n                            <li class=\"txt-items\">► Central multimídia</li>\\r\\n                            <li class=\"txt-items\">► Teto panorâmico</li>\\r\\n                            <li class=\"txt-items\">► Sensor crepuscular</li>\\r\\n                            <li class=\"txt-items\">► Piloto automático</li>\\r\\n                            <li class=\"txt-items\">...</li>\\r\\n                        </ul>\\r\\n                        <p class=\"txt-location\">Belo Horizonte - MG</p>\\r\\n                    </div>\\r\\n                    <div class=\"col-md-3 value-card\">\\r\\n                        <div class=\"value\">\\r\\n                            <p class=\"txt-value\">R$ 175.000</p>\\r\\n                        </div>\\r\\n                    </div>\\r\\n                </div>\\r\\n                <div class=\"well card\">\\r\\n                    <div class=\"col-md-3 image-card\">\\r\\n                        <img width=\"220\" height=\"155\" alt=\"Foto\" src=\"https://caelum-online-public.s3.amazonaws.com/1381-scraping/01/img-cars/aston-martin/aston-martin-2977916__340.jpg\">\\r\\n                    </div>\\r\\n                    <div class=\"col-md-6 body-card\">\\r\\n                        <p class=\"txt-name inline\">ASTON MARTIN</p>\\r\\n                            <p class=\"txt-category badge badge-secondary inline\">USADO</p>\\r\\n                            <p class=\"txt-opportunity badge badge-danger inline\">OPORTUNIDADE</p>\\r\\n                        <p class=\"txt-motor\">Motor Diesel V6</p>\\r\\n                        <p class=\"txt-description\">Ano 2004 - 50.189 km</p>\\r\\n                        <ul class=\"lst-items\">\\r\\n                            <li class=\"txt-items\">► Painel digital</li>\\r\\n                            <li class=\"txt-items\">► Controle de tração</li>\\r\\n                            <li class=\"txt-items\">► Teto panorâmico</li>\\r\\n                            <li class=\"txt-items\">► Central multimídia</li>\\r\\n                            <li class=\"txt-items\">...</li>\\r\\n                        </ul>\\r\\n                        <p class=\"txt-location\">Belo Horizonte - MG</p>\\r\\n                    </div>\\r\\n                    <div class=\"col-md-3 value-card\">\\r\\n                        <div class=\"value\">\\r\\n                            <p class=\"txt-value\">R$ 239.000</p>\\r\\n                        </div>\\r\\n                    </div>\\r\\n                </div>\\r\\n                <div class=\"well card\">\\r\\n                    <div class=\"col-md-3 image-card\">\\r\\n                        <img width=\"220\" height=\"155\" alt=\"Foto\" src=\"https://caelum-online-public.s3.amazonaws.com/1381-scraping/01/img-cars/tvr/tvr-2943925__340.jpg\">\\r\\n                    </div>\\r\\n                    <div class=\"col-md-6 body-card\">\\r\\n                        <p class=\"txt-name inline\">TVR</p>\\r\\n                            <p class=\"txt-category badge badge-secondary inline\">USADO</p>\\r\\n                            \\r\\n                        <p class=\"txt-motor\">Motor 4.0 Turbo</p>\\r\\n                        <p class=\"txt-description\">Ano 2014 - 17.778 km</p>\\r\\n                        <ul class=\"lst-items\">\\r\\n                            <li class=\"txt-items\">► 4 X 4</li>\\r\\n                            <li class=\"txt-items\">► Teto panorâmico</li>\\r\\n                            <li class=\"txt-items\">► Central multimídia</li>\\r\\n                            <li class=\"txt-items\">► Controle de estabilidade</li>\\r\\n                            <li class=\"txt-items\">...</li>\\r\\n                        </ul>\\r\\n                        <p class=\"txt-location\">Belo Horizonte - MG</p>\\r\\n                    </div>\\r\\n                    <div class=\"col-md-3 value-card\">\\r\\n                        <div class=\"value\">\\r\\n                            <p class=\"txt-value\">R$ 115.000</p>\\r\\n                        </div>\\r\\n                    </div>\\r\\n                </div>\\r\\n                <div class=\"well card\">\\r\\n                    <div class=\"col-md-3 image-card\">\\r\\n                        <img width=\"220\" height=\"155\" alt=\"Foto\" src=\"https://caelum-online-public.s3.amazonaws.com/1381-scraping/01/img-cars/excalibur/excalibur-2916730__340.jpg\">\\r\\n                    </div>\\r\\n                    <div class=\"col-md-6 body-card\">\\r\\n                        <p class=\"txt-name inline\">EXCALIBUR</p>\\r\\n                            <p class=\"txt-category badge badge-secondary inline\">USADO</p>\\r\\n                            \\r\\n                        <p class=\"txt-motor\">Motor 3.0 32v</p>\\r\\n                        <p class=\"txt-description\">Ano 2009 - 81.251 km</p>\\r\\n                        <ul class=\"lst-items\">\\r\\n                            <li class=\"txt-items\">► Painel digital</li>\\r\\n                            <li class=\"txt-items\">► Câmbio automático</li>\\r\\n                            <li class=\"txt-items\">► Sensor de chuva</li>\\r\\n                            <li class=\"txt-items\">► Travas elétricas</li>\\r\\n                            <li class=\"txt-items\">...</li>\\r\\n                        </ul>\\r\\n                        <p class=\"txt-location\">Rio de Janeiro - RJ</p>\\r\\n                    </div>\\r\\n                    <div class=\"col-md-3 value-card\">\\r\\n                        <div class=\"value\">\\r\\n                            <p class=\"txt-value\">R$ 114.000</p>\\r\\n                        </div>\\r\\n                    </div>\\r\\n                </div>\\r\\n                <div class=\"well card\">\\r\\n                    <div class=\"col-md-3 image-card\">\\r\\n                        <img width=\"220\" height=\"155\" alt=\"Foto\" src=\"https://caelum-online-public.s3.amazonaws.com/1381-scraping/01/img-cars/mclaren/mclaren-2855240__340.jpg\">\\r\\n                    </div>\\r\\n                    <div class=\"col-md-6 body-card\">\\r\\n                        <p class=\"txt-name inline\">MCLAREN</p>\\r\\n                            <p class=\"txt-category badge badge-secondary inline\">NOVO</p>\\r\\n                            \\r\\n                        <p class=\"txt-motor\">Motor Diesel</p>\\r\\n                        <p class=\"txt-description\">Ano 2019 - 0 km</p>\\r\\n                        <ul class=\"lst-items\">\\r\\n                            <li class=\"txt-items\">► Central multimídia</li>\\r\\n                            <li class=\"txt-items\">► Câmera de estacionamento</li>\\r\\n                            <li class=\"txt-items\">► Câmbio automático</li>\\r\\n                            <li class=\"txt-items\">► Ar condicionado</li>\\r\\n                            <li class=\"txt-items\">...</li>\\r\\n                        </ul>\\r\\n                        <p class=\"txt-location\">São Paulo - SP</p>\\r\\n                    </div>\\r\\n                    <div class=\"col-md-3 value-card\">\\r\\n                        <div class=\"value\">\\r\\n                            <p class=\"txt-value\">R$ 75.000</p>\\r\\n                        </div>\\r\\n                    </div>\\r\\n                </div>\\r\\n                <div class=\"well card\">\\r\\n                    <div class=\"col-md-3 image-card\">\\r\\n                        <img width=\"220\" height=\"155\" alt=\"Foto\" src=\"https://caelum-online-public.s3.amazonaws.com/1381-scraping/01/img-cars/toyota/toyota-3245397__340.jpg\">\\r\\n                    </div>\\r\\n                    <div class=\"col-md-6 body-card\">\\r\\n                        <p class=\"txt-name inline\">TOYOTA</p>\\r\\n                            <p class=\"txt-category badge badge-secondary inline\">USADO</p>\\r\\n                            <p class=\"txt-opportunity badge badge-danger inline\">OPORTUNIDADE</p>\\r\\n                        <p class=\"txt-motor\">Motor 4.0 Turbo</p>\\r\\n                        <p class=\"txt-description\">Ano 1999 - 12.536 km</p>\\r\\n                        <ul class=\"lst-items\">\\r\\n                            <li class=\"txt-items\">► Bancos de couro</li>\\r\\n                            <li class=\"txt-items\">► Freios ABS</li>\\r\\n                            <li class=\"txt-items\">► Piloto automático</li>\\r\\n                            <li class=\"txt-items\">► Controle de estabilidade</li>\\r\\n                            <li class=\"txt-items\">...</li>\\r\\n                        </ul>\\r\\n                        <p class=\"txt-location\">São Paulo - SP</p>\\r\\n                    </div>\\r\\n                    <div class=\"col-md-3 value-card\">\\r\\n                        <div class=\"value\">\\r\\n                            <p class=\"txt-value\">R$ 117.000</p>\\r\\n                        </div>\\r\\n                    </div>\\r\\n                </div>\\t\\t\\t\\t\\t\\t</div>\\r\\n\\t\\t\\t\\t\\t\\t<div class=\"type-select\">246 veículos encontrados</div>\\r\\n\\t\\t\\t\\t\\t\\t\\t<div class=\"container-pagination\" style=\"float: right\">\\r\\n\\t\\t\\t\\t\\t\\t\\t\\t<span class=\"info-pages\">Página 1 de 25</span>\\r\\n\\t\\t\\t\\t\\t\\t\\t</div>\\r\\n\\t\\t\\t\\t\\t\\t</div>\\r\\n\\t\\t\\t\\t\\t</div>\\r\\n\\t\\t\\t\\t</div>\\r\\n\\t\\t\\t</div>\\r\\n\\t\\t</div>\\r\\n\\r\\n\\t\\t<footer>\\r\\n\\t\\t\\t<nav class=\"navbar navbar-inverse\">\\r\\n\\t\\t\\t\\t<div class=\"container\" style=\"margin-bottom: 10px;\">\\r\\n\\t\\t\\t\\t\\t<div class=\"navbar\">\\r\\n\\t\\t\\t\\t\\t\\t<a href=\"./index.php\" class=\"navbar-brand\" title=\"Alura Motors\">\\r\\n\\t\\t\\t\\t\\t\\t\\t<img src=\"img/alura-logo.svg\" class=\"d-inline-block align-top\" alt=\"Alura\">Motors\\r\\n\\t\\t\\t\\t\\t\\t</a>\\r\\n\\t\\t\\t\\t\\t\\t<p style=\"color: #fff; text-align: center; margin-top: 40px;\">Aplicação para treinamento de web scraping</p>\\r\\n\\t\\t\\t\\t\\t</div>\\r\\n\\t\\t\\t\\t</div>\\r\\n\\t\\t\\t</nav>\\r\\n\\t\\t</footer>\\r\\n\\r\\n\\t</div>\\r\\n\\r\\n</body>\\r\\n</html>\\r\\n'"
     },
     "metadata": {},
     "execution_count": 7
    }
   ],
   "source": [
    "html"
   ]
  },
  {
   "cell_type": "code",
   "execution_count": null,
   "metadata": {},
   "outputs": [],
   "source": []
  },
  {
   "cell_type": "code",
   "execution_count": null,
   "metadata": {},
   "outputs": [],
   "source": []
  },
  {
   "cell_type": "markdown",
   "metadata": {},
   "source": [
    "### Eliminando os caracteres de tabulação, quebra de linha etc."
   ]
  },
  {
   "cell_type": "code",
   "execution_count": 8,
   "metadata": {},
   "outputs": [
    {
     "output_type": "execute_result",
     "data": {
      "text/plain": "'<!DOCTYPE html><html lang=\"pt-br\"><head><meta charset=\"utf-8\"><meta name=\"viewport\" content=\"width=device-width, initial-scale=1, shrink-to-fit=no\"><title>Alura Motors</title><style> /*Regra para a animacao*/ @keyframes spin { 0% { transform: rotate(0deg); } 100% { transform: rotate(360deg); } } /*Mudando o tamanho do icone de resposta*/ div.glyphicon { color:#6B8E23; font-size: 38px; } /*Classe que mostra a animacao \\'spin\\'*/ .loader { border: 16px solid #f3f3f3; border-radius: 50%; border-top: 16px solid #3498db; width: 80px; height: 80px; -webkit-animation: spin 2s linear infinite; animation: spin 2s linear infinite; } </style><link rel=\"stylesheet\" href=\"https://maxcdn.bootstrapcdn.com/bootstrap/3.3.7/css/bootstrap.min.css\" integrity=\"sha384-BVYiiSIFeK1dGmJRAkycuHAHRg32OmUcww7on3RYdg4Va+PmSTsz/K68vbdEjh4u\" crossorigin=\"anonymous\"><link rel=\"stylesheet\" href=\"css/styles.css\" media=\"all\"><script src=\"https://code.jquery.com/jquery-1.12.4.js\"></script><script src=\"https://maxcdn.bootstrapcdn.com/bootstrap/3.3.7/js/bootstrap.min.js\" integrity=\"sha384-Tc5IQib027qvyjSMfHjOMaLkfuWVxZxUPnCJA7l2mCWNIpG9mGCD8wGNIcPD7Txa\" crossorigin=\"anonymous\"></script><script type=\"text/javascript\" src=\"js/index.js\"></script><script> requisitar(\"https://alura-scraping.herokuapp.com/produtos?_page=\"+1+\"&_limit=10\") </script></head><body cz-shortcut-listen=\"true\"><noscript>You need to enable JavaScript to run this app.</noscript><div class=\"modal fade\" data-backdrop=\"static\" id=\"loadingModal\" tabindex=\"-1\" role=\"dialog\" aria-labelledby=\"loadingModal_label\"><div class=\"modal-dialog\" role=\"document\"><div class=\"modal-content\"><div class=\"modal-header\"><h5 class=\"modal-title\" id=\"loadingModal_label\"><span class=\"glyphicon glyphicon-refresh\"></span>Aguarde... </h5></div><div class=\"modal-body\"><div class=\\'alert\\' role=\\'alert\\'><center><div class=\"loader\" id=\"loader\"></div><br><h4><b id=\"loadingModal_content\"></b></h4></center></div></div></div></div></div><div id=\"root\"><header><nav class=\"navbar navbar-inverse\" style=\"margin-bottom: 0;\"><div class=\"container\" style=\"margin-bottom: -20px;\"><div class=\"navbar\"><a href=\"./index.php\" class=\"navbar-brand\" title=\"Alura Motors\"><img src=\"img/alura-logo.svg\" class=\"d-inline-block align-top\" alt=\"Alura\">Motors </a><ul class=\"nav navbar-nav\" style=\"margin-top: 35px;\"><li><a href=\"./hello-world.php\">Hello World</a></li><li><a href=\"./index.php\">Anúncios</a></li></ul></div></div></nav></header><div class=\"container\"><h1 class=\"sub-header\">Veículos de Luxo Novos e Usados - Todas as Marcas</h1><div class=\"row\"><div class=\"col-md-12\"><div class=\"container\" style=\"width: 100%\"><div class=\"type-select\">246 veículos encontrados</div><div class=\"container-pagination\" style=\"float: right\"><span class=\"info-pages\">Página 1 de 25</span></div></div><div id=\"container-cards\" style=\"height: 100%\"><div class=\"well card\"><div class=\"col-md-3 image-card\"><img width=\"220\" height=\"155\" alt=\"Foto\" src=\"https://caelum-online-public.s3.amazonaws.com/1381-scraping/01/img-cars/lamborghini-aventador/lamborghini-aventador-2932196__340.jpg\"></div><div class=\"col-md-6 body-card\"><p class=\"txt-name inline\">LAMBORGHINI AVENTADOR</p><p class=\"txt-category badge badge-secondary inline\">USADO</p><p class=\"txt-motor\">Motor 1.8 16v</p><p class=\"txt-description\">Ano 1993 - 55.286 km</p><ul class=\"lst-items\"><li class=\"txt-items\">► 4 X 4</li><li class=\"txt-items\">► Câmera de estacionamento</li><li class=\"txt-items\">► Controle de tração</li><li class=\"txt-items\">► Sensor de estacionamento</li><li class=\"txt-items\">...</li></ul><p class=\"txt-location\">Belo Horizonte - MG</p></div><div class=\"col-md-3 value-card\"><div class=\"value\"><p class=\"txt-value\">R$ 338.000</p></div></div></div><div class=\"well card\"><div class=\"col-md-3 image-card\"><img width=\"220\" height=\"155\" alt=\"Foto\" src=\"https://caelum-online-public.s3.amazonaws.com/1381-scraping/01/img-cars/bmw-m2/bmw-m2-2970882__340.jpg\"></div><div class=\"col-md-6 body-card\"><p class=\"txt-name inline\">BMW M2</p><p class=\"txt-category badge badge-secondary inline\">USADO</p><p class=\"txt-motor\">Motor 3.0 32v</p><p class=\"txt-description\">Ano 2018 - 83.447 km</p><ul class=\"lst-items\"><li class=\"txt-items\">► Câmera de estacionamento</li><li class=\"txt-items\">► Controle de estabilidade</li><li class=\"txt-items\">► Travas elétricas</li><li class=\"txt-items\">► Freios ABS</li><li class=\"txt-items\">...</li></ul><p class=\"txt-location\">Belo Horizonte - MG</p></div><div class=\"col-md-3 value-card\"><div class=\"value\"><p class=\"txt-value\">R$ 346.000</p></div></div></div><div class=\"well card\"><div class=\"col-md-3 image-card\"><img width=\"220\" height=\"155\" alt=\"Foto\" src=\"https://caelum-online-public.s3.amazonaws.com/1381-scraping/01/img-cars/alfa/alfa-1823056__340.jpg\"></div><div class=\"col-md-6 body-card\"><p class=\"txt-name inline\">ALFA</p><p class=\"txt-category badge badge-secondary inline\">USADO</p><p class=\"txt-motor\">Motor 1.8 16v</p><p class=\"txt-description\">Ano 2004 - 19.722 km</p><ul class=\"lst-items\"><li class=\"txt-items\">► Central multimídia</li><li class=\"txt-items\">► Bancos de couro</li><li class=\"txt-items\">► Rodas de liga</li><li class=\"txt-items\">► Câmera de estacionamento</li><li class=\"txt-items\">...</li></ul><p class=\"txt-location\">Rio de Janeiro - RJ</p></div><div class=\"col-md-3 value-card\"><div class=\"value\"><p class=\"txt-value\">R$ 480.000</p></div></div></div><div class=\"well card\"><div class=\"col-md-3 image-card\"><img width=\"220\" height=\"155\" alt=\"Foto\" src=\"https://caelum-online-public.s3.amazonaws.com/1381-scraping/01/img-cars/puech/puech-4055386__340.jpg\"></div><div class=\"col-md-6 body-card\"><p class=\"txt-name inline\">PUECH</p><p class=\"txt-category badge badge-secondary inline\">USADO</p><p class=\"txt-motor\">Motor Diesel V8</p><p class=\"txt-description\">Ano 1992 - 34.335 km</p><ul class=\"lst-items\"><li class=\"txt-items\">► Bancos de couro</li><li class=\"txt-items\">► Freios ABS</li><li class=\"txt-items\">► Rodas de liga</li><li class=\"txt-items\">► Câmbio automático</li><li class=\"txt-items\">...</li></ul><p class=\"txt-location\">São Paulo - SP</p></div><div class=\"col-md-3 value-card\"><div class=\"value\"><p class=\"txt-value\">R$ 133.000</p></div></div></div><div class=\"well card\"><div class=\"col-md-3 image-card\"><img width=\"220\" height=\"155\" alt=\"Foto\" src=\"https://caelum-online-public.s3.amazonaws.com/1381-scraping/01/img-cars/lamborghini-murcielago/lamborghini-murcielago-2872974__340.jpg\"></div><div class=\"col-md-6 body-card\"><p class=\"txt-name inline\">LAMBORGHINI MURCIELAGO</p><p class=\"txt-category badge badge-secondary inline\">USADO</p><p class=\"txt-motor\">Motor 1.0 8v</p><p class=\"txt-description\">Ano 1991 - 464 km</p><ul class=\"lst-items\"><li class=\"txt-items\">► Central multimídia</li><li class=\"txt-items\">► Teto panorâmico</li><li class=\"txt-items\">► Sensor crepuscular</li><li class=\"txt-items\">► Piloto automático</li><li class=\"txt-items\">...</li></ul><p class=\"txt-location\">Belo Horizonte - MG</p></div><div class=\"col-md-3 value-card\"><div class=\"value\"><p class=\"txt-value\">R$ 175.000</p></div></div></div><div class=\"well card\"><div class=\"col-md-3 image-card\"><img width=\"220\" height=\"155\" alt=\"Foto\" src=\"https://caelum-online-public.s3.amazonaws.com/1381-scraping/01/img-cars/aston-martin/aston-martin-2977916__340.jpg\"></div><div class=\"col-md-6 body-card\"><p class=\"txt-name inline\">ASTON MARTIN</p><p class=\"txt-category badge badge-secondary inline\">USADO</p><p class=\"txt-opportunity badge badge-danger inline\">OPORTUNIDADE</p><p class=\"txt-motor\">Motor Diesel V6</p><p class=\"txt-description\">Ano 2004 - 50.189 km</p><ul class=\"lst-items\"><li class=\"txt-items\">► Painel digital</li><li class=\"txt-items\">► Controle de tração</li><li class=\"txt-items\">► Teto panorâmico</li><li class=\"txt-items\">► Central multimídia</li><li class=\"txt-items\">...</li></ul><p class=\"txt-location\">Belo Horizonte - MG</p></div><div class=\"col-md-3 value-card\"><div class=\"value\"><p class=\"txt-value\">R$ 239.000</p></div></div></div><div class=\"well card\"><div class=\"col-md-3 image-card\"><img width=\"220\" height=\"155\" alt=\"Foto\" src=\"https://caelum-online-public.s3.amazonaws.com/1381-scraping/01/img-cars/tvr/tvr-2943925__340.jpg\"></div><div class=\"col-md-6 body-card\"><p class=\"txt-name inline\">TVR</p><p class=\"txt-category badge badge-secondary inline\">USADO</p><p class=\"txt-motor\">Motor 4.0 Turbo</p><p class=\"txt-description\">Ano 2014 - 17.778 km</p><ul class=\"lst-items\"><li class=\"txt-items\">► 4 X 4</li><li class=\"txt-items\">► Teto panorâmico</li><li class=\"txt-items\">► Central multimídia</li><li class=\"txt-items\">► Controle de estabilidade</li><li class=\"txt-items\">...</li></ul><p class=\"txt-location\">Belo Horizonte - MG</p></div><div class=\"col-md-3 value-card\"><div class=\"value\"><p class=\"txt-value\">R$ 115.000</p></div></div></div><div class=\"well card\"><div class=\"col-md-3 image-card\"><img width=\"220\" height=\"155\" alt=\"Foto\" src=\"https://caelum-online-public.s3.amazonaws.com/1381-scraping/01/img-cars/excalibur/excalibur-2916730__340.jpg\"></div><div class=\"col-md-6 body-card\"><p class=\"txt-name inline\">EXCALIBUR</p><p class=\"txt-category badge badge-secondary inline\">USADO</p><p class=\"txt-motor\">Motor 3.0 32v</p><p class=\"txt-description\">Ano 2009 - 81.251 km</p><ul class=\"lst-items\"><li class=\"txt-items\">► Painel digital</li><li class=\"txt-items\">► Câmbio automático</li><li class=\"txt-items\">► Sensor de chuva</li><li class=\"txt-items\">► Travas elétricas</li><li class=\"txt-items\">...</li></ul><p class=\"txt-location\">Rio de Janeiro - RJ</p></div><div class=\"col-md-3 value-card\"><div class=\"value\"><p class=\"txt-value\">R$ 114.000</p></div></div></div><div class=\"well card\"><div class=\"col-md-3 image-card\"><img width=\"220\" height=\"155\" alt=\"Foto\" src=\"https://caelum-online-public.s3.amazonaws.com/1381-scraping/01/img-cars/mclaren/mclaren-2855240__340.jpg\"></div><div class=\"col-md-6 body-card\"><p class=\"txt-name inline\">MCLAREN</p><p class=\"txt-category badge badge-secondary inline\">NOVO</p><p class=\"txt-motor\">Motor Diesel</p><p class=\"txt-description\">Ano 2019 - 0 km</p><ul class=\"lst-items\"><li class=\"txt-items\">► Central multimídia</li><li class=\"txt-items\">► Câmera de estacionamento</li><li class=\"txt-items\">► Câmbio automático</li><li class=\"txt-items\">► Ar condicionado</li><li class=\"txt-items\">...</li></ul><p class=\"txt-location\">São Paulo - SP</p></div><div class=\"col-md-3 value-card\"><div class=\"value\"><p class=\"txt-value\">R$ 75.000</p></div></div></div><div class=\"well card\"><div class=\"col-md-3 image-card\"><img width=\"220\" height=\"155\" alt=\"Foto\" src=\"https://caelum-online-public.s3.amazonaws.com/1381-scraping/01/img-cars/toyota/toyota-3245397__340.jpg\"></div><div class=\"col-md-6 body-card\"><p class=\"txt-name inline\">TOYOTA</p><p class=\"txt-category badge badge-secondary inline\">USADO</p><p class=\"txt-opportunity badge badge-danger inline\">OPORTUNIDADE</p><p class=\"txt-motor\">Motor 4.0 Turbo</p><p class=\"txt-description\">Ano 1999 - 12.536 km</p><ul class=\"lst-items\"><li class=\"txt-items\">► Bancos de couro</li><li class=\"txt-items\">► Freios ABS</li><li class=\"txt-items\">► Piloto automático</li><li class=\"txt-items\">► Controle de estabilidade</li><li class=\"txt-items\">...</li></ul><p class=\"txt-location\">São Paulo - SP</p></div><div class=\"col-md-3 value-card\"><div class=\"value\"><p class=\"txt-value\">R$ 117.000</p></div></div></div></div><div class=\"type-select\">246 veículos encontrados</div><div class=\"container-pagination\" style=\"float: right\"><span class=\"info-pages\">Página 1 de 25</span></div></div></div></div></div></div><footer><nav class=\"navbar navbar-inverse\"><div class=\"container\" style=\"margin-bottom: 10px;\"><div class=\"navbar\"><a href=\"./index.php\" class=\"navbar-brand\" title=\"Alura Motors\"><img src=\"img/alura-logo.svg\" class=\"d-inline-block align-top\" alt=\"Alura\">Motors </a><p style=\"color: #fff; text-align: center; margin-top: 40px;\">Aplicação para treinamento de web scraping</p></div></div></nav></footer></div></body></html>'"
     },
     "metadata": {},
     "execution_count": 8
    }
   ],
   "source": [
    "\" \".join(html.split()).replace('> <','><')"
   ]
  },
  {
   "cell_type": "code",
   "execution_count": 9,
   "metadata": {
    "scrolled": true
   },
   "outputs": [],
   "source": [
    "def trata_html(input):\n",
    "    output=\" \".join(input.split()).replace('> <','><')\n",
    "    return output"
   ]
  },
  {
   "cell_type": "markdown",
   "metadata": {},
   "source": [
    "### Eliminando os espaços em branco entre as TAGS"
   ]
  },
  {
   "cell_type": "code",
   "execution_count": 10,
   "metadata": {
    "scrolled": true
   },
   "outputs": [],
   "source": [
    "html = trata_html(html)"
   ]
  },
  {
   "cell_type": "markdown",
   "metadata": {},
   "source": [
    "### Função de tratamento de strings"
   ]
  },
  {
   "cell_type": "code",
   "execution_count": null,
   "metadata": {},
   "outputs": [],
   "source": []
  },
  {
   "cell_type": "code",
   "execution_count": null,
   "metadata": {},
   "outputs": [],
   "source": []
  },
  {
   "cell_type": "code",
   "execution_count": null,
   "metadata": {
    "scrolled": true
   },
   "outputs": [],
   "source": []
  },
  {
   "cell_type": "markdown",
   "metadata": {
    "colab": {},
    "colab_type": "code",
    "id": "BsfhL3sZFRZu"
   },
   "source": [
    "---\n",
    "# <font color=green>3. INTRODUÇÃO AO BEAUTIFULSOUP"
   ]
  },
  {
   "cell_type": "markdown",
   "metadata": {
    "colab": {},
    "colab_type": "code",
    "id": "BsfhL3sZFRZu"
   },
   "source": [
    "# 3.1. HTML da nossa página"
   ]
  },
  {
   "cell_type": "markdown",
   "metadata": {},
   "source": [
    "**HTML** (*HyperText Markup Language*) é uma linguagem de marcação composta por **tags** que deteminam o papel que cada parte do documento vai assumir. As **tags** são formadas pelo seu nome e atributos. Os atributos servem para configurar e também modificar as características padrões de uma **tag**.\n",
    "\n",
    "## Estrutura básica\n",
    "\n",
    "```html\n",
    "<html>\n",
    "    <head>\n",
    "        <meta charset=\"utf-8\" />\n",
    "        <title>Alura Motors</title>\n",
    "    </head>\n",
    "    <body>\n",
    "        <div id=\"container\">\n",
    "            <h1>Alura</h1>\n",
    "            <h2 class=\"formato\">Cursos de Tecnologia</h2>\n",
    "            <p>Você vai estudar, praticar, discutir e aprender.</p>\n",
    "            <a href=\"https://www.alura.com.br/\">Clique aqui</a>\n",
    "        </div>\n",
    "    </body>\n",
    "</html>\n",
    "```\n",
    "\n",
    "```<html>``` - determina o início do documento.\n",
    "\n",
    "```<head>``` - cabeçalho. Contém informações e configurações do documento.\n",
    "\n",
    "```<body>``` - é o corpo do documento, onde todo o conteúdo é colocado. Esta é a parte visível em um navegador.\n",
    "\n",
    "## Tags mais comuns\n",
    "\n",
    "```<div>``` - define uma divisão da página. Pode ser formatada de diversas maneiras.\n",
    "\n",
    "```<h1>, <h2>, <h3>, <h4>, <h5>, <h6>``` - marcadores de títulos.\n",
    "\n",
    "```<p>``` - marcador de parágrafo.\n",
    "\n",
    "```<a>``` - hiperlink.\n",
    "\n",
    "```<img>``` - exibição de imagens.\n",
    "\n",
    "```<table>``` - definição de tabelas.\n",
    "\n",
    "```<ul>, <li>``` - definição de listas.\n"
   ]
  },
  {
   "cell_type": "markdown",
   "metadata": {},
   "source": [
    "# 3.2. Criando um objeto BeautifulSoup"
   ]
  },
  {
   "cell_type": "markdown",
   "metadata": {},
   "source": [
    "## https://www.crummy.com/software/BeautifulSoup/\n",
    "\n",
    "### Sobre parser ver: https://www.crummy.com/software/BeautifulSoup/bs4/doc/#parser-installation"
   ]
  },
  {
   "cell_type": "code",
   "execution_count": 11,
   "metadata": {
    "colab": {
     "base_uri": "https://localhost:8080/",
     "height": 316
    },
    "colab_type": "code",
    "id": "5Oxx_d0BCWGa",
    "outputId": "4d2c4e2b-57fe-413d-9521-91711e0e5fdc",
    "scrolled": true
   },
   "outputs": [],
   "source": [
    "from bs4 import BeautifulSoup"
   ]
  },
  {
   "cell_type": "code",
   "execution_count": 12,
   "metadata": {
    "scrolled": true
   },
   "outputs": [
    {
     "output_type": "execute_result",
     "data": {
      "text/plain": "<!DOCTYPE html>\n\n<html lang=\"pt-br\">\n<head>\n<meta charset=\"utf-8\"/>\n<meta content=\"width=device-width, initial-scale=1, shrink-to-fit=no\" name=\"viewport\"/>\n<title>Alura Motors</title>\n<style>\n\t\t/*Regra para a animacao*/\n\t\t@keyframes spin {\n\t\t\t0% { transform: rotate(0deg); }\n\t\t\t100% { transform: rotate(360deg); }\n\t\t}\n\t\t/*Mudando o tamanho do icone de resposta*/\n\t\tdiv.glyphicon {\n\t\t\tcolor:#6B8E23;\n\t\t\tfont-size: 38px;\n\t\t}\n\t\t/*Classe que mostra a animacao 'spin'*/\n\t\t.loader {\n\t\t\tborder: 16px solid #f3f3f3;\n\t\t\tborder-radius: 50%;\n\t\t\tborder-top: 16px solid #3498db;\n\t\t\twidth: 80px;\n\t\t\theight: 80px;\n\t\t\t-webkit-animation: spin 2s linear infinite;\n\t\t\tanimation: spin 2s linear infinite;\n\t\t}\n\t</style>\n<link crossorigin=\"anonymous\" href=\"https://maxcdn.bootstrapcdn.com/bootstrap/3.3.7/css/bootstrap.min.css\" integrity=\"sha384-BVYiiSIFeK1dGmJRAkycuHAHRg32OmUcww7on3RYdg4Va+PmSTsz/K68vbdEjh4u\" rel=\"stylesheet\"/>\n<link href=\"css/styles.css\" media=\"all\" rel=\"stylesheet\"/>\n<script src=\"https://code.jquery.com/jquery-1.12.4.js\"></script>\n<script crossorigin=\"anonymous\" integrity=\"sha384-Tc5IQib027qvyjSMfHjOMaLkfuWVxZxUPnCJA7l2mCWNIpG9mGCD8wGNIcPD7Txa\" src=\"https://maxcdn.bootstrapcdn.com/bootstrap/3.3.7/js/bootstrap.min.js\"></script>\n<script src=\"js/index.js\" type=\"text/javascript\"></script>\n<script>\n\t\trequisitar(\"https://alura-scraping.herokuapp.com/produtos?_page=\"+1+\"&_limit=10\")\n\t</script>\n</head>\n<body cz-shortcut-listen=\"true\">\n<noscript>You need to enable JavaScript to run this app.</noscript>\n<div aria-labelledby=\"loadingModal_label\" class=\"modal fade\" data-backdrop=\"static\" id=\"loadingModal\" role=\"dialog\" tabindex=\"-1\">\n<div class=\"modal-dialog\" role=\"document\">\n<div class=\"modal-content\">\n<div class=\"modal-header\">\n<h5 class=\"modal-title\" id=\"loadingModal_label\">\n<span class=\"glyphicon glyphicon-refresh\"></span>Aguarde...\n\t\t\t\t\t</h5>\n</div>\n<div class=\"modal-body\">\n<div class=\"alert\" role=\"alert\">\n<center>\n<div class=\"loader\" id=\"loader\"></div><br/>\n<h4><b id=\"loadingModal_content\"></b></h4>\n</center>\n</div>\n</div>\n</div>\n</div>\n</div>\n<div id=\"root\">\n<header>\n<nav class=\"navbar navbar-inverse\" style=\"margin-bottom: 0;\">\n<div class=\"container\" style=\"margin-bottom: -20px;\">\n<div class=\"navbar\">\n<a class=\"navbar-brand\" href=\"./index.php\" title=\"Alura Motors\">\n<img alt=\"Alura\" class=\"d-inline-block align-top\" src=\"img/alura-logo.svg\"/>Motors\n\t\t\t\t\t\t</a>\n<ul class=\"nav navbar-nav\" style=\"margin-top: 35px;\">\n<li><a href=\"./hello-world.php\">Hello World</a></li>\n<li><a href=\"./index.php\">Anúncios</a></li>\n</ul>\n</div>\n</div>\n</nav>\n</header>\n<div class=\"container\">\n<h1 class=\"sub-header\">Veículos de Luxo Novos e Usados - Todas as Marcas</h1>\n<div class=\"row\">\n<div class=\"col-md-12\">\n<div class=\"container\" style=\"width: 100%\">\n<div class=\"type-select\">246 veículos encontrados</div>\n<div class=\"container-pagination\" style=\"float: right\">\n<span class=\"info-pages\">Página 1 de 25</span>\n</div>\n</div>\n<div id=\"container-cards\" style=\"height: 100%\">\n<div class=\"well card\">\n<div class=\"col-md-3 image-card\">\n<img alt=\"Foto\" height=\"155\" src=\"https://caelum-online-public.s3.amazonaws.com/1381-scraping/01/img-cars/lamborghini-aventador/lamborghini-aventador-2932196__340.jpg\" width=\"220\"/>\n</div>\n<div class=\"col-md-6 body-card\">\n<p class=\"txt-name inline\">LAMBORGHINI AVENTADOR</p>\n<p class=\"txt-category badge badge-secondary inline\">USADO</p>\n<p class=\"txt-motor\">Motor 1.8 16v</p>\n<p class=\"txt-description\">Ano 1993 - 55.286 km</p>\n<ul class=\"lst-items\">\n<li class=\"txt-items\">► 4 X 4</li>\n<li class=\"txt-items\">► Câmera de estacionamento</li>\n<li class=\"txt-items\">► Controle de tração</li>\n<li class=\"txt-items\">► Sensor de estacionamento</li>\n<li class=\"txt-items\">...</li>\n</ul>\n<p class=\"txt-location\">Belo Horizonte - MG</p>\n</div>\n<div class=\"col-md-3 value-card\">\n<div class=\"value\">\n<p class=\"txt-value\">R$ 338.000</p>\n</div>\n</div>\n</div>\n<div class=\"well card\">\n<div class=\"col-md-3 image-card\">\n<img alt=\"Foto\" height=\"155\" src=\"https://caelum-online-public.s3.amazonaws.com/1381-scraping/01/img-cars/bmw-m2/bmw-m2-2970882__340.jpg\" width=\"220\"/>\n</div>\n<div class=\"col-md-6 body-card\">\n<p class=\"txt-name inline\">BMW M2</p>\n<p class=\"txt-category badge badge-secondary inline\">USADO</p>\n<p class=\"txt-motor\">Motor 3.0 32v</p>\n<p class=\"txt-description\">Ano 2018 - 83.447 km</p>\n<ul class=\"lst-items\">\n<li class=\"txt-items\">► Câmera de estacionamento</li>\n<li class=\"txt-items\">► Controle de estabilidade</li>\n<li class=\"txt-items\">► Travas elétricas</li>\n<li class=\"txt-items\">► Freios ABS</li>\n<li class=\"txt-items\">...</li>\n</ul>\n<p class=\"txt-location\">Belo Horizonte - MG</p>\n</div>\n<div class=\"col-md-3 value-card\">\n<div class=\"value\">\n<p class=\"txt-value\">R$ 346.000</p>\n</div>\n</div>\n</div>\n<div class=\"well card\">\n<div class=\"col-md-3 image-card\">\n<img alt=\"Foto\" height=\"155\" src=\"https://caelum-online-public.s3.amazonaws.com/1381-scraping/01/img-cars/alfa/alfa-1823056__340.jpg\" width=\"220\"/>\n</div>\n<div class=\"col-md-6 body-card\">\n<p class=\"txt-name inline\">ALFA</p>\n<p class=\"txt-category badge badge-secondary inline\">USADO</p>\n<p class=\"txt-motor\">Motor 1.8 16v</p>\n<p class=\"txt-description\">Ano 2004 - 19.722 km</p>\n<ul class=\"lst-items\">\n<li class=\"txt-items\">► Central multimídia</li>\n<li class=\"txt-items\">► Bancos de couro</li>\n<li class=\"txt-items\">► Rodas de liga</li>\n<li class=\"txt-items\">► Câmera de estacionamento</li>\n<li class=\"txt-items\">...</li>\n</ul>\n<p class=\"txt-location\">Rio de Janeiro - RJ</p>\n</div>\n<div class=\"col-md-3 value-card\">\n<div class=\"value\">\n<p class=\"txt-value\">R$ 480.000</p>\n</div>\n</div>\n</div>\n<div class=\"well card\">\n<div class=\"col-md-3 image-card\">\n<img alt=\"Foto\" height=\"155\" src=\"https://caelum-online-public.s3.amazonaws.com/1381-scraping/01/img-cars/puech/puech-4055386__340.jpg\" width=\"220\"/>\n</div>\n<div class=\"col-md-6 body-card\">\n<p class=\"txt-name inline\">PUECH</p>\n<p class=\"txt-category badge badge-secondary inline\">USADO</p>\n<p class=\"txt-motor\">Motor Diesel V8</p>\n<p class=\"txt-description\">Ano 1992 - 34.335 km</p>\n<ul class=\"lst-items\">\n<li class=\"txt-items\">► Bancos de couro</li>\n<li class=\"txt-items\">► Freios ABS</li>\n<li class=\"txt-items\">► Rodas de liga</li>\n<li class=\"txt-items\">► Câmbio automático</li>\n<li class=\"txt-items\">...</li>\n</ul>\n<p class=\"txt-location\">São Paulo - SP</p>\n</div>\n<div class=\"col-md-3 value-card\">\n<div class=\"value\">\n<p class=\"txt-value\">R$ 133.000</p>\n</div>\n</div>\n</div>\n<div class=\"well card\">\n<div class=\"col-md-3 image-card\">\n<img alt=\"Foto\" height=\"155\" src=\"https://caelum-online-public.s3.amazonaws.com/1381-scraping/01/img-cars/lamborghini-murcielago/lamborghini-murcielago-2872974__340.jpg\" width=\"220\"/>\n</div>\n<div class=\"col-md-6 body-card\">\n<p class=\"txt-name inline\">LAMBORGHINI MURCIELAGO</p>\n<p class=\"txt-category badge badge-secondary inline\">USADO</p>\n<p class=\"txt-motor\">Motor 1.0 8v</p>\n<p class=\"txt-description\">Ano 1991 - 464 km</p>\n<ul class=\"lst-items\">\n<li class=\"txt-items\">► Central multimídia</li>\n<li class=\"txt-items\">► Teto panorâmico</li>\n<li class=\"txt-items\">► Sensor crepuscular</li>\n<li class=\"txt-items\">► Piloto automático</li>\n<li class=\"txt-items\">...</li>\n</ul>\n<p class=\"txt-location\">Belo Horizonte - MG</p>\n</div>\n<div class=\"col-md-3 value-card\">\n<div class=\"value\">\n<p class=\"txt-value\">R$ 175.000</p>\n</div>\n</div>\n</div>\n<div class=\"well card\">\n<div class=\"col-md-3 image-card\">\n<img alt=\"Foto\" height=\"155\" src=\"https://caelum-online-public.s3.amazonaws.com/1381-scraping/01/img-cars/aston-martin/aston-martin-2977916__340.jpg\" width=\"220\"/>\n</div>\n<div class=\"col-md-6 body-card\">\n<p class=\"txt-name inline\">ASTON MARTIN</p>\n<p class=\"txt-category badge badge-secondary inline\">USADO</p>\n<p class=\"txt-opportunity badge badge-danger inline\">OPORTUNIDADE</p>\n<p class=\"txt-motor\">Motor Diesel V6</p>\n<p class=\"txt-description\">Ano 2004 - 50.189 km</p>\n<ul class=\"lst-items\">\n<li class=\"txt-items\">► Painel digital</li>\n<li class=\"txt-items\">► Controle de tração</li>\n<li class=\"txt-items\">► Teto panorâmico</li>\n<li class=\"txt-items\">► Central multimídia</li>\n<li class=\"txt-items\">...</li>\n</ul>\n<p class=\"txt-location\">Belo Horizonte - MG</p>\n</div>\n<div class=\"col-md-3 value-card\">\n<div class=\"value\">\n<p class=\"txt-value\">R$ 239.000</p>\n</div>\n</div>\n</div>\n<div class=\"well card\">\n<div class=\"col-md-3 image-card\">\n<img alt=\"Foto\" height=\"155\" src=\"https://caelum-online-public.s3.amazonaws.com/1381-scraping/01/img-cars/tvr/tvr-2943925__340.jpg\" width=\"220\"/>\n</div>\n<div class=\"col-md-6 body-card\">\n<p class=\"txt-name inline\">TVR</p>\n<p class=\"txt-category badge badge-secondary inline\">USADO</p>\n<p class=\"txt-motor\">Motor 4.0 Turbo</p>\n<p class=\"txt-description\">Ano 2014 - 17.778 km</p>\n<ul class=\"lst-items\">\n<li class=\"txt-items\">► 4 X 4</li>\n<li class=\"txt-items\">► Teto panorâmico</li>\n<li class=\"txt-items\">► Central multimídia</li>\n<li class=\"txt-items\">► Controle de estabilidade</li>\n<li class=\"txt-items\">...</li>\n</ul>\n<p class=\"txt-location\">Belo Horizonte - MG</p>\n</div>\n<div class=\"col-md-3 value-card\">\n<div class=\"value\">\n<p class=\"txt-value\">R$ 115.000</p>\n</div>\n</div>\n</div>\n<div class=\"well card\">\n<div class=\"col-md-3 image-card\">\n<img alt=\"Foto\" height=\"155\" src=\"https://caelum-online-public.s3.amazonaws.com/1381-scraping/01/img-cars/excalibur/excalibur-2916730__340.jpg\" width=\"220\"/>\n</div>\n<div class=\"col-md-6 body-card\">\n<p class=\"txt-name inline\">EXCALIBUR</p>\n<p class=\"txt-category badge badge-secondary inline\">USADO</p>\n<p class=\"txt-motor\">Motor 3.0 32v</p>\n<p class=\"txt-description\">Ano 2009 - 81.251 km</p>\n<ul class=\"lst-items\">\n<li class=\"txt-items\">► Painel digital</li>\n<li class=\"txt-items\">► Câmbio automático</li>\n<li class=\"txt-items\">► Sensor de chuva</li>\n<li class=\"txt-items\">► Travas elétricas</li>\n<li class=\"txt-items\">...</li>\n</ul>\n<p class=\"txt-location\">Rio de Janeiro - RJ</p>\n</div>\n<div class=\"col-md-3 value-card\">\n<div class=\"value\">\n<p class=\"txt-value\">R$ 114.000</p>\n</div>\n</div>\n</div>\n<div class=\"well card\">\n<div class=\"col-md-3 image-card\">\n<img alt=\"Foto\" height=\"155\" src=\"https://caelum-online-public.s3.amazonaws.com/1381-scraping/01/img-cars/mclaren/mclaren-2855240__340.jpg\" width=\"220\"/>\n</div>\n<div class=\"col-md-6 body-card\">\n<p class=\"txt-name inline\">MCLAREN</p>\n<p class=\"txt-category badge badge-secondary inline\">NOVO</p>\n<p class=\"txt-motor\">Motor Diesel</p>\n<p class=\"txt-description\">Ano 2019 - 0 km</p>\n<ul class=\"lst-items\">\n<li class=\"txt-items\">► Central multimídia</li>\n<li class=\"txt-items\">► Câmera de estacionamento</li>\n<li class=\"txt-items\">► Câmbio automático</li>\n<li class=\"txt-items\">► Ar condicionado</li>\n<li class=\"txt-items\">...</li>\n</ul>\n<p class=\"txt-location\">São Paulo - SP</p>\n</div>\n<div class=\"col-md-3 value-card\">\n<div class=\"value\">\n<p class=\"txt-value\">R$ 75.000</p>\n</div>\n</div>\n</div>\n<div class=\"well card\">\n<div class=\"col-md-3 image-card\">\n<img alt=\"Foto\" height=\"155\" src=\"https://caelum-online-public.s3.amazonaws.com/1381-scraping/01/img-cars/toyota/toyota-3245397__340.jpg\" width=\"220\"/>\n</div>\n<div class=\"col-md-6 body-card\">\n<p class=\"txt-name inline\">TOYOTA</p>\n<p class=\"txt-category badge badge-secondary inline\">USADO</p>\n<p class=\"txt-opportunity badge badge-danger inline\">OPORTUNIDADE</p>\n<p class=\"txt-motor\">Motor 4.0 Turbo</p>\n<p class=\"txt-description\">Ano 1999 - 12.536 km</p>\n<ul class=\"lst-items\">\n<li class=\"txt-items\">► Bancos de couro</li>\n<li class=\"txt-items\">► Freios ABS</li>\n<li class=\"txt-items\">► Piloto automático</li>\n<li class=\"txt-items\">► Controle de estabilidade</li>\n<li class=\"txt-items\">...</li>\n</ul>\n<p class=\"txt-location\">São Paulo - SP</p>\n</div>\n<div class=\"col-md-3 value-card\">\n<div class=\"value\">\n<p class=\"txt-value\">R$ 117.000</p>\n</div>\n</div>\n</div> </div>\n<div class=\"type-select\">246 veículos encontrados</div>\n<div class=\"container-pagination\" style=\"float: right\">\n<span class=\"info-pages\">Página 1 de 25</span>\n</div>\n</div>\n</div>\n</div>\n</div>\n\n<footer>\n<nav class=\"navbar navbar-inverse\">\n<div class=\"container\" style=\"margin-bottom: 10px;\">\n<div class=\"navbar\">\n<a class=\"navbar-brand\" href=\"./index.php\" title=\"Alura Motors\">\n<img alt=\"Alura\" class=\"d-inline-block align-top\" src=\"img/alura-logo.svg\"/>Motors\n\t\t\t\t\t\t</a>\n<p style=\"color: #fff; text-align: center; margin-top: 40px;\">Aplicação para treinamento de web scraping</p>\n</div>\n</div>\n</nav>\n</footer>\n\n</body>\n</html>"
     },
     "metadata": {},
     "execution_count": 12
    }
   ],
   "source": [
    "url='https://alura-site-scraping.herokuapp.com/index.php'\n",
    "response = urlopen(url)\n",
    "html = response.read()\n",
    "type(html)\n",
    "soup=BeautifulSoup(html,'html.parser')\n",
    "soup"
   ]
  },
  {
   "cell_type": "code",
   "execution_count": 13,
   "metadata": {
    "tags": []
   },
   "outputs": [
    {
     "output_type": "stream",
     "name": "stdout",
     "text": "<!DOCTYPE html>\n<html lang=\"pt-br\">\n <head>\n  <meta charset=\"utf-8\"/>\n  <meta content=\"width=device-width, initial-scale=1, shrink-to-fit=no\" name=\"viewport\"/>\n  <title>\n   Alura Motors\n  </title>\n  <style>\n   /*Regra para a animacao*/\n\t\t@keyframes spin {\n\t\t\t0% { transform: rotate(0deg); }\n\t\t\t100% { transform: rotate(360deg); }\n\t\t}\n\t\t/*Mudando o tamanho do icone de resposta*/\n\t\tdiv.glyphicon {\n\t\t\tcolor:#6B8E23;\n\t\t\tfont-size: 38px;\n\t\t}\n\t\t/*Classe que mostra a animacao 'spin'*/\n\t\t.loader {\n\t\t\tborder: 16px solid #f3f3f3;\n\t\t\tborder-radius: 50%;\n\t\t\tborder-top: 16px solid #3498db;\n\t\t\twidth: 80px;\n\t\t\theight: 80px;\n\t\t\t-webkit-animation: spin 2s linear infinite;\n\t\t\tanimation: spin 2s linear infinite;\n\t\t}\n  </style>\n  <link crossorigin=\"anonymous\" href=\"https://maxcdn.bootstrapcdn.com/bootstrap/3.3.7/css/bootstrap.min.css\" integrity=\"sha384-BVYiiSIFeK1dGmJRAkycuHAHRg32OmUcww7on3RYdg4Va+PmSTsz/K68vbdEjh4u\" rel=\"stylesheet\"/>\n  <link href=\"css/styles.css\" media=\"all\" rel=\"stylesheet\"/>\n  <script src=\"https://code.jquery.com/jquery-1.12.4.js\">\n  </script>\n  <script crossorigin=\"anonymous\" integrity=\"sha384-Tc5IQib027qvyjSMfHjOMaLkfuWVxZxUPnCJA7l2mCWNIpG9mGCD8wGNIcPD7Txa\" src=\"https://maxcdn.bootstrapcdn.com/bootstrap/3.3.7/js/bootstrap.min.js\">\n  </script>\n  <script src=\"js/index.js\" type=\"text/javascript\">\n  </script>\n  <script>\n   requisitar(\"https://alura-scraping.herokuapp.com/produtos?_page=\"+1+\"&_limit=10\")\n  </script>\n </head>\n <body cz-shortcut-listen=\"true\">\n  <noscript>\n   You need to enable JavaScript to run this app.\n  </noscript>\n  <div aria-labelledby=\"loadingModal_label\" class=\"modal fade\" data-backdrop=\"static\" id=\"loadingModal\" role=\"dialog\" tabindex=\"-1\">\n   <div class=\"modal-dialog\" role=\"document\">\n    <div class=\"modal-content\">\n     <div class=\"modal-header\">\n      <h5 class=\"modal-title\" id=\"loadingModal_label\">\n       <span class=\"glyphicon glyphicon-refresh\">\n       </span>\n       Aguarde...\n      </h5>\n     </div>\n     <div class=\"modal-body\">\n      <div class=\"alert\" role=\"alert\">\n       <center>\n        <div class=\"loader\" id=\"loader\">\n        </div>\n        <br/>\n        <h4>\n         <b id=\"loadingModal_content\">\n         </b>\n        </h4>\n       </center>\n      </div>\n     </div>\n    </div>\n   </div>\n  </div>\n  <div id=\"root\">\n   <header>\n    <nav class=\"navbar navbar-inverse\" style=\"margin-bottom: 0;\">\n     <div class=\"container\" style=\"margin-bottom: -20px;\">\n      <div class=\"navbar\">\n       <a class=\"navbar-brand\" href=\"./index.php\" title=\"Alura Motors\">\n        <img alt=\"Alura\" class=\"d-inline-block align-top\" src=\"img/alura-logo.svg\"/>\n        Motors\n       </a>\n       <ul class=\"nav navbar-nav\" style=\"margin-top: 35px;\">\n        <li>\n         <a href=\"./hello-world.php\">\n          Hello World\n         </a>\n        </li>\n        <li>\n         <a href=\"./index.php\">\n          Anúncios\n         </a>\n        </li>\n       </ul>\n      </div>\n     </div>\n    </nav>\n   </header>\n   <div class=\"container\">\n    <h1 class=\"sub-header\">\n     Veículos de Luxo Novos e Usados - Todas as Marcas\n    </h1>\n    <div class=\"row\">\n     <div class=\"col-md-12\">\n      <div class=\"container\" style=\"width: 100%\">\n       <div class=\"type-select\">\n        246 veículos encontrados\n       </div>\n       <div class=\"container-pagination\" style=\"float: right\">\n        <span class=\"info-pages\">\n         Página 1 de 25\n        </span>\n       </div>\n      </div>\n      <div id=\"container-cards\" style=\"height: 100%\">\n       <div class=\"well card\">\n        <div class=\"col-md-3 image-card\">\n         <img alt=\"Foto\" height=\"155\" src=\"https://caelum-online-public.s3.amazonaws.com/1381-scraping/01/img-cars/lamborghini-aventador/lamborghini-aventador-2932196__340.jpg\" width=\"220\"/>\n        </div>\n        <div class=\"col-md-6 body-card\">\n         <p class=\"txt-name inline\">\n          LAMBORGHINI AVENTADOR\n         </p>\n         <p class=\"txt-category badge badge-secondary inline\">\n          USADO\n         </p>\n         <p class=\"txt-motor\">\n          Motor 1.8 16v\n         </p>\n         <p class=\"txt-description\">\n          Ano 1993 - 55.286 km\n         </p>\n         <ul class=\"lst-items\">\n          <li class=\"txt-items\">\n           ► 4 X 4\n          </li>\n          <li class=\"txt-items\">\n           ► Câmera de estacionamento\n          </li>\n          <li class=\"txt-items\">\n           ► Controle de tração\n          </li>\n          <li class=\"txt-items\">\n           ► Sensor de estacionamento\n          </li>\n          <li class=\"txt-items\">\n           ...\n          </li>\n         </ul>\n         <p class=\"txt-location\">\n          Belo Horizonte - MG\n         </p>\n        </div>\n        <div class=\"col-md-3 value-card\">\n         <div class=\"value\">\n          <p class=\"txt-value\">\n           R$ 338.000\n          </p>\n         </div>\n        </div>\n       </div>\n       <div class=\"well card\">\n        <div class=\"col-md-3 image-card\">\n         <img alt=\"Foto\" height=\"155\" src=\"https://caelum-online-public.s3.amazonaws.com/1381-scraping/01/img-cars/bmw-m2/bmw-m2-2970882__340.jpg\" width=\"220\"/>\n        </div>\n        <div class=\"col-md-6 body-card\">\n         <p class=\"txt-name inline\">\n          BMW M2\n         </p>\n         <p class=\"txt-category badge badge-secondary inline\">\n          USADO\n         </p>\n         <p class=\"txt-motor\">\n          Motor 3.0 32v\n         </p>\n         <p class=\"txt-description\">\n          Ano 2018 - 83.447 km\n         </p>\n         <ul class=\"lst-items\">\n          <li class=\"txt-items\">\n           ► Câmera de estacionamento\n          </li>\n          <li class=\"txt-items\">\n           ► Controle de estabilidade\n          </li>\n          <li class=\"txt-items\">\n           ► Travas elétricas\n          </li>\n          <li class=\"txt-items\">\n           ► Freios ABS\n          </li>\n          <li class=\"txt-items\">\n           ...\n          </li>\n         </ul>\n         <p class=\"txt-location\">\n          Belo Horizonte - MG\n         </p>\n        </div>\n        <div class=\"col-md-3 value-card\">\n         <div class=\"value\">\n          <p class=\"txt-value\">\n           R$ 346.000\n          </p>\n         </div>\n        </div>\n       </div>\n       <div class=\"well card\">\n        <div class=\"col-md-3 image-card\">\n         <img alt=\"Foto\" height=\"155\" src=\"https://caelum-online-public.s3.amazonaws.com/1381-scraping/01/img-cars/alfa/alfa-1823056__340.jpg\" width=\"220\"/>\n        </div>\n        <div class=\"col-md-6 body-card\">\n         <p class=\"txt-name inline\">\n          ALFA\n         </p>\n         <p class=\"txt-category badge badge-secondary inline\">\n          USADO\n         </p>\n         <p class=\"txt-motor\">\n          Motor 1.8 16v\n         </p>\n         <p class=\"txt-description\">\n          Ano 2004 - 19.722 km\n         </p>\n         <ul class=\"lst-items\">\n          <li class=\"txt-items\">\n           ► Central multimídia\n          </li>\n          <li class=\"txt-items\">\n           ► Bancos de couro\n          </li>\n          <li class=\"txt-items\">\n           ► Rodas de liga\n          </li>\n          <li class=\"txt-items\">\n           ► Câmera de estacionamento\n          </li>\n          <li class=\"txt-items\">\n           ...\n          </li>\n         </ul>\n         <p class=\"txt-location\">\n          Rio de Janeiro - RJ\n         </p>\n        </div>\n        <div class=\"col-md-3 value-card\">\n         <div class=\"value\">\n          <p class=\"txt-value\">\n           R$ 480.000\n          </p>\n         </div>\n        </div>\n       </div>\n       <div class=\"well card\">\n        <div class=\"col-md-3 image-card\">\n         <img alt=\"Foto\" height=\"155\" src=\"https://caelum-online-public.s3.amazonaws.com/1381-scraping/01/img-cars/puech/puech-4055386__340.jpg\" width=\"220\"/>\n        </div>\n        <div class=\"col-md-6 body-card\">\n         <p class=\"txt-name inline\">\n          PUECH\n         </p>\n         <p class=\"txt-category badge badge-secondary inline\">\n          USADO\n         </p>\n         <p class=\"txt-motor\">\n          Motor Diesel V8\n         </p>\n         <p class=\"txt-description\">\n          Ano 1992 - 34.335 km\n         </p>\n         <ul class=\"lst-items\">\n          <li class=\"txt-items\">\n           ► Bancos de couro\n          </li>\n          <li class=\"txt-items\">\n           ► Freios ABS\n          </li>\n          <li class=\"txt-items\">\n           ► Rodas de liga\n          </li>\n          <li class=\"txt-items\">\n           ► Câmbio automático\n          </li>\n          <li class=\"txt-items\">\n           ...\n          </li>\n         </ul>\n         <p class=\"txt-location\">\n          São Paulo - SP\n         </p>\n        </div>\n        <div class=\"col-md-3 value-card\">\n         <div class=\"value\">\n          <p class=\"txt-value\">\n           R$ 133.000\n          </p>\n         </div>\n        </div>\n       </div>\n       <div class=\"well card\">\n        <div class=\"col-md-3 image-card\">\n         <img alt=\"Foto\" height=\"155\" src=\"https://caelum-online-public.s3.amazonaws.com/1381-scraping/01/img-cars/lamborghini-murcielago/lamborghini-murcielago-2872974__340.jpg\" width=\"220\"/>\n        </div>\n        <div class=\"col-md-6 body-card\">\n         <p class=\"txt-name inline\">\n          LAMBORGHINI MURCIELAGO\n         </p>\n         <p class=\"txt-category badge badge-secondary inline\">\n          USADO\n         </p>\n         <p class=\"txt-motor\">\n          Motor 1.0 8v\n         </p>\n         <p class=\"txt-description\">\n          Ano 1991 - 464 km\n         </p>\n         <ul class=\"lst-items\">\n          <li class=\"txt-items\">\n           ► Central multimídia\n          </li>\n          <li class=\"txt-items\">\n           ► Teto panorâmico\n          </li>\n          <li class=\"txt-items\">\n           ► Sensor crepuscular\n          </li>\n          <li class=\"txt-items\">\n           ► Piloto automático\n          </li>\n          <li class=\"txt-items\">\n           ...\n          </li>\n         </ul>\n         <p class=\"txt-location\">\n          Belo Horizonte - MG\n         </p>\n        </div>\n        <div class=\"col-md-3 value-card\">\n         <div class=\"value\">\n          <p class=\"txt-value\">\n           R$ 175.000\n          </p>\n         </div>\n        </div>\n       </div>\n       <div class=\"well card\">\n        <div class=\"col-md-3 image-card\">\n         <img alt=\"Foto\" height=\"155\" src=\"https://caelum-online-public.s3.amazonaws.com/1381-scraping/01/img-cars/aston-martin/aston-martin-2977916__340.jpg\" width=\"220\"/>\n        </div>\n        <div class=\"col-md-6 body-card\">\n         <p class=\"txt-name inline\">\n          ASTON MARTIN\n         </p>\n         <p class=\"txt-category badge badge-secondary inline\">\n          USADO\n         </p>\n         <p class=\"txt-opportunity badge badge-danger inline\">\n          OPORTUNIDADE\n         </p>\n         <p class=\"txt-motor\">\n          Motor Diesel V6\n         </p>\n         <p class=\"txt-description\">\n          Ano 2004 - 50.189 km\n         </p>\n         <ul class=\"lst-items\">\n          <li class=\"txt-items\">\n           ► Painel digital\n          </li>\n          <li class=\"txt-items\">\n           ► Controle de tração\n          </li>\n          <li class=\"txt-items\">\n           ► Teto panorâmico\n          </li>\n          <li class=\"txt-items\">\n           ► Central multimídia\n          </li>\n          <li class=\"txt-items\">\n           ...\n          </li>\n         </ul>\n         <p class=\"txt-location\">\n          Belo Horizonte - MG\n         </p>\n        </div>\n        <div class=\"col-md-3 value-card\">\n         <div class=\"value\">\n          <p class=\"txt-value\">\n           R$ 239.000\n          </p>\n         </div>\n        </div>\n       </div>\n       <div class=\"well card\">\n        <div class=\"col-md-3 image-card\">\n         <img alt=\"Foto\" height=\"155\" src=\"https://caelum-online-public.s3.amazonaws.com/1381-scraping/01/img-cars/tvr/tvr-2943925__340.jpg\" width=\"220\"/>\n        </div>\n        <div class=\"col-md-6 body-card\">\n         <p class=\"txt-name inline\">\n          TVR\n         </p>\n         <p class=\"txt-category badge badge-secondary inline\">\n          USADO\n         </p>\n         <p class=\"txt-motor\">\n          Motor 4.0 Turbo\n         </p>\n         <p class=\"txt-description\">\n          Ano 2014 - 17.778 km\n         </p>\n         <ul class=\"lst-items\">\n          <li class=\"txt-items\">\n           ► 4 X 4\n          </li>\n          <li class=\"txt-items\">\n           ► Teto panorâmico\n          </li>\n          <li class=\"txt-items\">\n           ► Central multimídia\n          </li>\n          <li class=\"txt-items\">\n           ► Controle de estabilidade\n          </li>\n          <li class=\"txt-items\">\n           ...\n          </li>\n         </ul>\n         <p class=\"txt-location\">\n          Belo Horizonte - MG\n         </p>\n        </div>\n        <div class=\"col-md-3 value-card\">\n         <div class=\"value\">\n          <p class=\"txt-value\">\n           R$ 115.000\n          </p>\n         </div>\n        </div>\n       </div>\n       <div class=\"well card\">\n        <div class=\"col-md-3 image-card\">\n         <img alt=\"Foto\" height=\"155\" src=\"https://caelum-online-public.s3.amazonaws.com/1381-scraping/01/img-cars/excalibur/excalibur-2916730__340.jpg\" width=\"220\"/>\n        </div>\n        <div class=\"col-md-6 body-card\">\n         <p class=\"txt-name inline\">\n          EXCALIBUR\n         </p>\n         <p class=\"txt-category badge badge-secondary inline\">\n          USADO\n         </p>\n         <p class=\"txt-motor\">\n          Motor 3.0 32v\n         </p>\n         <p class=\"txt-description\">\n          Ano 2009 - 81.251 km\n         </p>\n         <ul class=\"lst-items\">\n          <li class=\"txt-items\">\n           ► Painel digital\n          </li>\n          <li class=\"txt-items\">\n           ► Câmbio automático\n          </li>\n          <li class=\"txt-items\">\n           ► Sensor de chuva\n          </li>\n          <li class=\"txt-items\">\n           ► Travas elétricas\n          </li>\n          <li class=\"txt-items\">\n           ...\n          </li>\n         </ul>\n         <p class=\"txt-location\">\n          Rio de Janeiro - RJ\n         </p>\n        </div>\n        <div class=\"col-md-3 value-card\">\n         <div class=\"value\">\n          <p class=\"txt-value\">\n           R$ 114.000\n          </p>\n         </div>\n        </div>\n       </div>\n       <div class=\"well card\">\n        <div class=\"col-md-3 image-card\">\n         <img alt=\"Foto\" height=\"155\" src=\"https://caelum-online-public.s3.amazonaws.com/1381-scraping/01/img-cars/mclaren/mclaren-2855240__340.jpg\" width=\"220\"/>\n        </div>\n        <div class=\"col-md-6 body-card\">\n         <p class=\"txt-name inline\">\n          MCLAREN\n         </p>\n         <p class=\"txt-category badge badge-secondary inline\">\n          NOVO\n         </p>\n         <p class=\"txt-motor\">\n          Motor Diesel\n         </p>\n         <p class=\"txt-description\">\n          Ano 2019 - 0 km\n         </p>\n         <ul class=\"lst-items\">\n          <li class=\"txt-items\">\n           ► Central multimídia\n          </li>\n          <li class=\"txt-items\">\n           ► Câmera de estacionamento\n          </li>\n          <li class=\"txt-items\">\n           ► Câmbio automático\n          </li>\n          <li class=\"txt-items\">\n           ► Ar condicionado\n          </li>\n          <li class=\"txt-items\">\n           ...\n          </li>\n         </ul>\n         <p class=\"txt-location\">\n          São Paulo - SP\n         </p>\n        </div>\n        <div class=\"col-md-3 value-card\">\n         <div class=\"value\">\n          <p class=\"txt-value\">\n           R$ 75.000\n          </p>\n         </div>\n        </div>\n       </div>\n       <div class=\"well card\">\n        <div class=\"col-md-3 image-card\">\n         <img alt=\"Foto\" height=\"155\" src=\"https://caelum-online-public.s3.amazonaws.com/1381-scraping/01/img-cars/toyota/toyota-3245397__340.jpg\" width=\"220\"/>\n        </div>\n        <div class=\"col-md-6 body-card\">\n         <p class=\"txt-name inline\">\n          TOYOTA\n         </p>\n         <p class=\"txt-category badge badge-secondary inline\">\n          USADO\n         </p>\n         <p class=\"txt-opportunity badge badge-danger inline\">\n          OPORTUNIDADE\n         </p>\n         <p class=\"txt-motor\">\n          Motor 4.0 Turbo\n         </p>\n         <p class=\"txt-description\">\n          Ano 1999 - 12.536 km\n         </p>\n         <ul class=\"lst-items\">\n          <li class=\"txt-items\">\n           ► Bancos de couro\n          </li>\n          <li class=\"txt-items\">\n           ► Freios ABS\n          </li>\n          <li class=\"txt-items\">\n           ► Piloto automático\n          </li>\n          <li class=\"txt-items\">\n           ► Controle de estabilidade\n          </li>\n          <li class=\"txt-items\">\n           ...\n          </li>\n         </ul>\n         <p class=\"txt-location\">\n          São Paulo - SP\n         </p>\n        </div>\n        <div class=\"col-md-3 value-card\">\n         <div class=\"value\">\n          <p class=\"txt-value\">\n           R$ 117.000\n          </p>\n         </div>\n        </div>\n       </div>\n      </div>\n      <div class=\"type-select\">\n       246 veículos encontrados\n      </div>\n      <div class=\"container-pagination\" style=\"float: right\">\n       <span class=\"info-pages\">\n        Página 1 de 25\n       </span>\n      </div>\n     </div>\n    </div>\n   </div>\n  </div>\n  <footer>\n   <nav class=\"navbar navbar-inverse\">\n    <div class=\"container\" style=\"margin-bottom: 10px;\">\n     <div class=\"navbar\">\n      <a class=\"navbar-brand\" href=\"./index.php\" title=\"Alura Motors\">\n       <img alt=\"Alura\" class=\"d-inline-block align-top\" src=\"img/alura-logo.svg\"/>\n       Motors\n      </a>\n      <p style=\"color: #fff; text-align: center; margin-top: 40px;\">\n       Aplicação para treinamento de web scraping\n      </p>\n     </div>\n    </div>\n   </nav>\n  </footer>\n </body>\n</html>\n\n"
    }
   ],
   "source": [
    "print(soup.prettify())"
   ]
  },
  {
   "cell_type": "markdown",
   "metadata": {},
   "source": [
    "# 3.3. Acessando tags"
   ]
  },
  {
   "cell_type": "code",
   "execution_count": 14,
   "metadata": {},
   "outputs": [
    {
     "output_type": "execute_result",
     "data": {
      "text/plain": "<h5 class=\"modal-title\" id=\"loadingModal_label\">\n<span class=\"glyphicon glyphicon-refresh\"></span>Aguarde...\n\t\t\t\t\t</h5>"
     },
     "metadata": {},
     "execution_count": 14
    }
   ],
   "source": [
    "soup.div.div.div.div.h5\n"
   ]
  },
  {
   "cell_type": "code",
   "execution_count": 15,
   "metadata": {},
   "outputs": [
    {
     "output_type": "execute_result",
     "data": {
      "text/plain": "<h5 class=\"modal-title\" id=\"loadingModal_label\">\n<span class=\"glyphicon glyphicon-refresh\"></span>Aguarde...\n\t\t\t\t\t</h5>"
     },
     "metadata": {},
     "execution_count": 15
    }
   ],
   "source": [
    "soup.h5"
   ]
  },
  {
   "cell_type": "code",
   "execution_count": null,
   "metadata": {
    "scrolled": true
   },
   "outputs": [],
   "source": []
  },
  {
   "cell_type": "code",
   "execution_count": null,
   "metadata": {
    "scrolled": true
   },
   "outputs": [],
   "source": []
  },
  {
   "cell_type": "code",
   "execution_count": null,
   "metadata": {},
   "outputs": [],
   "source": []
  },
  {
   "cell_type": "code",
   "execution_count": null,
   "metadata": {},
   "outputs": [],
   "source": []
  },
  {
   "cell_type": "code",
   "execution_count": null,
   "metadata": {},
   "outputs": [],
   "source": []
  },
  {
   "cell_type": "markdown",
   "metadata": {},
   "source": [
    "# 3.4. Acessando o conteúdo das tags"
   ]
  },
  {
   "cell_type": "code",
   "execution_count": 16,
   "metadata": {},
   "outputs": [
    {
     "output_type": "execute_result",
     "data": {
      "text/plain": "<title>Alura Motors</title>"
     },
     "metadata": {},
     "execution_count": 16
    }
   ],
   "source": [
    "soup.title"
   ]
  },
  {
   "cell_type": "code",
   "execution_count": 17,
   "metadata": {},
   "outputs": [
    {
     "output_type": "execute_result",
     "data": {
      "text/plain": "'Alura Motors'"
     },
     "metadata": {},
     "execution_count": 17
    }
   ],
   "source": [
    "soup.title.get_text()"
   ]
  },
  {
   "cell_type": "code",
   "execution_count": 18,
   "metadata": {},
   "outputs": [
    {
     "output_type": "execute_result",
     "data": {
      "text/plain": "'\\nAguarde...\\r\\n\\t\\t\\t\\t\\t'"
     },
     "metadata": {},
     "execution_count": 18
    }
   ],
   "source": [
    "soup.h5.getText()"
   ]
  },
  {
   "cell_type": "code",
   "execution_count": 19,
   "metadata": {},
   "outputs": [
    {
     "output_type": "execute_result",
     "data": {
      "text/plain": "'\\n\\n\\n\\n\\nAlura Motors\\n\\n\\n\\n\\n\\n\\n\\n\\n\\nYou need to enable JavaScript to run this app.\\n\\n\\n\\n\\n\\nAguarde...\\r\\n\\t\\t\\t\\t\\t\\n\\n\\n\\n\\n\\n\\n\\n\\n\\n\\n\\n\\n\\n\\n\\n\\n\\n\\nMotors\\r\\n\\t\\t\\t\\t\\t\\t\\n\\nHello World\\nAnúncios\\n\\n\\n\\n\\n\\n\\nVeículos de Luxo Novos e Usados - Todas as Marcas\\n\\n\\n\\n246 veículos encontrados\\n\\nPágina 1 de 25\\n\\n\\n\\n\\n\\n\\n\\n\\nLAMBORGHINI AVENTADOR\\nUSADO\\nMotor 1.8 16v\\nAno 1993 - 55.286 km\\n\\n► 4 X 4\\n► Câmera de estacionamento\\n► Controle de tração\\n► Sensor de estacionamento\\n...\\n\\nBelo Horizonte - MG\\n\\n\\n\\nR$ 338.000\\n\\n\\n\\n\\n\\n\\n\\n\\nBMW M2\\nUSADO\\nMotor 3.0 32v\\nAno 2018 - 83.447 km\\n\\n► Câmera de estacionamento\\n► Controle de estabilidade\\n► Travas elétricas\\n► Freios ABS\\n...\\n\\nBelo Horizonte - MG\\n\\n\\n\\nR$ 346.000\\n\\n\\n\\n\\n\\n\\n\\n\\nALFA\\nUSADO\\nMotor 1.8 16v\\nAno 2004 - 19.722 km\\n\\n► Central multimídia\\n► Bancos de couro\\n► Rodas de liga\\n► Câmera de estacionamento\\n...\\n\\nRio de Janeiro - RJ\\n\\n\\n\\nR$ 480.000\\n\\n\\n\\n\\n\\n\\n\\n\\nPUECH\\nUSADO\\nMotor Diesel V8\\nAno 1992 - 34.335 km\\n\\n► Bancos de couro\\n► Freios ABS\\n► Rodas de liga\\n► Câmbio automático\\n...\\n\\nSão Paulo - SP\\n\\n\\n\\nR$ 133.000\\n\\n\\n\\n\\n\\n\\n\\n\\nLAMBORGHINI MURCIELAGO\\nUSADO\\nMotor 1.0 8v\\nAno 1991 - 464 km\\n\\n► Central multimídia\\n► Teto panorâmico\\n► Sensor crepuscular\\n► Piloto automático\\n...\\n\\nBelo Horizonte - MG\\n\\n\\n\\nR$ 175.000\\n\\n\\n\\n\\n\\n\\n\\n\\nASTON MARTIN\\nUSADO\\nOPORTUNIDADE\\nMotor Diesel V6\\nAno 2004 - 50.189 km\\n\\n► Painel digital\\n► Controle de tração\\n► Teto panorâmico\\n► Central multimídia\\n...\\n\\nBelo Horizonte - MG\\n\\n\\n\\nR$ 239.000\\n\\n\\n\\n\\n\\n\\n\\n\\nTVR\\nUSADO\\nMotor 4.0 Turbo\\nAno 2014 - 17.778 km\\n\\n► 4 X 4\\n► Teto panorâmico\\n► Central multimídia\\n► Controle de estabilidade\\n...\\n\\nBelo Horizonte - MG\\n\\n\\n\\nR$ 115.000\\n\\n\\n\\n\\n\\n\\n\\n\\nEXCALIBUR\\nUSADO\\nMotor 3.0 32v\\nAno 2009 - 81.251 km\\n\\n► Painel digital\\n► Câmbio automático\\n► Sensor de chuva\\n► Travas elétricas\\n...\\n\\nRio de Janeiro - RJ\\n\\n\\n\\nR$ 114.000\\n\\n\\n\\n\\n\\n\\n\\n\\nMCLAREN\\nNOVO\\nMotor Diesel\\nAno 2019 - 0 km\\n\\n► Central multimídia\\n► Câmera de estacionamento\\n► Câmbio automático\\n► Ar condicionado\\n...\\n\\nSão Paulo - SP\\n\\n\\n\\nR$ 75.000\\n\\n\\n\\n\\n\\n\\n\\n\\nTOYOTA\\nUSADO\\nOPORTUNIDADE\\nMotor 4.0 Turbo\\nAno 1999 - 12.536 km\\n\\n► Bancos de couro\\n► Freios ABS\\n► Piloto automático\\n► Controle de estabilidade\\n...\\n\\nSão Paulo - SP\\n\\n\\n\\nR$ 117.000\\n\\n\\n \\n246 veículos encontrados\\n\\nPágina 1 de 25\\n\\n\\n\\n\\n\\n\\n\\n\\n\\n\\n\\nMotors\\r\\n\\t\\t\\t\\t\\t\\t\\nAplicação para treinamento de web scraping\\n\\n\\n\\n\\n\\n\\n\\n'"
     },
     "metadata": {},
     "execution_count": 19
    }
   ],
   "source": [
    "soup.get_text()"
   ]
  },
  {
   "cell_type": "code",
   "execution_count": null,
   "metadata": {},
   "outputs": [],
   "source": []
  },
  {
   "cell_type": "markdown",
   "metadata": {},
   "source": [
    "# 3.5. Acessando os atributos de uma tag"
   ]
  },
  {
   "cell_type": "code",
   "execution_count": 20,
   "metadata": {},
   "outputs": [
    {
     "output_type": "execute_result",
     "data": {
      "text/plain": "<img alt=\"Alura\" class=\"d-inline-block align-top\" src=\"img/alura-logo.svg\"/>"
     },
     "metadata": {},
     "execution_count": 20
    }
   ],
   "source": [
    "soup.img"
   ]
  },
  {
   "cell_type": "code",
   "execution_count": 21,
   "metadata": {},
   "outputs": [
    {
     "output_type": "execute_result",
     "data": {
      "text/plain": "['d-inline-block', 'align-top']"
     },
     "metadata": {},
     "execution_count": 21
    }
   ],
   "source": [
    "soup.img.attrs['class']"
   ]
  },
  {
   "cell_type": "code",
   "execution_count": 22,
   "metadata": {},
   "outputs": [
    {
     "output_type": "execute_result",
     "data": {
      "text/plain": "['d-inline-block', 'align-top']"
     },
     "metadata": {},
     "execution_count": 22
    }
   ],
   "source": [
    "soup.img['class']"
   ]
  },
  {
   "cell_type": "code",
   "execution_count": null,
   "metadata": {},
   "outputs": [],
   "source": []
  },
  {
   "cell_type": "code",
   "execution_count": null,
   "metadata": {},
   "outputs": [],
   "source": []
  },
  {
   "cell_type": "code",
   "execution_count": null,
   "metadata": {},
   "outputs": [],
   "source": []
  },
  {
   "cell_type": "markdown",
   "metadata": {},
   "source": [
    "---\n",
    "# <font color=green>4. PESQUISANDO COM O BEAUTIFULSOUP"
   ]
  },
  {
   "cell_type": "markdown",
   "metadata": {},
   "source": [
    "# 4.1. Os métodos *find()* e *findAll()*"
   ]
  },
  {
   "cell_type": "markdown",
   "metadata": {},
   "source": [
    "- ### *find(tag, attributes, recursive, text, **kwargs)*\n",
    "\n",
    "- ### *findAll(tag, attributes, recursive, text, limit, **kwargs)*\n",
    "\n",
    "#### https://www.crummy.com/software/BeautifulSoup/bs4/doc/#find\n",
    "#### https://www.crummy.com/software/BeautifulSoup/bs4/doc/#find-all\n",
    "\n",
    "> **Observação:**\n",
    "> - *findAll()* também pode ser utilizado como *find_all()*"
   ]
  },
  {
   "cell_type": "markdown",
   "metadata": {},
   "source": [
    "### Método *find()*"
   ]
  },
  {
   "cell_type": "code",
   "execution_count": 23,
   "metadata": {},
   "outputs": [
    {
     "output_type": "execute_result",
     "data": {
      "text/plain": "<img alt=\"Alura\" class=\"d-inline-block align-top\" src=\"img/alura-logo.svg\"/>"
     },
     "metadata": {},
     "execution_count": 23
    }
   ],
   "source": [
    "soup.find('img')"
   ]
  },
  {
   "cell_type": "code",
   "execution_count": 24,
   "metadata": {},
   "outputs": [
    {
     "output_type": "execute_result",
     "data": {
      "text/plain": "[<img alt=\"Alura\" class=\"d-inline-block align-top\" src=\"img/alura-logo.svg\"/>]"
     },
     "metadata": {},
     "execution_count": 24
    }
   ],
   "source": [
    "soup.findAll('img', limit=1)"
   ]
  },
  {
   "cell_type": "markdown",
   "metadata": {},
   "source": [
    "### Método *findAll()*"
   ]
  },
  {
   "cell_type": "code",
   "execution_count": 25,
   "metadata": {},
   "outputs": [
    {
     "output_type": "execute_result",
     "data": {
      "text/plain": "[<img alt=\"Alura\" class=\"d-inline-block align-top\" src=\"img/alura-logo.svg\"/>,\n <img alt=\"Foto\" height=\"155\" src=\"https://caelum-online-public.s3.amazonaws.com/1381-scraping/01/img-cars/lamborghini-aventador/lamborghini-aventador-2932196__340.jpg\" width=\"220\"/>,\n <img alt=\"Foto\" height=\"155\" src=\"https://caelum-online-public.s3.amazonaws.com/1381-scraping/01/img-cars/bmw-m2/bmw-m2-2970882__340.jpg\" width=\"220\"/>,\n <img alt=\"Foto\" height=\"155\" src=\"https://caelum-online-public.s3.amazonaws.com/1381-scraping/01/img-cars/alfa/alfa-1823056__340.jpg\" width=\"220\"/>,\n <img alt=\"Foto\" height=\"155\" src=\"https://caelum-online-public.s3.amazonaws.com/1381-scraping/01/img-cars/puech/puech-4055386__340.jpg\" width=\"220\"/>,\n <img alt=\"Foto\" height=\"155\" src=\"https://caelum-online-public.s3.amazonaws.com/1381-scraping/01/img-cars/lamborghini-murcielago/lamborghini-murcielago-2872974__340.jpg\" width=\"220\"/>,\n <img alt=\"Foto\" height=\"155\" src=\"https://caelum-online-public.s3.amazonaws.com/1381-scraping/01/img-cars/aston-martin/aston-martin-2977916__340.jpg\" width=\"220\"/>,\n <img alt=\"Foto\" height=\"155\" src=\"https://caelum-online-public.s3.amazonaws.com/1381-scraping/01/img-cars/tvr/tvr-2943925__340.jpg\" width=\"220\"/>,\n <img alt=\"Foto\" height=\"155\" src=\"https://caelum-online-public.s3.amazonaws.com/1381-scraping/01/img-cars/excalibur/excalibur-2916730__340.jpg\" width=\"220\"/>,\n <img alt=\"Foto\" height=\"155\" src=\"https://caelum-online-public.s3.amazonaws.com/1381-scraping/01/img-cars/mclaren/mclaren-2855240__340.jpg\" width=\"220\"/>,\n <img alt=\"Foto\" height=\"155\" src=\"https://caelum-online-public.s3.amazonaws.com/1381-scraping/01/img-cars/toyota/toyota-3245397__340.jpg\" width=\"220\"/>,\n <img alt=\"Alura\" class=\"d-inline-block align-top\" src=\"img/alura-logo.svg\"/>]"
     },
     "metadata": {},
     "execution_count": 25
    }
   ],
   "source": [
    "soup('img')"
   ]
  },
  {
   "cell_type": "markdown",
   "metadata": {},
   "source": [
    "### Comando equivalente ao método *find()*"
   ]
  },
  {
   "cell_type": "code",
   "execution_count": 26,
   "metadata": {},
   "outputs": [
    {
     "output_type": "execute_result",
     "data": {
      "text/plain": "[<h5 class=\"modal-title\" id=\"loadingModal_label\">\n <span class=\"glyphicon glyphicon-refresh\"></span>Aguarde...\n \t\t\t\t\t</h5>,\n <h4><b id=\"loadingModal_content\"></b></h4>,\n <h1 class=\"sub-header\">Veículos de Luxo Novos e Usados - Todas as Marcas</h1>]"
     },
     "metadata": {},
     "execution_count": 26
    }
   ],
   "source": [
    "soup.findAll(['h1','h2','h3','h4','h5','h6'])"
   ]
  },
  {
   "cell_type": "markdown",
   "metadata": {},
   "source": [
    "### Atalho para o método *findAll()*"
   ]
  },
  {
   "cell_type": "code",
   "execution_count": null,
   "metadata": {},
   "outputs": [],
   "source": []
  },
  {
   "cell_type": "markdown",
   "metadata": {},
   "source": [
    "### Passando listas de TAGs"
   ]
  },
  {
   "cell_type": "code",
   "execution_count": null,
   "metadata": {},
   "outputs": [],
   "source": []
  },
  {
   "cell_type": "markdown",
   "metadata": {},
   "source": [
    "### Utilizando o argumento *attributes*"
   ]
  },
  {
   "cell_type": "code",
   "execution_count": 27,
   "metadata": {
    "scrolled": true
   },
   "outputs": [
    {
     "output_type": "execute_result",
     "data": {
      "text/plain": "[<p class=\"txt-value\">R$ 338.000</p>,\n <p class=\"txt-value\">R$ 346.000</p>,\n <p class=\"txt-value\">R$ 480.000</p>,\n <p class=\"txt-value\">R$ 133.000</p>,\n <p class=\"txt-value\">R$ 175.000</p>,\n <p class=\"txt-value\">R$ 239.000</p>,\n <p class=\"txt-value\">R$ 115.000</p>,\n <p class=\"txt-value\">R$ 114.000</p>,\n <p class=\"txt-value\">R$ 75.000</p>,\n <p class=\"txt-value\">R$ 117.000</p>]"
     },
     "metadata": {},
     "execution_count": 27
    }
   ],
   "source": [
    "soup.findAll('p',{'class':'txt-value'})"
   ]
  },
  {
   "cell_type": "markdown",
   "metadata": {},
   "source": [
    "### Buscando por conteúdo de uma TAG"
   ]
  },
  {
   "cell_type": "code",
   "execution_count": 28,
   "metadata": {},
   "outputs": [
    {
     "output_type": "execute_result",
     "data": {
      "text/plain": "[<p class=\"txt-location\">Belo Horizonte - MG</p>,\n <p class=\"txt-location\">Belo Horizonte - MG</p>,\n <p class=\"txt-location\">Belo Horizonte - MG</p>,\n <p class=\"txt-location\">Belo Horizonte - MG</p>,\n <p class=\"txt-location\">Belo Horizonte - MG</p>]"
     },
     "metadata": {},
     "execution_count": 28
    }
   ],
   "source": [
    "soup.findAll('p',text='Belo Horizonte - MG')"
   ]
  },
  {
   "cell_type": "markdown",
   "metadata": {},
   "source": [
    "### Utilizando diretamente os atributos"
   ]
  },
  {
   "cell_type": "code",
   "execution_count": 29,
   "metadata": {},
   "outputs": [
    {
     "output_type": "execute_result",
     "data": {
      "text/plain": "[<img alt=\"Foto\" height=\"155\" src=\"https://caelum-online-public.s3.amazonaws.com/1381-scraping/01/img-cars/lamborghini-aventador/lamborghini-aventador-2932196__340.jpg\" width=\"220\"/>,\n <img alt=\"Foto\" height=\"155\" src=\"https://caelum-online-public.s3.amazonaws.com/1381-scraping/01/img-cars/bmw-m2/bmw-m2-2970882__340.jpg\" width=\"220\"/>,\n <img alt=\"Foto\" height=\"155\" src=\"https://caelum-online-public.s3.amazonaws.com/1381-scraping/01/img-cars/alfa/alfa-1823056__340.jpg\" width=\"220\"/>,\n <img alt=\"Foto\" height=\"155\" src=\"https://caelum-online-public.s3.amazonaws.com/1381-scraping/01/img-cars/puech/puech-4055386__340.jpg\" width=\"220\"/>,\n <img alt=\"Foto\" height=\"155\" src=\"https://caelum-online-public.s3.amazonaws.com/1381-scraping/01/img-cars/lamborghini-murcielago/lamborghini-murcielago-2872974__340.jpg\" width=\"220\"/>,\n <img alt=\"Foto\" height=\"155\" src=\"https://caelum-online-public.s3.amazonaws.com/1381-scraping/01/img-cars/aston-martin/aston-martin-2977916__340.jpg\" width=\"220\"/>,\n <img alt=\"Foto\" height=\"155\" src=\"https://caelum-online-public.s3.amazonaws.com/1381-scraping/01/img-cars/tvr/tvr-2943925__340.jpg\" width=\"220\"/>,\n <img alt=\"Foto\" height=\"155\" src=\"https://caelum-online-public.s3.amazonaws.com/1381-scraping/01/img-cars/excalibur/excalibur-2916730__340.jpg\" width=\"220\"/>,\n <img alt=\"Foto\" height=\"155\" src=\"https://caelum-online-public.s3.amazonaws.com/1381-scraping/01/img-cars/mclaren/mclaren-2855240__340.jpg\" width=\"220\"/>,\n <img alt=\"Foto\" height=\"155\" src=\"https://caelum-online-public.s3.amazonaws.com/1381-scraping/01/img-cars/toyota/toyota-3245397__340.jpg\" width=\"220\"/>]"
     },
     "metadata": {},
     "execution_count": 29
    }
   ],
   "source": [
    "soup.findAll('img',alt='Foto')"
   ]
  },
  {
   "cell_type": "code",
   "execution_count": 30,
   "metadata": {
    "tags": []
   },
   "outputs": [
    {
     "output_type": "stream",
     "name": "stdout",
     "text": "https://caelum-online-public.s3.amazonaws.com/1381-scraping/01/img-cars/lamborghini-aventador/lamborghini-aventador-2932196__340.jpg\nhttps://caelum-online-public.s3.amazonaws.com/1381-scraping/01/img-cars/bmw-m2/bmw-m2-2970882__340.jpg\nhttps://caelum-online-public.s3.amazonaws.com/1381-scraping/01/img-cars/alfa/alfa-1823056__340.jpg\nhttps://caelum-online-public.s3.amazonaws.com/1381-scraping/01/img-cars/puech/puech-4055386__340.jpg\nhttps://caelum-online-public.s3.amazonaws.com/1381-scraping/01/img-cars/lamborghini-murcielago/lamborghini-murcielago-2872974__340.jpg\nhttps://caelum-online-public.s3.amazonaws.com/1381-scraping/01/img-cars/aston-martin/aston-martin-2977916__340.jpg\nhttps://caelum-online-public.s3.amazonaws.com/1381-scraping/01/img-cars/tvr/tvr-2943925__340.jpg\nhttps://caelum-online-public.s3.amazonaws.com/1381-scraping/01/img-cars/excalibur/excalibur-2916730__340.jpg\nhttps://caelum-online-public.s3.amazonaws.com/1381-scraping/01/img-cars/mclaren/mclaren-2855240__340.jpg\nhttps://caelum-online-public.s3.amazonaws.com/1381-scraping/01/img-cars/toyota/toyota-3245397__340.jpg\n"
    }
   ],
   "source": [
    "for item in soup.findAll('img',alt='Foto'):\n",
    "    print(item.get('src'))"
   ]
  },
  {
   "cell_type": "markdown",
   "metadata": {},
   "source": [
    "### Cuidado com o atributo \"class\""
   ]
  },
  {
   "cell_type": "code",
   "execution_count": 31,
   "metadata": {},
   "outputs": [
    {
     "output_type": "execute_result",
     "data": {
      "text/plain": "[<p class=\"txt-value\">R$ 338.000</p>,\n <p class=\"txt-value\">R$ 346.000</p>,\n <p class=\"txt-value\">R$ 480.000</p>,\n <p class=\"txt-value\">R$ 133.000</p>,\n <p class=\"txt-value\">R$ 175.000</p>,\n <p class=\"txt-value\">R$ 239.000</p>,\n <p class=\"txt-value\">R$ 115.000</p>,\n <p class=\"txt-value\">R$ 114.000</p>,\n <p class=\"txt-value\">R$ 75.000</p>,\n <p class=\"txt-value\">R$ 117.000</p>]"
     },
     "metadata": {},
     "execution_count": 31
    }
   ],
   "source": [
    "soup.findAll('p', class_='txt-value', text=True)"
   ]
  },
  {
   "cell_type": "markdown",
   "metadata": {},
   "source": [
    "### Obtendo todo o conteúdo de texto de uma página"
   ]
  },
  {
   "cell_type": "code",
   "execution_count": 32,
   "metadata": {},
   "outputs": [
    {
     "output_type": "execute_result",
     "data": {
      "text/plain": "['html',\n '\\n',\n '\\n',\n '\\n',\n '\\n',\n '\\n',\n 'Alura Motors',\n '\\n',\n \"\\r\\n\\t\\t/*Regra para a animacao*/\\r\\n\\t\\t@keyframes spin {\\r\\n\\t\\t\\t0% { transform: rotate(0deg); }\\r\\n\\t\\t\\t100% { transform: rotate(360deg); }\\r\\n\\t\\t}\\r\\n\\t\\t/*Mudando o tamanho do icone de resposta*/\\r\\n\\t\\tdiv.glyphicon {\\r\\n\\t\\t\\tcolor:#6B8E23;\\r\\n\\t\\t\\tfont-size: 38px;\\r\\n\\t\\t}\\r\\n\\t\\t/*Classe que mostra a animacao 'spin'*/\\r\\n\\t\\t.loader {\\r\\n\\t\\t\\tborder: 16px solid #f3f3f3;\\r\\n\\t\\t\\tborder-radius: 50%;\\r\\n\\t\\t\\tborder-top: 16px solid #3498db;\\r\\n\\t\\t\\twidth: 80px;\\r\\n\\t\\t\\theight: 80px;\\r\\n\\t\\t\\t-webkit-animation: spin 2s linear infinite;\\r\\n\\t\\t\\tanimation: spin 2s linear infinite;\\r\\n\\t\\t}\\r\\n\\t\",\n '\\n',\n '\\n',\n '\\n',\n '\\n',\n '\\n',\n '\\n',\n '\\r\\n\\t\\trequisitar(\"https://alura-scraping.herokuapp.com/produtos?_page=\"+1+\"&_limit=10\")\\r\\n\\t',\n '\\n',\n '\\n',\n '\\n',\n 'You need to enable JavaScript to run this app.',\n '\\n',\n '\\n',\n '\\n',\n '\\n',\n '\\n',\n '\\n',\n 'Aguarde...\\r\\n\\t\\t\\t\\t\\t',\n '\\n',\n '\\n',\n '\\n',\n '\\n',\n '\\n',\n '\\n',\n '\\n',\n '\\n',\n '\\n',\n '\\n',\n '\\n',\n '\\n',\n '\\n',\n '\\n',\n '\\n',\n '\\n',\n '\\n',\n '\\n',\n '\\n',\n 'Motors\\r\\n\\t\\t\\t\\t\\t\\t',\n '\\n',\n '\\n',\n 'Hello World',\n '\\n',\n 'Anúncios',\n '\\n',\n '\\n',\n '\\n',\n '\\n',\n '\\n',\n '\\n',\n '\\n',\n 'Veículos de Luxo Novos e Usados - Todas as Marcas',\n '\\n',\n '\\n',\n '\\n',\n '\\n',\n '246 veículos encontrados',\n '\\n',\n '\\n',\n 'Página 1 de 25',\n '\\n',\n '\\n',\n '\\n',\n '\\n',\n '\\n',\n '\\n',\n '\\n',\n '\\n',\n '\\n',\n 'LAMBORGHINI AVENTADOR',\n '\\n',\n 'USADO',\n '\\n',\n 'Motor 1.8 16v',\n '\\n',\n 'Ano 1993 - 55.286 km',\n '\\n',\n '\\n',\n '► 4 X 4',\n '\\n',\n '► Câmera de estacionamento',\n '\\n',\n '► Controle de tração',\n '\\n',\n '► Sensor de estacionamento',\n '\\n',\n '...',\n '\\n',\n '\\n',\n 'Belo Horizonte - MG',\n '\\n',\n '\\n',\n '\\n',\n '\\n',\n 'R$ 338.000',\n '\\n',\n '\\n',\n '\\n',\n '\\n',\n '\\n',\n '\\n',\n '\\n',\n '\\n',\n '\\n',\n 'BMW M2',\n '\\n',\n 'USADO',\n '\\n',\n 'Motor 3.0 32v',\n '\\n',\n 'Ano 2018 - 83.447 km',\n '\\n',\n '\\n',\n '► Câmera de estacionamento',\n '\\n',\n '► Controle de estabilidade',\n '\\n',\n '► Travas elétricas',\n '\\n',\n '► Freios ABS',\n '\\n',\n '...',\n '\\n',\n '\\n',\n 'Belo Horizonte - MG',\n '\\n',\n '\\n',\n '\\n',\n '\\n',\n 'R$ 346.000',\n '\\n',\n '\\n',\n '\\n',\n '\\n',\n '\\n',\n '\\n',\n '\\n',\n '\\n',\n '\\n',\n 'ALFA',\n '\\n',\n 'USADO',\n '\\n',\n 'Motor 1.8 16v',\n '\\n',\n 'Ano 2004 - 19.722 km',\n '\\n',\n '\\n',\n '► Central multimídia',\n '\\n',\n '► Bancos de couro',\n '\\n',\n '► Rodas de liga',\n '\\n',\n '► Câmera de estacionamento',\n '\\n',\n '...',\n '\\n',\n '\\n',\n 'Rio de Janeiro - RJ',\n '\\n',\n '\\n',\n '\\n',\n '\\n',\n 'R$ 480.000',\n '\\n',\n '\\n',\n '\\n',\n '\\n',\n '\\n',\n '\\n',\n '\\n',\n '\\n',\n '\\n',\n 'PUECH',\n '\\n',\n 'USADO',\n '\\n',\n 'Motor Diesel V8',\n '\\n',\n 'Ano 1992 - 34.335 km',\n '\\n',\n '\\n',\n '► Bancos de couro',\n '\\n',\n '► Freios ABS',\n '\\n',\n '► Rodas de liga',\n '\\n',\n '► Câmbio automático',\n '\\n',\n '...',\n '\\n',\n '\\n',\n 'São Paulo - SP',\n '\\n',\n '\\n',\n '\\n',\n '\\n',\n 'R$ 133.000',\n '\\n',\n '\\n',\n '\\n',\n '\\n',\n '\\n',\n '\\n',\n '\\n',\n '\\n',\n '\\n',\n 'LAMBORGHINI MURCIELAGO',\n '\\n',\n 'USADO',\n '\\n',\n 'Motor 1.0 8v',\n '\\n',\n 'Ano 1991 - 464 km',\n '\\n',\n '\\n',\n '► Central multimídia',\n '\\n',\n '► Teto panorâmico',\n '\\n',\n '► Sensor crepuscular',\n '\\n',\n '► Piloto automático',\n '\\n',\n '...',\n '\\n',\n '\\n',\n 'Belo Horizonte - MG',\n '\\n',\n '\\n',\n '\\n',\n '\\n',\n 'R$ 175.000',\n '\\n',\n '\\n',\n '\\n',\n '\\n',\n '\\n',\n '\\n',\n '\\n',\n '\\n',\n '\\n',\n 'ASTON MARTIN',\n '\\n',\n 'USADO',\n '\\n',\n 'OPORTUNIDADE',\n '\\n',\n 'Motor Diesel V6',\n '\\n',\n 'Ano 2004 - 50.189 km',\n '\\n',\n '\\n',\n '► Painel digital',\n '\\n',\n '► Controle de tração',\n '\\n',\n '► Teto panorâmico',\n '\\n',\n '► Central multimídia',\n '\\n',\n '...',\n '\\n',\n '\\n',\n 'Belo Horizonte - MG',\n '\\n',\n '\\n',\n '\\n',\n '\\n',\n 'R$ 239.000',\n '\\n',\n '\\n',\n '\\n',\n '\\n',\n '\\n',\n '\\n',\n '\\n',\n '\\n',\n '\\n',\n 'TVR',\n '\\n',\n 'USADO',\n '\\n',\n 'Motor 4.0 Turbo',\n '\\n',\n 'Ano 2014 - 17.778 km',\n '\\n',\n '\\n',\n '► 4 X 4',\n '\\n',\n '► Teto panorâmico',\n '\\n',\n '► Central multimídia',\n '\\n',\n '► Controle de estabilidade',\n '\\n',\n '...',\n '\\n',\n '\\n',\n 'Belo Horizonte - MG',\n '\\n',\n '\\n',\n '\\n',\n '\\n',\n 'R$ 115.000',\n '\\n',\n '\\n',\n '\\n',\n '\\n',\n '\\n',\n '\\n',\n '\\n',\n '\\n',\n '\\n',\n 'EXCALIBUR',\n '\\n',\n 'USADO',\n '\\n',\n 'Motor 3.0 32v',\n '\\n',\n 'Ano 2009 - 81.251 km',\n '\\n',\n '\\n',\n '► Painel digital',\n '\\n',\n '► Câmbio automático',\n '\\n',\n '► Sensor de chuva',\n '\\n',\n '► Travas elétricas',\n '\\n',\n '...',\n '\\n',\n '\\n',\n 'Rio de Janeiro - RJ',\n '\\n',\n '\\n',\n '\\n',\n '\\n',\n 'R$ 114.000',\n '\\n',\n '\\n',\n '\\n',\n '\\n',\n '\\n',\n '\\n',\n '\\n',\n '\\n',\n '\\n',\n 'MCLAREN',\n '\\n',\n 'NOVO',\n '\\n',\n 'Motor Diesel',\n '\\n',\n 'Ano 2019 - 0 km',\n '\\n',\n '\\n',\n '► Central multimídia',\n '\\n',\n '► Câmera de estacionamento',\n '\\n',\n '► Câmbio automático',\n '\\n',\n '► Ar condicionado',\n '\\n',\n '...',\n '\\n',\n '\\n',\n 'São Paulo - SP',\n '\\n',\n '\\n',\n '\\n',\n '\\n',\n 'R$ 75.000',\n '\\n',\n '\\n',\n '\\n',\n '\\n',\n '\\n',\n '\\n',\n '\\n',\n '\\n',\n '\\n',\n 'TOYOTA',\n '\\n',\n 'USADO',\n '\\n',\n 'OPORTUNIDADE',\n '\\n',\n 'Motor 4.0 Turbo',\n '\\n',\n 'Ano 1999 - 12.536 km',\n '\\n',\n '\\n',\n '► Bancos de couro',\n '\\n',\n '► Freios ABS',\n '\\n',\n '► Piloto automático',\n '\\n',\n '► Controle de estabilidade',\n '\\n',\n '...',\n '\\n',\n '\\n',\n 'São Paulo - SP',\n '\\n',\n '\\n',\n '\\n',\n '\\n',\n 'R$ 117.000',\n '\\n',\n '\\n',\n '\\n',\n ' ',\n '\\n',\n '246 veículos encontrados',\n '\\n',\n '\\n',\n 'Página 1 de 25',\n '\\n',\n '\\n',\n '\\n',\n '\\n',\n '\\n',\n '\\n',\n '\\n',\n '\\n',\n '\\n',\n '\\n',\n '\\n',\n '\\n',\n 'Motors\\r\\n\\t\\t\\t\\t\\t\\t',\n '\\n',\n 'Aplicação para treinamento de web scraping',\n '\\n',\n '\\n',\n '\\n',\n '\\n',\n '\\n',\n '\\n',\n '\\n',\n '\\n']"
     },
     "metadata": {},
     "execution_count": 32
    }
   ],
   "source": [
    "soup.findAll(text=True)"
   ]
  },
  {
   "cell_type": "markdown",
   "metadata": {},
   "source": [
    "# 4.2. Outros métodos de pesquisa"
   ]
  },
  {
   "cell_type": "markdown",
   "metadata": {},
   "source": [
    "- ### *findParent(tag, attributes, text, **kwargs)*\n",
    "\n",
    "- ### *findParents(tag, attributes, text, limit, **kwargs)*\n",
    "\n",
    "#### https://www.crummy.com/software/BeautifulSoup/bs4/doc/#find-parents-and-find-parent\n",
    "\n",
    "> **Observação:**\n",
    "> - *findParent()* e *findParents()* também podem ser utilizados como *find_parent()* e *find_parents()*, respectivamente.\n",
    "---\n",
    "- ### *findNextSibling(tag, attributes, text, **kwargs)*\n",
    "\n",
    "- ### *findNextSiblings(tag, attributes, text, limit, **kwargs)*\n",
    "\n",
    "- ### *findPreviousSibling(tag, attributes, text, **kwargs)*\n",
    "\n",
    "- ### *findPreviousSiblings(tag, attributes, text, limit, **kwargs)*\n",
    "\n",
    "#### https://www.crummy.com/software/BeautifulSoup/bs4/doc/#find-next-siblings-and-find-next-sibling\n",
    "#### https://www.crummy.com/software/BeautifulSoup/bs4/doc/#find-previous-siblings-and-find-previous-sibling\n",
    "\n",
    "> **Observação:**\n",
    "> - *findNextSibling()*, *findNextSiblings()*, *findPreviousSibling()* e *findPreviousSiblings()* também podem ser utilizados como *find_next_sibling()*, *find_next_siblings()*, *find_previous_sibling()* e *find_previous_siblings()*, respectivamente.\n",
    "---\n",
    "- ### *findNext(tag, attributes, text, **kwargs)*\n",
    "\n",
    "- ### *findAllNext(tag, attributes, text, limit, **kwargs)*\n",
    "\n",
    "- ### *findPrevious(tag, attributes, text, **kwargs)*\n",
    "\n",
    "- ### *findAllPrevious(tag, attributes, text, limit, **kwargs)*\n",
    "\n",
    "#### https://www.crummy.com/software/BeautifulSoup/bs4/doc/#find-all-next-and-find-next\n",
    "#### https://www.crummy.com/software/BeautifulSoup/bs4/doc/#find-all-previous-and-find-previous\n",
    "\n",
    "> **Observação:**\n",
    "> - *findNext()*, *findAllNext()*, *findPrevious* e *findAllPrevious* também podem ser utilizados como *find_next()*, *find_all_next()*, *find_previous()* e *find_all_previous()*, respectivamente."
   ]
  },
  {
   "cell_type": "markdown",
   "metadata": {},
   "source": [
    "## HTML de exemplo para ilustrar a utilização dos métodos de pesquisa do BeautifulSoup"
   ]
  },
  {
   "cell_type": "markdown",
   "metadata": {},
   "source": [
    "<img src=\"https://caelum-online-public.s3.amazonaws.com/1381-scraping/01/BeautifulSoup-method.png\" width=80%>"
   ]
  },
  {
   "cell_type": "markdown",
   "metadata": {},
   "source": [
    "---\n",
    "## Resultado"
   ]
  },
  {
   "cell_type": "markdown",
   "metadata": {},
   "source": [
    "<html>\n",
    "    <body>\n",
    "        <div id=“container-a”>\n",
    "            <h1>Título A</h1>\n",
    "            <h2 class=\"ref-a\">Sub título A</h2>\n",
    "            <p>Texto de conteúdo A</p>\n",
    "        </div>\n",
    "        <div id=“container-b”>\n",
    "            <h1>Título B</h1>\n",
    "            <h2 class=\"ref-b\">Sub título B</h2>\n",
    "            <p>Texto de conteúdo B</p>\n",
    "        </div>\n",
    "    </body>\n",
    "</html>"
   ]
  },
  {
   "cell_type": "code",
   "execution_count": 33,
   "metadata": {},
   "outputs": [],
   "source": [
    "html_teste=\"\"\"<html>\n",
    "    <body>\n",
    "        <div id=\"container-a\">\n",
    "            <h1>Título A</h1>\n",
    "            <h2 class=\"ref-a\">Sub título A</h2>\n",
    "            <p>Texto de conteúdo A</p>\n",
    "        </div>\n",
    "        <div id=\"container-b\">\n",
    "            <h1>Título B</h1>\n",
    "            <h2 class=\"ref-b\">Sub título B</h2>\n",
    "            <p>Texto de conteúdo B</p>\n",
    "        </div>\n",
    "    </body>\n",
    "</html>\"\"\""
   ]
  },
  {
   "cell_type": "markdown",
   "metadata": {},
   "source": [
    "### Tratamentos para a string HTML"
   ]
  },
  {
   "cell_type": "code",
   "execution_count": 34,
   "metadata": {},
   "outputs": [
    {
     "output_type": "execute_result",
     "data": {
      "text/plain": "'<html><body><div id=\"container-a\"><h1>Título A</h1><h2 class=\"ref-a\">Sub título A</h2><p>Texto de conteúdo A</p></div><div id=\"container-b\"><h1>Título B</h1><h2 class=\"ref-b\">Sub título B</h2><p>Texto de conteúdo B</p></div></body></html>'"
     },
     "metadata": {},
     "execution_count": 34
    }
   ],
   "source": [
    "html_teste=trata_html(html_teste)\n",
    "html_teste"
   ]
  },
  {
   "cell_type": "code",
   "execution_count": 35,
   "metadata": {},
   "outputs": [],
   "source": [
    "soup = BeautifulSoup(html_teste,'html.parser')"
   ]
  },
  {
   "cell_type": "markdown",
   "metadata": {},
   "source": [
    "### Criando o objeto BeautifulSoup"
   ]
  },
  {
   "cell_type": "code",
   "execution_count": null,
   "metadata": {
    "scrolled": true
   },
   "outputs": [],
   "source": []
  },
  {
   "cell_type": "markdown",
   "metadata": {},
   "source": [
    "### Parents"
   ]
  },
  {
   "cell_type": "code",
   "execution_count": 36,
   "metadata": {},
   "outputs": [
    {
     "output_type": "execute_result",
     "data": {
      "text/plain": "<div id=\"container-a\"><h1>Título A</h1><h2 class=\"ref-a\">Sub título A</h2><p>Texto de conteúdo A</p></div>"
     },
     "metadata": {},
     "execution_count": 36
    }
   ],
   "source": [
    "soup.find('h2').find_parent()"
   ]
  },
  {
   "cell_type": "code",
   "execution_count": 37,
   "metadata": {},
   "outputs": [
    {
     "output_type": "execute_result",
     "data": {
      "text/plain": "[<div id=\"container-a\"><h1>Título A</h1><h2 class=\"ref-a\">Sub título A</h2><p>Texto de conteúdo A</p></div>,\n <body><div id=\"container-a\"><h1>Título A</h1><h2 class=\"ref-a\">Sub título A</h2><p>Texto de conteúdo A</p></div><div id=\"container-b\"><h1>Título B</h1><h2 class=\"ref-b\">Sub título B</h2><p>Texto de conteúdo B</p></div></body>,\n <html><body><div id=\"container-a\"><h1>Título A</h1><h2 class=\"ref-a\">Sub título A</h2><p>Texto de conteúdo A</p></div><div id=\"container-b\"><h1>Título B</h1><h2 class=\"ref-b\">Sub título B</h2><p>Texto de conteúdo B</p></div></body></html>,\n <html><body><div id=\"container-a\"><h1>Título A</h1><h2 class=\"ref-a\">Sub título A</h2><p>Texto de conteúdo A</p></div><div id=\"container-b\"><h1>Título B</h1><h2 class=\"ref-b\">Sub título B</h2><p>Texto de conteúdo B</p></div></body></html>]"
     },
     "metadata": {},
     "execution_count": 37
    }
   ],
   "source": [
    "soup.find('h2').find_parents()"
   ]
  },
  {
   "cell_type": "code",
   "execution_count": 38,
   "metadata": {
    "tags": []
   },
   "outputs": [
    {
     "output_type": "stream",
     "name": "stdout",
     "text": "<div id=\"container-a\"><h1>Título A</h1><h2 class=\"ref-a\">Sub título A</h2><p>Texto de conteúdo A</p></div>\n<div id=\"container-b\"><h1>Título B</h1><h2 class=\"ref-b\">Sub título B</h2><p>Texto de conteúdo B</p></div>\n"
    }
   ],
   "source": [
    "for i in soup.findAll('h2'):\n",
    "    print(i.find_parent('div'))"
   ]
  },
  {
   "cell_type": "code",
   "execution_count": null,
   "metadata": {},
   "outputs": [],
   "source": []
  },
  {
   "cell_type": "code",
   "execution_count": null,
   "metadata": {},
   "outputs": [],
   "source": []
  },
  {
   "cell_type": "markdown",
   "metadata": {},
   "source": [
    "## Siblings"
   ]
  },
  {
   "cell_type": "code",
   "execution_count": 39,
   "metadata": {},
   "outputs": [
    {
     "output_type": "execute_result",
     "data": {
      "text/plain": "<p>Texto de conteúdo A</p>"
     },
     "metadata": {},
     "execution_count": 39
    }
   ],
   "source": [
    "soup.find('h2').findNextSibling()"
   ]
  },
  {
   "cell_type": "code",
   "execution_count": 40,
   "metadata": {},
   "outputs": [
    {
     "output_type": "execute_result",
     "data": {
      "text/plain": "<h1>Título A</h1>"
     },
     "metadata": {},
     "execution_count": 40
    }
   ],
   "source": [
    "soup.find('h2').findPreviousSibling()"
   ]
  },
  {
   "cell_type": "code",
   "execution_count": null,
   "metadata": {},
   "outputs": [],
   "source": []
  },
  {
   "cell_type": "markdown",
   "metadata": {},
   "source": [
    "## Next e Previous"
   ]
  },
  {
   "cell_type": "code",
   "execution_count": 41,
   "metadata": {},
   "outputs": [
    {
     "output_type": "execute_result",
     "data": {
      "text/plain": "[<p>Texto de conteúdo A</p>,\n <div id=\"container-b\"><h1>Título B</h1><h2 class=\"ref-b\">Sub título B</h2><p>Texto de conteúdo B</p></div>,\n <h1>Título B</h1>,\n <h2 class=\"ref-b\">Sub título B</h2>,\n <p>Texto de conteúdo B</p>]"
     },
     "metadata": {},
     "execution_count": 41
    }
   ],
   "source": [
    "soup.find('h2').findAllNext()"
   ]
  },
  {
   "cell_type": "code",
   "execution_count": null,
   "metadata": {},
   "outputs": [],
   "source": []
  },
  {
   "cell_type": "code",
   "execution_count": null,
   "metadata": {},
   "outputs": [],
   "source": []
  },
  {
   "cell_type": "markdown",
   "metadata": {},
   "source": [
    "# <font color=green>5. WEB SCRAPING DO SITE ALURA MOTORS - OBTENDO OS DADOS DE UM ANÚNCIO"
   ]
  },
  {
   "cell_type": "markdown",
   "metadata": {},
   "source": [
    "# 5.1. Identificando e selecionando os dados no HTML"
   ]
  },
  {
   "cell_type": "markdown",
   "metadata": {},
   "source": [
    "### Obtendo o HTML e criando o objeto BeautifulSoup"
   ]
  },
  {
   "cell_type": "code",
   "execution_count": 42,
   "metadata": {},
   "outputs": [],
   "source": [
    "response = urlopen('https://alura-site-scraping.herokuapp.com/index.php')\n",
    "html = response.read().decode('utf-8')\n",
    "soup = BeautifulSoup(html,'html.parser')\n"
   ]
  },
  {
   "cell_type": "code",
   "execution_count": 43,
   "metadata": {},
   "outputs": [],
   "source": [
    "cards = []\n",
    "card = {}"
   ]
  },
  {
   "cell_type": "markdown",
   "metadata": {},
   "source": [
    "### Criando variávels para armazenar informações"
   ]
  },
  {
   "cell_type": "code",
   "execution_count": 44,
   "metadata": {},
   "outputs": [
    {
     "output_type": "execute_result",
     "data": {
      "text/plain": "<div class=\"well card\">\n<div class=\"col-md-3 image-card\">\n<img alt=\"Foto\" height=\"155\" src=\"https://caelum-online-public.s3.amazonaws.com/1381-scraping/01/img-cars/lamborghini-aventador/lamborghini-aventador-2932196__340.jpg\" width=\"220\"/>\n</div>\n<div class=\"col-md-6 body-card\">\n<p class=\"txt-name inline\">LAMBORGHINI AVENTADOR</p>\n<p class=\"txt-category badge badge-secondary inline\">USADO</p>\n<p class=\"txt-motor\">Motor 1.8 16v</p>\n<p class=\"txt-description\">Ano 1993 - 55.286 km</p>\n<ul class=\"lst-items\">\n<li class=\"txt-items\">► 4 X 4</li>\n<li class=\"txt-items\">► Câmera de estacionamento</li>\n<li class=\"txt-items\">► Controle de tração</li>\n<li class=\"txt-items\">► Sensor de estacionamento</li>\n<li class=\"txt-items\">...</li>\n</ul>\n<p class=\"txt-location\">Belo Horizonte - MG</p>\n</div>\n<div class=\"col-md-3 value-card\">\n<div class=\"value\">\n<p class=\"txt-value\">R$ 338.000</p>\n</div>\n</div>\n</div>"
     },
     "metadata": {},
     "execution_count": 44
    }
   ],
   "source": [
    "anuncio = soup.find('div',{'class':'well card'})\n",
    "anuncio"
   ]
  },
  {
   "cell_type": "markdown",
   "metadata": {},
   "source": [
    "### Obtendo os dados do primeiro CARD"
   ]
  },
  {
   "cell_type": "code",
   "execution_count": 45,
   "metadata": {
    "scrolled": false
   },
   "outputs": [],
   "source": [
    "anuncio = soup.find"
   ]
  },
  {
   "cell_type": "markdown",
   "metadata": {},
   "source": [
    "# 5.2. Obtendo o VALOR do veículo anunciado"
   ]
  },
  {
   "cell_type": "code",
   "execution_count": 46,
   "metadata": {},
   "outputs": [
    {
     "output_type": "execute_result",
     "data": {
      "text/plain": "<bound method Tag.find of <!DOCTYPE html>\n\n<html lang=\"pt-br\">\n<head>\n<meta charset=\"utf-8\"/>\n<meta content=\"width=device-width, initial-scale=1, shrink-to-fit=no\" name=\"viewport\"/>\n<title>Alura Motors</title>\n<style>\n\t\t/*Regra para a animacao*/\n\t\t@keyframes spin {\n\t\t\t0% { transform: rotate(0deg); }\n\t\t\t100% { transform: rotate(360deg); }\n\t\t}\n\t\t/*Mudando o tamanho do icone de resposta*/\n\t\tdiv.glyphicon {\n\t\t\tcolor:#6B8E23;\n\t\t\tfont-size: 38px;\n\t\t}\n\t\t/*Classe que mostra a animacao 'spin'*/\n\t\t.loader {\n\t\t\tborder: 16px solid #f3f3f3;\n\t\t\tborder-radius: 50%;\n\t\t\tborder-top: 16px solid #3498db;\n\t\t\twidth: 80px;\n\t\t\theight: 80px;\n\t\t\t-webkit-animation: spin 2s linear infinite;\n\t\t\tanimation: spin 2s linear infinite;\n\t\t}\n\t</style>\n<link crossorigin=\"anonymous\" href=\"https://maxcdn.bootstrapcdn.com/bootstrap/3.3.7/css/bootstrap.min.css\" integrity=\"sha384-BVYiiSIFeK1dGmJRAkycuHAHRg32OmUcww7on3RYdg4Va+PmSTsz/K68vbdEjh4u\" rel=\"stylesheet\"/>\n<link href=\"css/styles.css\" media=\"all\" rel=\"stylesheet\"/>\n<script src=\"https://code.jquery.com/jquery-1.12.4.js\"></script>\n<script crossorigin=\"anonymous\" integrity=\"sha384-Tc5IQib027qvyjSMfHjOMaLkfuWVxZxUPnCJA7l2mCWNIpG9mGCD8wGNIcPD7Txa\" src=\"https://maxcdn.bootstrapcdn.com/bootstrap/3.3.7/js/bootstrap.min.js\"></script>\n<script src=\"js/index.js\" type=\"text/javascript\"></script>\n<script>\n\t\trequisitar(\"https://alura-scraping.herokuapp.com/produtos?_page=\"+1+\"&_limit=10\")\n\t</script>\n</head>\n<body cz-shortcut-listen=\"true\">\n<noscript>You need to enable JavaScript to run this app.</noscript>\n<div aria-labelledby=\"loadingModal_label\" class=\"modal fade\" data-backdrop=\"static\" id=\"loadingModal\" role=\"dialog\" tabindex=\"-1\">\n<div class=\"modal-dialog\" role=\"document\">\n<div class=\"modal-content\">\n<div class=\"modal-header\">\n<h5 class=\"modal-title\" id=\"loadingModal_label\">\n<span class=\"glyphicon glyphicon-refresh\"></span>Aguarde...\n\t\t\t\t\t</h5>\n</div>\n<div class=\"modal-body\">\n<div class=\"alert\" role=\"alert\">\n<center>\n<div class=\"loader\" id=\"loader\"></div><br/>\n<h4><b id=\"loadingModal_content\"></b></h4>\n</center>\n</div>\n</div>\n</div>\n</div>\n</div>\n<div id=\"root\">\n<header>\n<nav class=\"navbar navbar-inverse\" style=\"margin-bottom: 0;\">\n<div class=\"container\" style=\"margin-bottom: -20px;\">\n<div class=\"navbar\">\n<a class=\"navbar-brand\" href=\"./index.php\" title=\"Alura Motors\">\n<img alt=\"Alura\" class=\"d-inline-block align-top\" src=\"img/alura-logo.svg\"/>Motors\n\t\t\t\t\t\t</a>\n<ul class=\"nav navbar-nav\" style=\"margin-top: 35px;\">\n<li><a href=\"./hello-world.php\">Hello World</a></li>\n<li><a href=\"./index.php\">Anúncios</a></li>\n</ul>\n</div>\n</div>\n</nav>\n</header>\n<div class=\"container\">\n<h1 class=\"sub-header\">Veículos de Luxo Novos e Usados - Todas as Marcas</h1>\n<div class=\"row\">\n<div class=\"col-md-12\">\n<div class=\"container\" style=\"width: 100%\">\n<div class=\"type-select\">246 veículos encontrados</div>\n<div class=\"container-pagination\" style=\"float: right\">\n<span class=\"info-pages\">Página 1 de 25</span>\n</div>\n</div>\n<div id=\"container-cards\" style=\"height: 100%\">\n<div class=\"well card\">\n<div class=\"col-md-3 image-card\">\n<img alt=\"Foto\" height=\"155\" src=\"https://caelum-online-public.s3.amazonaws.com/1381-scraping/01/img-cars/lamborghini-aventador/lamborghini-aventador-2932196__340.jpg\" width=\"220\"/>\n</div>\n<div class=\"col-md-6 body-card\">\n<p class=\"txt-name inline\">LAMBORGHINI AVENTADOR</p>\n<p class=\"txt-category badge badge-secondary inline\">USADO</p>\n<p class=\"txt-motor\">Motor 1.8 16v</p>\n<p class=\"txt-description\">Ano 1993 - 55.286 km</p>\n<ul class=\"lst-items\">\n<li class=\"txt-items\">► 4 X 4</li>\n<li class=\"txt-items\">► Câmera de estacionamento</li>\n<li class=\"txt-items\">► Controle de tração</li>\n<li class=\"txt-items\">► Sensor de estacionamento</li>\n<li class=\"txt-items\">...</li>\n</ul>\n<p class=\"txt-location\">Belo Horizonte - MG</p>\n</div>\n<div class=\"col-md-3 value-card\">\n<div class=\"value\">\n<p class=\"txt-value\">R$ 338.000</p>\n</div>\n</div>\n</div>\n<div class=\"well card\">\n<div class=\"col-md-3 image-card\">\n<img alt=\"Foto\" height=\"155\" src=\"https://caelum-online-public.s3.amazonaws.com/1381-scraping/01/img-cars/bmw-m2/bmw-m2-2970882__340.jpg\" width=\"220\"/>\n</div>\n<div class=\"col-md-6 body-card\">\n<p class=\"txt-name inline\">BMW M2</p>\n<p class=\"txt-category badge badge-secondary inline\">USADO</p>\n<p class=\"txt-motor\">Motor 3.0 32v</p>\n<p class=\"txt-description\">Ano 2018 - 83.447 km</p>\n<ul class=\"lst-items\">\n<li class=\"txt-items\">► Câmera de estacionamento</li>\n<li class=\"txt-items\">► Controle de estabilidade</li>\n<li class=\"txt-items\">► Travas elétricas</li>\n<li class=\"txt-items\">► Freios ABS</li>\n<li class=\"txt-items\">...</li>\n</ul>\n<p class=\"txt-location\">Belo Horizonte - MG</p>\n</div>\n<div class=\"col-md-3 value-card\">\n<div class=\"value\">\n<p class=\"txt-value\">R$ 346.000</p>\n</div>\n</div>\n</div>\n<div class=\"well card\">\n<div class=\"col-md-3 image-card\">\n<img alt=\"Foto\" height=\"155\" src=\"https://caelum-online-public.s3.amazonaws.com/1381-scraping/01/img-cars/alfa/alfa-1823056__340.jpg\" width=\"220\"/>\n</div>\n<div class=\"col-md-6 body-card\">\n<p class=\"txt-name inline\">ALFA</p>\n<p class=\"txt-category badge badge-secondary inline\">USADO</p>\n<p class=\"txt-motor\">Motor 1.8 16v</p>\n<p class=\"txt-description\">Ano 2004 - 19.722 km</p>\n<ul class=\"lst-items\">\n<li class=\"txt-items\">► Central multimídia</li>\n<li class=\"txt-items\">► Bancos de couro</li>\n<li class=\"txt-items\">► Rodas de liga</li>\n<li class=\"txt-items\">► Câmera de estacionamento</li>\n<li class=\"txt-items\">...</li>\n</ul>\n<p class=\"txt-location\">Rio de Janeiro - RJ</p>\n</div>\n<div class=\"col-md-3 value-card\">\n<div class=\"value\">\n<p class=\"txt-value\">R$ 480.000</p>\n</div>\n</div>\n</div>\n<div class=\"well card\">\n<div class=\"col-md-3 image-card\">\n<img alt=\"Foto\" height=\"155\" src=\"https://caelum-online-public.s3.amazonaws.com/1381-scraping/01/img-cars/puech/puech-4055386__340.jpg\" width=\"220\"/>\n</div>\n<div class=\"col-md-6 body-card\">\n<p class=\"txt-name inline\">PUECH</p>\n<p class=\"txt-category badge badge-secondary inline\">USADO</p>\n<p class=\"txt-motor\">Motor Diesel V8</p>\n<p class=\"txt-description\">Ano 1992 - 34.335 km</p>\n<ul class=\"lst-items\">\n<li class=\"txt-items\">► Bancos de couro</li>\n<li class=\"txt-items\">► Freios ABS</li>\n<li class=\"txt-items\">► Rodas de liga</li>\n<li class=\"txt-items\">► Câmbio automático</li>\n<li class=\"txt-items\">...</li>\n</ul>\n<p class=\"txt-location\">São Paulo - SP</p>\n</div>\n<div class=\"col-md-3 value-card\">\n<div class=\"value\">\n<p class=\"txt-value\">R$ 133.000</p>\n</div>\n</div>\n</div>\n<div class=\"well card\">\n<div class=\"col-md-3 image-card\">\n<img alt=\"Foto\" height=\"155\" src=\"https://caelum-online-public.s3.amazonaws.com/1381-scraping/01/img-cars/lamborghini-murcielago/lamborghini-murcielago-2872974__340.jpg\" width=\"220\"/>\n</div>\n<div class=\"col-md-6 body-card\">\n<p class=\"txt-name inline\">LAMBORGHINI MURCIELAGO</p>\n<p class=\"txt-category badge badge-secondary inline\">USADO</p>\n<p class=\"txt-motor\">Motor 1.0 8v</p>\n<p class=\"txt-description\">Ano 1991 - 464 km</p>\n<ul class=\"lst-items\">\n<li class=\"txt-items\">► Central multimídia</li>\n<li class=\"txt-items\">► Teto panorâmico</li>\n<li class=\"txt-items\">► Sensor crepuscular</li>\n<li class=\"txt-items\">► Piloto automático</li>\n<li class=\"txt-items\">...</li>\n</ul>\n<p class=\"txt-location\">Belo Horizonte - MG</p>\n</div>\n<div class=\"col-md-3 value-card\">\n<div class=\"value\">\n<p class=\"txt-value\">R$ 175.000</p>\n</div>\n</div>\n</div>\n<div class=\"well card\">\n<div class=\"col-md-3 image-card\">\n<img alt=\"Foto\" height=\"155\" src=\"https://caelum-online-public.s3.amazonaws.com/1381-scraping/01/img-cars/aston-martin/aston-martin-2977916__340.jpg\" width=\"220\"/>\n</div>\n<div class=\"col-md-6 body-card\">\n<p class=\"txt-name inline\">ASTON MARTIN</p>\n<p class=\"txt-category badge badge-secondary inline\">USADO</p>\n<p class=\"txt-opportunity badge badge-danger inline\">OPORTUNIDADE</p>\n<p class=\"txt-motor\">Motor Diesel V6</p>\n<p class=\"txt-description\">Ano 2004 - 50.189 km</p>\n<ul class=\"lst-items\">\n<li class=\"txt-items\">► Painel digital</li>\n<li class=\"txt-items\">► Controle de tração</li>\n<li class=\"txt-items\">► Teto panorâmico</li>\n<li class=\"txt-items\">► Central multimídia</li>\n<li class=\"txt-items\">...</li>\n</ul>\n<p class=\"txt-location\">Belo Horizonte - MG</p>\n</div>\n<div class=\"col-md-3 value-card\">\n<div class=\"value\">\n<p class=\"txt-value\">R$ 239.000</p>\n</div>\n</div>\n</div>\n<div class=\"well card\">\n<div class=\"col-md-3 image-card\">\n<img alt=\"Foto\" height=\"155\" src=\"https://caelum-online-public.s3.amazonaws.com/1381-scraping/01/img-cars/tvr/tvr-2943925__340.jpg\" width=\"220\"/>\n</div>\n<div class=\"col-md-6 body-card\">\n<p class=\"txt-name inline\">TVR</p>\n<p class=\"txt-category badge badge-secondary inline\">USADO</p>\n<p class=\"txt-motor\">Motor 4.0 Turbo</p>\n<p class=\"txt-description\">Ano 2014 - 17.778 km</p>\n<ul class=\"lst-items\">\n<li class=\"txt-items\">► 4 X 4</li>\n<li class=\"txt-items\">► Teto panorâmico</li>\n<li class=\"txt-items\">► Central multimídia</li>\n<li class=\"txt-items\">► Controle de estabilidade</li>\n<li class=\"txt-items\">...</li>\n</ul>\n<p class=\"txt-location\">Belo Horizonte - MG</p>\n</div>\n<div class=\"col-md-3 value-card\">\n<div class=\"value\">\n<p class=\"txt-value\">R$ 115.000</p>\n</div>\n</div>\n</div>\n<div class=\"well card\">\n<div class=\"col-md-3 image-card\">\n<img alt=\"Foto\" height=\"155\" src=\"https://caelum-online-public.s3.amazonaws.com/1381-scraping/01/img-cars/excalibur/excalibur-2916730__340.jpg\" width=\"220\"/>\n</div>\n<div class=\"col-md-6 body-card\">\n<p class=\"txt-name inline\">EXCALIBUR</p>\n<p class=\"txt-category badge badge-secondary inline\">USADO</p>\n<p class=\"txt-motor\">Motor 3.0 32v</p>\n<p class=\"txt-description\">Ano 2009 - 81.251 km</p>\n<ul class=\"lst-items\">\n<li class=\"txt-items\">► Painel digital</li>\n<li class=\"txt-items\">► Câmbio automático</li>\n<li class=\"txt-items\">► Sensor de chuva</li>\n<li class=\"txt-items\">► Travas elétricas</li>\n<li class=\"txt-items\">...</li>\n</ul>\n<p class=\"txt-location\">Rio de Janeiro - RJ</p>\n</div>\n<div class=\"col-md-3 value-card\">\n<div class=\"value\">\n<p class=\"txt-value\">R$ 114.000</p>\n</div>\n</div>\n</div>\n<div class=\"well card\">\n<div class=\"col-md-3 image-card\">\n<img alt=\"Foto\" height=\"155\" src=\"https://caelum-online-public.s3.amazonaws.com/1381-scraping/01/img-cars/mclaren/mclaren-2855240__340.jpg\" width=\"220\"/>\n</div>\n<div class=\"col-md-6 body-card\">\n<p class=\"txt-name inline\">MCLAREN</p>\n<p class=\"txt-category badge badge-secondary inline\">NOVO</p>\n<p class=\"txt-motor\">Motor Diesel</p>\n<p class=\"txt-description\">Ano 2019 - 0 km</p>\n<ul class=\"lst-items\">\n<li class=\"txt-items\">► Central multimídia</li>\n<li class=\"txt-items\">► Câmera de estacionamento</li>\n<li class=\"txt-items\">► Câmbio automático</li>\n<li class=\"txt-items\">► Ar condicionado</li>\n<li class=\"txt-items\">...</li>\n</ul>\n<p class=\"txt-location\">São Paulo - SP</p>\n</div>\n<div class=\"col-md-3 value-card\">\n<div class=\"value\">\n<p class=\"txt-value\">R$ 75.000</p>\n</div>\n</div>\n</div>\n<div class=\"well card\">\n<div class=\"col-md-3 image-card\">\n<img alt=\"Foto\" height=\"155\" src=\"https://caelum-online-public.s3.amazonaws.com/1381-scraping/01/img-cars/toyota/toyota-3245397__340.jpg\" width=\"220\"/>\n</div>\n<div class=\"col-md-6 body-card\">\n<p class=\"txt-name inline\">TOYOTA</p>\n<p class=\"txt-category badge badge-secondary inline\">USADO</p>\n<p class=\"txt-opportunity badge badge-danger inline\">OPORTUNIDADE</p>\n<p class=\"txt-motor\">Motor 4.0 Turbo</p>\n<p class=\"txt-description\">Ano 1999 - 12.536 km</p>\n<ul class=\"lst-items\">\n<li class=\"txt-items\">► Bancos de couro</li>\n<li class=\"txt-items\">► Freios ABS</li>\n<li class=\"txt-items\">► Piloto automático</li>\n<li class=\"txt-items\">► Controle de estabilidade</li>\n<li class=\"txt-items\">...</li>\n</ul>\n<p class=\"txt-location\">São Paulo - SP</p>\n</div>\n<div class=\"col-md-3 value-card\">\n<div class=\"value\">\n<p class=\"txt-value\">R$ 117.000</p>\n</div>\n</div>\n</div> </div>\n<div class=\"type-select\">246 veículos encontrados</div>\n<div class=\"container-pagination\" style=\"float: right\">\n<span class=\"info-pages\">Página 1 de 25</span>\n</div>\n</div>\n</div>\n</div>\n</div>\n\n<footer>\n<nav class=\"navbar navbar-inverse\">\n<div class=\"container\" style=\"margin-bottom: 10px;\">\n<div class=\"navbar\">\n<a class=\"navbar-brand\" href=\"./index.php\" title=\"Alura Motors\">\n<img alt=\"Alura\" class=\"d-inline-block align-top\" src=\"img/alura-logo.svg\"/>Motors\n\t\t\t\t\t\t</a>\n<p style=\"color: #fff; text-align: center; margin-top: 40px;\">Aplicação para treinamento de web scraping</p>\n</div>\n</div>\n</nav>\n</footer>\n\n</body>\n</html>\n>"
     },
     "metadata": {},
     "execution_count": 46
    }
   ],
   "source": [
    "anuncio"
   ]
  },
  {
   "cell_type": "code",
   "execution_count": 47,
   "metadata": {},
   "outputs": [
    {
     "output_type": "error",
     "ename": "AttributeError",
     "evalue": "'function' object has no attribute 'find'",
     "traceback": [
      "\u001b[1;31m---------------------------------------------------------------------------\u001b[0m",
      "\u001b[1;31mAttributeError\u001b[0m                            Traceback (most recent call last)",
      "\u001b[1;32m<ipython-input-47-a10673e70291>\u001b[0m in \u001b[0;36m<module>\u001b[1;34m\u001b[0m\n\u001b[1;32m----> 1\u001b[1;33m \u001b[0manuncio\u001b[0m\u001b[1;33m.\u001b[0m\u001b[0mfind\u001b[0m\u001b[1;33m(\u001b[0m\u001b[1;34m'p'\u001b[0m\u001b[1;33m,\u001b[0m\u001b[1;33m{\u001b[0m\u001b[1;34m'class'\u001b[0m\u001b[1;33m:\u001b[0m\u001b[1;34m'txt-value'\u001b[0m\u001b[1;33m}\u001b[0m\u001b[1;33m)\u001b[0m\u001b[1;33m.\u001b[0m\u001b[0mgetText\u001b[0m\u001b[1;33m(\u001b[0m\u001b[1;33m)\u001b[0m\u001b[1;33m\u001b[0m\u001b[1;33m\u001b[0m\u001b[0m\n\u001b[0m",
      "\u001b[1;31mAttributeError\u001b[0m: 'function' object has no attribute 'find'"
     ]
    }
   ],
   "source": [
    "anuncio.find('p',{'class':'txt-value'}).getText()"
   ]
  },
  {
   "cell_type": "code",
   "execution_count": 58,
   "metadata": {},
   "outputs": [
    {
     "output_type": "execute_result",
     "data": {
      "text/plain": "{'value': 'R$ 338.000'}"
     },
     "metadata": {},
     "execution_count": 58
    }
   ],
   "source": [
    "card['value'] = anuncio.find('p',{'class':'txt-value'}).getText()\n",
    "card"
   ]
  },
  {
   "cell_type": "code",
   "execution_count": null,
   "metadata": {},
   "outputs": [],
   "source": []
  },
  {
   "cell_type": "code",
   "execution_count": null,
   "metadata": {},
   "outputs": [],
   "source": []
  },
  {
   "cell_type": "markdown",
   "metadata": {},
   "source": [
    "### <font color=red>Resumo"
   ]
  },
  {
   "cell_type": "code",
   "execution_count": 45,
   "metadata": {},
   "outputs": [],
   "source": [
    "# Valor\n",
    "card['value'] = anuncio.find('p',{'class':'txt-value'}).getText()\n"
   ]
  },
  {
   "cell_type": "markdown",
   "metadata": {},
   "source": [
    "# 5.3. Obtendo as INFORMAÇÕES sobre o veículo anunciado"
   ]
  },
  {
   "cell_type": "code",
   "execution_count": 60,
   "metadata": {},
   "outputs": [
    {
     "output_type": "execute_result",
     "data": {
      "text/plain": "[<p class=\"txt-name inline\">LAMBORGHINI AVENTADOR</p>,\n <p class=\"txt-category badge badge-secondary inline\">USADO</p>,\n <p class=\"txt-motor\">Motor 1.8 16v</p>,\n <p class=\"txt-description\">Ano 1993 - 55.286 km</p>,\n <p class=\"txt-location\">Belo Horizonte - MG</p>]"
     },
     "metadata": {},
     "execution_count": 60
    }
   ],
   "source": [
    "anuncio.find('div',{'class':'body-card'}).findAll('p')"
   ]
  },
  {
   "cell_type": "code",
   "execution_count": 61,
   "metadata": {},
   "outputs": [],
   "source": [
    "infos = anuncio.find('div',{'class':'body-card'}).findAll('p')"
   ]
  },
  {
   "cell_type": "code",
   "execution_count": 71,
   "metadata": {
    "tags": []
   },
   "outputs": [
    {
     "output_type": "execute_result",
     "data": {
      "text/plain": "{'value': 'R$ 338.000',\n 'name': 'LAMBORGHINI AVENTADOR',\n 'category': 'USADO',\n 'motor': 'Motor 1.8 16v',\n 'description': 'Ano 1993 - 55.286 km',\n 'location': 'Belo Horizonte - MG'}"
     },
     "metadata": {},
     "execution_count": 71
    }
   ],
   "source": [
    "for info in infos:\n",
    "    card[info.get('class')[0].split('-')[-1]]= info.get_text()\n",
    "card"
   ]
  },
  {
   "cell_type": "code",
   "execution_count": null,
   "metadata": {},
   "outputs": [],
   "source": []
  },
  {
   "cell_type": "code",
   "execution_count": null,
   "metadata": {},
   "outputs": [],
   "source": []
  },
  {
   "cell_type": "code",
   "execution_count": null,
   "metadata": {},
   "outputs": [],
   "source": []
  },
  {
   "cell_type": "code",
   "execution_count": null,
   "metadata": {},
   "outputs": [],
   "source": []
  },
  {
   "cell_type": "code",
   "execution_count": null,
   "metadata": {},
   "outputs": [],
   "source": []
  },
  {
   "cell_type": "markdown",
   "metadata": {},
   "source": [
    "### <font color=red>Resumo"
   ]
  },
  {
   "cell_type": "code",
   "execution_count": 46,
   "metadata": {},
   "outputs": [],
   "source": [
    "# Informações\n",
    "infos = anuncio.find('div',{'class':'body-card'}).findAll('p')\n",
    "for info in infos:\n",
    "    card[info.get('class')[0].split('-')[-1]]= info.get_text()\n",
    "card"
   ]
  },
  {
   "cell_type": "markdown",
   "metadata": {},
   "source": [
    "# 5.4. Obtendo os ACESSÓRIOS do veículo anunciado"
   ]
  },
  {
   "cell_type": "code",
   "execution_count": 72,
   "metadata": {},
   "outputs": [
    {
     "output_type": "execute_result",
     "data": {
      "text/plain": "<div class=\"well card\">\n<div class=\"col-md-3 image-card\">\n<img alt=\"Foto\" height=\"155\" src=\"https://caelum-online-public.s3.amazonaws.com/1381-scraping/01/img-cars/lamborghini-aventador/lamborghini-aventador-2932196__340.jpg\" width=\"220\"/>\n</div>\n<div class=\"col-md-6 body-card\">\n<p class=\"txt-name inline\">LAMBORGHINI AVENTADOR</p>\n<p class=\"txt-category badge badge-secondary inline\">USADO</p>\n<p class=\"txt-motor\">Motor 1.8 16v</p>\n<p class=\"txt-description\">Ano 1993 - 55.286 km</p>\n<ul class=\"lst-items\">\n<li class=\"txt-items\">► 4 X 4</li>\n<li class=\"txt-items\">► Câmera de estacionamento</li>\n<li class=\"txt-items\">► Controle de tração</li>\n<li class=\"txt-items\">► Sensor de estacionamento</li>\n<li class=\"txt-items\">...</li>\n</ul>\n<p class=\"txt-location\">Belo Horizonte - MG</p>\n</div>\n<div class=\"col-md-3 value-card\">\n<div class=\"value\">\n<p class=\"txt-value\">R$ 338.000</p>\n</div>\n</div>\n</div>"
     },
     "metadata": {},
     "execution_count": 72
    }
   ],
   "source": [
    "anuncio"
   ]
  },
  {
   "cell_type": "code",
   "execution_count": 74,
   "metadata": {},
   "outputs": [
    {
     "output_type": "execute_result",
     "data": {
      "text/plain": "[<li class=\"txt-items\">► 4 X 4</li>,\n <li class=\"txt-items\">► Câmera de estacionamento</li>,\n <li class=\"txt-items\">► Controle de tração</li>,\n <li class=\"txt-items\">► Sensor de estacionamento</li>,\n <li class=\"txt-items\">...</li>]"
     },
     "metadata": {},
     "execution_count": 74
    }
   ],
   "source": [
    "anuncio.find('div',{'class':'body-card'}).ul.findAll('li')"
   ]
  },
  {
   "cell_type": "code",
   "execution_count": 75,
   "metadata": {},
   "outputs": [
    {
     "output_type": "execute_result",
     "data": {
      "text/plain": "<li class=\"txt-items\">...</li>"
     },
     "metadata": {},
     "execution_count": 75
    }
   ],
   "source": [
    "items = anuncio.find('div',{'class':'body-card'}).ul.findAll('li')\n",
    "items.pop()\n"
   ]
  },
  {
   "cell_type": "code",
   "execution_count": 78,
   "metadata": {
    "tags": []
   },
   "outputs": [],
   "source": [
    "acessorios = []\n",
    "for item in items:\n",
    "    acessorios.append(item.getText().replace('►',''))"
   ]
  },
  {
   "cell_type": "code",
   "execution_count": 80,
   "metadata": {},
   "outputs": [
    {
     "output_type": "execute_result",
     "data": {
      "text/plain": "{'value': 'R$ 338.000',\n 'name': 'LAMBORGHINI AVENTADOR',\n 'category': 'USADO',\n 'motor': 'Motor 1.8 16v',\n 'description': 'Ano 1993 - 55.286 km',\n 'location': 'Belo Horizonte - MG',\n 'items': [' 4 X 4',\n  ' Câmera de estacionamento',\n  ' Controle de tração',\n  ' Sensor de estacionamento']}"
     },
     "metadata": {},
     "execution_count": 80
    }
   ],
   "source": [
    "card['items']=acessorios\n",
    "card"
   ]
  },
  {
   "cell_type": "code",
   "execution_count": null,
   "metadata": {},
   "outputs": [],
   "source": []
  },
  {
   "cell_type": "code",
   "execution_count": null,
   "metadata": {},
   "outputs": [],
   "source": []
  },
  {
   "cell_type": "code",
   "execution_count": null,
   "metadata": {},
   "outputs": [],
   "source": []
  },
  {
   "cell_type": "markdown",
   "metadata": {},
   "source": [
    "### <font color=red>Resumo"
   ]
  },
  {
   "cell_type": "code",
   "execution_count": 47,
   "metadata": {},
   "outputs": [],
   "source": [
    "# Acessórios\n",
    "items = anuncio.find('div',{'class':'body-card'}).ul.findAll('li')\n",
    "items.pop()\n",
    "acessorios = []\n",
    "for item in items:\n",
    "    acessorios.append(item.getText().replace('►',''))\n",
    "card['items']=acessorios\n",
    "card\n"
   ]
  },
  {
   "cell_type": "markdown",
   "metadata": {},
   "source": [
    "# 5.5 Criando um DataFrame com os dados coletados do Alura Motors"
   ]
  },
  {
   "cell_type": "code",
   "execution_count": 82,
   "metadata": {},
   "outputs": [],
   "source": [
    "import pandas as pd"
   ]
  },
  {
   "cell_type": "code",
   "execution_count": 83,
   "metadata": {},
   "outputs": [
    {
     "output_type": "execute_result",
     "data": {
      "text/plain": "        value                   name category          motor  \\\n0  R$ 338.000  LAMBORGHINI AVENTADOR    USADO  Motor 1.8 16v   \n1  R$ 338.000  LAMBORGHINI AVENTADOR    USADO  Motor 1.8 16v   \n2  R$ 338.000  LAMBORGHINI AVENTADOR    USADO  Motor 1.8 16v   \n3  R$ 338.000  LAMBORGHINI AVENTADOR    USADO  Motor 1.8 16v   \n\n            description             location                      items  \n0  Ano 1993 - 55.286 km  Belo Horizonte - MG                      4 X 4  \n1  Ano 1993 - 55.286 km  Belo Horizonte - MG   Câmera de estacionamento  \n2  Ano 1993 - 55.286 km  Belo Horizonte - MG         Controle de tração  \n3  Ano 1993 - 55.286 km  Belo Horizonte - MG   Sensor de estacionamento  ",
      "text/html": "<div>\n<style scoped>\n    .dataframe tbody tr th:only-of-type {\n        vertical-align: middle;\n    }\n\n    .dataframe tbody tr th {\n        vertical-align: top;\n    }\n\n    .dataframe thead th {\n        text-align: right;\n    }\n</style>\n<table border=\"1\" class=\"dataframe\">\n  <thead>\n    <tr style=\"text-align: right;\">\n      <th></th>\n      <th>value</th>\n      <th>name</th>\n      <th>category</th>\n      <th>motor</th>\n      <th>description</th>\n      <th>location</th>\n      <th>items</th>\n    </tr>\n  </thead>\n  <tbody>\n    <tr>\n      <th>0</th>\n      <td>R$ 338.000</td>\n      <td>LAMBORGHINI AVENTADOR</td>\n      <td>USADO</td>\n      <td>Motor 1.8 16v</td>\n      <td>Ano 1993 - 55.286 km</td>\n      <td>Belo Horizonte - MG</td>\n      <td>4 X 4</td>\n    </tr>\n    <tr>\n      <th>1</th>\n      <td>R$ 338.000</td>\n      <td>LAMBORGHINI AVENTADOR</td>\n      <td>USADO</td>\n      <td>Motor 1.8 16v</td>\n      <td>Ano 1993 - 55.286 km</td>\n      <td>Belo Horizonte - MG</td>\n      <td>Câmera de estacionamento</td>\n    </tr>\n    <tr>\n      <th>2</th>\n      <td>R$ 338.000</td>\n      <td>LAMBORGHINI AVENTADOR</td>\n      <td>USADO</td>\n      <td>Motor 1.8 16v</td>\n      <td>Ano 1993 - 55.286 km</td>\n      <td>Belo Horizonte - MG</td>\n      <td>Controle de tração</td>\n    </tr>\n    <tr>\n      <th>3</th>\n      <td>R$ 338.000</td>\n      <td>LAMBORGHINI AVENTADOR</td>\n      <td>USADO</td>\n      <td>Motor 1.8 16v</td>\n      <td>Ano 1993 - 55.286 km</td>\n      <td>Belo Horizonte - MG</td>\n      <td>Sensor de estacionamento</td>\n    </tr>\n  </tbody>\n</table>\n</div>"
     },
     "metadata": {},
     "execution_count": 83
    }
   ],
   "source": [
    "dataset = pd.DataFrame(card)\n",
    "dataset"
   ]
  },
  {
   "cell_type": "code",
   "execution_count": 88,
   "metadata": {},
   "outputs": [
    {
     "output_type": "execute_result",
     "data": {
      "text/plain": "        value                   name category          motor  \\\n0  R$ 338.000  LAMBORGHINI AVENTADOR    USADO  Motor 1.8 16v   \n\n            description             location  \\\n0  Ano 1993 - 55.286 km  Belo Horizonte - MG   \n\n                                               items  \n0  [ 4 X 4,  Câmera de estacionamento,  Controle ...  ",
      "text/html": "<div>\n<style scoped>\n    .dataframe tbody tr th:only-of-type {\n        vertical-align: middle;\n    }\n\n    .dataframe tbody tr th {\n        vertical-align: top;\n    }\n\n    .dataframe thead th {\n        text-align: right;\n    }\n</style>\n<table border=\"1\" class=\"dataframe\">\n  <thead>\n    <tr style=\"text-align: right;\">\n      <th></th>\n      <th>value</th>\n      <th>name</th>\n      <th>category</th>\n      <th>motor</th>\n      <th>description</th>\n      <th>location</th>\n      <th>items</th>\n    </tr>\n  </thead>\n  <tbody>\n    <tr>\n      <th>0</th>\n      <td>R$ 338.000</td>\n      <td>LAMBORGHINI AVENTADOR</td>\n      <td>USADO</td>\n      <td>Motor 1.8 16v</td>\n      <td>Ano 1993 - 55.286 km</td>\n      <td>Belo Horizonte - MG</td>\n      <td>[ 4 X 4,  Câmera de estacionamento,  Controle ...</td>\n    </tr>\n  </tbody>\n</table>\n</div>"
     },
     "metadata": {},
     "execution_count": 88
    }
   ],
   "source": [
    "dataset = pd.DataFrame.from_dict(card,orient='index').T\n",
    "dataset"
   ]
  },
  {
   "cell_type": "code",
   "execution_count": 90,
   "metadata": {},
   "outputs": [],
   "source": [
    "dataset.to_csv('./output/data/dataset.csv',sep=';',index=False,encoding='utf-8-sig')"
   ]
  },
  {
   "cell_type": "code",
   "execution_count": null,
   "metadata": {},
   "outputs": [],
   "source": []
  },
  {
   "cell_type": "code",
   "execution_count": null,
   "metadata": {},
   "outputs": [],
   "source": []
  },
  {
   "cell_type": "code",
   "execution_count": null,
   "metadata": {},
   "outputs": [],
   "source": []
  },
  {
   "cell_type": "code",
   "execution_count": null,
   "metadata": {},
   "outputs": [],
   "source": []
  },
  {
   "cell_type": "markdown",
   "metadata": {},
   "source": [
    "# 5.6. Obtendo a FOTO do anúncio"
   ]
  },
  {
   "cell_type": "code",
   "execution_count": 96,
   "metadata": {},
   "outputs": [],
   "source": [
    "image = anuncio.find('div',{'class':'image-card'}).img\n"
   ]
  },
  {
   "cell_type": "code",
   "execution_count": 97,
   "metadata": {},
   "outputs": [
    {
     "output_type": "execute_result",
     "data": {
      "text/plain": "'https://caelum-online-public.s3.amazonaws.com/1381-scraping/01/img-cars/lamborghini-aventador/lamborghini-aventador-2932196__340.jpg'"
     },
     "metadata": {},
     "execution_count": 97
    }
   ],
   "source": [
    "image.get('src')"
   ]
  },
  {
   "cell_type": "code",
   "execution_count": 100,
   "metadata": {
    "tags": []
   },
   "outputs": [
    {
     "output_type": "stream",
     "name": "stdout",
     "text": "https://caelum-online-public.s3.amazonaws.com/1381-scraping/01/img-cars/lamborghini-aventador/lamborghini-aventador-2932196__340.jpg\n"
    },
    {
     "output_type": "display_data",
     "data": {
      "text/plain": "<IPython.core.display.HTML object>",
      "text/html": "<img alt=\"Foto\" height=\"155\" src=\"https://caelum-online-public.s3.amazonaws.com/1381-scraping/01/img-cars/lamborghini-aventador/lamborghini-aventador-2932196__340.jpg\" width=\"220\"/>"
     },
     "metadata": {}
    }
   ],
   "source": [
    "print(image.get('src'))\n",
    "from IPython.core.display import display,HTML\n",
    "display(HTML(str(image)))\n"
   ]
  },
  {
   "cell_type": "markdown",
   "metadata": {},
   "source": [
    "### Visualizando a FOTO no notebook (extra)"
   ]
  },
  {
   "cell_type": "code",
   "execution_count": null,
   "metadata": {},
   "outputs": [],
   "source": []
  },
  {
   "cell_type": "code",
   "execution_count": null,
   "metadata": {},
   "outputs": [],
   "source": []
  },
  {
   "cell_type": "markdown",
   "metadata": {},
   "source": [
    "### Rotina para acessar e salvar a FOTO do anúncio"
   ]
  },
  {
   "cell_type": "markdown",
   "metadata": {},
   "source": [
    "## https://docs.python.org/3/library/urllib.request.html#urllib.request.urlretrieve"
   ]
  },
  {
   "cell_type": "code",
   "execution_count": 101,
   "metadata": {},
   "outputs": [
    {
     "output_type": "execute_result",
     "data": {
      "text/plain": "'lamborghini-aventador-2932196__340.jpg'"
     },
     "metadata": {},
     "execution_count": 101
    }
   ],
   "source": [
    "from urllib.request import urlretrieve\n",
    "image.get('src').split('/')[-1]"
   ]
  },
  {
   "cell_type": "code",
   "execution_count": 102,
   "metadata": {},
   "outputs": [
    {
     "output_type": "execute_result",
     "data": {
      "text/plain": "('./output/img/lamborghini-aventador-2932196__340.jpg',\n <http.client.HTTPMessage at 0x1d7969cba60>)"
     },
     "metadata": {},
     "execution_count": 102
    }
   ],
   "source": [
    "urlretrieve(image.get('src'),'./output/img/'+str(image.get('src').split('/')[-1]))"
   ]
  },
  {
   "cell_type": "markdown",
   "metadata": {},
   "source": [
    "### <font color=red>Resumo"
   ]
  },
  {
   "cell_type": "code",
   "execution_count": null,
   "metadata": {},
   "outputs": [],
   "source": [
    "image = anuncio.find('div',{'class':'image-card'}).img\n",
    "urlretrieve(image.get('src'),'./output/img/'+str(image.get('src').split('/')[-1]))\n"
   ]
  },
  {
   "cell_type": "markdown",
   "metadata": {},
   "source": [
    "# <font color=green>6. WEB SCRAPING DO SITE ALURA MOTORS - OBTENDO OS DADOS DE TODOS OS ANÚNCIOS DE UMA PÁGINA"
   ]
  },
  {
   "cell_type": "markdown",
   "metadata": {},
   "source": [
    "# 6.1. Identificando as informações no HTML"
   ]
  },
  {
   "cell_type": "code",
   "execution_count": 112,
   "metadata": {
    "scrolled": true
   },
   "outputs": [],
   "source": [
    "anuncios = soup.find('div', {\"id\":\"container-cards\"}).findAll('div',{'class':'card'})"
   ]
  },
  {
   "cell_type": "code",
   "execution_count": 113,
   "metadata": {
    "scrolled": true,
    "tags": []
   },
   "outputs": [
    {
     "output_type": "stream",
     "name": "stdout",
     "text": "<div class=\"well card\">\n<div class=\"col-md-3 image-card\">\n<img alt=\"Foto\" height=\"155\" src=\"https://caelum-online-public.s3.amazonaws.com/1381-scraping/01/img-cars/lamborghini-aventador/lamborghini-aventador-2932196__340.jpg\" width=\"220\"/>\n</div>\n<div class=\"col-md-6 body-card\">\n<p class=\"txt-name inline\">LAMBORGHINI AVENTADOR</p>\n<p class=\"txt-category badge badge-secondary inline\">USADO</p>\n<p class=\"txt-motor\">Motor 1.8 16v</p>\n<p class=\"txt-description\">Ano 1993 - 55.286 km</p>\n<ul class=\"lst-items\">\n<li class=\"txt-items\">► 4 X 4</li>\n<li class=\"txt-items\">► Câmera de estacionamento</li>\n<li class=\"txt-items\">► Controle de tração</li>\n<li class=\"txt-items\">► Sensor de estacionamento</li>\n<li class=\"txt-items\">...</li>\n</ul>\n<p class=\"txt-location\">Belo Horizonte - MG</p>\n</div>\n<div class=\"col-md-3 value-card\">\n<div class=\"value\">\n<p class=\"txt-value\">R$ 338.000</p>\n</div>\n</div>\n</div>\n\n\n<div class=\"well card\">\n<div class=\"col-md-3 image-card\">\n<img alt=\"Foto\" height=\"155\" src=\"https://caelum-online-public.s3.amazonaws.com/1381-scraping/01/img-cars/bmw-m2/bmw-m2-2970882__340.jpg\" width=\"220\"/>\n</div>\n<div class=\"col-md-6 body-card\">\n<p class=\"txt-name inline\">BMW M2</p>\n<p class=\"txt-category badge badge-secondary inline\">USADO</p>\n<p class=\"txt-motor\">Motor 3.0 32v</p>\n<p class=\"txt-description\">Ano 2018 - 83.447 km</p>\n<ul class=\"lst-items\">\n<li class=\"txt-items\">► Câmera de estacionamento</li>\n<li class=\"txt-items\">► Controle de estabilidade</li>\n<li class=\"txt-items\">► Travas elétricas</li>\n<li class=\"txt-items\">► Freios ABS</li>\n<li class=\"txt-items\">...</li>\n</ul>\n<p class=\"txt-location\">Belo Horizonte - MG</p>\n</div>\n<div class=\"col-md-3 value-card\">\n<div class=\"value\">\n<p class=\"txt-value\">R$ 346.000</p>\n</div>\n</div>\n</div>\n\n\n<div class=\"well card\">\n<div class=\"col-md-3 image-card\">\n<img alt=\"Foto\" height=\"155\" src=\"https://caelum-online-public.s3.amazonaws.com/1381-scraping/01/img-cars/alfa/alfa-1823056__340.jpg\" width=\"220\"/>\n</div>\n<div class=\"col-md-6 body-card\">\n<p class=\"txt-name inline\">ALFA</p>\n<p class=\"txt-category badge badge-secondary inline\">USADO</p>\n<p class=\"txt-motor\">Motor 1.8 16v</p>\n<p class=\"txt-description\">Ano 2004 - 19.722 km</p>\n<ul class=\"lst-items\">\n<li class=\"txt-items\">► Central multimídia</li>\n<li class=\"txt-items\">► Bancos de couro</li>\n<li class=\"txt-items\">► Rodas de liga</li>\n<li class=\"txt-items\">► Câmera de estacionamento</li>\n<li class=\"txt-items\">...</li>\n</ul>\n<p class=\"txt-location\">Rio de Janeiro - RJ</p>\n</div>\n<div class=\"col-md-3 value-card\">\n<div class=\"value\">\n<p class=\"txt-value\">R$ 480.000</p>\n</div>\n</div>\n</div>\n\n\n<div class=\"well card\">\n<div class=\"col-md-3 image-card\">\n<img alt=\"Foto\" height=\"155\" src=\"https://caelum-online-public.s3.amazonaws.com/1381-scraping/01/img-cars/puech/puech-4055386__340.jpg\" width=\"220\"/>\n</div>\n<div class=\"col-md-6 body-card\">\n<p class=\"txt-name inline\">PUECH</p>\n<p class=\"txt-category badge badge-secondary inline\">USADO</p>\n<p class=\"txt-motor\">Motor Diesel V8</p>\n<p class=\"txt-description\">Ano 1992 - 34.335 km</p>\n<ul class=\"lst-items\">\n<li class=\"txt-items\">► Bancos de couro</li>\n<li class=\"txt-items\">► Freios ABS</li>\n<li class=\"txt-items\">► Rodas de liga</li>\n<li class=\"txt-items\">► Câmbio automático</li>\n<li class=\"txt-items\">...</li>\n</ul>\n<p class=\"txt-location\">São Paulo - SP</p>\n</div>\n<div class=\"col-md-3 value-card\">\n<div class=\"value\">\n<p class=\"txt-value\">R$ 133.000</p>\n</div>\n</div>\n</div>\n\n\n<div class=\"well card\">\n<div class=\"col-md-3 image-card\">\n<img alt=\"Foto\" height=\"155\" src=\"https://caelum-online-public.s3.amazonaws.com/1381-scraping/01/img-cars/lamborghini-murcielago/lamborghini-murcielago-2872974__340.jpg\" width=\"220\"/>\n</div>\n<div class=\"col-md-6 body-card\">\n<p class=\"txt-name inline\">LAMBORGHINI MURCIELAGO</p>\n<p class=\"txt-category badge badge-secondary inline\">USADO</p>\n<p class=\"txt-motor\">Motor 1.0 8v</p>\n<p class=\"txt-description\">Ano 1991 - 464 km</p>\n<ul class=\"lst-items\">\n<li class=\"txt-items\">► Central multimídia</li>\n<li class=\"txt-items\">► Teto panorâmico</li>\n<li class=\"txt-items\">► Sensor crepuscular</li>\n<li class=\"txt-items\">► Piloto automático</li>\n<li class=\"txt-items\">...</li>\n</ul>\n<p class=\"txt-location\">Belo Horizonte - MG</p>\n</div>\n<div class=\"col-md-3 value-card\">\n<div class=\"value\">\n<p class=\"txt-value\">R$ 175.000</p>\n</div>\n</div>\n</div>\n\n\n<div class=\"well card\">\n<div class=\"col-md-3 image-card\">\n<img alt=\"Foto\" height=\"155\" src=\"https://caelum-online-public.s3.amazonaws.com/1381-scraping/01/img-cars/aston-martin/aston-martin-2977916__340.jpg\" width=\"220\"/>\n</div>\n<div class=\"col-md-6 body-card\">\n<p class=\"txt-name inline\">ASTON MARTIN</p>\n<p class=\"txt-category badge badge-secondary inline\">USADO</p>\n<p class=\"txt-opportunity badge badge-danger inline\">OPORTUNIDADE</p>\n<p class=\"txt-motor\">Motor Diesel V6</p>\n<p class=\"txt-description\">Ano 2004 - 50.189 km</p>\n<ul class=\"lst-items\">\n<li class=\"txt-items\">► Painel digital</li>\n<li class=\"txt-items\">► Controle de tração</li>\n<li class=\"txt-items\">► Teto panorâmico</li>\n<li class=\"txt-items\">► Central multimídia</li>\n<li class=\"txt-items\">...</li>\n</ul>\n<p class=\"txt-location\">Belo Horizonte - MG</p>\n</div>\n<div class=\"col-md-3 value-card\">\n<div class=\"value\">\n<p class=\"txt-value\">R$ 239.000</p>\n</div>\n</div>\n</div>\n\n\n<div class=\"well card\">\n<div class=\"col-md-3 image-card\">\n<img alt=\"Foto\" height=\"155\" src=\"https://caelum-online-public.s3.amazonaws.com/1381-scraping/01/img-cars/tvr/tvr-2943925__340.jpg\" width=\"220\"/>\n</div>\n<div class=\"col-md-6 body-card\">\n<p class=\"txt-name inline\">TVR</p>\n<p class=\"txt-category badge badge-secondary inline\">USADO</p>\n<p class=\"txt-motor\">Motor 4.0 Turbo</p>\n<p class=\"txt-description\">Ano 2014 - 17.778 km</p>\n<ul class=\"lst-items\">\n<li class=\"txt-items\">► 4 X 4</li>\n<li class=\"txt-items\">► Teto panorâmico</li>\n<li class=\"txt-items\">► Central multimídia</li>\n<li class=\"txt-items\">► Controle de estabilidade</li>\n<li class=\"txt-items\">...</li>\n</ul>\n<p class=\"txt-location\">Belo Horizonte - MG</p>\n</div>\n<div class=\"col-md-3 value-card\">\n<div class=\"value\">\n<p class=\"txt-value\">R$ 115.000</p>\n</div>\n</div>\n</div>\n\n\n<div class=\"well card\">\n<div class=\"col-md-3 image-card\">\n<img alt=\"Foto\" height=\"155\" src=\"https://caelum-online-public.s3.amazonaws.com/1381-scraping/01/img-cars/excalibur/excalibur-2916730__340.jpg\" width=\"220\"/>\n</div>\n<div class=\"col-md-6 body-card\">\n<p class=\"txt-name inline\">EXCALIBUR</p>\n<p class=\"txt-category badge badge-secondary inline\">USADO</p>\n<p class=\"txt-motor\">Motor 3.0 32v</p>\n<p class=\"txt-description\">Ano 2009 - 81.251 km</p>\n<ul class=\"lst-items\">\n<li class=\"txt-items\">► Painel digital</li>\n<li class=\"txt-items\">► Câmbio automático</li>\n<li class=\"txt-items\">► Sensor de chuva</li>\n<li class=\"txt-items\">► Travas elétricas</li>\n<li class=\"txt-items\">...</li>\n</ul>\n<p class=\"txt-location\">Rio de Janeiro - RJ</p>\n</div>\n<div class=\"col-md-3 value-card\">\n<div class=\"value\">\n<p class=\"txt-value\">R$ 114.000</p>\n</div>\n</div>\n</div>\n\n\n<div class=\"well card\">\n<div class=\"col-md-3 image-card\">\n<img alt=\"Foto\" height=\"155\" src=\"https://caelum-online-public.s3.amazonaws.com/1381-scraping/01/img-cars/mclaren/mclaren-2855240__340.jpg\" width=\"220\"/>\n</div>\n<div class=\"col-md-6 body-card\">\n<p class=\"txt-name inline\">MCLAREN</p>\n<p class=\"txt-category badge badge-secondary inline\">NOVO</p>\n<p class=\"txt-motor\">Motor Diesel</p>\n<p class=\"txt-description\">Ano 2019 - 0 km</p>\n<ul class=\"lst-items\">\n<li class=\"txt-items\">► Central multimídia</li>\n<li class=\"txt-items\">► Câmera de estacionamento</li>\n<li class=\"txt-items\">► Câmbio automático</li>\n<li class=\"txt-items\">► Ar condicionado</li>\n<li class=\"txt-items\">...</li>\n</ul>\n<p class=\"txt-location\">São Paulo - SP</p>\n</div>\n<div class=\"col-md-3 value-card\">\n<div class=\"value\">\n<p class=\"txt-value\">R$ 75.000</p>\n</div>\n</div>\n</div>\n\n\n<div class=\"well card\">\n<div class=\"col-md-3 image-card\">\n<img alt=\"Foto\" height=\"155\" src=\"https://caelum-online-public.s3.amazonaws.com/1381-scraping/01/img-cars/toyota/toyota-3245397__340.jpg\" width=\"220\"/>\n</div>\n<div class=\"col-md-6 body-card\">\n<p class=\"txt-name inline\">TOYOTA</p>\n<p class=\"txt-category badge badge-secondary inline\">USADO</p>\n<p class=\"txt-opportunity badge badge-danger inline\">OPORTUNIDADE</p>\n<p class=\"txt-motor\">Motor 4.0 Turbo</p>\n<p class=\"txt-description\">Ano 1999 - 12.536 km</p>\n<ul class=\"lst-items\">\n<li class=\"txt-items\">► Bancos de couro</li>\n<li class=\"txt-items\">► Freios ABS</li>\n<li class=\"txt-items\">► Piloto automático</li>\n<li class=\"txt-items\">► Controle de estabilidade</li>\n<li class=\"txt-items\">...</li>\n</ul>\n<p class=\"txt-location\">São Paulo - SP</p>\n</div>\n<div class=\"col-md-3 value-card\">\n<div class=\"value\">\n<p class=\"txt-value\">R$ 117.000</p>\n</div>\n</div>\n</div>\n\n\n"
    }
   ],
   "source": [
    "for anuncio in anuncios:\n",
    "    print(str(anuncio)+'\\n\\n')"
   ]
  },
  {
   "cell_type": "code",
   "execution_count": null,
   "metadata": {
    "scrolled": true
   },
   "outputs": [],
   "source": []
  },
  {
   "cell_type": "markdown",
   "metadata": {},
   "source": [
    "# 6.2. Criando uma rotina de scraping"
   ]
  },
  {
   "cell_type": "code",
   "execution_count": 50,
   "metadata": {},
   "outputs": [
    {
     "output_type": "execute_result",
     "data": {
      "text/plain": "        value                    name category            motor  \\\n0  R$ 338.000   LAMBORGHINI AVENTADOR    USADO    Motor 1.8 16v   \n1  R$ 346.000                  BMW M2    USADO    Motor 3.0 32v   \n2  R$ 480.000                    ALFA    USADO    Motor 1.8 16v   \n3  R$ 133.000                   PUECH    USADO  Motor Diesel V8   \n4  R$ 175.000  LAMBORGHINI MURCIELAGO    USADO     Motor 1.0 8v   \n5  R$ 239.000            ASTON MARTIN    USADO  Motor Diesel V6   \n6  R$ 115.000                     TVR    USADO  Motor 4.0 Turbo   \n7  R$ 114.000               EXCALIBUR    USADO    Motor 3.0 32v   \n8   R$ 75.000                 MCLAREN     NOVO     Motor Diesel   \n9  R$ 117.000                  TOYOTA    USADO  Motor 4.0 Turbo   \n\n            description             location  \\\n0  Ano 1993 - 55.286 km  Belo Horizonte - MG   \n1  Ano 2018 - 83.447 km  Belo Horizonte - MG   \n2  Ano 2004 - 19.722 km  Rio de Janeiro - RJ   \n3  Ano 1992 - 34.335 km       São Paulo - SP   \n4     Ano 1991 - 464 km  Belo Horizonte - MG   \n5  Ano 2004 - 50.189 km  Belo Horizonte - MG   \n6  Ano 2014 - 17.778 km  Belo Horizonte - MG   \n7  Ano 2009 - 81.251 km  Rio de Janeiro - RJ   \n8       Ano 2019 - 0 km       São Paulo - SP   \n9  Ano 1999 - 12.536 km       São Paulo - SP   \n\n                                               items   opportunity  \n0  [ 4 X 4,  Câmera de estacionamento,  Controle ...           NaN  \n1  [ Câmera de estacionamento,  Controle de estab...           NaN  \n2  [ Central multimídia,  Bancos de couro,  Rodas...           NaN  \n3  [ Bancos de couro,  Freios ABS,  Rodas de liga...           NaN  \n4  [ Central multimídia,  Teto panorâmico,  Senso...           NaN  \n5  [ Painel digital,  Controle de tração,  Teto p...  OPORTUNIDADE  \n6  [ 4 X 4,  Teto panorâmico,  Central multimídia...           NaN  \n7  [ Painel digital,  Câmbio automático,  Sensor ...           NaN  \n8  [ Central multimídia,  Câmera de estacionament...           NaN  \n9  [ Bancos de couro,  Freios ABS,  Piloto automá...  OPORTUNIDADE  ",
      "text/html": "<div>\n<style scoped>\n    .dataframe tbody tr th:only-of-type {\n        vertical-align: middle;\n    }\n\n    .dataframe tbody tr th {\n        vertical-align: top;\n    }\n\n    .dataframe thead th {\n        text-align: right;\n    }\n</style>\n<table border=\"1\" class=\"dataframe\">\n  <thead>\n    <tr style=\"text-align: right;\">\n      <th></th>\n      <th>value</th>\n      <th>name</th>\n      <th>category</th>\n      <th>motor</th>\n      <th>description</th>\n      <th>location</th>\n      <th>items</th>\n      <th>opportunity</th>\n    </tr>\n  </thead>\n  <tbody>\n    <tr>\n      <th>0</th>\n      <td>R$ 338.000</td>\n      <td>LAMBORGHINI AVENTADOR</td>\n      <td>USADO</td>\n      <td>Motor 1.8 16v</td>\n      <td>Ano 1993 - 55.286 km</td>\n      <td>Belo Horizonte - MG</td>\n      <td>[ 4 X 4,  Câmera de estacionamento,  Controle ...</td>\n      <td>NaN</td>\n    </tr>\n    <tr>\n      <th>1</th>\n      <td>R$ 346.000</td>\n      <td>BMW M2</td>\n      <td>USADO</td>\n      <td>Motor 3.0 32v</td>\n      <td>Ano 2018 - 83.447 km</td>\n      <td>Belo Horizonte - MG</td>\n      <td>[ Câmera de estacionamento,  Controle de estab...</td>\n      <td>NaN</td>\n    </tr>\n    <tr>\n      <th>2</th>\n      <td>R$ 480.000</td>\n      <td>ALFA</td>\n      <td>USADO</td>\n      <td>Motor 1.8 16v</td>\n      <td>Ano 2004 - 19.722 km</td>\n      <td>Rio de Janeiro - RJ</td>\n      <td>[ Central multimídia,  Bancos de couro,  Rodas...</td>\n      <td>NaN</td>\n    </tr>\n    <tr>\n      <th>3</th>\n      <td>R$ 133.000</td>\n      <td>PUECH</td>\n      <td>USADO</td>\n      <td>Motor Diesel V8</td>\n      <td>Ano 1992 - 34.335 km</td>\n      <td>São Paulo - SP</td>\n      <td>[ Bancos de couro,  Freios ABS,  Rodas de liga...</td>\n      <td>NaN</td>\n    </tr>\n    <tr>\n      <th>4</th>\n      <td>R$ 175.000</td>\n      <td>LAMBORGHINI MURCIELAGO</td>\n      <td>USADO</td>\n      <td>Motor 1.0 8v</td>\n      <td>Ano 1991 - 464 km</td>\n      <td>Belo Horizonte - MG</td>\n      <td>[ Central multimídia,  Teto panorâmico,  Senso...</td>\n      <td>NaN</td>\n    </tr>\n    <tr>\n      <th>5</th>\n      <td>R$ 239.000</td>\n      <td>ASTON MARTIN</td>\n      <td>USADO</td>\n      <td>Motor Diesel V6</td>\n      <td>Ano 2004 - 50.189 km</td>\n      <td>Belo Horizonte - MG</td>\n      <td>[ Painel digital,  Controle de tração,  Teto p...</td>\n      <td>OPORTUNIDADE</td>\n    </tr>\n    <tr>\n      <th>6</th>\n      <td>R$ 115.000</td>\n      <td>TVR</td>\n      <td>USADO</td>\n      <td>Motor 4.0 Turbo</td>\n      <td>Ano 2014 - 17.778 km</td>\n      <td>Belo Horizonte - MG</td>\n      <td>[ 4 X 4,  Teto panorâmico,  Central multimídia...</td>\n      <td>NaN</td>\n    </tr>\n    <tr>\n      <th>7</th>\n      <td>R$ 114.000</td>\n      <td>EXCALIBUR</td>\n      <td>USADO</td>\n      <td>Motor 3.0 32v</td>\n      <td>Ano 2009 - 81.251 km</td>\n      <td>Rio de Janeiro - RJ</td>\n      <td>[ Painel digital,  Câmbio automático,  Sensor ...</td>\n      <td>NaN</td>\n    </tr>\n    <tr>\n      <th>8</th>\n      <td>R$ 75.000</td>\n      <td>MCLAREN</td>\n      <td>NOVO</td>\n      <td>Motor Diesel</td>\n      <td>Ano 2019 - 0 km</td>\n      <td>São Paulo - SP</td>\n      <td>[ Central multimídia,  Câmera de estacionament...</td>\n      <td>NaN</td>\n    </tr>\n    <tr>\n      <th>9</th>\n      <td>R$ 117.000</td>\n      <td>TOYOTA</td>\n      <td>USADO</td>\n      <td>Motor 4.0 Turbo</td>\n      <td>Ano 1999 - 12.536 km</td>\n      <td>São Paulo - SP</td>\n      <td>[ Bancos de couro,  Freios ABS,  Piloto automá...</td>\n      <td>OPORTUNIDADE</td>\n    </tr>\n  </tbody>\n</table>\n</div>"
     },
     "metadata": {},
     "execution_count": 50
    }
   ],
   "source": [
    "from urllib.request import urlretrieve\n",
    "import pandas as pd\n",
    "response = urlopen('https://alura-site-scraping.herokuapp.com/index.php')\n",
    "html = response.read().decode('utf-8')\n",
    "soup = BeautifulSoup(html,'html.parser')\n",
    "cards = []\n",
    "anuncios = soup.find('div', {\"id\":\"container-cards\"}).findAll('div',{'class':'card'})\n",
    "\n",
    "for anuncio in anuncios:\n",
    "    card={}\n",
    "    card['value'] = anuncio.find('p',{'class':'txt-value'}).getText()\n",
    "    infos = anuncio.find('div',{'class':'body-card'}).findAll('p')\n",
    "    for info in infos:\n",
    "        card[info.get('class')[0].split('-')[-1]]= info.get_text()\n",
    "    card\n",
    "\n",
    "    items = anuncio.find('div',{'class':'body-card'}).ul.findAll('li')\n",
    "    items.pop()\n",
    "    acessorios = []\n",
    "    for item in items:\n",
    "        acessorios.append(item.getText().replace('►',''))\n",
    "    card['items']=acessorios\n",
    "\n",
    "    cards.append(card)\n",
    "\n",
    "    image = anuncio.find('div',{'class':'image-card'}).img\n",
    "    urlretrieve(image.get('src'),'./output/img/'+str(image.get('src').split('/')[-1]))\n",
    "    \n",
    "\n",
    "dataset = pd.DataFrame(cards)    \n",
    "dataset.to_csv('./output/data/dataset.csv', index=False,encoding='utf-8-sig')\n",
    "dataset\n"
   ]
  },
  {
   "cell_type": "code",
   "execution_count": null,
   "metadata": {},
   "outputs": [],
   "source": [
    "cards"
   ]
  },
  {
   "cell_type": "markdown",
   "metadata": {},
   "source": [
    "# <font color=green>7. WEB SCRAPING DO SITE ALURA MOTORS - OBTENDO OS DADOS DE TODOS OS ANÚNCIOS DO SITE"
   ]
  },
  {
   "cell_type": "markdown",
   "metadata": {},
   "source": [
    "# 7.1. Identificando as informações no HTML"
   ]
  },
  {
   "cell_type": "code",
   "execution_count": 53,
   "metadata": {},
   "outputs": [
    {
     "output_type": "execute_result",
     "data": {
      "text/plain": "          value                    name category            motor  \\\n0    R$ 338.000   LAMBORGHINI AVENTADOR    USADO    Motor 1.8 16v   \n1    R$ 346.000                  BMW M2    USADO    Motor 3.0 32v   \n2    R$ 480.000                    ALFA    USADO    Motor 1.8 16v   \n3    R$ 133.000                   PUECH    USADO  Motor Diesel V8   \n4    R$ 175.000  LAMBORGHINI MURCIELAGO    USADO     Motor 1.0 8v   \n..          ...                     ...      ...              ...   \n241  R$ 489.000           SUV REAR TIRE    USADO    Motor 3.0 32v   \n242  R$ 427.000                 ANTIQUE     NOVO    Motor 2.0 16v   \n243  R$ 203.000                   SPORT    USADO    Motor 2.0 16v   \n244  R$ 474.000                IMPERIAL    USADO    Motor 1.8 16v   \n245  R$ 366.000          KIA SPORTS CAR    USADO    Motor 3.0 32v   \n\n               description             location  \\\n0     Ano 1993 - 55.286 km  Belo Horizonte - MG   \n1     Ano 2018 - 83.447 km  Belo Horizonte - MG   \n2     Ano 2004 - 19.722 km  Rio de Janeiro - RJ   \n3     Ano 1992 - 34.335 km       São Paulo - SP   \n4        Ano 1991 - 464 km  Belo Horizonte - MG   \n..                     ...                  ...   \n241   Ano 1998 - 74.292 km       São Paulo - SP   \n242        Ano 2019 - 0 km  Belo Horizonte - MG   \n243  Ano 2001 - 102.776 km  Belo Horizonte - MG   \n244  Ano 2011 - 101.787 km  Belo Horizonte - MG   \n245   Ano 2001 - 88.564 km  Belo Horizonte - MG   \n\n                                                 items   opportunity  \n0    [ 4 X 4,  Câmera de estacionamento,  Controle ...           NaN  \n1    [ Câmera de estacionamento,  Controle de estab...           NaN  \n2    [ Central multimídia,  Bancos de couro,  Rodas...           NaN  \n3    [ Bancos de couro,  Freios ABS,  Rodas de liga...           NaN  \n4    [ Central multimídia,  Teto panorâmico,  Senso...           NaN  \n..                                                 ...           ...  \n241  [ Câmera de estacionamento,  Rodas de liga,  S...           NaN  \n242  [ Bancos de couro,  Freios ABS,  Sensor de est...           NaN  \n243  [ Sensor crepuscular,  Sensor de chuva,  Vidro...           NaN  \n244  [ Painel digital,  Travas elétricas,  Sensor d...  OPORTUNIDADE  \n245  [ Sensor crepuscular,  Bancos de couro,  Senso...           NaN  \n\n[246 rows x 8 columns]",
      "text/html": "<div>\n<style scoped>\n    .dataframe tbody tr th:only-of-type {\n        vertical-align: middle;\n    }\n\n    .dataframe tbody tr th {\n        vertical-align: top;\n    }\n\n    .dataframe thead th {\n        text-align: right;\n    }\n</style>\n<table border=\"1\" class=\"dataframe\">\n  <thead>\n    <tr style=\"text-align: right;\">\n      <th></th>\n      <th>value</th>\n      <th>name</th>\n      <th>category</th>\n      <th>motor</th>\n      <th>description</th>\n      <th>location</th>\n      <th>items</th>\n      <th>opportunity</th>\n    </tr>\n  </thead>\n  <tbody>\n    <tr>\n      <th>0</th>\n      <td>R$ 338.000</td>\n      <td>LAMBORGHINI AVENTADOR</td>\n      <td>USADO</td>\n      <td>Motor 1.8 16v</td>\n      <td>Ano 1993 - 55.286 km</td>\n      <td>Belo Horizonte - MG</td>\n      <td>[ 4 X 4,  Câmera de estacionamento,  Controle ...</td>\n      <td>NaN</td>\n    </tr>\n    <tr>\n      <th>1</th>\n      <td>R$ 346.000</td>\n      <td>BMW M2</td>\n      <td>USADO</td>\n      <td>Motor 3.0 32v</td>\n      <td>Ano 2018 - 83.447 km</td>\n      <td>Belo Horizonte - MG</td>\n      <td>[ Câmera de estacionamento,  Controle de estab...</td>\n      <td>NaN</td>\n    </tr>\n    <tr>\n      <th>2</th>\n      <td>R$ 480.000</td>\n      <td>ALFA</td>\n      <td>USADO</td>\n      <td>Motor 1.8 16v</td>\n      <td>Ano 2004 - 19.722 km</td>\n      <td>Rio de Janeiro - RJ</td>\n      <td>[ Central multimídia,  Bancos de couro,  Rodas...</td>\n      <td>NaN</td>\n    </tr>\n    <tr>\n      <th>3</th>\n      <td>R$ 133.000</td>\n      <td>PUECH</td>\n      <td>USADO</td>\n      <td>Motor Diesel V8</td>\n      <td>Ano 1992 - 34.335 km</td>\n      <td>São Paulo - SP</td>\n      <td>[ Bancos de couro,  Freios ABS,  Rodas de liga...</td>\n      <td>NaN</td>\n    </tr>\n    <tr>\n      <th>4</th>\n      <td>R$ 175.000</td>\n      <td>LAMBORGHINI MURCIELAGO</td>\n      <td>USADO</td>\n      <td>Motor 1.0 8v</td>\n      <td>Ano 1991 - 464 km</td>\n      <td>Belo Horizonte - MG</td>\n      <td>[ Central multimídia,  Teto panorâmico,  Senso...</td>\n      <td>NaN</td>\n    </tr>\n    <tr>\n      <th>...</th>\n      <td>...</td>\n      <td>...</td>\n      <td>...</td>\n      <td>...</td>\n      <td>...</td>\n      <td>...</td>\n      <td>...</td>\n      <td>...</td>\n    </tr>\n    <tr>\n      <th>241</th>\n      <td>R$ 489.000</td>\n      <td>SUV REAR TIRE</td>\n      <td>USADO</td>\n      <td>Motor 3.0 32v</td>\n      <td>Ano 1998 - 74.292 km</td>\n      <td>São Paulo - SP</td>\n      <td>[ Câmera de estacionamento,  Rodas de liga,  S...</td>\n      <td>NaN</td>\n    </tr>\n    <tr>\n      <th>242</th>\n      <td>R$ 427.000</td>\n      <td>ANTIQUE</td>\n      <td>NOVO</td>\n      <td>Motor 2.0 16v</td>\n      <td>Ano 2019 - 0 km</td>\n      <td>Belo Horizonte - MG</td>\n      <td>[ Bancos de couro,  Freios ABS,  Sensor de est...</td>\n      <td>NaN</td>\n    </tr>\n    <tr>\n      <th>243</th>\n      <td>R$ 203.000</td>\n      <td>SPORT</td>\n      <td>USADO</td>\n      <td>Motor 2.0 16v</td>\n      <td>Ano 2001 - 102.776 km</td>\n      <td>Belo Horizonte - MG</td>\n      <td>[ Sensor crepuscular,  Sensor de chuva,  Vidro...</td>\n      <td>NaN</td>\n    </tr>\n    <tr>\n      <th>244</th>\n      <td>R$ 474.000</td>\n      <td>IMPERIAL</td>\n      <td>USADO</td>\n      <td>Motor 1.8 16v</td>\n      <td>Ano 2011 - 101.787 km</td>\n      <td>Belo Horizonte - MG</td>\n      <td>[ Painel digital,  Travas elétricas,  Sensor d...</td>\n      <td>OPORTUNIDADE</td>\n    </tr>\n    <tr>\n      <th>245</th>\n      <td>R$ 366.000</td>\n      <td>KIA SPORTS CAR</td>\n      <td>USADO</td>\n      <td>Motor 3.0 32v</td>\n      <td>Ano 2001 - 88.564 km</td>\n      <td>Belo Horizonte - MG</td>\n      <td>[ Sensor crepuscular,  Bancos de couro,  Senso...</td>\n      <td>NaN</td>\n    </tr>\n  </tbody>\n</table>\n<p>246 rows × 8 columns</p>\n</div>"
     },
     "metadata": {},
     "execution_count": 53
    }
   ],
   "source": [
    "from urllib.request import urlretrieve\n",
    "import pandas as pd\n",
    "response = urlopen('https://alura-site-scraping.herokuapp.com/index.php')\n",
    "html = response.read().decode('utf-8')\n",
    "soup = BeautifulSoup(html,'html.parser')\n",
    "cards = []\n",
    "final = int(soup.find('span',{'class':'info-pages'}).get_text().split()[-1])\n",
    "for i in range(1,final+1):\n",
    "    response = urlopen('https://alura-site-scraping.herokuapp.com/index.php?page='+str(i))\n",
    "    html = response.read().decode('utf-8')\n",
    "    soup = BeautifulSoup(html,'html.parser')\n",
    "    anuncios = soup.find('div', {\"id\":\"container-cards\"}).findAll('div',{'class':'card'})\n",
    "\n",
    "    for anuncio in anuncios:\n",
    "        card={}\n",
    "        card['value'] = anuncio.find('p',{'class':'txt-value'}).getText()\n",
    "        infos = anuncio.find('div',{'class':'body-card'}).findAll('p')\n",
    "        for info in infos:\n",
    "            card[info.get('class')[0].split('-')[-1]]= info.get_text()\n",
    "        card\n",
    "\n",
    "        items = anuncio.find('div',{'class':'body-card'}).ul.findAll('li')\n",
    "        items.pop()\n",
    "        acessorios = []\n",
    "        for item in items:\n",
    "            acessorios.append(item.getText().replace('►',''))\n",
    "        card['items']=acessorios\n",
    "\n",
    "        cards.append(card)\n",
    "\n",
    "        image = anuncio.find('div',{'class':'image-card'}).img\n",
    "        urlretrieve(image.get('src'),'./output/img/'+str(image.get('src').split('/')[-1]))\n",
    "    \n",
    "\n",
    "dataset = pd.DataFrame(cards)    \n",
    "dataset.to_csv('./output/data/dataset.csv', index=False,encoding='utf-8-sig')\n",
    "dataset\n"
   ]
  },
  {
   "cell_type": "code",
   "execution_count": null,
   "metadata": {
    "scrolled": true
   },
   "outputs": [],
   "source": []
  },
  {
   "cell_type": "code",
   "execution_count": null,
   "metadata": {},
   "outputs": [],
   "source": []
  },
  {
   "cell_type": "code",
   "execution_count": null,
   "metadata": {},
   "outputs": [],
   "source": []
  },
  {
   "cell_type": "code",
   "execution_count": null,
   "metadata": {},
   "outputs": [],
   "source": []
  },
  {
   "cell_type": "markdown",
   "metadata": {},
   "source": [
    "# 7.2. Criando uma rotina de scraping"
   ]
  },
  {
   "cell_type": "code",
   "execution_count": null,
   "metadata": {
    "scrolled": true
   },
   "outputs": [],
   "source": []
  },
  {
   "cell_type": "code",
   "execution_count": null,
   "metadata": {},
   "outputs": [],
   "source": []
  },
  {
   "cell_type": "code",
   "execution_count": null,
   "metadata": {},
   "outputs": [],
   "source": []
  },
  {
   "cell_type": "code",
   "execution_count": null,
   "metadata": {},
   "outputs": [],
   "source": []
  }
 ],
 "metadata": {
  "colab": {
   "name": "Untitled12.ipynb",
   "provenance": [],
   "version": "0.3.2"
  },
  "kernelspec": {
   "name": "Python 3.8.5 64-bit ('igor': conda)",
   "display_name": "Python 3.8.5 64-bit ('igor': conda)",
   "metadata": {
    "interpreter": {
     "hash": "74dd7ce5e4bc88c43ed167e212bbe00dd3bf7501d2089049af961afbe56136a4"
    }
   }
  },
  "language_info": {
   "codemirror_mode": {
    "name": "ipython",
    "version": 3
   },
   "file_extension": ".py",
   "mimetype": "text/x-python",
   "name": "python",
   "nbconvert_exporter": "python",
   "pygments_lexer": "ipython3",
   "version": "3.8.5-final"
  }
 },
 "nbformat": 4,
 "nbformat_minor": 1
}