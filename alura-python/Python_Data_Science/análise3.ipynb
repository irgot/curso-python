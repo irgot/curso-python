{
 "metadata": {
  "language_info": {
   "codemirror_mode": {
    "name": "ipython",
    "version": 3
   },
   "file_extension": ".py",
   "mimetype": "text/x-python",
   "name": "python",
   "nbconvert_exporter": "python",
   "pygments_lexer": "ipython3",
   "version": "3.8.5-final"
  },
  "orig_nbformat": 2,
  "kernelspec": {
   "name": "python_defaultSpec_1600804692426",
   "display_name": "Python 3.8.5 64-bit ('igor': conda)"
  }
 },
 "nbformat": 4,
 "nbformat_minor": 2,
 "cells": [
  {
   "source": [
    "<h1>#Relatório de análise III </h1>\n",
    "<h3>Imóveis Residenciais</h3>"
   ],
   "cell_type": "markdown",
   "metadata": {}
  },
  {
   "cell_type": "code",
   "execution_count": 2,
   "metadata": {},
   "outputs": [],
   "source": [
    "import pandas as pd"
   ]
  },
  {
   "cell_type": "code",
   "execution_count": 5,
   "metadata": {},
   "outputs": [
    {
     "output_type": "execute_result",
     "data": {
      "text/plain": "                          Tipo                Bairro  Quartos  Vagas  Suites  \\\n0                    Quitinete            Copacabana        1      0       0   \n1                         Casa       Jardim Botânico        2      0       1   \n2      Conjunto Comercial/Sala       Barra da Tijuca        0      4       0   \n3                  Apartamento                Centro        1      0       0   \n4                  Apartamento          Higienópolis        1      0       0   \n...                        ...                   ...      ...    ...     ...   \n32955                Quitinete                Centro        0      0       0   \n32956              Apartamento           Jacarepaguá        3      1       2   \n32957              Apartamento  São Francisco Xavier        2      1       0   \n32958              Apartamento                Leblon        2      0       0   \n32959  Conjunto Comercial/Sala                Centro        0      0       0   \n\n       Area   Valor  Condominio    IPTU  \n0        40  1700.0       500.0    60.0  \n1       100  7000.0         NaN     NaN  \n2       150  5200.0      4020.0  1111.0  \n3        15   800.0       390.0    20.0  \n4        48   800.0       230.0     NaN  \n...     ...     ...         ...     ...  \n32955    27   800.0       350.0    25.0  \n32956    78  1800.0       800.0    40.0  \n32957    48  1400.0       509.0    37.0  \n32958    70  3000.0       760.0     NaN  \n32959   250  6500.0      4206.0  1109.0  \n\n[32960 rows x 9 columns]",
      "text/html": "<div>\n<style scoped>\n    .dataframe tbody tr th:only-of-type {\n        vertical-align: middle;\n    }\n\n    .dataframe tbody tr th {\n        vertical-align: top;\n    }\n\n    .dataframe thead th {\n        text-align: right;\n    }\n</style>\n<table border=\"1\" class=\"dataframe\">\n  <thead>\n    <tr style=\"text-align: right;\">\n      <th></th>\n      <th>Tipo</th>\n      <th>Bairro</th>\n      <th>Quartos</th>\n      <th>Vagas</th>\n      <th>Suites</th>\n      <th>Area</th>\n      <th>Valor</th>\n      <th>Condominio</th>\n      <th>IPTU</th>\n    </tr>\n  </thead>\n  <tbody>\n    <tr>\n      <th>0</th>\n      <td>Quitinete</td>\n      <td>Copacabana</td>\n      <td>1</td>\n      <td>0</td>\n      <td>0</td>\n      <td>40</td>\n      <td>1700.0</td>\n      <td>500.0</td>\n      <td>60.0</td>\n    </tr>\n    <tr>\n      <th>1</th>\n      <td>Casa</td>\n      <td>Jardim Botânico</td>\n      <td>2</td>\n      <td>0</td>\n      <td>1</td>\n      <td>100</td>\n      <td>7000.0</td>\n      <td>NaN</td>\n      <td>NaN</td>\n    </tr>\n    <tr>\n      <th>2</th>\n      <td>Conjunto Comercial/Sala</td>\n      <td>Barra da Tijuca</td>\n      <td>0</td>\n      <td>4</td>\n      <td>0</td>\n      <td>150</td>\n      <td>5200.0</td>\n      <td>4020.0</td>\n      <td>1111.0</td>\n    </tr>\n    <tr>\n      <th>3</th>\n      <td>Apartamento</td>\n      <td>Centro</td>\n      <td>1</td>\n      <td>0</td>\n      <td>0</td>\n      <td>15</td>\n      <td>800.0</td>\n      <td>390.0</td>\n      <td>20.0</td>\n    </tr>\n    <tr>\n      <th>4</th>\n      <td>Apartamento</td>\n      <td>Higienópolis</td>\n      <td>1</td>\n      <td>0</td>\n      <td>0</td>\n      <td>48</td>\n      <td>800.0</td>\n      <td>230.0</td>\n      <td>NaN</td>\n    </tr>\n    <tr>\n      <th>...</th>\n      <td>...</td>\n      <td>...</td>\n      <td>...</td>\n      <td>...</td>\n      <td>...</td>\n      <td>...</td>\n      <td>...</td>\n      <td>...</td>\n      <td>...</td>\n    </tr>\n    <tr>\n      <th>32955</th>\n      <td>Quitinete</td>\n      <td>Centro</td>\n      <td>0</td>\n      <td>0</td>\n      <td>0</td>\n      <td>27</td>\n      <td>800.0</td>\n      <td>350.0</td>\n      <td>25.0</td>\n    </tr>\n    <tr>\n      <th>32956</th>\n      <td>Apartamento</td>\n      <td>Jacarepaguá</td>\n      <td>3</td>\n      <td>1</td>\n      <td>2</td>\n      <td>78</td>\n      <td>1800.0</td>\n      <td>800.0</td>\n      <td>40.0</td>\n    </tr>\n    <tr>\n      <th>32957</th>\n      <td>Apartamento</td>\n      <td>São Francisco Xavier</td>\n      <td>2</td>\n      <td>1</td>\n      <td>0</td>\n      <td>48</td>\n      <td>1400.0</td>\n      <td>509.0</td>\n      <td>37.0</td>\n    </tr>\n    <tr>\n      <th>32958</th>\n      <td>Apartamento</td>\n      <td>Leblon</td>\n      <td>2</td>\n      <td>0</td>\n      <td>0</td>\n      <td>70</td>\n      <td>3000.0</td>\n      <td>760.0</td>\n      <td>NaN</td>\n    </tr>\n    <tr>\n      <th>32959</th>\n      <td>Conjunto Comercial/Sala</td>\n      <td>Centro</td>\n      <td>0</td>\n      <td>0</td>\n      <td>0</td>\n      <td>250</td>\n      <td>6500.0</td>\n      <td>4206.0</td>\n      <td>1109.0</td>\n    </tr>\n  </tbody>\n</table>\n<p>32960 rows × 9 columns</p>\n</div>"
     },
     "metadata": {},
     "execution_count": 5
    }
   ],
   "source": [
    "dados = pd.read_csv('aluguel.csv',sep=';')\n",
    "dados"
   ]
  },
  {
   "cell_type": "code",
   "execution_count": 6,
   "metadata": {},
   "outputs": [
    {
     "output_type": "execute_result",
     "data": {
      "text/plain": "                      Tipo           Bairro  Quartos  Vagas  Suites  Area  \\\n0                Quitinete       Copacabana        1      0       0    40   \n1                     Casa  Jardim Botânico        2      0       1   100   \n2  Conjunto Comercial/Sala  Barra da Tijuca        0      4       0   150   \n3              Apartamento           Centro        1      0       0    15   \n4              Apartamento     Higienópolis        1      0       0    48   \n\n    Valor  Condominio    IPTU  \n0  1700.0       500.0    60.0  \n1  7000.0         NaN     NaN  \n2  5200.0      4020.0  1111.0  \n3   800.0       390.0    20.0  \n4   800.0       230.0     NaN  ",
      "text/html": "<div>\n<style scoped>\n    .dataframe tbody tr th:only-of-type {\n        vertical-align: middle;\n    }\n\n    .dataframe tbody tr th {\n        vertical-align: top;\n    }\n\n    .dataframe thead th {\n        text-align: right;\n    }\n</style>\n<table border=\"1\" class=\"dataframe\">\n  <thead>\n    <tr style=\"text-align: right;\">\n      <th></th>\n      <th>Tipo</th>\n      <th>Bairro</th>\n      <th>Quartos</th>\n      <th>Vagas</th>\n      <th>Suites</th>\n      <th>Area</th>\n      <th>Valor</th>\n      <th>Condominio</th>\n      <th>IPTU</th>\n    </tr>\n  </thead>\n  <tbody>\n    <tr>\n      <th>0</th>\n      <td>Quitinete</td>\n      <td>Copacabana</td>\n      <td>1</td>\n      <td>0</td>\n      <td>0</td>\n      <td>40</td>\n      <td>1700.0</td>\n      <td>500.0</td>\n      <td>60.0</td>\n    </tr>\n    <tr>\n      <th>1</th>\n      <td>Casa</td>\n      <td>Jardim Botânico</td>\n      <td>2</td>\n      <td>0</td>\n      <td>1</td>\n      <td>100</td>\n      <td>7000.0</td>\n      <td>NaN</td>\n      <td>NaN</td>\n    </tr>\n    <tr>\n      <th>2</th>\n      <td>Conjunto Comercial/Sala</td>\n      <td>Barra da Tijuca</td>\n      <td>0</td>\n      <td>4</td>\n      <td>0</td>\n      <td>150</td>\n      <td>5200.0</td>\n      <td>4020.0</td>\n      <td>1111.0</td>\n    </tr>\n    <tr>\n      <th>3</th>\n      <td>Apartamento</td>\n      <td>Centro</td>\n      <td>1</td>\n      <td>0</td>\n      <td>0</td>\n      <td>15</td>\n      <td>800.0</td>\n      <td>390.0</td>\n      <td>20.0</td>\n    </tr>\n    <tr>\n      <th>4</th>\n      <td>Apartamento</td>\n      <td>Higienópolis</td>\n      <td>1</td>\n      <td>0</td>\n      <td>0</td>\n      <td>48</td>\n      <td>800.0</td>\n      <td>230.0</td>\n      <td>NaN</td>\n    </tr>\n  </tbody>\n</table>\n</div>"
     },
     "metadata": {},
     "execution_count": 6
    }
   ],
   "source": [
    "dados.head()\n"
   ]
  },
  {
   "cell_type": "code",
   "execution_count": 9,
   "metadata": {},
   "outputs": [
    {
     "output_type": "execute_result",
     "data": {
      "text/plain": "['Quitinete',\n 'Casa',\n 'Conjunto Comercial/Sala',\n 'Apartamento',\n 'Casa de Condomínio',\n 'Prédio Inteiro',\n 'Flat',\n 'Loja/Salão',\n 'Galpão/Depósito/Armazém',\n 'Casa Comercial',\n 'Casa de Vila',\n 'Terreno Padrão',\n 'Box/Garagem',\n 'Loft',\n 'Loja Shopping/ Ct Comercial',\n 'Chácara',\n 'Loteamento/Condomínio',\n 'Sítio',\n 'Pousada/Chalé',\n 'Studio',\n 'Hotel',\n 'Indústria']"
     },
     "metadata": {},
     "execution_count": 9
    }
   ],
   "source": [
    " list(dados.Tipo.drop_duplicates())"
   ]
  },
  {
   "cell_type": "code",
   "execution_count": 10,
   "metadata": {},
   "outputs": [],
   "source": [
    "residencial = [\n",
    " 'Quitinete',\n",
    " 'Casa',\n",
    " 'Apartamento',\n",
    " 'Casa de Condomínio',\n",
    " 'Casa de Vila'\n",
    "]"
   ]
  },
  {
   "cell_type": "code",
   "execution_count": 11,
   "metadata": {},
   "outputs": [
    {
     "output_type": "execute_result",
     "data": {
      "text/plain": "['Quitinete', 'Casa', 'Apartamento', 'Casa de Condomínio', 'Casa de Vila']"
     },
     "metadata": {},
     "execution_count": 11
    }
   ],
   "source": [
    "residencial"
   ]
  },
  {
   "cell_type": "code",
   "execution_count": 12,
   "metadata": {},
   "outputs": [
    {
     "output_type": "execute_result",
     "data": {
      "text/plain": "                      Tipo           Bairro  Quartos  Vagas  Suites  Area  \\\n0                Quitinete       Copacabana        1      0       0    40   \n1                     Casa  Jardim Botânico        2      0       1   100   \n2  Conjunto Comercial/Sala  Barra da Tijuca        0      4       0   150   \n3              Apartamento           Centro        1      0       0    15   \n4              Apartamento     Higienópolis        1      0       0    48   \n5              Apartamento     Vista Alegre        3      1       0    70   \n6              Apartamento         Cachambi        2      0       0    50   \n7       Casa de Condomínio  Barra da Tijuca        5      4       5   750   \n8       Casa de Condomínio            Ramos        2      2       0    65   \n9  Conjunto Comercial/Sala           Centro        0      3       0   695   \n\n     Valor  Condominio    IPTU  \n0   1700.0       500.0    60.0  \n1   7000.0         NaN     NaN  \n2   5200.0      4020.0  1111.0  \n3    800.0       390.0    20.0  \n4    800.0       230.0     NaN  \n5   1200.0         NaN     NaN  \n6   1300.0       301.0    17.0  \n7  22000.0         NaN     NaN  \n8   1000.0         NaN     NaN  \n9  35000.0     19193.0  3030.0  ",
      "text/html": "<div>\n<style scoped>\n    .dataframe tbody tr th:only-of-type {\n        vertical-align: middle;\n    }\n\n    .dataframe tbody tr th {\n        vertical-align: top;\n    }\n\n    .dataframe thead th {\n        text-align: right;\n    }\n</style>\n<table border=\"1\" class=\"dataframe\">\n  <thead>\n    <tr style=\"text-align: right;\">\n      <th></th>\n      <th>Tipo</th>\n      <th>Bairro</th>\n      <th>Quartos</th>\n      <th>Vagas</th>\n      <th>Suites</th>\n      <th>Area</th>\n      <th>Valor</th>\n      <th>Condominio</th>\n      <th>IPTU</th>\n    </tr>\n  </thead>\n  <tbody>\n    <tr>\n      <th>0</th>\n      <td>Quitinete</td>\n      <td>Copacabana</td>\n      <td>1</td>\n      <td>0</td>\n      <td>0</td>\n      <td>40</td>\n      <td>1700.0</td>\n      <td>500.0</td>\n      <td>60.0</td>\n    </tr>\n    <tr>\n      <th>1</th>\n      <td>Casa</td>\n      <td>Jardim Botânico</td>\n      <td>2</td>\n      <td>0</td>\n      <td>1</td>\n      <td>100</td>\n      <td>7000.0</td>\n      <td>NaN</td>\n      <td>NaN</td>\n    </tr>\n    <tr>\n      <th>2</th>\n      <td>Conjunto Comercial/Sala</td>\n      <td>Barra da Tijuca</td>\n      <td>0</td>\n      <td>4</td>\n      <td>0</td>\n      <td>150</td>\n      <td>5200.0</td>\n      <td>4020.0</td>\n      <td>1111.0</td>\n    </tr>\n    <tr>\n      <th>3</th>\n      <td>Apartamento</td>\n      <td>Centro</td>\n      <td>1</td>\n      <td>0</td>\n      <td>0</td>\n      <td>15</td>\n      <td>800.0</td>\n      <td>390.0</td>\n      <td>20.0</td>\n    </tr>\n    <tr>\n      <th>4</th>\n      <td>Apartamento</td>\n      <td>Higienópolis</td>\n      <td>1</td>\n      <td>0</td>\n      <td>0</td>\n      <td>48</td>\n      <td>800.0</td>\n      <td>230.0</td>\n      <td>NaN</td>\n    </tr>\n    <tr>\n      <th>5</th>\n      <td>Apartamento</td>\n      <td>Vista Alegre</td>\n      <td>3</td>\n      <td>1</td>\n      <td>0</td>\n      <td>70</td>\n      <td>1200.0</td>\n      <td>NaN</td>\n      <td>NaN</td>\n    </tr>\n    <tr>\n      <th>6</th>\n      <td>Apartamento</td>\n      <td>Cachambi</td>\n      <td>2</td>\n      <td>0</td>\n      <td>0</td>\n      <td>50</td>\n      <td>1300.0</td>\n      <td>301.0</td>\n      <td>17.0</td>\n    </tr>\n    <tr>\n      <th>7</th>\n      <td>Casa de Condomínio</td>\n      <td>Barra da Tijuca</td>\n      <td>5</td>\n      <td>4</td>\n      <td>5</td>\n      <td>750</td>\n      <td>22000.0</td>\n      <td>NaN</td>\n      <td>NaN</td>\n    </tr>\n    <tr>\n      <th>8</th>\n      <td>Casa de Condomínio</td>\n      <td>Ramos</td>\n      <td>2</td>\n      <td>2</td>\n      <td>0</td>\n      <td>65</td>\n      <td>1000.0</td>\n      <td>NaN</td>\n      <td>NaN</td>\n    </tr>\n    <tr>\n      <th>9</th>\n      <td>Conjunto Comercial/Sala</td>\n      <td>Centro</td>\n      <td>0</td>\n      <td>3</td>\n      <td>0</td>\n      <td>695</td>\n      <td>35000.0</td>\n      <td>19193.0</td>\n      <td>3030.0</td>\n    </tr>\n  </tbody>\n</table>\n</div>"
     },
     "metadata": {},
     "execution_count": 12
    }
   ],
   "source": [
    "dados.head(10)"
   ]
  },
  {
   "cell_type": "code",
   "execution_count": 16,
   "metadata": {},
   "outputs": [
    {
     "output_type": "execute_result",
     "data": {
      "text/plain": "0         True\n1         True\n2        False\n3         True\n4         True\n         ...  \n32955     True\n32956     True\n32957     True\n32958     True\n32959    False\nName: Tipo, Length: 32960, dtype: bool"
     },
     "metadata": {},
     "execution_count": 16
    }
   ],
   "source": [
    "selecao = dados.Tipo.isin(residencial)\n",
    "selecao"
   ]
  },
  {
   "cell_type": "code",
   "execution_count": 18,
   "metadata": {},
   "outputs": [
    {
     "output_type": "execute_result",
     "data": {
      "text/plain": "                  Tipo                    Bairro  Quartos  Vagas  Suites  \\\n0            Quitinete                Copacabana        1      0       0   \n1                 Casa           Jardim Botânico        2      0       1   \n3          Apartamento                    Centro        1      0       0   \n4          Apartamento              Higienópolis        1      0       0   \n5          Apartamento              Vista Alegre        3      1       0   \n6          Apartamento                  Cachambi        2      0       0   \n7   Casa de Condomínio           Barra da Tijuca        5      4       5   \n8   Casa de Condomínio                     Ramos        2      2       0   \n10         Apartamento                    Centro        1      0       0   \n11         Apartamento                    Grajaú        2      1       0   \n12         Apartamento       Lins de Vasconcelos        3      1       1   \n13         Apartamento                Copacabana        1      0       1   \n14           Quitinete                Copacabana        1      0       0   \n15         Apartamento                Copacabana        4      3       1   \n18  Casa de Condomínio                   Taquara        3      1       1   \n19         Apartamento   Freguesia (Jacarepaguá)        3      0       0   \n20         Apartamento           Barra da Tijuca        2      1       1   \n21         Apartamento                    Tijuca        2      1       0   \n22  Casa de Condomínio           Barra da Tijuca        4      3       2   \n23         Apartamento                    Olaria        3      1       0   \n24         Apartamento                    Tijuca        2      1       0   \n27         Apartamento                   Ipanema        3      1       1   \n28         Apartamento                    Tijuca        1      0       0   \n30         Apartamento           Barra da Tijuca        3      3       1   \n31                Casa              Campo Grande        4      1       2   \n32         Apartamento                  Botafogo        2      1       0   \n33         Apartamento                Copacabana        3      1       2   \n34         Apartamento                Copacabana        3      0       0   \n36         Apartamento  Recreio dos Bandeirantes        3      1       1   \n37         Apartamento                    Leblon        3      1       0   \n\n    Area    Valor  Condominio   IPTU  \n0     40   1700.0       500.0   60.0  \n1    100   7000.0         NaN    NaN  \n3     15    800.0       390.0   20.0  \n4     48    800.0       230.0    NaN  \n5     70   1200.0         NaN    NaN  \n6     50   1300.0       301.0   17.0  \n7    750  22000.0         NaN    NaN  \n8     65   1000.0         NaN    NaN  \n10    36   1200.0         NaN    NaN  \n11    70   1500.0       642.0   74.0  \n12    90   1500.0       455.0   14.0  \n13    40   2000.0       561.0   50.0  \n14    27   1800.0       501.0    NaN  \n15   243  13000.0      2000.0  803.0  \n18   115   2000.0         NaN    NaN  \n19    54    950.0       300.0   28.0  \n20    67   1700.0       589.0  147.0  \n21   110   1900.0       700.0  138.0  \n22   466   7500.0      2695.0    NaN  \n23    68   1000.0       670.0    NaN  \n24    78   2000.0       700.0    NaN  \n27   125   7000.0      2100.0  463.0  \n28    48    750.0       772.0   25.0  \n30   175   4200.0      1500.0  500.0  \n31   400  12000.0         NaN    NaN  \n32    76   2500.0       740.0    NaN  \n33   378  10000.0      2150.0  700.0  \n34   180   5500.0      1780.0  420.0  \n36   105   2300.0       648.0    NaN  \n37   110   3900.0      1500.0  120.0  ",
      "text/html": "<div>\n<style scoped>\n    .dataframe tbody tr th:only-of-type {\n        vertical-align: middle;\n    }\n\n    .dataframe tbody tr th {\n        vertical-align: top;\n    }\n\n    .dataframe thead th {\n        text-align: right;\n    }\n</style>\n<table border=\"1\" class=\"dataframe\">\n  <thead>\n    <tr style=\"text-align: right;\">\n      <th></th>\n      <th>Tipo</th>\n      <th>Bairro</th>\n      <th>Quartos</th>\n      <th>Vagas</th>\n      <th>Suites</th>\n      <th>Area</th>\n      <th>Valor</th>\n      <th>Condominio</th>\n      <th>IPTU</th>\n    </tr>\n  </thead>\n  <tbody>\n    <tr>\n      <th>0</th>\n      <td>Quitinete</td>\n      <td>Copacabana</td>\n      <td>1</td>\n      <td>0</td>\n      <td>0</td>\n      <td>40</td>\n      <td>1700.0</td>\n      <td>500.0</td>\n      <td>60.0</td>\n    </tr>\n    <tr>\n      <th>1</th>\n      <td>Casa</td>\n      <td>Jardim Botânico</td>\n      <td>2</td>\n      <td>0</td>\n      <td>1</td>\n      <td>100</td>\n      <td>7000.0</td>\n      <td>NaN</td>\n      <td>NaN</td>\n    </tr>\n    <tr>\n      <th>3</th>\n      <td>Apartamento</td>\n      <td>Centro</td>\n      <td>1</td>\n      <td>0</td>\n      <td>0</td>\n      <td>15</td>\n      <td>800.0</td>\n      <td>390.0</td>\n      <td>20.0</td>\n    </tr>\n    <tr>\n      <th>4</th>\n      <td>Apartamento</td>\n      <td>Higienópolis</td>\n      <td>1</td>\n      <td>0</td>\n      <td>0</td>\n      <td>48</td>\n      <td>800.0</td>\n      <td>230.0</td>\n      <td>NaN</td>\n    </tr>\n    <tr>\n      <th>5</th>\n      <td>Apartamento</td>\n      <td>Vista Alegre</td>\n      <td>3</td>\n      <td>1</td>\n      <td>0</td>\n      <td>70</td>\n      <td>1200.0</td>\n      <td>NaN</td>\n      <td>NaN</td>\n    </tr>\n    <tr>\n      <th>6</th>\n      <td>Apartamento</td>\n      <td>Cachambi</td>\n      <td>2</td>\n      <td>0</td>\n      <td>0</td>\n      <td>50</td>\n      <td>1300.0</td>\n      <td>301.0</td>\n      <td>17.0</td>\n    </tr>\n    <tr>\n      <th>7</th>\n      <td>Casa de Condomínio</td>\n      <td>Barra da Tijuca</td>\n      <td>5</td>\n      <td>4</td>\n      <td>5</td>\n      <td>750</td>\n      <td>22000.0</td>\n      <td>NaN</td>\n      <td>NaN</td>\n    </tr>\n    <tr>\n      <th>8</th>\n      <td>Casa de Condomínio</td>\n      <td>Ramos</td>\n      <td>2</td>\n      <td>2</td>\n      <td>0</td>\n      <td>65</td>\n      <td>1000.0</td>\n      <td>NaN</td>\n      <td>NaN</td>\n    </tr>\n    <tr>\n      <th>10</th>\n      <td>Apartamento</td>\n      <td>Centro</td>\n      <td>1</td>\n      <td>0</td>\n      <td>0</td>\n      <td>36</td>\n      <td>1200.0</td>\n      <td>NaN</td>\n      <td>NaN</td>\n    </tr>\n    <tr>\n      <th>11</th>\n      <td>Apartamento</td>\n      <td>Grajaú</td>\n      <td>2</td>\n      <td>1</td>\n      <td>0</td>\n      <td>70</td>\n      <td>1500.0</td>\n      <td>642.0</td>\n      <td>74.0</td>\n    </tr>\n    <tr>\n      <th>12</th>\n      <td>Apartamento</td>\n      <td>Lins de Vasconcelos</td>\n      <td>3</td>\n      <td>1</td>\n      <td>1</td>\n      <td>90</td>\n      <td>1500.0</td>\n      <td>455.0</td>\n      <td>14.0</td>\n    </tr>\n    <tr>\n      <th>13</th>\n      <td>Apartamento</td>\n      <td>Copacabana</td>\n      <td>1</td>\n      <td>0</td>\n      <td>1</td>\n      <td>40</td>\n      <td>2000.0</td>\n      <td>561.0</td>\n      <td>50.0</td>\n    </tr>\n    <tr>\n      <th>14</th>\n      <td>Quitinete</td>\n      <td>Copacabana</td>\n      <td>1</td>\n      <td>0</td>\n      <td>0</td>\n      <td>27</td>\n      <td>1800.0</td>\n      <td>501.0</td>\n      <td>NaN</td>\n    </tr>\n    <tr>\n      <th>15</th>\n      <td>Apartamento</td>\n      <td>Copacabana</td>\n      <td>4</td>\n      <td>3</td>\n      <td>1</td>\n      <td>243</td>\n      <td>13000.0</td>\n      <td>2000.0</td>\n      <td>803.0</td>\n    </tr>\n    <tr>\n      <th>18</th>\n      <td>Casa de Condomínio</td>\n      <td>Taquara</td>\n      <td>3</td>\n      <td>1</td>\n      <td>1</td>\n      <td>115</td>\n      <td>2000.0</td>\n      <td>NaN</td>\n      <td>NaN</td>\n    </tr>\n    <tr>\n      <th>19</th>\n      <td>Apartamento</td>\n      <td>Freguesia (Jacarepaguá)</td>\n      <td>3</td>\n      <td>0</td>\n      <td>0</td>\n      <td>54</td>\n      <td>950.0</td>\n      <td>300.0</td>\n      <td>28.0</td>\n    </tr>\n    <tr>\n      <th>20</th>\n      <td>Apartamento</td>\n      <td>Barra da Tijuca</td>\n      <td>2</td>\n      <td>1</td>\n      <td>1</td>\n      <td>67</td>\n      <td>1700.0</td>\n      <td>589.0</td>\n      <td>147.0</td>\n    </tr>\n    <tr>\n      <th>21</th>\n      <td>Apartamento</td>\n      <td>Tijuca</td>\n      <td>2</td>\n      <td>1</td>\n      <td>0</td>\n      <td>110</td>\n      <td>1900.0</td>\n      <td>700.0</td>\n      <td>138.0</td>\n    </tr>\n    <tr>\n      <th>22</th>\n      <td>Casa de Condomínio</td>\n      <td>Barra da Tijuca</td>\n      <td>4</td>\n      <td>3</td>\n      <td>2</td>\n      <td>466</td>\n      <td>7500.0</td>\n      <td>2695.0</td>\n      <td>NaN</td>\n    </tr>\n    <tr>\n      <th>23</th>\n      <td>Apartamento</td>\n      <td>Olaria</td>\n      <td>3</td>\n      <td>1</td>\n      <td>0</td>\n      <td>68</td>\n      <td>1000.0</td>\n      <td>670.0</td>\n      <td>NaN</td>\n    </tr>\n    <tr>\n      <th>24</th>\n      <td>Apartamento</td>\n      <td>Tijuca</td>\n      <td>2</td>\n      <td>1</td>\n      <td>0</td>\n      <td>78</td>\n      <td>2000.0</td>\n      <td>700.0</td>\n      <td>NaN</td>\n    </tr>\n    <tr>\n      <th>27</th>\n      <td>Apartamento</td>\n      <td>Ipanema</td>\n      <td>3</td>\n      <td>1</td>\n      <td>1</td>\n      <td>125</td>\n      <td>7000.0</td>\n      <td>2100.0</td>\n      <td>463.0</td>\n    </tr>\n    <tr>\n      <th>28</th>\n      <td>Apartamento</td>\n      <td>Tijuca</td>\n      <td>1</td>\n      <td>0</td>\n      <td>0</td>\n      <td>48</td>\n      <td>750.0</td>\n      <td>772.0</td>\n      <td>25.0</td>\n    </tr>\n    <tr>\n      <th>30</th>\n      <td>Apartamento</td>\n      <td>Barra da Tijuca</td>\n      <td>3</td>\n      <td>3</td>\n      <td>1</td>\n      <td>175</td>\n      <td>4200.0</td>\n      <td>1500.0</td>\n      <td>500.0</td>\n    </tr>\n    <tr>\n      <th>31</th>\n      <td>Casa</td>\n      <td>Campo Grande</td>\n      <td>4</td>\n      <td>1</td>\n      <td>2</td>\n      <td>400</td>\n      <td>12000.0</td>\n      <td>NaN</td>\n      <td>NaN</td>\n    </tr>\n    <tr>\n      <th>32</th>\n      <td>Apartamento</td>\n      <td>Botafogo</td>\n      <td>2</td>\n      <td>1</td>\n      <td>0</td>\n      <td>76</td>\n      <td>2500.0</td>\n      <td>740.0</td>\n      <td>NaN</td>\n    </tr>\n    <tr>\n      <th>33</th>\n      <td>Apartamento</td>\n      <td>Copacabana</td>\n      <td>3</td>\n      <td>1</td>\n      <td>2</td>\n      <td>378</td>\n      <td>10000.0</td>\n      <td>2150.0</td>\n      <td>700.0</td>\n    </tr>\n    <tr>\n      <th>34</th>\n      <td>Apartamento</td>\n      <td>Copacabana</td>\n      <td>3</td>\n      <td>0</td>\n      <td>0</td>\n      <td>180</td>\n      <td>5500.0</td>\n      <td>1780.0</td>\n      <td>420.0</td>\n    </tr>\n    <tr>\n      <th>36</th>\n      <td>Apartamento</td>\n      <td>Recreio dos Bandeirantes</td>\n      <td>3</td>\n      <td>1</td>\n      <td>1</td>\n      <td>105</td>\n      <td>2300.0</td>\n      <td>648.0</td>\n      <td>NaN</td>\n    </tr>\n    <tr>\n      <th>37</th>\n      <td>Apartamento</td>\n      <td>Leblon</td>\n      <td>3</td>\n      <td>1</td>\n      <td>0</td>\n      <td>110</td>\n      <td>3900.0</td>\n      <td>1500.0</td>\n      <td>120.0</td>\n    </tr>\n  </tbody>\n</table>\n</div>"
     },
     "metadata": {},
     "execution_count": 18
    }
   ],
   "source": [
    "dados_residencial = dados[selecao]\n",
    "dados_residencial.head(30)"
   ]
  },
  {
   "cell_type": "code",
   "execution_count": 19,
   "metadata": {},
   "outputs": [
    {
     "output_type": "execute_result",
     "data": {
      "text/plain": "['Quitinete', 'Casa', 'Apartamento', 'Casa de Condomínio', 'Casa de Vila']"
     },
     "metadata": {},
     "execution_count": 19
    }
   ],
   "source": [
    "list(dados_residencial.Tipo.drop_duplicates())"
   ]
  },
  {
   "cell_type": "code",
   "execution_count": 21,
   "metadata": {},
   "outputs": [
    {
     "output_type": "execute_result",
     "data": {
      "text/plain": "22580"
     },
     "metadata": {},
     "execution_count": 21
    }
   ],
   "source": [
    "dados_residencial.shape[0]"
   ]
  },
  {
   "cell_type": "code",
   "execution_count": 22,
   "metadata": {},
   "outputs": [
    {
     "output_type": "execute_result",
     "data": {
      "text/plain": "(32960, 9)"
     },
     "metadata": {},
     "execution_count": 22
    }
   ],
   "source": [
    "dados.shape"
   ]
  },
  {
   "cell_type": "code",
   "execution_count": 23,
   "metadata": {},
   "outputs": [],
   "source": [
    "dados_residencial.index = range(dados_residencial.shape[0])"
   ]
  },
  {
   "cell_type": "code",
   "execution_count": 37,
   "metadata": {},
   "outputs": [
    {
     "output_type": "execute_result",
     "data": {
      "text/plain": "                  Tipo                    Bairro  Quartos  Vagas  Suites  \\\n0            Quitinete                Copacabana        1      0       0   \n1                 Casa           Jardim Botânico        2      0       1   \n2          Apartamento                    Centro        1      0       0   \n3          Apartamento              Higienópolis        1      0       0   \n4          Apartamento              Vista Alegre        3      1       0   \n5          Apartamento                  Cachambi        2      0       0   \n6   Casa de Condomínio           Barra da Tijuca        5      4       5   \n7   Casa de Condomínio                     Ramos        2      2       0   \n8          Apartamento                    Centro        1      0       0   \n9          Apartamento                    Grajaú        2      1       0   \n10         Apartamento       Lins de Vasconcelos        3      1       1   \n11         Apartamento                Copacabana        1      0       1   \n12           Quitinete                Copacabana        1      0       0   \n13         Apartamento                Copacabana        4      3       1   \n14  Casa de Condomínio                   Taquara        3      1       1   \n15         Apartamento   Freguesia (Jacarepaguá)        3      0       0   \n16         Apartamento           Barra da Tijuca        2      1       1   \n17         Apartamento                    Tijuca        2      1       0   \n18  Casa de Condomínio           Barra da Tijuca        4      3       2   \n19         Apartamento                    Olaria        3      1       0   \n20         Apartamento                    Tijuca        2      1       0   \n21         Apartamento                   Ipanema        3      1       1   \n22         Apartamento                    Tijuca        1      0       0   \n23         Apartamento           Barra da Tijuca        3      3       1   \n24                Casa              Campo Grande        4      1       2   \n25         Apartamento                  Botafogo        2      1       0   \n26         Apartamento                Copacabana        3      1       2   \n27         Apartamento                Copacabana        3      0       0   \n28         Apartamento  Recreio dos Bandeirantes        3      1       1   \n29         Apartamento                    Leblon        3      1       0   \n30           Quitinete                Copacabana        1      0       0   \n31         Apartamento           Jardim Oceânico        3      3       1   \n32         Apartamento           Barra da Tijuca        3      1       2   \n33         Apartamento                Copacabana        4      1       0   \n34         Apartamento           Barra da Tijuca        3      2       1   \n35         Apartamento  Recreio dos Bandeirantes        2      2       2   \n36         Apartamento  Recreio dos Bandeirantes        3      2       2   \n37         Apartamento           Barra da Tijuca        3      1       1   \n38         Apartamento                   Humaitá        2      2       1   \n39         Apartamento  Recreio dos Bandeirantes        3      1       2   \n40         Apartamento                    Centro        1      0       0   \n41         Apartamento                   Ipanema        1      0       0   \n42         Apartamento                   Ipanema        1      0       0   \n43         Apartamento  Recreio dos Bandeirantes        2      1       2   \n44  Casa de Condomínio           Barra da Tijuca        5     10       5   \n45         Apartamento           Barra da Tijuca        4      3       3   \n46         Apartamento                 Península        4      3       4   \n47         Apartamento                   Ipanema        3      1       0   \n48         Apartamento                     Méier        3      1       0   \n49         Apartamento            Vargem Pequena        3      1       0   \n\n    Area    Valor  Condominio    IPTU  \n0     40   1700.0       500.0    60.0  \n1    100   7000.0         NaN     NaN  \n2     15    800.0       390.0    20.0  \n3     48    800.0       230.0     NaN  \n4     70   1200.0         NaN     NaN  \n5     50   1300.0       301.0    17.0  \n6    750  22000.0         NaN     NaN  \n7     65   1000.0         NaN     NaN  \n8     36   1200.0         NaN     NaN  \n9     70   1500.0       642.0    74.0  \n10    90   1500.0       455.0    14.0  \n11    40   2000.0       561.0    50.0  \n12    27   1800.0       501.0     NaN  \n13   243  13000.0      2000.0   803.0  \n14   115   2000.0         NaN     NaN  \n15    54    950.0       300.0    28.0  \n16    67   1700.0       589.0   147.0  \n17   110   1900.0       700.0   138.0  \n18   466   7500.0      2695.0     NaN  \n19    68   1000.0       670.0     NaN  \n20    78   2000.0       700.0     NaN  \n21   125   7000.0      2100.0   463.0  \n22    48    750.0       772.0    25.0  \n23   175   4200.0      1500.0   500.0  \n24   400  12000.0         NaN     NaN  \n25    76   2500.0       740.0     NaN  \n26   378  10000.0      2150.0   700.0  \n27   180   5500.0      1780.0   420.0  \n28   105   2300.0       648.0     NaN  \n29   110   3900.0      1500.0   120.0  \n30    27   1300.0       380.0    53.0  \n31   200   3500.0      1780.0   496.0  \n32    70   1800.0      1095.0   140.0  \n33   244   5000.0      2500.0  4100.0  \n34   110   4500.0      2000.0   450.0  \n35    90   3000.0      1340.0     NaN  \n36   100   2600.0       380.0     NaN  \n37    72   2350.0       600.0    70.0  \n38   180   4000.0      2500.0   300.0  \n39    92   2300.0       840.0   200.0  \n40    27    750.0       371.0    19.0  \n41    35   2000.0       650.0    75.0  \n42    38   1400.0       530.0    77.0  \n43    83   1600.0      1160.0   157.0  \n44  1600  25000.0      1600.0     NaN  \n45   153   6500.0      2300.0   434.0  \n46   267  18000.0      3100.0   400.0  \n47    87   3200.0      1305.0   217.0  \n48    90   1550.0       844.0    80.0  \n49    53   1400.0       385.0    28.0  ",
      "text/html": "<div>\n<style scoped>\n    .dataframe tbody tr th:only-of-type {\n        vertical-align: middle;\n    }\n\n    .dataframe tbody tr th {\n        vertical-align: top;\n    }\n\n    .dataframe thead th {\n        text-align: right;\n    }\n</style>\n<table border=\"1\" class=\"dataframe\">\n  <thead>\n    <tr style=\"text-align: right;\">\n      <th></th>\n      <th>Tipo</th>\n      <th>Bairro</th>\n      <th>Quartos</th>\n      <th>Vagas</th>\n      <th>Suites</th>\n      <th>Area</th>\n      <th>Valor</th>\n      <th>Condominio</th>\n      <th>IPTU</th>\n    </tr>\n  </thead>\n  <tbody>\n    <tr>\n      <th>0</th>\n      <td>Quitinete</td>\n      <td>Copacabana</td>\n      <td>1</td>\n      <td>0</td>\n      <td>0</td>\n      <td>40</td>\n      <td>1700.0</td>\n      <td>500.0</td>\n      <td>60.0</td>\n    </tr>\n    <tr>\n      <th>1</th>\n      <td>Casa</td>\n      <td>Jardim Botânico</td>\n      <td>2</td>\n      <td>0</td>\n      <td>1</td>\n      <td>100</td>\n      <td>7000.0</td>\n      <td>NaN</td>\n      <td>NaN</td>\n    </tr>\n    <tr>\n      <th>2</th>\n      <td>Apartamento</td>\n      <td>Centro</td>\n      <td>1</td>\n      <td>0</td>\n      <td>0</td>\n      <td>15</td>\n      <td>800.0</td>\n      <td>390.0</td>\n      <td>20.0</td>\n    </tr>\n    <tr>\n      <th>3</th>\n      <td>Apartamento</td>\n      <td>Higienópolis</td>\n      <td>1</td>\n      <td>0</td>\n      <td>0</td>\n      <td>48</td>\n      <td>800.0</td>\n      <td>230.0</td>\n      <td>NaN</td>\n    </tr>\n    <tr>\n      <th>4</th>\n      <td>Apartamento</td>\n      <td>Vista Alegre</td>\n      <td>3</td>\n      <td>1</td>\n      <td>0</td>\n      <td>70</td>\n      <td>1200.0</td>\n      <td>NaN</td>\n      <td>NaN</td>\n    </tr>\n    <tr>\n      <th>5</th>\n      <td>Apartamento</td>\n      <td>Cachambi</td>\n      <td>2</td>\n      <td>0</td>\n      <td>0</td>\n      <td>50</td>\n      <td>1300.0</td>\n      <td>301.0</td>\n      <td>17.0</td>\n    </tr>\n    <tr>\n      <th>6</th>\n      <td>Casa de Condomínio</td>\n      <td>Barra da Tijuca</td>\n      <td>5</td>\n      <td>4</td>\n      <td>5</td>\n      <td>750</td>\n      <td>22000.0</td>\n      <td>NaN</td>\n      <td>NaN</td>\n    </tr>\n    <tr>\n      <th>7</th>\n      <td>Casa de Condomínio</td>\n      <td>Ramos</td>\n      <td>2</td>\n      <td>2</td>\n      <td>0</td>\n      <td>65</td>\n      <td>1000.0</td>\n      <td>NaN</td>\n      <td>NaN</td>\n    </tr>\n    <tr>\n      <th>8</th>\n      <td>Apartamento</td>\n      <td>Centro</td>\n      <td>1</td>\n      <td>0</td>\n      <td>0</td>\n      <td>36</td>\n      <td>1200.0</td>\n      <td>NaN</td>\n      <td>NaN</td>\n    </tr>\n    <tr>\n      <th>9</th>\n      <td>Apartamento</td>\n      <td>Grajaú</td>\n      <td>2</td>\n      <td>1</td>\n      <td>0</td>\n      <td>70</td>\n      <td>1500.0</td>\n      <td>642.0</td>\n      <td>74.0</td>\n    </tr>\n    <tr>\n      <th>10</th>\n      <td>Apartamento</td>\n      <td>Lins de Vasconcelos</td>\n      <td>3</td>\n      <td>1</td>\n      <td>1</td>\n      <td>90</td>\n      <td>1500.0</td>\n      <td>455.0</td>\n      <td>14.0</td>\n    </tr>\n    <tr>\n      <th>11</th>\n      <td>Apartamento</td>\n      <td>Copacabana</td>\n      <td>1</td>\n      <td>0</td>\n      <td>1</td>\n      <td>40</td>\n      <td>2000.0</td>\n      <td>561.0</td>\n      <td>50.0</td>\n    </tr>\n    <tr>\n      <th>12</th>\n      <td>Quitinete</td>\n      <td>Copacabana</td>\n      <td>1</td>\n      <td>0</td>\n      <td>0</td>\n      <td>27</td>\n      <td>1800.0</td>\n      <td>501.0</td>\n      <td>NaN</td>\n    </tr>\n    <tr>\n      <th>13</th>\n      <td>Apartamento</td>\n      <td>Copacabana</td>\n      <td>4</td>\n      <td>3</td>\n      <td>1</td>\n      <td>243</td>\n      <td>13000.0</td>\n      <td>2000.0</td>\n      <td>803.0</td>\n    </tr>\n    <tr>\n      <th>14</th>\n      <td>Casa de Condomínio</td>\n      <td>Taquara</td>\n      <td>3</td>\n      <td>1</td>\n      <td>1</td>\n      <td>115</td>\n      <td>2000.0</td>\n      <td>NaN</td>\n      <td>NaN</td>\n    </tr>\n    <tr>\n      <th>15</th>\n      <td>Apartamento</td>\n      <td>Freguesia (Jacarepaguá)</td>\n      <td>3</td>\n      <td>0</td>\n      <td>0</td>\n      <td>54</td>\n      <td>950.0</td>\n      <td>300.0</td>\n      <td>28.0</td>\n    </tr>\n    <tr>\n      <th>16</th>\n      <td>Apartamento</td>\n      <td>Barra da Tijuca</td>\n      <td>2</td>\n      <td>1</td>\n      <td>1</td>\n      <td>67</td>\n      <td>1700.0</td>\n      <td>589.0</td>\n      <td>147.0</td>\n    </tr>\n    <tr>\n      <th>17</th>\n      <td>Apartamento</td>\n      <td>Tijuca</td>\n      <td>2</td>\n      <td>1</td>\n      <td>0</td>\n      <td>110</td>\n      <td>1900.0</td>\n      <td>700.0</td>\n      <td>138.0</td>\n    </tr>\n    <tr>\n      <th>18</th>\n      <td>Casa de Condomínio</td>\n      <td>Barra da Tijuca</td>\n      <td>4</td>\n      <td>3</td>\n      <td>2</td>\n      <td>466</td>\n      <td>7500.0</td>\n      <td>2695.0</td>\n      <td>NaN</td>\n    </tr>\n    <tr>\n      <th>19</th>\n      <td>Apartamento</td>\n      <td>Olaria</td>\n      <td>3</td>\n      <td>1</td>\n      <td>0</td>\n      <td>68</td>\n      <td>1000.0</td>\n      <td>670.0</td>\n      <td>NaN</td>\n    </tr>\n    <tr>\n      <th>20</th>\n      <td>Apartamento</td>\n      <td>Tijuca</td>\n      <td>2</td>\n      <td>1</td>\n      <td>0</td>\n      <td>78</td>\n      <td>2000.0</td>\n      <td>700.0</td>\n      <td>NaN</td>\n    </tr>\n    <tr>\n      <th>21</th>\n      <td>Apartamento</td>\n      <td>Ipanema</td>\n      <td>3</td>\n      <td>1</td>\n      <td>1</td>\n      <td>125</td>\n      <td>7000.0</td>\n      <td>2100.0</td>\n      <td>463.0</td>\n    </tr>\n    <tr>\n      <th>22</th>\n      <td>Apartamento</td>\n      <td>Tijuca</td>\n      <td>1</td>\n      <td>0</td>\n      <td>0</td>\n      <td>48</td>\n      <td>750.0</td>\n      <td>772.0</td>\n      <td>25.0</td>\n    </tr>\n    <tr>\n      <th>23</th>\n      <td>Apartamento</td>\n      <td>Barra da Tijuca</td>\n      <td>3</td>\n      <td>3</td>\n      <td>1</td>\n      <td>175</td>\n      <td>4200.0</td>\n      <td>1500.0</td>\n      <td>500.0</td>\n    </tr>\n    <tr>\n      <th>24</th>\n      <td>Casa</td>\n      <td>Campo Grande</td>\n      <td>4</td>\n      <td>1</td>\n      <td>2</td>\n      <td>400</td>\n      <td>12000.0</td>\n      <td>NaN</td>\n      <td>NaN</td>\n    </tr>\n    <tr>\n      <th>25</th>\n      <td>Apartamento</td>\n      <td>Botafogo</td>\n      <td>2</td>\n      <td>1</td>\n      <td>0</td>\n      <td>76</td>\n      <td>2500.0</td>\n      <td>740.0</td>\n      <td>NaN</td>\n    </tr>\n    <tr>\n      <th>26</th>\n      <td>Apartamento</td>\n      <td>Copacabana</td>\n      <td>3</td>\n      <td>1</td>\n      <td>2</td>\n      <td>378</td>\n      <td>10000.0</td>\n      <td>2150.0</td>\n      <td>700.0</td>\n    </tr>\n    <tr>\n      <th>27</th>\n      <td>Apartamento</td>\n      <td>Copacabana</td>\n      <td>3</td>\n      <td>0</td>\n      <td>0</td>\n      <td>180</td>\n      <td>5500.0</td>\n      <td>1780.0</td>\n      <td>420.0</td>\n    </tr>\n    <tr>\n      <th>28</th>\n      <td>Apartamento</td>\n      <td>Recreio dos Bandeirantes</td>\n      <td>3</td>\n      <td>1</td>\n      <td>1</td>\n      <td>105</td>\n      <td>2300.0</td>\n      <td>648.0</td>\n      <td>NaN</td>\n    </tr>\n    <tr>\n      <th>29</th>\n      <td>Apartamento</td>\n      <td>Leblon</td>\n      <td>3</td>\n      <td>1</td>\n      <td>0</td>\n      <td>110</td>\n      <td>3900.0</td>\n      <td>1500.0</td>\n      <td>120.0</td>\n    </tr>\n    <tr>\n      <th>30</th>\n      <td>Quitinete</td>\n      <td>Copacabana</td>\n      <td>1</td>\n      <td>0</td>\n      <td>0</td>\n      <td>27</td>\n      <td>1300.0</td>\n      <td>380.0</td>\n      <td>53.0</td>\n    </tr>\n    <tr>\n      <th>31</th>\n      <td>Apartamento</td>\n      <td>Jardim Oceânico</td>\n      <td>3</td>\n      <td>3</td>\n      <td>1</td>\n      <td>200</td>\n      <td>3500.0</td>\n      <td>1780.0</td>\n      <td>496.0</td>\n    </tr>\n    <tr>\n      <th>32</th>\n      <td>Apartamento</td>\n      <td>Barra da Tijuca</td>\n      <td>3</td>\n      <td>1</td>\n      <td>2</td>\n      <td>70</td>\n      <td>1800.0</td>\n      <td>1095.0</td>\n      <td>140.0</td>\n    </tr>\n    <tr>\n      <th>33</th>\n      <td>Apartamento</td>\n      <td>Copacabana</td>\n      <td>4</td>\n      <td>1</td>\n      <td>0</td>\n      <td>244</td>\n      <td>5000.0</td>\n      <td>2500.0</td>\n      <td>4100.0</td>\n    </tr>\n    <tr>\n      <th>34</th>\n      <td>Apartamento</td>\n      <td>Barra da Tijuca</td>\n      <td>3</td>\n      <td>2</td>\n      <td>1</td>\n      <td>110</td>\n      <td>4500.0</td>\n      <td>2000.0</td>\n      <td>450.0</td>\n    </tr>\n    <tr>\n      <th>35</th>\n      <td>Apartamento</td>\n      <td>Recreio dos Bandeirantes</td>\n      <td>2</td>\n      <td>2</td>\n      <td>2</td>\n      <td>90</td>\n      <td>3000.0</td>\n      <td>1340.0</td>\n      <td>NaN</td>\n    </tr>\n    <tr>\n      <th>36</th>\n      <td>Apartamento</td>\n      <td>Recreio dos Bandeirantes</td>\n      <td>3</td>\n      <td>2</td>\n      <td>2</td>\n      <td>100</td>\n      <td>2600.0</td>\n      <td>380.0</td>\n      <td>NaN</td>\n    </tr>\n    <tr>\n      <th>37</th>\n      <td>Apartamento</td>\n      <td>Barra da Tijuca</td>\n      <td>3</td>\n      <td>1</td>\n      <td>1</td>\n      <td>72</td>\n      <td>2350.0</td>\n      <td>600.0</td>\n      <td>70.0</td>\n    </tr>\n    <tr>\n      <th>38</th>\n      <td>Apartamento</td>\n      <td>Humaitá</td>\n      <td>2</td>\n      <td>2</td>\n      <td>1</td>\n      <td>180</td>\n      <td>4000.0</td>\n      <td>2500.0</td>\n      <td>300.0</td>\n    </tr>\n    <tr>\n      <th>39</th>\n      <td>Apartamento</td>\n      <td>Recreio dos Bandeirantes</td>\n      <td>3</td>\n      <td>1</td>\n      <td>2</td>\n      <td>92</td>\n      <td>2300.0</td>\n      <td>840.0</td>\n      <td>200.0</td>\n    </tr>\n    <tr>\n      <th>40</th>\n      <td>Apartamento</td>\n      <td>Centro</td>\n      <td>1</td>\n      <td>0</td>\n      <td>0</td>\n      <td>27</td>\n      <td>750.0</td>\n      <td>371.0</td>\n      <td>19.0</td>\n    </tr>\n    <tr>\n      <th>41</th>\n      <td>Apartamento</td>\n      <td>Ipanema</td>\n      <td>1</td>\n      <td>0</td>\n      <td>0</td>\n      <td>35</td>\n      <td>2000.0</td>\n      <td>650.0</td>\n      <td>75.0</td>\n    </tr>\n    <tr>\n      <th>42</th>\n      <td>Apartamento</td>\n      <td>Ipanema</td>\n      <td>1</td>\n      <td>0</td>\n      <td>0</td>\n      <td>38</td>\n      <td>1400.0</td>\n      <td>530.0</td>\n      <td>77.0</td>\n    </tr>\n    <tr>\n      <th>43</th>\n      <td>Apartamento</td>\n      <td>Recreio dos Bandeirantes</td>\n      <td>2</td>\n      <td>1</td>\n      <td>2</td>\n      <td>83</td>\n      <td>1600.0</td>\n      <td>1160.0</td>\n      <td>157.0</td>\n    </tr>\n    <tr>\n      <th>44</th>\n      <td>Casa de Condomínio</td>\n      <td>Barra da Tijuca</td>\n      <td>5</td>\n      <td>10</td>\n      <td>5</td>\n      <td>1600</td>\n      <td>25000.0</td>\n      <td>1600.0</td>\n      <td>NaN</td>\n    </tr>\n    <tr>\n      <th>45</th>\n      <td>Apartamento</td>\n      <td>Barra da Tijuca</td>\n      <td>4</td>\n      <td>3</td>\n      <td>3</td>\n      <td>153</td>\n      <td>6500.0</td>\n      <td>2300.0</td>\n      <td>434.0</td>\n    </tr>\n    <tr>\n      <th>46</th>\n      <td>Apartamento</td>\n      <td>Península</td>\n      <td>4</td>\n      <td>3</td>\n      <td>4</td>\n      <td>267</td>\n      <td>18000.0</td>\n      <td>3100.0</td>\n      <td>400.0</td>\n    </tr>\n    <tr>\n      <th>47</th>\n      <td>Apartamento</td>\n      <td>Ipanema</td>\n      <td>3</td>\n      <td>1</td>\n      <td>0</td>\n      <td>87</td>\n      <td>3200.0</td>\n      <td>1305.0</td>\n      <td>217.0</td>\n    </tr>\n    <tr>\n      <th>48</th>\n      <td>Apartamento</td>\n      <td>Méier</td>\n      <td>3</td>\n      <td>1</td>\n      <td>0</td>\n      <td>90</td>\n      <td>1550.0</td>\n      <td>844.0</td>\n      <td>80.0</td>\n    </tr>\n    <tr>\n      <th>49</th>\n      <td>Apartamento</td>\n      <td>Vargem Pequena</td>\n      <td>3</td>\n      <td>1</td>\n      <td>0</td>\n      <td>53</td>\n      <td>1400.0</td>\n      <td>385.0</td>\n      <td>28.0</td>\n    </tr>\n  </tbody>\n</table>\n</div>"
     },
     "metadata": {},
     "execution_count": 37
    }
   ],
   "source": [
    "dados_residencial.head(50)"
   ]
  },
  {
   "cell_type": "code",
   "execution_count": 25,
   "metadata": {},
   "outputs": [],
   "source": [
    "\n",
    "\n",
    "import pandas as pd"
   ]
  },
  {
   "cell_type": "code",
   "execution_count": 26,
   "metadata": {},
   "outputs": [],
   "source": [
    "numeros = [i for i in range(11)]"
   ]
  },
  {
   "cell_type": "code",
   "execution_count": 27,
   "metadata": {},
   "outputs": [],
   "source": [
    "letras = [chr(i+65) for i in range(11)]"
   ]
  },
  {
   "cell_type": "code",
   "execution_count": 28,
   "metadata": {},
   "outputs": [],
   "source": [
    "nome_coluna = ['N']"
   ]
  },
  {
   "cell_type": "code",
   "execution_count": 29,
   "metadata": {},
   "outputs": [
    {
     "output_type": "execute_result",
     "data": {
      "text/plain": "[0, 1, 2, 3, 4, 5, 6, 7, 8, 9, 10]"
     },
     "metadata": {},
     "execution_count": 29
    }
   ],
   "source": [
    "numeros"
   ]
  },
  {
   "cell_type": "code",
   "execution_count": 30,
   "metadata": {},
   "outputs": [
    {
     "output_type": "execute_result",
     "data": {
      "text/plain": "['A', 'B', 'C', 'D', 'E', 'F', 'G', 'H', 'I', 'J', 'K']"
     },
     "metadata": {},
     "execution_count": 30
    }
   ],
   "source": [
    "letras"
   ]
  },
  {
   "cell_type": "code",
   "execution_count": 31,
   "metadata": {},
   "outputs": [
    {
     "output_type": "execute_result",
     "data": {
      "text/plain": "['N']"
     },
     "metadata": {},
     "execution_count": 31
    }
   ],
   "source": [
    "nome_coluna"
   ]
  },
  {
   "cell_type": "code",
   "execution_count": 32,
   "metadata": {},
   "outputs": [],
   "source": [
    "df = pd.DataFrame(data=numeros,index=letras,columns=nome_coluna)"
   ]
  },
  {
   "cell_type": "code",
   "execution_count": 33,
   "metadata": {},
   "outputs": [
    {
     "output_type": "execute_result",
     "data": {
      "text/plain": "    N\nA   0\nB   1\nC   2\nD   3\nE   4\nF   5\nG   6\nH   7\nI   8\nJ   9\nK  10",
      "text/html": "<div>\n<style scoped>\n    .dataframe tbody tr th:only-of-type {\n        vertical-align: middle;\n    }\n\n    .dataframe tbody tr th {\n        vertical-align: top;\n    }\n\n    .dataframe thead th {\n        text-align: right;\n    }\n</style>\n<table border=\"1\" class=\"dataframe\">\n  <thead>\n    <tr style=\"text-align: right;\">\n      <th></th>\n      <th>N</th>\n    </tr>\n  </thead>\n  <tbody>\n    <tr>\n      <th>A</th>\n      <td>0</td>\n    </tr>\n    <tr>\n      <th>B</th>\n      <td>1</td>\n    </tr>\n    <tr>\n      <th>C</th>\n      <td>2</td>\n    </tr>\n    <tr>\n      <th>D</th>\n      <td>3</td>\n    </tr>\n    <tr>\n      <th>E</th>\n      <td>4</td>\n    </tr>\n    <tr>\n      <th>F</th>\n      <td>5</td>\n    </tr>\n    <tr>\n      <th>G</th>\n      <td>6</td>\n    </tr>\n    <tr>\n      <th>H</th>\n      <td>7</td>\n    </tr>\n    <tr>\n      <th>I</th>\n      <td>8</td>\n    </tr>\n    <tr>\n      <th>J</th>\n      <td>9</td>\n    </tr>\n    <tr>\n      <th>K</th>\n      <td>10</td>\n    </tr>\n  </tbody>\n</table>\n</div>"
     },
     "metadata": {},
     "execution_count": 33
    }
   ],
   "source": [
    "df"
   ]
  },
  {
   "cell_type": "code",
   "execution_count": 34,
   "metadata": {},
   "outputs": [],
   "source": [
    "selecao = df['N'].isin([i for i in range(11) if i%2==0])"
   ]
  },
  {
   "cell_type": "code",
   "execution_count": 35,
   "metadata": {},
   "outputs": [
    {
     "output_type": "execute_result",
     "data": {
      "text/plain": "A     True\nB    False\nC     True\nD    False\nE     True\nF    False\nG     True\nH    False\nI     True\nJ    False\nK     True\nName: N, dtype: bool"
     },
     "metadata": {},
     "execution_count": 35
    }
   ],
   "source": [
    "selecao"
   ]
  },
  {
   "cell_type": "code",
   "execution_count": 36,
   "metadata": {},
   "outputs": [
    {
     "output_type": "execute_result",
     "data": {
      "text/plain": "    N\nA   0\nC   2\nE   4\nG   6\nI   8\nK  10",
      "text/html": "<div>\n<style scoped>\n    .dataframe tbody tr th:only-of-type {\n        vertical-align: middle;\n    }\n\n    .dataframe tbody tr th {\n        vertical-align: top;\n    }\n\n    .dataframe thead th {\n        text-align: right;\n    }\n</style>\n<table border=\"1\" class=\"dataframe\">\n  <thead>\n    <tr style=\"text-align: right;\">\n      <th></th>\n      <th>N</th>\n    </tr>\n  </thead>\n  <tbody>\n    <tr>\n      <th>A</th>\n      <td>0</td>\n    </tr>\n    <tr>\n      <th>C</th>\n      <td>2</td>\n    </tr>\n    <tr>\n      <th>E</th>\n      <td>4</td>\n    </tr>\n    <tr>\n      <th>G</th>\n      <td>6</td>\n    </tr>\n    <tr>\n      <th>I</th>\n      <td>8</td>\n    </tr>\n    <tr>\n      <th>K</th>\n      <td>10</td>\n    </tr>\n  </tbody>\n</table>\n</div>"
     },
     "metadata": {},
     "execution_count": 36
    }
   ],
   "source": [
    "df[selecao]"
   ]
  },
  {
   "source": [
    "<h2>## Exportando a Base de dados</h2>"
   ],
   "cell_type": "markdown",
   "metadata": {}
  },
  {
   "cell_type": "code",
   "execution_count": 38,
   "metadata": {},
   "outputs": [],
   "source": [
    "dados_residencial.to_csv('aluguel_residencial.csv',sep=';')"
   ]
  },
  {
   "cell_type": "code",
   "execution_count": 40,
   "metadata": {},
   "outputs": [],
   "source": [
    "dados_residencial2 = pd.read_csv('aluguel_residencial.csv',sep=';')"
   ]
  },
  {
   "cell_type": "code",
   "execution_count": 41,
   "metadata": {},
   "outputs": [
    {
     "output_type": "execute_result",
     "data": {
      "text/plain": "       Unnamed: 0         Tipo                Bairro  Quartos  Vagas  Suites  \\\n0               0    Quitinete            Copacabana        1      0       0   \n1               1         Casa       Jardim Botânico        2      0       1   \n2               2  Apartamento                Centro        1      0       0   \n3               3  Apartamento          Higienópolis        1      0       0   \n4               4  Apartamento          Vista Alegre        3      1       0   \n...           ...          ...                   ...      ...    ...     ...   \n22575       22575  Apartamento                 Méier        2      0       0   \n22576       22576    Quitinete                Centro        0      0       0   \n22577       22577  Apartamento           Jacarepaguá        3      1       2   \n22578       22578  Apartamento  São Francisco Xavier        2      1       0   \n22579       22579  Apartamento                Leblon        2      0       0   \n\n       Area   Valor  Condominio  IPTU  \n0        40  1700.0       500.0  60.0  \n1       100  7000.0         NaN   NaN  \n2        15   800.0       390.0  20.0  \n3        48   800.0       230.0   NaN  \n4        70  1200.0         NaN   NaN  \n...     ...     ...         ...   ...  \n22575    70   900.0       490.0  48.0  \n22576    27   800.0       350.0  25.0  \n22577    78  1800.0       800.0  40.0  \n22578    48  1400.0       509.0  37.0  \n22579    70  3000.0       760.0   NaN  \n\n[22580 rows x 10 columns]",
      "text/html": "<div>\n<style scoped>\n    .dataframe tbody tr th:only-of-type {\n        vertical-align: middle;\n    }\n\n    .dataframe tbody tr th {\n        vertical-align: top;\n    }\n\n    .dataframe thead th {\n        text-align: right;\n    }\n</style>\n<table border=\"1\" class=\"dataframe\">\n  <thead>\n    <tr style=\"text-align: right;\">\n      <th></th>\n      <th>Unnamed: 0</th>\n      <th>Tipo</th>\n      <th>Bairro</th>\n      <th>Quartos</th>\n      <th>Vagas</th>\n      <th>Suites</th>\n      <th>Area</th>\n      <th>Valor</th>\n      <th>Condominio</th>\n      <th>IPTU</th>\n    </tr>\n  </thead>\n  <tbody>\n    <tr>\n      <th>0</th>\n      <td>0</td>\n      <td>Quitinete</td>\n      <td>Copacabana</td>\n      <td>1</td>\n      <td>0</td>\n      <td>0</td>\n      <td>40</td>\n      <td>1700.0</td>\n      <td>500.0</td>\n      <td>60.0</td>\n    </tr>\n    <tr>\n      <th>1</th>\n      <td>1</td>\n      <td>Casa</td>\n      <td>Jardim Botânico</td>\n      <td>2</td>\n      <td>0</td>\n      <td>1</td>\n      <td>100</td>\n      <td>7000.0</td>\n      <td>NaN</td>\n      <td>NaN</td>\n    </tr>\n    <tr>\n      <th>2</th>\n      <td>2</td>\n      <td>Apartamento</td>\n      <td>Centro</td>\n      <td>1</td>\n      <td>0</td>\n      <td>0</td>\n      <td>15</td>\n      <td>800.0</td>\n      <td>390.0</td>\n      <td>20.0</td>\n    </tr>\n    <tr>\n      <th>3</th>\n      <td>3</td>\n      <td>Apartamento</td>\n      <td>Higienópolis</td>\n      <td>1</td>\n      <td>0</td>\n      <td>0</td>\n      <td>48</td>\n      <td>800.0</td>\n      <td>230.0</td>\n      <td>NaN</td>\n    </tr>\n    <tr>\n      <th>4</th>\n      <td>4</td>\n      <td>Apartamento</td>\n      <td>Vista Alegre</td>\n      <td>3</td>\n      <td>1</td>\n      <td>0</td>\n      <td>70</td>\n      <td>1200.0</td>\n      <td>NaN</td>\n      <td>NaN</td>\n    </tr>\n    <tr>\n      <th>...</th>\n      <td>...</td>\n      <td>...</td>\n      <td>...</td>\n      <td>...</td>\n      <td>...</td>\n      <td>...</td>\n      <td>...</td>\n      <td>...</td>\n      <td>...</td>\n      <td>...</td>\n    </tr>\n    <tr>\n      <th>22575</th>\n      <td>22575</td>\n      <td>Apartamento</td>\n      <td>Méier</td>\n      <td>2</td>\n      <td>0</td>\n      <td>0</td>\n      <td>70</td>\n      <td>900.0</td>\n      <td>490.0</td>\n      <td>48.0</td>\n    </tr>\n    <tr>\n      <th>22576</th>\n      <td>22576</td>\n      <td>Quitinete</td>\n      <td>Centro</td>\n      <td>0</td>\n      <td>0</td>\n      <td>0</td>\n      <td>27</td>\n      <td>800.0</td>\n      <td>350.0</td>\n      <td>25.0</td>\n    </tr>\n    <tr>\n      <th>22577</th>\n      <td>22577</td>\n      <td>Apartamento</td>\n      <td>Jacarepaguá</td>\n      <td>3</td>\n      <td>1</td>\n      <td>2</td>\n      <td>78</td>\n      <td>1800.0</td>\n      <td>800.0</td>\n      <td>40.0</td>\n    </tr>\n    <tr>\n      <th>22578</th>\n      <td>22578</td>\n      <td>Apartamento</td>\n      <td>São Francisco Xavier</td>\n      <td>2</td>\n      <td>1</td>\n      <td>0</td>\n      <td>48</td>\n      <td>1400.0</td>\n      <td>509.0</td>\n      <td>37.0</td>\n    </tr>\n    <tr>\n      <th>22579</th>\n      <td>22579</td>\n      <td>Apartamento</td>\n      <td>Leblon</td>\n      <td>2</td>\n      <td>0</td>\n      <td>0</td>\n      <td>70</td>\n      <td>3000.0</td>\n      <td>760.0</td>\n      <td>NaN</td>\n    </tr>\n  </tbody>\n</table>\n<p>22580 rows × 10 columns</p>\n</div>"
     },
     "metadata": {},
     "execution_count": 41
    }
   ],
   "source": [
    "dados_residencial2"
   ]
  },
  {
   "cell_type": "code",
   "execution_count": 42,
   "metadata": {},
   "outputs": [],
   "source": [
    "dados_residencial.to_csv('aluguel_residencial.csv',sep=';',index=False)"
   ]
  },
  {
   "cell_type": "code",
   "execution_count": 43,
   "metadata": {},
   "outputs": [],
   "source": [
    "dados_residencial2 = pd.read_csv('aluguel_residencial.csv',sep=';')"
   ]
  },
  {
   "cell_type": "code",
   "execution_count": 44,
   "metadata": {},
   "outputs": [
    {
     "output_type": "execute_result",
     "data": {
      "text/plain": "              Tipo                Bairro  Quartos  Vagas  Suites  Area  \\\n0        Quitinete            Copacabana        1      0       0    40   \n1             Casa       Jardim Botânico        2      0       1   100   \n2      Apartamento                Centro        1      0       0    15   \n3      Apartamento          Higienópolis        1      0       0    48   \n4      Apartamento          Vista Alegre        3      1       0    70   \n...            ...                   ...      ...    ...     ...   ...   \n22575  Apartamento                 Méier        2      0       0    70   \n22576    Quitinete                Centro        0      0       0    27   \n22577  Apartamento           Jacarepaguá        3      1       2    78   \n22578  Apartamento  São Francisco Xavier        2      1       0    48   \n22579  Apartamento                Leblon        2      0       0    70   \n\n        Valor  Condominio  IPTU  \n0      1700.0       500.0  60.0  \n1      7000.0         NaN   NaN  \n2       800.0       390.0  20.0  \n3       800.0       230.0   NaN  \n4      1200.0         NaN   NaN  \n...       ...         ...   ...  \n22575   900.0       490.0  48.0  \n22576   800.0       350.0  25.0  \n22577  1800.0       800.0  40.0  \n22578  1400.0       509.0  37.0  \n22579  3000.0       760.0   NaN  \n\n[22580 rows x 9 columns]",
      "text/html": "<div>\n<style scoped>\n    .dataframe tbody tr th:only-of-type {\n        vertical-align: middle;\n    }\n\n    .dataframe tbody tr th {\n        vertical-align: top;\n    }\n\n    .dataframe thead th {\n        text-align: right;\n    }\n</style>\n<table border=\"1\" class=\"dataframe\">\n  <thead>\n    <tr style=\"text-align: right;\">\n      <th></th>\n      <th>Tipo</th>\n      <th>Bairro</th>\n      <th>Quartos</th>\n      <th>Vagas</th>\n      <th>Suites</th>\n      <th>Area</th>\n      <th>Valor</th>\n      <th>Condominio</th>\n      <th>IPTU</th>\n    </tr>\n  </thead>\n  <tbody>\n    <tr>\n      <th>0</th>\n      <td>Quitinete</td>\n      <td>Copacabana</td>\n      <td>1</td>\n      <td>0</td>\n      <td>0</td>\n      <td>40</td>\n      <td>1700.0</td>\n      <td>500.0</td>\n      <td>60.0</td>\n    </tr>\n    <tr>\n      <th>1</th>\n      <td>Casa</td>\n      <td>Jardim Botânico</td>\n      <td>2</td>\n      <td>0</td>\n      <td>1</td>\n      <td>100</td>\n      <td>7000.0</td>\n      <td>NaN</td>\n      <td>NaN</td>\n    </tr>\n    <tr>\n      <th>2</th>\n      <td>Apartamento</td>\n      <td>Centro</td>\n      <td>1</td>\n      <td>0</td>\n      <td>0</td>\n      <td>15</td>\n      <td>800.0</td>\n      <td>390.0</td>\n      <td>20.0</td>\n    </tr>\n    <tr>\n      <th>3</th>\n      <td>Apartamento</td>\n      <td>Higienópolis</td>\n      <td>1</td>\n      <td>0</td>\n      <td>0</td>\n      <td>48</td>\n      <td>800.0</td>\n      <td>230.0</td>\n      <td>NaN</td>\n    </tr>\n    <tr>\n      <th>4</th>\n      <td>Apartamento</td>\n      <td>Vista Alegre</td>\n      <td>3</td>\n      <td>1</td>\n      <td>0</td>\n      <td>70</td>\n      <td>1200.0</td>\n      <td>NaN</td>\n      <td>NaN</td>\n    </tr>\n    <tr>\n      <th>...</th>\n      <td>...</td>\n      <td>...</td>\n      <td>...</td>\n      <td>...</td>\n      <td>...</td>\n      <td>...</td>\n      <td>...</td>\n      <td>...</td>\n      <td>...</td>\n    </tr>\n    <tr>\n      <th>22575</th>\n      <td>Apartamento</td>\n      <td>Méier</td>\n      <td>2</td>\n      <td>0</td>\n      <td>0</td>\n      <td>70</td>\n      <td>900.0</td>\n      <td>490.0</td>\n      <td>48.0</td>\n    </tr>\n    <tr>\n      <th>22576</th>\n      <td>Quitinete</td>\n      <td>Centro</td>\n      <td>0</td>\n      <td>0</td>\n      <td>0</td>\n      <td>27</td>\n      <td>800.0</td>\n      <td>350.0</td>\n      <td>25.0</td>\n    </tr>\n    <tr>\n      <th>22577</th>\n      <td>Apartamento</td>\n      <td>Jacarepaguá</td>\n      <td>3</td>\n      <td>1</td>\n      <td>2</td>\n      <td>78</td>\n      <td>1800.0</td>\n      <td>800.0</td>\n      <td>40.0</td>\n    </tr>\n    <tr>\n      <th>22578</th>\n      <td>Apartamento</td>\n      <td>São Francisco Xavier</td>\n      <td>2</td>\n      <td>1</td>\n      <td>0</td>\n      <td>48</td>\n      <td>1400.0</td>\n      <td>509.0</td>\n      <td>37.0</td>\n    </tr>\n    <tr>\n      <th>22579</th>\n      <td>Apartamento</td>\n      <td>Leblon</td>\n      <td>2</td>\n      <td>0</td>\n      <td>0</td>\n      <td>70</td>\n      <td>3000.0</td>\n      <td>760.0</td>\n      <td>NaN</td>\n    </tr>\n  </tbody>\n</table>\n<p>22580 rows × 9 columns</p>\n</div>"
     },
     "metadata": {},
     "execution_count": 44
    }
   ],
   "source": [
    "dados_residencial2"
   ]
  },
  {
   "cell_type": "code",
   "execution_count": null,
   "metadata": {},
   "outputs": [],
   "source": []
  }
 ]
}