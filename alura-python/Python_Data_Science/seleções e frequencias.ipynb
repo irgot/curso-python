{
 "metadata": {
  "language_info": {
   "codemirror_mode": {
    "name": "ipython",
    "version": 3
   },
   "file_extension": ".py",
   "mimetype": "text/x-python",
   "name": "python",
   "nbconvert_exporter": "python",
   "pygments_lexer": "ipython3",
   "version": "3.8.5-final"
  },
  "orig_nbformat": 2,
  "kernelspec": {
   "name": "python_defaultSpec_1600829029105",
   "display_name": "Python 3.8.5 64-bit ('alura_pandas': conda)"
  }
 },
 "nbformat": 4,
 "nbformat_minor": 2,
 "cells": [
  {
   "source": [
    "<h1>#Relatório de análise IV</h1>\n",
    "<h3>Seleções de Frequências</h3>"
   ],
   "cell_type": "markdown",
   "metadata": {}
  },
  {
   "cell_type": "code",
   "execution_count": 2,
   "metadata": {},
   "outputs": [],
   "source": [
    "import pandas as pd"
   ]
  },
  {
   "cell_type": "code",
   "execution_count": 3,
   "metadata": {},
   "outputs": [
    {
     "output_type": "execute_result",
     "data": {
      "text/plain": "                 Tipo           Bairro  Quartos  Vagas  Suites  Area    Valor  \\\n0           Quitinete       Copacabana        1      0       0    40   1700.0   \n1                Casa  Jardim Botânico        2      0       1   100   7000.0   \n2         Apartamento           Centro        1      0       0    15    800.0   \n3         Apartamento     Higienópolis        1      0       0    48    800.0   \n4         Apartamento     Vista Alegre        3      1       0    70   1200.0   \n5         Apartamento         Cachambi        2      0       0    50   1300.0   \n6  Casa de Condomínio  Barra da Tijuca        5      4       5   750  22000.0   \n7  Casa de Condomínio            Ramos        2      2       0    65   1000.0   \n8         Apartamento           Centro        1      0       0    36   1200.0   \n9         Apartamento           Grajaú        2      1       0    70   1500.0   \n\n   Condominio  IPTU  \n0       500.0  60.0  \n1         NaN   NaN  \n2       390.0  20.0  \n3       230.0   NaN  \n4         NaN   NaN  \n5       301.0  17.0  \n6         NaN   NaN  \n7         NaN   NaN  \n8         NaN   NaN  \n9       642.0  74.0  ",
      "text/html": "<div>\n<style scoped>\n    .dataframe tbody tr th:only-of-type {\n        vertical-align: middle;\n    }\n\n    .dataframe tbody tr th {\n        vertical-align: top;\n    }\n\n    .dataframe thead th {\n        text-align: right;\n    }\n</style>\n<table border=\"1\" class=\"dataframe\">\n  <thead>\n    <tr style=\"text-align: right;\">\n      <th></th>\n      <th>Tipo</th>\n      <th>Bairro</th>\n      <th>Quartos</th>\n      <th>Vagas</th>\n      <th>Suites</th>\n      <th>Area</th>\n      <th>Valor</th>\n      <th>Condominio</th>\n      <th>IPTU</th>\n    </tr>\n  </thead>\n  <tbody>\n    <tr>\n      <th>0</th>\n      <td>Quitinete</td>\n      <td>Copacabana</td>\n      <td>1</td>\n      <td>0</td>\n      <td>0</td>\n      <td>40</td>\n      <td>1700.0</td>\n      <td>500.0</td>\n      <td>60.0</td>\n    </tr>\n    <tr>\n      <th>1</th>\n      <td>Casa</td>\n      <td>Jardim Botânico</td>\n      <td>2</td>\n      <td>0</td>\n      <td>1</td>\n      <td>100</td>\n      <td>7000.0</td>\n      <td>NaN</td>\n      <td>NaN</td>\n    </tr>\n    <tr>\n      <th>2</th>\n      <td>Apartamento</td>\n      <td>Centro</td>\n      <td>1</td>\n      <td>0</td>\n      <td>0</td>\n      <td>15</td>\n      <td>800.0</td>\n      <td>390.0</td>\n      <td>20.0</td>\n    </tr>\n    <tr>\n      <th>3</th>\n      <td>Apartamento</td>\n      <td>Higienópolis</td>\n      <td>1</td>\n      <td>0</td>\n      <td>0</td>\n      <td>48</td>\n      <td>800.0</td>\n      <td>230.0</td>\n      <td>NaN</td>\n    </tr>\n    <tr>\n      <th>4</th>\n      <td>Apartamento</td>\n      <td>Vista Alegre</td>\n      <td>3</td>\n      <td>1</td>\n      <td>0</td>\n      <td>70</td>\n      <td>1200.0</td>\n      <td>NaN</td>\n      <td>NaN</td>\n    </tr>\n    <tr>\n      <th>5</th>\n      <td>Apartamento</td>\n      <td>Cachambi</td>\n      <td>2</td>\n      <td>0</td>\n      <td>0</td>\n      <td>50</td>\n      <td>1300.0</td>\n      <td>301.0</td>\n      <td>17.0</td>\n    </tr>\n    <tr>\n      <th>6</th>\n      <td>Casa de Condomínio</td>\n      <td>Barra da Tijuca</td>\n      <td>5</td>\n      <td>4</td>\n      <td>5</td>\n      <td>750</td>\n      <td>22000.0</td>\n      <td>NaN</td>\n      <td>NaN</td>\n    </tr>\n    <tr>\n      <th>7</th>\n      <td>Casa de Condomínio</td>\n      <td>Ramos</td>\n      <td>2</td>\n      <td>2</td>\n      <td>0</td>\n      <td>65</td>\n      <td>1000.0</td>\n      <td>NaN</td>\n      <td>NaN</td>\n    </tr>\n    <tr>\n      <th>8</th>\n      <td>Apartamento</td>\n      <td>Centro</td>\n      <td>1</td>\n      <td>0</td>\n      <td>0</td>\n      <td>36</td>\n      <td>1200.0</td>\n      <td>NaN</td>\n      <td>NaN</td>\n    </tr>\n    <tr>\n      <th>9</th>\n      <td>Apartamento</td>\n      <td>Grajaú</td>\n      <td>2</td>\n      <td>1</td>\n      <td>0</td>\n      <td>70</td>\n      <td>1500.0</td>\n      <td>642.0</td>\n      <td>74.0</td>\n    </tr>\n  </tbody>\n</table>\n</div>"
     },
     "metadata": {},
     "execution_count": 3
    }
   ],
   "source": [
    "dados = pd.read_csv('aluguel_residencial.csv',sep=';')\n",
    "dados.head(10)\n"
   ]
  },
  {
   "source": [
    "#Selecione somente os imóveis classificados com tipo 'Apartamento'.\n",
    "\n"
   ],
   "cell_type": "markdown",
   "metadata": {}
  },
  {
   "cell_type": "code",
   "execution_count": 4,
   "metadata": {},
   "outputs": [
    {
     "output_type": "execute_result",
     "data": {
      "text/plain": "19532"
     },
     "metadata": {},
     "execution_count": 4
    }
   ],
   "source": [
    "selecao = dados.Tipo=='Apartamento'\n",
    "selecao\n",
    "n1 = dados[selecao].shape[0]\n",
    "n1"
   ]
  },
  {
   "source": [
    "#Selecione os imóveis classificados com tipos 'Casa', 'Casa de Condomínio' e 'Casa de Vila'.\n",
    "\n"
   ],
   "cell_type": "markdown",
   "metadata": {}
  },
  {
   "cell_type": "code",
   "execution_count": 6,
   "metadata": {},
   "outputs": [
    {
     "output_type": "execute_result",
     "data": {
      "text/plain": "2212"
     },
     "metadata": {},
     "execution_count": 6
    }
   ],
   "source": [
    "selecao = (dados.Tipo =='Casa') | (dados.Tipo=='Casa de Condomínio') | (dados.Tipo=='Casa de Vila')\n",
    "selecao\n",
    "n2 = dados[selecao]\n",
    "n2"
   ]
  },
  {
   "source": [
    "#Selecione os imóveis com área entre 60 e 100 metros quadrados, incluindo os limites.\n",
    "\n"
   ],
   "cell_type": "markdown",
   "metadata": {}
  },
  {
   "cell_type": "code",
   "execution_count": 10,
   "metadata": {},
   "outputs": [
    {
     "output_type": "execute_result",
     "data": {
      "text/plain": "8719"
     },
     "metadata": {},
     "execution_count": 10
    }
   ],
   "source": [
    "selecao = (60<=dados['Area']) & (dados['Area']<=100)\n",
    "n3 = dados[selecao].shape[0]\n",
    "n3"
   ]
  },
  {
   "source": [
    "#Selecione os imóveis que tenham pelo menos 4 quartos e aluguel menor que R$ 2.000,00"
   ],
   "cell_type": "markdown",
   "metadata": {}
  },
  {
   "cell_type": "code",
   "execution_count": 13,
   "metadata": {},
   "outputs": [
    {
     "output_type": "execute_result",
     "data": {
      "text/plain": "41"
     },
     "metadata": {},
     "execution_count": 13
    }
   ],
   "source": [
    "selecao = (dados['Quartos']>=4)&(dados['Valor']<2000)\n",
    "n4=dados[selecao].shape[0]\n",
    "n4"
   ]
  },
  {
   "cell_type": "code",
   "execution_count": 16,
   "metadata": {
    "tags": []
   },
   "outputs": [
    {
     "output_type": "stream",
     "name": "stdout",
     "text": "Nº de imóveis classificados com tipo 'Apartamento' ->19532\n\nNº de imóveis classificados com tipos 'Casa', 'Casa de Condomínio' e 'Casa de Vila' ->2212\n\nNº de imóveis com área entre 60 e 100 metros quadrados, incluindo os limites ->8719\n\nNº de imóveis que tenham pelo menos 4 quartos e aluguel menor que R$ 2.000,00 ->41\n"
    }
   ],
   "source": [
    "print(f\"\"\"Nº de imóveis classificados com tipo 'Apartamento' ->{n1}\n",
    "\n",
    "Nº de imóveis classificados com tipos 'Casa', 'Casa de Condomínio' e 'Casa de Vila' ->{n2}\n",
    "\n",
    "Nº de imóveis com área entre 60 e 100 metros quadrados, incluindo os limites ->{n3}\n",
    "\n",
    "Nº de imóveis que tenham pelo menos 4 quartos e aluguel menor que R$ 2.000,00 ->{n4}\"\"\")"
   ]
  },
  {
   "cell_type": "code",
   "execution_count": 3,
   "metadata": {},
   "outputs": [],
   "source": [
    "\n",
    "import pandas as pd\n",
    "alunos = pd.DataFrame({'Nome': ['Ary', 'Cátia', 'Denis', 'Beto', 'Bruna', 'Dara', 'Carlos', 'Alice'], \n",
    "                        'Sexo': ['M', 'F', 'M', 'M', 'F', 'F', 'M', 'F'], \n",
    "                        'Idade': [15, 27, 56, 32, 42, 21, 19, 35], \n",
    "                        'Notas': [7.5, 2.5, 5.0, 10, 8.2, 7, 6, 5.6], \n",
    "                        'Aprovado': [True, False, False, True, True, True, False, False]}, \n",
    "                        columns = ['Nome', 'Idade', 'Sexo', 'Notas', 'Aprovado'])"
   ]
  },
  {
   "cell_type": "code",
   "execution_count": 18,
   "metadata": {},
   "outputs": [
    {
     "output_type": "execute_result",
     "data": {
      "text/plain": "     Nome  Idade Sexo  Notas  Aprovado\n0     Ary     15    M    7.5      True\n1   Cátia     27    F    2.5     False\n2   Denis     56    M    5.0     False\n3    Beto     32    M   10.0      True\n4   Bruna     42    F    8.2      True\n5    Dara     21    F    7.0      True\n6  Carlos     19    M    6.0     False\n7   Alice     35    F    5.6     False",
      "text/html": "<div>\n<style scoped>\n    .dataframe tbody tr th:only-of-type {\n        vertical-align: middle;\n    }\n\n    .dataframe tbody tr th {\n        vertical-align: top;\n    }\n\n    .dataframe thead th {\n        text-align: right;\n    }\n</style>\n<table border=\"1\" class=\"dataframe\">\n  <thead>\n    <tr style=\"text-align: right;\">\n      <th></th>\n      <th>Nome</th>\n      <th>Idade</th>\n      <th>Sexo</th>\n      <th>Notas</th>\n      <th>Aprovado</th>\n    </tr>\n  </thead>\n  <tbody>\n    <tr>\n      <th>0</th>\n      <td>Ary</td>\n      <td>15</td>\n      <td>M</td>\n      <td>7.5</td>\n      <td>True</td>\n    </tr>\n    <tr>\n      <th>1</th>\n      <td>Cátia</td>\n      <td>27</td>\n      <td>F</td>\n      <td>2.5</td>\n      <td>False</td>\n    </tr>\n    <tr>\n      <th>2</th>\n      <td>Denis</td>\n      <td>56</td>\n      <td>M</td>\n      <td>5.0</td>\n      <td>False</td>\n    </tr>\n    <tr>\n      <th>3</th>\n      <td>Beto</td>\n      <td>32</td>\n      <td>M</td>\n      <td>10.0</td>\n      <td>True</td>\n    </tr>\n    <tr>\n      <th>4</th>\n      <td>Bruna</td>\n      <td>42</td>\n      <td>F</td>\n      <td>8.2</td>\n      <td>True</td>\n    </tr>\n    <tr>\n      <th>5</th>\n      <td>Dara</td>\n      <td>21</td>\n      <td>F</td>\n      <td>7.0</td>\n      <td>True</td>\n    </tr>\n    <tr>\n      <th>6</th>\n      <td>Carlos</td>\n      <td>19</td>\n      <td>M</td>\n      <td>6.0</td>\n      <td>False</td>\n    </tr>\n    <tr>\n      <th>7</th>\n      <td>Alice</td>\n      <td>35</td>\n      <td>F</td>\n      <td>5.6</td>\n      <td>False</td>\n    </tr>\n  </tbody>\n</table>\n</div>"
     },
     "metadata": {},
     "execution_count": 18
    }
   ],
   "source": [
    "alunos"
   ]
  },
  {
   "cell_type": "code",
   "execution_count": 24,
   "metadata": {},
   "outputs": [
    {
     "output_type": "execute_result",
     "data": {
      "text/plain": "    Nome  Idade Sexo  Notas  Aprovado\n0    Ary     15    M    7.5      True\n3   Beto     32    M   10.0      True\n4  Bruna     42    F    8.2      True\n5   Dara     21    F    7.0      True",
      "text/html": "<div>\n<style scoped>\n    .dataframe tbody tr th:only-of-type {\n        vertical-align: middle;\n    }\n\n    .dataframe tbody tr th {\n        vertical-align: top;\n    }\n\n    .dataframe thead th {\n        text-align: right;\n    }\n</style>\n<table border=\"1\" class=\"dataframe\">\n  <thead>\n    <tr style=\"text-align: right;\">\n      <th></th>\n      <th>Nome</th>\n      <th>Idade</th>\n      <th>Sexo</th>\n      <th>Notas</th>\n      <th>Aprovado</th>\n    </tr>\n  </thead>\n  <tbody>\n    <tr>\n      <th>0</th>\n      <td>Ary</td>\n      <td>15</td>\n      <td>M</td>\n      <td>7.5</td>\n      <td>True</td>\n    </tr>\n    <tr>\n      <th>3</th>\n      <td>Beto</td>\n      <td>32</td>\n      <td>M</td>\n      <td>10.0</td>\n      <td>True</td>\n    </tr>\n    <tr>\n      <th>4</th>\n      <td>Bruna</td>\n      <td>42</td>\n      <td>F</td>\n      <td>8.2</td>\n      <td>True</td>\n    </tr>\n    <tr>\n      <th>5</th>\n      <td>Dara</td>\n      <td>21</td>\n      <td>F</td>\n      <td>7.0</td>\n      <td>True</td>\n    </tr>\n  </tbody>\n</table>\n</div>"
     },
     "metadata": {},
     "execution_count": 24
    }
   ],
   "source": [
    "selecao = alunos['Aprovado']==True\n",
    "alunos[selecao]"
   ]
  },
  {
   "cell_type": "code",
   "execution_count": 25,
   "metadata": {},
   "outputs": [
    {
     "output_type": "execute_result",
     "data": {
      "text/plain": "    Nome  Idade Sexo  Notas  Aprovado\n4  Bruna     42    F    8.2      True\n5   Dara     21    F    7.0      True",
      "text/html": "<div>\n<style scoped>\n    .dataframe tbody tr th:only-of-type {\n        vertical-align: middle;\n    }\n\n    .dataframe tbody tr th {\n        vertical-align: top;\n    }\n\n    .dataframe thead th {\n        text-align: right;\n    }\n</style>\n<table border=\"1\" class=\"dataframe\">\n  <thead>\n    <tr style=\"text-align: right;\">\n      <th></th>\n      <th>Nome</th>\n      <th>Idade</th>\n      <th>Sexo</th>\n      <th>Notas</th>\n      <th>Aprovado</th>\n    </tr>\n  </thead>\n  <tbody>\n    <tr>\n      <th>4</th>\n      <td>Bruna</td>\n      <td>42</td>\n      <td>F</td>\n      <td>8.2</td>\n      <td>True</td>\n    </tr>\n    <tr>\n      <th>5</th>\n      <td>Dara</td>\n      <td>21</td>\n      <td>F</td>\n      <td>7.0</td>\n      <td>True</td>\n    </tr>\n  </tbody>\n</table>\n</div>"
     },
     "metadata": {},
     "execution_count": 25
    }
   ],
   "source": [
    "selecao = (alunos['Aprovado'])&(alunos['Sexo']=='F')\n",
    "alunos[selecao]"
   ]
  },
  {
   "cell_type": "code",
   "execution_count": 26,
   "metadata": {},
   "outputs": [
    {
     "output_type": "execute_result",
     "data": {
      "text/plain": "     Nome  Idade Sexo  Notas  Aprovado\n0     Ary     15    M    7.5      True\n2   Denis     56    M    5.0     False\n4   Bruna     42    F    8.2      True\n6  Carlos     19    M    6.0     False",
      "text/html": "<div>\n<style scoped>\n    .dataframe tbody tr th:only-of-type {\n        vertical-align: middle;\n    }\n\n    .dataframe tbody tr th {\n        vertical-align: top;\n    }\n\n    .dataframe thead th {\n        text-align: right;\n    }\n</style>\n<table border=\"1\" class=\"dataframe\">\n  <thead>\n    <tr style=\"text-align: right;\">\n      <th></th>\n      <th>Nome</th>\n      <th>Idade</th>\n      <th>Sexo</th>\n      <th>Notas</th>\n      <th>Aprovado</th>\n    </tr>\n  </thead>\n  <tbody>\n    <tr>\n      <th>0</th>\n      <td>Ary</td>\n      <td>15</td>\n      <td>M</td>\n      <td>7.5</td>\n      <td>True</td>\n    </tr>\n    <tr>\n      <th>2</th>\n      <td>Denis</td>\n      <td>56</td>\n      <td>M</td>\n      <td>5.0</td>\n      <td>False</td>\n    </tr>\n    <tr>\n      <th>4</th>\n      <td>Bruna</td>\n      <td>42</td>\n      <td>F</td>\n      <td>8.2</td>\n      <td>True</td>\n    </tr>\n    <tr>\n      <th>6</th>\n      <td>Carlos</td>\n      <td>19</td>\n      <td>M</td>\n      <td>6.0</td>\n      <td>False</td>\n    </tr>\n  </tbody>\n</table>\n</div>"
     },
     "metadata": {},
     "execution_count": 26
    }
   ],
   "source": [
    "selecao = ((alunos.Idade>=10)&(alunos.Idade<=20))|(alunos.Idade>=40)\n",
    "alunos[selecao]"
   ]
  },
  {
   "cell_type": "code",
   "execution_count": 13,
   "metadata": {},
   "outputs": [
    {
     "output_type": "execute_result",
     "data": {
      "text/plain": "     Nome Sexo  Idade\n1   Cátia    F     27\n2   Denis    M     56\n6  Carlos    M     19\n7   Alice    F     35",
      "text/html": "<div>\n<style scoped>\n    .dataframe tbody tr th:only-of-type {\n        vertical-align: middle;\n    }\n\n    .dataframe tbody tr th {\n        vertical-align: top;\n    }\n\n    .dataframe thead th {\n        text-align: right;\n    }\n</style>\n<table border=\"1\" class=\"dataframe\">\n  <thead>\n    <tr style=\"text-align: right;\">\n      <th></th>\n      <th>Nome</th>\n      <th>Sexo</th>\n      <th>Idade</th>\n    </tr>\n  </thead>\n  <tbody>\n    <tr>\n      <th>1</th>\n      <td>Cátia</td>\n      <td>F</td>\n      <td>27</td>\n    </tr>\n    <tr>\n      <th>2</th>\n      <td>Denis</td>\n      <td>M</td>\n      <td>56</td>\n    </tr>\n    <tr>\n      <th>6</th>\n      <td>Carlos</td>\n      <td>M</td>\n      <td>19</td>\n    </tr>\n    <tr>\n      <th>7</th>\n      <td>Alice</td>\n      <td>F</td>\n      <td>35</td>\n    </tr>\n  </tbody>\n</table>\n</div>"
     },
     "metadata": {},
     "execution_count": 13
    }
   ],
   "source": [
    "selecao=  alunos['Aprovado']==False\n",
    "alunos[['Nome','Sexo','Idade']][selecao]\n",
    "alunos.loc[selecao,['Nome','Sexo','Idade']]"
   ]
  },
  {
   "cell_type": "code",
   "execution_count": null,
   "metadata": {},
   "outputs": [],
   "source": []
  }
 ]
}