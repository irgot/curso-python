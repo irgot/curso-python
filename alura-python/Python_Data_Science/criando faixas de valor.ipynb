{
 "metadata": {
  "language_info": {
   "codemirror_mode": {
    "name": "ipython",
    "version": 3
   },
   "file_extension": ".py",
   "mimetype": "text/x-python",
   "name": "python",
   "nbconvert_exporter": "python",
   "pygments_lexer": "ipython3",
   "version": "3.8.5-final"
  },
  "orig_nbformat": 2,
  "kernelspec": {
   "name": "python_defaultSpec_1600863875946",
   "display_name": "Python 3.8.5 64-bit ('igor': conda)"
  }
 },
 "nbformat": 4,
 "nbformat_minor": 2,
 "cells": [
  {
   "cell_type": "code",
   "execution_count": 1,
   "metadata": {},
   "outputs": [],
   "source": [
    "import pandas as pd"
   ]
  },
  {
   "cell_type": "code",
   "execution_count": 2,
   "metadata": {},
   "outputs": [],
   "source": [
    "dados = pd.read_csv('aluguel.csv',sep=';')"
   ]
  },
  {
   "cell_type": "code",
   "execution_count": 3,
   "metadata": {},
   "outputs": [
    {
     "output_type": "execute_result",
     "data": {
      "text/plain": "                       Tipo                   Bairro  Quartos  Vagas  Suites  \\\n0                 Quitinete               Copacabana        1      0       0   \n1                      Casa          Jardim Botânico        2      0       1   \n2   Conjunto Comercial/Sala          Barra da Tijuca        0      4       0   \n3               Apartamento                   Centro        1      0       0   \n4               Apartamento             Higienópolis        1      0       0   \n5               Apartamento             Vista Alegre        3      1       0   \n6               Apartamento                 Cachambi        2      0       0   \n7        Casa de Condomínio          Barra da Tijuca        5      4       5   \n8        Casa de Condomínio                    Ramos        2      2       0   \n9   Conjunto Comercial/Sala                   Centro        0      3       0   \n10              Apartamento                   Centro        1      0       0   \n11              Apartamento                   Grajaú        2      1       0   \n12              Apartamento      Lins de Vasconcelos        3      1       1   \n13              Apartamento               Copacabana        1      0       1   \n14                Quitinete               Copacabana        1      0       0   \n15              Apartamento               Copacabana        4      3       1   \n16           Prédio Inteiro                 Botafogo        0      0       0   \n17                     Flat                 Botafogo        3      1       1   \n18       Casa de Condomínio                  Taquara        3      1       1   \n19              Apartamento  Freguesia (Jacarepaguá)        3      0       0   \n\n    Area    Valor  Condominio    IPTU  \n0     40   1700.0       500.0    60.0  \n1    100   7000.0         NaN     NaN  \n2    150   5200.0      4020.0  1111.0  \n3     15    800.0       390.0    20.0  \n4     48    800.0       230.0     NaN  \n5     70   1200.0         NaN     NaN  \n6     50   1300.0       301.0    17.0  \n7    750  22000.0         NaN     NaN  \n8     65   1000.0         NaN     NaN  \n9    695  35000.0     19193.0  3030.0  \n10    36   1200.0         NaN     NaN  \n11    70   1500.0       642.0    74.0  \n12    90   1500.0       455.0    14.0  \n13    40   2000.0       561.0    50.0  \n14    27   1800.0       501.0     NaN  \n15   243  13000.0      2000.0   803.0  \n16   536  28000.0         NaN  3563.0  \n17    80   3800.0      1040.0     NaN  \n18   115   2000.0         NaN     NaN  \n19    54    950.0       300.0    28.0  ",
      "text/html": "<div>\n<style scoped>\n    .dataframe tbody tr th:only-of-type {\n        vertical-align: middle;\n    }\n\n    .dataframe tbody tr th {\n        vertical-align: top;\n    }\n\n    .dataframe thead th {\n        text-align: right;\n    }\n</style>\n<table border=\"1\" class=\"dataframe\">\n  <thead>\n    <tr style=\"text-align: right;\">\n      <th></th>\n      <th>Tipo</th>\n      <th>Bairro</th>\n      <th>Quartos</th>\n      <th>Vagas</th>\n      <th>Suites</th>\n      <th>Area</th>\n      <th>Valor</th>\n      <th>Condominio</th>\n      <th>IPTU</th>\n    </tr>\n  </thead>\n  <tbody>\n    <tr>\n      <th>0</th>\n      <td>Quitinete</td>\n      <td>Copacabana</td>\n      <td>1</td>\n      <td>0</td>\n      <td>0</td>\n      <td>40</td>\n      <td>1700.0</td>\n      <td>500.0</td>\n      <td>60.0</td>\n    </tr>\n    <tr>\n      <th>1</th>\n      <td>Casa</td>\n      <td>Jardim Botânico</td>\n      <td>2</td>\n      <td>0</td>\n      <td>1</td>\n      <td>100</td>\n      <td>7000.0</td>\n      <td>NaN</td>\n      <td>NaN</td>\n    </tr>\n    <tr>\n      <th>2</th>\n      <td>Conjunto Comercial/Sala</td>\n      <td>Barra da Tijuca</td>\n      <td>0</td>\n      <td>4</td>\n      <td>0</td>\n      <td>150</td>\n      <td>5200.0</td>\n      <td>4020.0</td>\n      <td>1111.0</td>\n    </tr>\n    <tr>\n      <th>3</th>\n      <td>Apartamento</td>\n      <td>Centro</td>\n      <td>1</td>\n      <td>0</td>\n      <td>0</td>\n      <td>15</td>\n      <td>800.0</td>\n      <td>390.0</td>\n      <td>20.0</td>\n    </tr>\n    <tr>\n      <th>4</th>\n      <td>Apartamento</td>\n      <td>Higienópolis</td>\n      <td>1</td>\n      <td>0</td>\n      <td>0</td>\n      <td>48</td>\n      <td>800.0</td>\n      <td>230.0</td>\n      <td>NaN</td>\n    </tr>\n    <tr>\n      <th>5</th>\n      <td>Apartamento</td>\n      <td>Vista Alegre</td>\n      <td>3</td>\n      <td>1</td>\n      <td>0</td>\n      <td>70</td>\n      <td>1200.0</td>\n      <td>NaN</td>\n      <td>NaN</td>\n    </tr>\n    <tr>\n      <th>6</th>\n      <td>Apartamento</td>\n      <td>Cachambi</td>\n      <td>2</td>\n      <td>0</td>\n      <td>0</td>\n      <td>50</td>\n      <td>1300.0</td>\n      <td>301.0</td>\n      <td>17.0</td>\n    </tr>\n    <tr>\n      <th>7</th>\n      <td>Casa de Condomínio</td>\n      <td>Barra da Tijuca</td>\n      <td>5</td>\n      <td>4</td>\n      <td>5</td>\n      <td>750</td>\n      <td>22000.0</td>\n      <td>NaN</td>\n      <td>NaN</td>\n    </tr>\n    <tr>\n      <th>8</th>\n      <td>Casa de Condomínio</td>\n      <td>Ramos</td>\n      <td>2</td>\n      <td>2</td>\n      <td>0</td>\n      <td>65</td>\n      <td>1000.0</td>\n      <td>NaN</td>\n      <td>NaN</td>\n    </tr>\n    <tr>\n      <th>9</th>\n      <td>Conjunto Comercial/Sala</td>\n      <td>Centro</td>\n      <td>0</td>\n      <td>3</td>\n      <td>0</td>\n      <td>695</td>\n      <td>35000.0</td>\n      <td>19193.0</td>\n      <td>3030.0</td>\n    </tr>\n    <tr>\n      <th>10</th>\n      <td>Apartamento</td>\n      <td>Centro</td>\n      <td>1</td>\n      <td>0</td>\n      <td>0</td>\n      <td>36</td>\n      <td>1200.0</td>\n      <td>NaN</td>\n      <td>NaN</td>\n    </tr>\n    <tr>\n      <th>11</th>\n      <td>Apartamento</td>\n      <td>Grajaú</td>\n      <td>2</td>\n      <td>1</td>\n      <td>0</td>\n      <td>70</td>\n      <td>1500.0</td>\n      <td>642.0</td>\n      <td>74.0</td>\n    </tr>\n    <tr>\n      <th>12</th>\n      <td>Apartamento</td>\n      <td>Lins de Vasconcelos</td>\n      <td>3</td>\n      <td>1</td>\n      <td>1</td>\n      <td>90</td>\n      <td>1500.0</td>\n      <td>455.0</td>\n      <td>14.0</td>\n    </tr>\n    <tr>\n      <th>13</th>\n      <td>Apartamento</td>\n      <td>Copacabana</td>\n      <td>1</td>\n      <td>0</td>\n      <td>1</td>\n      <td>40</td>\n      <td>2000.0</td>\n      <td>561.0</td>\n      <td>50.0</td>\n    </tr>\n    <tr>\n      <th>14</th>\n      <td>Quitinete</td>\n      <td>Copacabana</td>\n      <td>1</td>\n      <td>0</td>\n      <td>0</td>\n      <td>27</td>\n      <td>1800.0</td>\n      <td>501.0</td>\n      <td>NaN</td>\n    </tr>\n    <tr>\n      <th>15</th>\n      <td>Apartamento</td>\n      <td>Copacabana</td>\n      <td>4</td>\n      <td>3</td>\n      <td>1</td>\n      <td>243</td>\n      <td>13000.0</td>\n      <td>2000.0</td>\n      <td>803.0</td>\n    </tr>\n    <tr>\n      <th>16</th>\n      <td>Prédio Inteiro</td>\n      <td>Botafogo</td>\n      <td>0</td>\n      <td>0</td>\n      <td>0</td>\n      <td>536</td>\n      <td>28000.0</td>\n      <td>NaN</td>\n      <td>3563.0</td>\n    </tr>\n    <tr>\n      <th>17</th>\n      <td>Flat</td>\n      <td>Botafogo</td>\n      <td>3</td>\n      <td>1</td>\n      <td>1</td>\n      <td>80</td>\n      <td>3800.0</td>\n      <td>1040.0</td>\n      <td>NaN</td>\n    </tr>\n    <tr>\n      <th>18</th>\n      <td>Casa de Condomínio</td>\n      <td>Taquara</td>\n      <td>3</td>\n      <td>1</td>\n      <td>1</td>\n      <td>115</td>\n      <td>2000.0</td>\n      <td>NaN</td>\n      <td>NaN</td>\n    </tr>\n    <tr>\n      <th>19</th>\n      <td>Apartamento</td>\n      <td>Freguesia (Jacarepaguá)</td>\n      <td>3</td>\n      <td>0</td>\n      <td>0</td>\n      <td>54</td>\n      <td>950.0</td>\n      <td>300.0</td>\n      <td>28.0</td>\n    </tr>\n  </tbody>\n</table>\n</div>"
     },
     "metadata": {},
     "execution_count": 3
    }
   ],
   "source": [
    "dados.head(20)"
   ]
  },
  {
   "source": [
    "# quantidade de 1 e 2"
   ],
   "cell_type": "markdown",
   "metadata": {}
  },
  {
   "source": [
    "# quantidade de 3 e 4"
   ],
   "cell_type": "markdown",
   "metadata": {}
  },
  {
   "cell_type": "code",
   "execution_count": 5,
   "metadata": {},
   "outputs": [],
   "source": [
    "classes = [0,2,4,6,100]"
   ]
  },
  {
   "cell_type": "code",
   "execution_count": 7,
   "metadata": {},
   "outputs": [
    {
     "output_type": "execute_result",
     "data": {
      "text/plain": "0        (0.0, 2.0]\n1        (0.0, 2.0]\n2               NaN\n3        (0.0, 2.0]\n4        (0.0, 2.0]\n            ...    \n32955           NaN\n32956    (2.0, 4.0]\n32957    (0.0, 2.0]\n32958    (0.0, 2.0]\n32959           NaN\nName: Quartos, Length: 32960, dtype: category\nCategories (4, interval[int64]): [(0, 2] < (2, 4] < (4, 6] < (6, 100]]"
     },
     "metadata": {},
     "execution_count": 7
    }
   ],
   "source": [
    "quartos = pd.cut(dados.Quartos,classes)\n",
    "quartos"
   ]
  },
  {
   "cell_type": "code",
   "execution_count": 8,
   "metadata": {},
   "outputs": [
    {
     "output_type": "execute_result",
     "data": {
      "text/plain": "(0, 2]      12419\n(2, 4]       9894\n(4, 6]        709\n(6, 100]       87\nName: Quartos, dtype: int64"
     },
     "metadata": {},
     "execution_count": 8
    }
   ],
   "source": [
    "pd.value_counts(quartos)"
   ]
  },
  {
   "cell_type": "code",
   "execution_count": 10,
   "metadata": {},
   "outputs": [],
   "source": [
    "labels = ['1 e 2 Dorm.','3 e 4 Dorm.','5 e 6 Dorm.','7 ou mais Dorm.']"
   ]
  },
  {
   "cell_type": "code",
   "execution_count": 16,
   "metadata": {},
   "outputs": [
    {
     "output_type": "execute_result",
     "data": {
      "text/plain": "0        1 e 2 Dorm.\n1        1 e 2 Dorm.\n2        1 e 2 Dorm.\n3        1 e 2 Dorm.\n4        1 e 2 Dorm.\n            ...     \n32955    1 e 2 Dorm.\n32956    3 e 4 Dorm.\n32957    1 e 2 Dorm.\n32958    1 e 2 Dorm.\n32959    1 e 2 Dorm.\nName: Quartos, Length: 32960, dtype: category\nCategories (4, object): ['1 e 2 Dorm.' < '3 e 4 Dorm.' < '5 e 6 Dorm.' < '7 ou mais Dorm.']"
     },
     "metadata": {},
     "execution_count": 16
    }
   ],
   "source": [
    "quartos=pd.cut(dados.Quartos,classes,labels=labels,include_lowest=True)\n",
    "quartos"
   ]
  },
  {
   "cell_type": "code",
   "execution_count": 17,
   "metadata": {},
   "outputs": [
    {
     "output_type": "execute_result",
     "data": {
      "text/plain": "1 e 2 Dorm.        22270\n3 e 4 Dorm.         9894\n5 e 6 Dorm.          709\n7 ou mais Dorm.       87\nName: Quartos, dtype: int64"
     },
     "metadata": {},
     "execution_count": 17
    }
   ],
   "source": [
    "quartos.value_counts()"
   ]
  },
  {
   "cell_type": "code",
   "execution_count": null,
   "metadata": {},
   "outputs": [],
   "source": []
  }
 ]
}